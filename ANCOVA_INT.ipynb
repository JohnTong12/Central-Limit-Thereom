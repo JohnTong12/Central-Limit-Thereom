{
 "cells": [
  {
   "cell_type": "markdown",
   "metadata": {},
   "source": [
    "`GENERAL LINEAR MODELS`"
   ]
  },
  {
   "cell_type": "code",
   "execution_count": 1,
   "metadata": {},
   "outputs": [],
   "source": [
    "## importing necessary libraries  \n",
    "import pandas as pd\n",
    "import numpy as np \n",
    "import matplotlib.pyplot as plt  \n",
    "import plotly.express as px \n",
    "import plotly.io as io  \n",
    "import patsy \n",
    "from plotly import subplots \n",
    "from statsmodels.formula.api import ols\n",
    "from scipy import stats\n",
    "from statsmodels.stats.anova import anova_lm \n",
    "io.templates.default = 'plotly_dark'\n",
    "colors = px.colors.qualitative.G10\n",
    "from rich.console import Console\n",
    "console = Console()"
   ]
  },
  {
   "cell_type": "code",
   "execution_count": 2,
   "metadata": {},
   "outputs": [],
   "source": [
    "## loading the data   \n",
    "data = pd.read_csv(r'd:\\Tong123\\DS\\archive(1)\\Diet_WeightLoss_Study.csv') \n"
   ]
  },
  {
   "cell_type": "code",
   "execution_count": 3,
   "metadata": {},
   "outputs": [
    {
     "data": {
      "text/html": [
       "<div>\n",
       "<style scoped>\n",
       "    .dataframe tbody tr th:only-of-type {\n",
       "        vertical-align: middle;\n",
       "    }\n",
       "\n",
       "    .dataframe tbody tr th {\n",
       "        vertical-align: top;\n",
       "    }\n",
       "\n",
       "    .dataframe thead th {\n",
       "        text-align: right;\n",
       "    }\n",
       "</style>\n",
       "<table border=\"1\" class=\"dataframe\">\n",
       "  <thead>\n",
       "    <tr style=\"text-align: right;\">\n",
       "      <th></th>\n",
       "      <th>Diet Type</th>\n",
       "      <th>Age</th>\n",
       "      <th>Weight Loss (kg)</th>\n",
       "    </tr>\n",
       "  </thead>\n",
       "  <tbody>\n",
       "    <tr>\n",
       "      <th>0</th>\n",
       "      <td>Low-Carb</td>\n",
       "      <td>45</td>\n",
       "      <td>6.2</td>\n",
       "    </tr>\n",
       "    <tr>\n",
       "      <th>1</th>\n",
       "      <td>Low-Carb</td>\n",
       "      <td>51</td>\n",
       "      <td>5.8</td>\n",
       "    </tr>\n",
       "    <tr>\n",
       "      <th>2</th>\n",
       "      <td>Low-Carb</td>\n",
       "      <td>37</td>\n",
       "      <td>4.3</td>\n",
       "    </tr>\n",
       "    <tr>\n",
       "      <th>3</th>\n",
       "      <td>Low-Carb</td>\n",
       "      <td>29</td>\n",
       "      <td>3.9</td>\n",
       "    </tr>\n",
       "    <tr>\n",
       "      <th>4</th>\n",
       "      <td>Low-Carb</td>\n",
       "      <td>60</td>\n",
       "      <td>7.1</td>\n",
       "    </tr>\n",
       "  </tbody>\n",
       "</table>\n",
       "</div>"
      ],
      "text/plain": [
       "  Diet Type  Age  Weight Loss (kg)\n",
       "0  Low-Carb   45               6.2\n",
       "1  Low-Carb   51               5.8\n",
       "2  Low-Carb   37               4.3\n",
       "3  Low-Carb   29               3.9\n",
       "4  Low-Carb   60               7.1"
      ]
     },
     "execution_count": 3,
     "metadata": {},
     "output_type": "execute_result"
    }
   ],
   "source": [
    "## print the first five elements  \n",
    "data.head()"
   ]
  },
  {
   "cell_type": "code",
   "execution_count": 4,
   "metadata": {},
   "outputs": [
    {
     "data": {
      "text/plain": [
       "(30, 3)"
      ]
     },
     "execution_count": 4,
     "metadata": {},
     "output_type": "execute_result"
    }
   ],
   "source": [
    "## checking the data shape  \n",
    "data.shape"
   ]
  },
  {
   "cell_type": "code",
   "execution_count": 5,
   "metadata": {},
   "outputs": [
    {
     "name": "stdout",
     "output_type": "stream",
     "text": [
      "<class 'pandas.core.frame.DataFrame'>\n",
      "RangeIndex: 30 entries, 0 to 29\n",
      "Data columns (total 3 columns):\n",
      " #   Column            Non-Null Count  Dtype  \n",
      "---  ------            --------------  -----  \n",
      " 0   Diet Type         30 non-null     object \n",
      " 1   Age               30 non-null     int64  \n",
      " 2   Weight Loss (kg)  30 non-null     float64\n",
      "dtypes: float64(1), int64(1), object(1)\n",
      "memory usage: 852.0+ bytes\n"
     ]
    }
   ],
   "source": [
    "## checling the general info() \n",
    "data.info()"
   ]
  },
  {
   "cell_type": "code",
   "execution_count": 6,
   "metadata": {},
   "outputs": [
    {
     "data": {
      "text/plain": [
       "Diet Type           0\n",
       "Age                 0\n",
       "Weight Loss (kg)    0\n",
       "dtype: int64"
      ]
     },
     "execution_count": 6,
     "metadata": {},
     "output_type": "execute_result"
    }
   ],
   "source": [
    "## checking for missing vlues  \n",
    "data.isnull().sum()"
   ]
  },
  {
   "cell_type": "code",
   "execution_count": 7,
   "metadata": {},
   "outputs": [
    {
     "data": {
      "text/html": [
       "<div>\n",
       "<style scoped>\n",
       "    .dataframe tbody tr th:only-of-type {\n",
       "        vertical-align: middle;\n",
       "    }\n",
       "\n",
       "    .dataframe tbody tr th {\n",
       "        vertical-align: top;\n",
       "    }\n",
       "\n",
       "    .dataframe thead th {\n",
       "        text-align: right;\n",
       "    }\n",
       "</style>\n",
       "<table border=\"1\" class=\"dataframe\">\n",
       "  <thead>\n",
       "    <tr style=\"text-align: right;\">\n",
       "      <th></th>\n",
       "      <th>Diet Type</th>\n",
       "      <th>Age</th>\n",
       "      <th>Weight Loss (kg)</th>\n",
       "    </tr>\n",
       "  </thead>\n",
       "  <tbody>\n",
       "    <tr>\n",
       "      <th>0</th>\n",
       "      <td>Low-Carb</td>\n",
       "      <td>45</td>\n",
       "      <td>6.2</td>\n",
       "    </tr>\n",
       "    <tr>\n",
       "      <th>1</th>\n",
       "      <td>Low-Carb</td>\n",
       "      <td>51</td>\n",
       "      <td>5.8</td>\n",
       "    </tr>\n",
       "    <tr>\n",
       "      <th>2</th>\n",
       "      <td>Low-Carb</td>\n",
       "      <td>37</td>\n",
       "      <td>4.3</td>\n",
       "    </tr>\n",
       "    <tr>\n",
       "      <th>3</th>\n",
       "      <td>Low-Carb</td>\n",
       "      <td>29</td>\n",
       "      <td>3.9</td>\n",
       "    </tr>\n",
       "    <tr>\n",
       "      <th>4</th>\n",
       "      <td>Low-Carb</td>\n",
       "      <td>60</td>\n",
       "      <td>7.1</td>\n",
       "    </tr>\n",
       "  </tbody>\n",
       "</table>\n",
       "</div>"
      ],
      "text/plain": [
       "  Diet Type  Age  Weight Loss (kg)\n",
       "0  Low-Carb   45               6.2\n",
       "1  Low-Carb   51               5.8\n",
       "2  Low-Carb   37               4.3\n",
       "3  Low-Carb   29               3.9\n",
       "4  Low-Carb   60               7.1"
      ]
     },
     "execution_count": 7,
     "metadata": {},
     "output_type": "execute_result"
    }
   ],
   "source": [
    "data.head()"
   ]
  },
  {
   "cell_type": "code",
   "execution_count": 8,
   "metadata": {},
   "outputs": [],
   "source": [
    "## reanming columsn \n",
    "data.columns = ['Diet_Type','Age','Weight_Loss']"
   ]
  },
  {
   "cell_type": "code",
   "execution_count": 9,
   "metadata": {},
   "outputs": [
    {
     "data": {
      "text/html": [
       "<div>\n",
       "<style scoped>\n",
       "    .dataframe tbody tr th:only-of-type {\n",
       "        vertical-align: middle;\n",
       "    }\n",
       "\n",
       "    .dataframe tbody tr th {\n",
       "        vertical-align: top;\n",
       "    }\n",
       "\n",
       "    .dataframe thead th {\n",
       "        text-align: right;\n",
       "    }\n",
       "</style>\n",
       "<table border=\"1\" class=\"dataframe\">\n",
       "  <thead>\n",
       "    <tr style=\"text-align: right;\">\n",
       "      <th></th>\n",
       "      <th>Diet_Type</th>\n",
       "      <th>Age</th>\n",
       "      <th>Weight_Loss</th>\n",
       "    </tr>\n",
       "  </thead>\n",
       "  <tbody>\n",
       "    <tr>\n",
       "      <th>0</th>\n",
       "      <td>Low-Carb</td>\n",
       "      <td>45</td>\n",
       "      <td>6.2</td>\n",
       "    </tr>\n",
       "    <tr>\n",
       "      <th>1</th>\n",
       "      <td>Low-Carb</td>\n",
       "      <td>51</td>\n",
       "      <td>5.8</td>\n",
       "    </tr>\n",
       "    <tr>\n",
       "      <th>2</th>\n",
       "      <td>Low-Carb</td>\n",
       "      <td>37</td>\n",
       "      <td>4.3</td>\n",
       "    </tr>\n",
       "    <tr>\n",
       "      <th>3</th>\n",
       "      <td>Low-Carb</td>\n",
       "      <td>29</td>\n",
       "      <td>3.9</td>\n",
       "    </tr>\n",
       "    <tr>\n",
       "      <th>4</th>\n",
       "      <td>Low-Carb</td>\n",
       "      <td>60</td>\n",
       "      <td>7.1</td>\n",
       "    </tr>\n",
       "  </tbody>\n",
       "</table>\n",
       "</div>"
      ],
      "text/plain": [
       "  Diet_Type  Age  Weight_Loss\n",
       "0  Low-Carb   45          6.2\n",
       "1  Low-Carb   51          5.8\n",
       "2  Low-Carb   37          4.3\n",
       "3  Low-Carb   29          3.9\n",
       "4  Low-Carb   60          7.1"
      ]
     },
     "execution_count": 9,
     "metadata": {},
     "output_type": "execute_result"
    }
   ],
   "source": [
    "data.head()"
   ]
  },
  {
   "cell_type": "code",
   "execution_count": 10,
   "metadata": {},
   "outputs": [
    {
     "data": {
      "text/plain": [
       "0"
      ]
     },
     "execution_count": 10,
     "metadata": {},
     "output_type": "execute_result"
    }
   ],
   "source": [
    "## checking for duplicates  \n",
    "data.duplicated().sum()"
   ]
  },
  {
   "cell_type": "markdown",
   "metadata": {},
   "source": [
    "* Exploratory data analysis\n"
   ]
  },
  {
   "cell_type": "code",
   "execution_count": 11,
   "metadata": {},
   "outputs": [
    {
     "data": {
      "text/plain": [
       "Diet_Type\n",
       "Low-Carb         10\n",
       "Low-Fat          10\n",
       "Mediterranean    10\n",
       "Name: count, dtype: int64"
      ]
     },
     "execution_count": 11,
     "metadata": {},
     "output_type": "execute_result"
    }
   ],
   "source": [
    "## checking the frequencies of the categorical variable  \n",
    "data['Diet_Type'].value_counts()\n"
   ]
  },
  {
   "cell_type": "code",
   "execution_count": 12,
   "metadata": {},
   "outputs": [],
   "source": [
    "## showing that the groups are categorical \n",
    "data['Diet_Type'] = pd.Categorical(data['Diet_Type'],categories=['Low-Fat','Low-Carb','Mediterranean'])"
   ]
  },
  {
   "cell_type": "code",
   "execution_count": 13,
   "metadata": {},
   "outputs": [
    {
     "data": {
      "text/plain": [
       "Diet_Type      category\n",
       "Age               int64\n",
       "Weight_Loss     float64\n",
       "dtype: object"
      ]
     },
     "execution_count": 13,
     "metadata": {},
     "output_type": "execute_result"
    }
   ],
   "source": [
    "## checking the data types   \n",
    "data.dtypes"
   ]
  },
  {
   "cell_type": "markdown",
   "metadata": {},
   "source": [
    "* checking the descriptive statsistics of the dependent variable per group category"
   ]
  },
  {
   "cell_type": "code",
   "execution_count": 14,
   "metadata": {},
   "outputs": [
    {
     "data": {
      "text/html": [
       "<div>\n",
       "<style scoped>\n",
       "    .dataframe tbody tr th:only-of-type {\n",
       "        vertical-align: middle;\n",
       "    }\n",
       "\n",
       "    .dataframe tbody tr th {\n",
       "        vertical-align: top;\n",
       "    }\n",
       "\n",
       "    .dataframe thead th {\n",
       "        text-align: right;\n",
       "    }\n",
       "</style>\n",
       "<table border=\"1\" class=\"dataframe\">\n",
       "  <thead>\n",
       "    <tr style=\"text-align: right;\">\n",
       "      <th></th>\n",
       "      <th>count</th>\n",
       "      <th>mean</th>\n",
       "      <th>std</th>\n",
       "      <th>min</th>\n",
       "      <th>25%</th>\n",
       "      <th>50%</th>\n",
       "      <th>75%</th>\n",
       "      <th>max</th>\n",
       "    </tr>\n",
       "    <tr>\n",
       "      <th>Diet_Type</th>\n",
       "      <th></th>\n",
       "      <th></th>\n",
       "      <th></th>\n",
       "      <th></th>\n",
       "      <th></th>\n",
       "      <th></th>\n",
       "      <th></th>\n",
       "      <th></th>\n",
       "    </tr>\n",
       "  </thead>\n",
       "  <tbody>\n",
       "    <tr>\n",
       "      <th>Low-Fat</th>\n",
       "      <td>10.0</td>\n",
       "      <td>4.54</td>\n",
       "      <td>0.564112</td>\n",
       "      <td>3.7</td>\n",
       "      <td>4.125</td>\n",
       "      <td>4.65</td>\n",
       "      <td>4.975</td>\n",
       "      <td>5.3</td>\n",
       "    </tr>\n",
       "    <tr>\n",
       "      <th>Low-Carb</th>\n",
       "      <td>10.0</td>\n",
       "      <td>5.25</td>\n",
       "      <td>1.053302</td>\n",
       "      <td>3.9</td>\n",
       "      <td>4.375</td>\n",
       "      <td>5.30</td>\n",
       "      <td>5.950</td>\n",
       "      <td>7.1</td>\n",
       "    </tr>\n",
       "    <tr>\n",
       "      <th>Mediterranean</th>\n",
       "      <td>10.0</td>\n",
       "      <td>5.19</td>\n",
       "      <td>0.593390</td>\n",
       "      <td>4.3</td>\n",
       "      <td>4.750</td>\n",
       "      <td>5.15</td>\n",
       "      <td>5.575</td>\n",
       "      <td>6.2</td>\n",
       "    </tr>\n",
       "  </tbody>\n",
       "</table>\n",
       "</div>"
      ],
      "text/plain": [
       "               count  mean       std  min    25%   50%    75%  max\n",
       "Diet_Type                                                         \n",
       "Low-Fat         10.0  4.54  0.564112  3.7  4.125  4.65  4.975  5.3\n",
       "Low-Carb        10.0  5.25  1.053302  3.9  4.375  5.30  5.950  7.1\n",
       "Mediterranean   10.0  5.19  0.593390  4.3  4.750  5.15  5.575  6.2"
      ]
     },
     "execution_count": 14,
     "metadata": {},
     "output_type": "execute_result"
    }
   ],
   "source": [
    "##  cholesterol descriptive statsisics  \n",
    "data.groupby('Diet_Type',observed=False)[\"Weight_Loss\"].describe()"
   ]
  },
  {
   "cell_type": "code",
   "execution_count": 15,
   "metadata": {},
   "outputs": [
    {
     "data": {
      "application/vnd.plotly.v1+json": {
       "config": {
        "plotlyServerURL": "https://plot.ly"
       },
       "data": [
        {
         "alignmentgroup": "True",
         "hovertemplate": "DIET TYPE=%{x}<br>Weight loss (kg)=%{y}<extra></extra>",
         "legendgroup": "Low-Carb",
         "marker": {
          "color": "#3366CC"
         },
         "name": "Low-Carb",
         "notched": false,
         "offsetgroup": "Low-Carb",
         "orientation": "v",
         "showlegend": true,
         "type": "box",
         "x": [
          "Low-Carb",
          "Low-Carb",
          "Low-Carb",
          "Low-Carb",
          "Low-Carb",
          "Low-Carb",
          "Low-Carb",
          "Low-Carb",
          "Low-Carb",
          "Low-Carb"
         ],
         "x0": " ",
         "xaxis": "x",
         "y": [
          6.2,
          5.8,
          4.3,
          3.9,
          7.1,
          4,
          5.5,
          4.6,
          6,
          5.1
         ],
         "y0": " ",
         "yaxis": "y"
        },
        {
         "alignmentgroup": "True",
         "hovertemplate": "DIET TYPE=%{x}<br>Weight loss (kg)=%{y}<extra></extra>",
         "legendgroup": "Low-Fat",
         "marker": {
          "color": "#DC3912"
         },
         "name": "Low-Fat",
         "notched": false,
         "offsetgroup": "Low-Fat",
         "orientation": "v",
         "showlegend": true,
         "type": "box",
         "x": [
          "Low-Fat",
          "Low-Fat",
          "Low-Fat",
          "Low-Fat",
          "Low-Fat",
          "Low-Fat",
          "Low-Fat",
          "Low-Fat",
          "Low-Fat",
          "Low-Fat"
         ],
         "x0": " ",
         "xaxis": "x",
         "y": [
          5,
          4.2,
          4.9,
          3.7,
          5.1,
          4.5,
          4.8,
          4.1,
          3.8,
          5.3
         ],
         "y0": " ",
         "yaxis": "y"
        },
        {
         "alignmentgroup": "True",
         "hovertemplate": "DIET TYPE=%{x}<br>Weight loss (kg)=%{y}<extra></extra>",
         "legendgroup": "Mediterranean",
         "marker": {
          "color": "#FF9900"
         },
         "name": "Mediterranean",
         "notched": false,
         "offsetgroup": "Mediterranean",
         "orientation": "v",
         "showlegend": true,
         "type": "box",
         "x": [
          "Mediterranean",
          "Mediterranean",
          "Mediterranean",
          "Mediterranean",
          "Mediterranean",
          "Mediterranean",
          "Mediterranean",
          "Mediterranean",
          "Mediterranean",
          "Mediterranean"
         ],
         "x0": " ",
         "xaxis": "x",
         "y": [
          5.5,
          4.7,
          5.3,
          6.2,
          5,
          4.3,
          5.6,
          4.9,
          4.6,
          5.8
         ],
         "y0": " ",
         "yaxis": "y"
        }
       ],
       "layout": {
        "boxmode": "overlay",
        "font": {
         "family": "Courier New, monospace",
         "size": 16
        },
        "legend": {
         "title": {
          "text": "DIET TYPE"
         },
         "tracegroupgap": 0
        },
        "showlegend": false,
        "template": {
         "data": {
          "bar": [
           {
            "error_x": {
             "color": "#f2f5fa"
            },
            "error_y": {
             "color": "#f2f5fa"
            },
            "marker": {
             "line": {
              "color": "rgb(17,17,17)",
              "width": 0.5
             },
             "pattern": {
              "fillmode": "overlay",
              "size": 10,
              "solidity": 0.2
             }
            },
            "type": "bar"
           }
          ],
          "barpolar": [
           {
            "marker": {
             "line": {
              "color": "rgb(17,17,17)",
              "width": 0.5
             },
             "pattern": {
              "fillmode": "overlay",
              "size": 10,
              "solidity": 0.2
             }
            },
            "type": "barpolar"
           }
          ],
          "carpet": [
           {
            "aaxis": {
             "endlinecolor": "#A2B1C6",
             "gridcolor": "#506784",
             "linecolor": "#506784",
             "minorgridcolor": "#506784",
             "startlinecolor": "#A2B1C6"
            },
            "baxis": {
             "endlinecolor": "#A2B1C6",
             "gridcolor": "#506784",
             "linecolor": "#506784",
             "minorgridcolor": "#506784",
             "startlinecolor": "#A2B1C6"
            },
            "type": "carpet"
           }
          ],
          "choropleth": [
           {
            "colorbar": {
             "outlinewidth": 0,
             "ticks": ""
            },
            "type": "choropleth"
           }
          ],
          "contour": [
           {
            "colorbar": {
             "outlinewidth": 0,
             "ticks": ""
            },
            "colorscale": [
             [
              0,
              "#0d0887"
             ],
             [
              0.1111111111111111,
              "#46039f"
             ],
             [
              0.2222222222222222,
              "#7201a8"
             ],
             [
              0.3333333333333333,
              "#9c179e"
             ],
             [
              0.4444444444444444,
              "#bd3786"
             ],
             [
              0.5555555555555556,
              "#d8576b"
             ],
             [
              0.6666666666666666,
              "#ed7953"
             ],
             [
              0.7777777777777778,
              "#fb9f3a"
             ],
             [
              0.8888888888888888,
              "#fdca26"
             ],
             [
              1,
              "#f0f921"
             ]
            ],
            "type": "contour"
           }
          ],
          "contourcarpet": [
           {
            "colorbar": {
             "outlinewidth": 0,
             "ticks": ""
            },
            "type": "contourcarpet"
           }
          ],
          "heatmap": [
           {
            "colorbar": {
             "outlinewidth": 0,
             "ticks": ""
            },
            "colorscale": [
             [
              0,
              "#0d0887"
             ],
             [
              0.1111111111111111,
              "#46039f"
             ],
             [
              0.2222222222222222,
              "#7201a8"
             ],
             [
              0.3333333333333333,
              "#9c179e"
             ],
             [
              0.4444444444444444,
              "#bd3786"
             ],
             [
              0.5555555555555556,
              "#d8576b"
             ],
             [
              0.6666666666666666,
              "#ed7953"
             ],
             [
              0.7777777777777778,
              "#fb9f3a"
             ],
             [
              0.8888888888888888,
              "#fdca26"
             ],
             [
              1,
              "#f0f921"
             ]
            ],
            "type": "heatmap"
           }
          ],
          "heatmapgl": [
           {
            "colorbar": {
             "outlinewidth": 0,
             "ticks": ""
            },
            "colorscale": [
             [
              0,
              "#0d0887"
             ],
             [
              0.1111111111111111,
              "#46039f"
             ],
             [
              0.2222222222222222,
              "#7201a8"
             ],
             [
              0.3333333333333333,
              "#9c179e"
             ],
             [
              0.4444444444444444,
              "#bd3786"
             ],
             [
              0.5555555555555556,
              "#d8576b"
             ],
             [
              0.6666666666666666,
              "#ed7953"
             ],
             [
              0.7777777777777778,
              "#fb9f3a"
             ],
             [
              0.8888888888888888,
              "#fdca26"
             ],
             [
              1,
              "#f0f921"
             ]
            ],
            "type": "heatmapgl"
           }
          ],
          "histogram": [
           {
            "marker": {
             "pattern": {
              "fillmode": "overlay",
              "size": 10,
              "solidity": 0.2
             }
            },
            "type": "histogram"
           }
          ],
          "histogram2d": [
           {
            "colorbar": {
             "outlinewidth": 0,
             "ticks": ""
            },
            "colorscale": [
             [
              0,
              "#0d0887"
             ],
             [
              0.1111111111111111,
              "#46039f"
             ],
             [
              0.2222222222222222,
              "#7201a8"
             ],
             [
              0.3333333333333333,
              "#9c179e"
             ],
             [
              0.4444444444444444,
              "#bd3786"
             ],
             [
              0.5555555555555556,
              "#d8576b"
             ],
             [
              0.6666666666666666,
              "#ed7953"
             ],
             [
              0.7777777777777778,
              "#fb9f3a"
             ],
             [
              0.8888888888888888,
              "#fdca26"
             ],
             [
              1,
              "#f0f921"
             ]
            ],
            "type": "histogram2d"
           }
          ],
          "histogram2dcontour": [
           {
            "colorbar": {
             "outlinewidth": 0,
             "ticks": ""
            },
            "colorscale": [
             [
              0,
              "#0d0887"
             ],
             [
              0.1111111111111111,
              "#46039f"
             ],
             [
              0.2222222222222222,
              "#7201a8"
             ],
             [
              0.3333333333333333,
              "#9c179e"
             ],
             [
              0.4444444444444444,
              "#bd3786"
             ],
             [
              0.5555555555555556,
              "#d8576b"
             ],
             [
              0.6666666666666666,
              "#ed7953"
             ],
             [
              0.7777777777777778,
              "#fb9f3a"
             ],
             [
              0.8888888888888888,
              "#fdca26"
             ],
             [
              1,
              "#f0f921"
             ]
            ],
            "type": "histogram2dcontour"
           }
          ],
          "mesh3d": [
           {
            "colorbar": {
             "outlinewidth": 0,
             "ticks": ""
            },
            "type": "mesh3d"
           }
          ],
          "parcoords": [
           {
            "line": {
             "colorbar": {
              "outlinewidth": 0,
              "ticks": ""
             }
            },
            "type": "parcoords"
           }
          ],
          "pie": [
           {
            "automargin": true,
            "type": "pie"
           }
          ],
          "scatter": [
           {
            "marker": {
             "line": {
              "color": "#283442"
             }
            },
            "type": "scatter"
           }
          ],
          "scatter3d": [
           {
            "line": {
             "colorbar": {
              "outlinewidth": 0,
              "ticks": ""
             }
            },
            "marker": {
             "colorbar": {
              "outlinewidth": 0,
              "ticks": ""
             }
            },
            "type": "scatter3d"
           }
          ],
          "scattercarpet": [
           {
            "marker": {
             "colorbar": {
              "outlinewidth": 0,
              "ticks": ""
             }
            },
            "type": "scattercarpet"
           }
          ],
          "scattergeo": [
           {
            "marker": {
             "colorbar": {
              "outlinewidth": 0,
              "ticks": ""
             }
            },
            "type": "scattergeo"
           }
          ],
          "scattergl": [
           {
            "marker": {
             "line": {
              "color": "#283442"
             }
            },
            "type": "scattergl"
           }
          ],
          "scattermapbox": [
           {
            "marker": {
             "colorbar": {
              "outlinewidth": 0,
              "ticks": ""
             }
            },
            "type": "scattermapbox"
           }
          ],
          "scatterpolar": [
           {
            "marker": {
             "colorbar": {
              "outlinewidth": 0,
              "ticks": ""
             }
            },
            "type": "scatterpolar"
           }
          ],
          "scatterpolargl": [
           {
            "marker": {
             "colorbar": {
              "outlinewidth": 0,
              "ticks": ""
             }
            },
            "type": "scatterpolargl"
           }
          ],
          "scatterternary": [
           {
            "marker": {
             "colorbar": {
              "outlinewidth": 0,
              "ticks": ""
             }
            },
            "type": "scatterternary"
           }
          ],
          "surface": [
           {
            "colorbar": {
             "outlinewidth": 0,
             "ticks": ""
            },
            "colorscale": [
             [
              0,
              "#0d0887"
             ],
             [
              0.1111111111111111,
              "#46039f"
             ],
             [
              0.2222222222222222,
              "#7201a8"
             ],
             [
              0.3333333333333333,
              "#9c179e"
             ],
             [
              0.4444444444444444,
              "#bd3786"
             ],
             [
              0.5555555555555556,
              "#d8576b"
             ],
             [
              0.6666666666666666,
              "#ed7953"
             ],
             [
              0.7777777777777778,
              "#fb9f3a"
             ],
             [
              0.8888888888888888,
              "#fdca26"
             ],
             [
              1,
              "#f0f921"
             ]
            ],
            "type": "surface"
           }
          ],
          "table": [
           {
            "cells": {
             "fill": {
              "color": "#506784"
             },
             "line": {
              "color": "rgb(17,17,17)"
             }
            },
            "header": {
             "fill": {
              "color": "#2a3f5f"
             },
             "line": {
              "color": "rgb(17,17,17)"
             }
            },
            "type": "table"
           }
          ]
         },
         "layout": {
          "annotationdefaults": {
           "arrowcolor": "#f2f5fa",
           "arrowhead": 0,
           "arrowwidth": 1
          },
          "autotypenumbers": "strict",
          "coloraxis": {
           "colorbar": {
            "outlinewidth": 0,
            "ticks": ""
           }
          },
          "colorscale": {
           "diverging": [
            [
             0,
             "#8e0152"
            ],
            [
             0.1,
             "#c51b7d"
            ],
            [
             0.2,
             "#de77ae"
            ],
            [
             0.3,
             "#f1b6da"
            ],
            [
             0.4,
             "#fde0ef"
            ],
            [
             0.5,
             "#f7f7f7"
            ],
            [
             0.6,
             "#e6f5d0"
            ],
            [
             0.7,
             "#b8e186"
            ],
            [
             0.8,
             "#7fbc41"
            ],
            [
             0.9,
             "#4d9221"
            ],
            [
             1,
             "#276419"
            ]
           ],
           "sequential": [
            [
             0,
             "#0d0887"
            ],
            [
             0.1111111111111111,
             "#46039f"
            ],
            [
             0.2222222222222222,
             "#7201a8"
            ],
            [
             0.3333333333333333,
             "#9c179e"
            ],
            [
             0.4444444444444444,
             "#bd3786"
            ],
            [
             0.5555555555555556,
             "#d8576b"
            ],
            [
             0.6666666666666666,
             "#ed7953"
            ],
            [
             0.7777777777777778,
             "#fb9f3a"
            ],
            [
             0.8888888888888888,
             "#fdca26"
            ],
            [
             1,
             "#f0f921"
            ]
           ],
           "sequentialminus": [
            [
             0,
             "#0d0887"
            ],
            [
             0.1111111111111111,
             "#46039f"
            ],
            [
             0.2222222222222222,
             "#7201a8"
            ],
            [
             0.3333333333333333,
             "#9c179e"
            ],
            [
             0.4444444444444444,
             "#bd3786"
            ],
            [
             0.5555555555555556,
             "#d8576b"
            ],
            [
             0.6666666666666666,
             "#ed7953"
            ],
            [
             0.7777777777777778,
             "#fb9f3a"
            ],
            [
             0.8888888888888888,
             "#fdca26"
            ],
            [
             1,
             "#f0f921"
            ]
           ]
          },
          "colorway": [
           "#636efa",
           "#EF553B",
           "#00cc96",
           "#ab63fa",
           "#FFA15A",
           "#19d3f3",
           "#FF6692",
           "#B6E880",
           "#FF97FF",
           "#FECB52"
          ],
          "font": {
           "color": "#f2f5fa"
          },
          "geo": {
           "bgcolor": "rgb(17,17,17)",
           "lakecolor": "rgb(17,17,17)",
           "landcolor": "rgb(17,17,17)",
           "showlakes": true,
           "showland": true,
           "subunitcolor": "#506784"
          },
          "hoverlabel": {
           "align": "left"
          },
          "hovermode": "closest",
          "mapbox": {
           "style": "dark"
          },
          "paper_bgcolor": "rgb(17,17,17)",
          "plot_bgcolor": "rgb(17,17,17)",
          "polar": {
           "angularaxis": {
            "gridcolor": "#506784",
            "linecolor": "#506784",
            "ticks": ""
           },
           "bgcolor": "rgb(17,17,17)",
           "radialaxis": {
            "gridcolor": "#506784",
            "linecolor": "#506784",
            "ticks": ""
           }
          },
          "scene": {
           "xaxis": {
            "backgroundcolor": "rgb(17,17,17)",
            "gridcolor": "#506784",
            "gridwidth": 2,
            "linecolor": "#506784",
            "showbackground": true,
            "ticks": "",
            "zerolinecolor": "#C8D4E3"
           },
           "yaxis": {
            "backgroundcolor": "rgb(17,17,17)",
            "gridcolor": "#506784",
            "gridwidth": 2,
            "linecolor": "#506784",
            "showbackground": true,
            "ticks": "",
            "zerolinecolor": "#C8D4E3"
           },
           "zaxis": {
            "backgroundcolor": "rgb(17,17,17)",
            "gridcolor": "#506784",
            "gridwidth": 2,
            "linecolor": "#506784",
            "showbackground": true,
            "ticks": "",
            "zerolinecolor": "#C8D4E3"
           }
          },
          "shapedefaults": {
           "line": {
            "color": "#f2f5fa"
           }
          },
          "sliderdefaults": {
           "bgcolor": "#C8D4E3",
           "bordercolor": "rgb(17,17,17)",
           "borderwidth": 1,
           "tickwidth": 0
          },
          "ternary": {
           "aaxis": {
            "gridcolor": "#506784",
            "linecolor": "#506784",
            "ticks": ""
           },
           "baxis": {
            "gridcolor": "#506784",
            "linecolor": "#506784",
            "ticks": ""
           },
           "bgcolor": "rgb(17,17,17)",
           "caxis": {
            "gridcolor": "#506784",
            "linecolor": "#506784",
            "ticks": ""
           }
          },
          "title": {
           "x": 0.05
          },
          "updatemenudefaults": {
           "bgcolor": "#506784",
           "borderwidth": 0
          },
          "xaxis": {
           "automargin": true,
           "gridcolor": "#283442",
           "linecolor": "#506784",
           "ticks": "",
           "title": {
            "standoff": 15
           },
           "zerolinecolor": "#283442",
           "zerolinewidth": 2
          },
          "yaxis": {
           "automargin": true,
           "gridcolor": "#283442",
           "linecolor": "#506784",
           "ticks": "",
           "title": {
            "standoff": 15
           },
           "zerolinecolor": "#283442",
           "zerolinewidth": 2
          }
         }
        },
        "title": {
         "font": {
          "family": "Courier New, monospace",
          "size": 24
         },
         "text": "HOW WEIGHT LOSS DIFFERS IN DIFFERENT GROUP DIETS",
         "x": 0.5,
         "xanchor": "center"
        },
        "xaxis": {
         "anchor": "y",
         "categoryarray": [
          "Low-Carb",
          "Low-Fat",
          "Mediterranean"
         ],
         "categoryorder": "array",
         "domain": [
          0,
          1
         ],
         "title": {
          "font": {
           "family": "Courier New, monospace",
           "size": 18
          },
          "text": "DIET TYPE"
         }
        },
        "yaxis": {
         "anchor": "x",
         "domain": [
          0,
          1
         ],
         "title": {
          "font": {
           "family": "Courier New, monospace",
           "size": 18
          },
          "text": "Weight loss (kg)"
         }
        }
       }
      }
     },
     "metadata": {},
     "output_type": "display_data"
    }
   ],
   "source": [
    "## visualize  \n",
    "fig = px.box(\n",
    "    data, \n",
    "    x='Diet_Type',\n",
    "    y='Weight_Loss', \n",
    "    color='Diet_Type', \n",
    "    title='RELATIONSHIP OF CHOLESTTEROL PER GROUP LEVEL', \n",
    "    labels={\n",
    "        'Diet_Type': 'DIET TYPE',\n",
    "        'Weight_Loss': 'Weight loss (kg)'\n",
    "    }, \n",
    "    color_discrete_sequence=colors[:3]\n",
    ")\n",
    "\n",
    "fig.update_layout(\n",
    "    showlegend=False,\n",
    "    title={\n",
    "        'text': 'HOW WEIGHT LOSS DIFFERS IN DIFFERENT GROUP DIETS',\n",
    "        'x': 0.5,              # Centers the title\n",
    "        'xanchor': 'center',   # Anchors the title at the center\n",
    "        'font': {\n",
    "            'family': \"Courier New, monospace\",  # Font family for the title\n",
    "            'size': 24                           # Increased font size for the title\n",
    "        }\n",
    "    },\n",
    "    font=dict(\n",
    "        family=\"Courier New, monospace\",  # Sets the default font for all text in the figure\n",
    "        size=16                           # Default font size (adjust as needed)\n",
    "    ),\n",
    "    xaxis_title_font=dict(\n",
    "        family=\"Courier New, monospace\",  # Font family for the x-axis label\n",
    "        size=18                           # Font size for the x-axis label\n",
    "    ),\n",
    "    yaxis_title_font=dict(\n",
    "        family=\"Courier New, monospace\",  # Font family for the y-axis label\n",
    "        size=18                           # Font size for the y-axis label\n",
    "    )\n",
    ")\n",
    "\n",
    "fig.show()\n"
   ]
  },
  {
   "cell_type": "markdown",
   "metadata": {},
   "source": [
    "* Exploratory data analysis for the BMI per group category"
   ]
  },
  {
   "cell_type": "code",
   "execution_count": 16,
   "metadata": {},
   "outputs": [
    {
     "data": {
      "text/html": [
       "<div>\n",
       "<style scoped>\n",
       "    .dataframe tbody tr th:only-of-type {\n",
       "        vertical-align: middle;\n",
       "    }\n",
       "\n",
       "    .dataframe tbody tr th {\n",
       "        vertical-align: top;\n",
       "    }\n",
       "\n",
       "    .dataframe thead th {\n",
       "        text-align: right;\n",
       "    }\n",
       "</style>\n",
       "<table border=\"1\" class=\"dataframe\">\n",
       "  <thead>\n",
       "    <tr style=\"text-align: right;\">\n",
       "      <th></th>\n",
       "      <th>count</th>\n",
       "      <th>mean</th>\n",
       "      <th>std</th>\n",
       "      <th>min</th>\n",
       "      <th>25%</th>\n",
       "      <th>50%</th>\n",
       "      <th>75%</th>\n",
       "      <th>max</th>\n",
       "    </tr>\n",
       "    <tr>\n",
       "      <th>Diet_Type</th>\n",
       "      <th></th>\n",
       "      <th></th>\n",
       "      <th></th>\n",
       "      <th></th>\n",
       "      <th></th>\n",
       "      <th></th>\n",
       "      <th></th>\n",
       "      <th></th>\n",
       "    </tr>\n",
       "  </thead>\n",
       "  <tbody>\n",
       "    <tr>\n",
       "      <th>Low-Fat</th>\n",
       "      <td>10.0</td>\n",
       "      <td>42.7</td>\n",
       "      <td>8.692909</td>\n",
       "      <td>29.0</td>\n",
       "      <td>36.5</td>\n",
       "      <td>43.0</td>\n",
       "      <td>49.25</td>\n",
       "      <td>55.0</td>\n",
       "    </tr>\n",
       "    <tr>\n",
       "      <th>Low-Carb</th>\n",
       "      <td>10.0</td>\n",
       "      <td>43.6</td>\n",
       "      <td>9.383200</td>\n",
       "      <td>29.0</td>\n",
       "      <td>37.5</td>\n",
       "      <td>43.0</td>\n",
       "      <td>50.25</td>\n",
       "      <td>60.0</td>\n",
       "    </tr>\n",
       "    <tr>\n",
       "      <th>Mediterranean</th>\n",
       "      <td>10.0</td>\n",
       "      <td>43.2</td>\n",
       "      <td>7.743097</td>\n",
       "      <td>33.0</td>\n",
       "      <td>37.5</td>\n",
       "      <td>42.5</td>\n",
       "      <td>48.25</td>\n",
       "      <td>58.0</td>\n",
       "    </tr>\n",
       "  </tbody>\n",
       "</table>\n",
       "</div>"
      ],
      "text/plain": [
       "               count  mean       std   min   25%   50%    75%   max\n",
       "Diet_Type                                                          \n",
       "Low-Fat         10.0  42.7  8.692909  29.0  36.5  43.0  49.25  55.0\n",
       "Low-Carb        10.0  43.6  9.383200  29.0  37.5  43.0  50.25  60.0\n",
       "Mediterranean   10.0  43.2  7.743097  33.0  37.5  42.5  48.25  58.0"
      ]
     },
     "execution_count": 16,
     "metadata": {},
     "output_type": "execute_result"
    }
   ],
   "source": [
    "## checking the descriptive statistics for the Body Mass Index per Group Category \n",
    "data.groupby('Diet_Type',observed=False)['Age'].describe()"
   ]
  },
  {
   "cell_type": "code",
   "execution_count": 17,
   "metadata": {},
   "outputs": [
    {
     "data": {
      "text/plain": [
       "count    30.000000\n",
       "mean     43.166667\n",
       "std       8.338045\n",
       "min      29.000000\n",
       "25%      37.000000\n",
       "50%      43.000000\n",
       "75%      49.750000\n",
       "max      60.000000\n",
       "Name: Age, dtype: float64"
      ]
     },
     "execution_count": 17,
     "metadata": {},
     "output_type": "execute_result"
    }
   ],
   "source": [
    "data['Age'].describe()"
   ]
  },
  {
   "cell_type": "code",
   "execution_count": 18,
   "metadata": {},
   "outputs": [
    {
     "data": {
      "application/vnd.plotly.v1+json": {
       "config": {
        "plotlyServerURL": "https://plot.ly"
       },
       "data": [
        {
         "alignmentgroup": "True",
         "hovertemplate": "GROUP DIET CATEGORY=%{x}<br>AGE(in years)=%{y}<extra></extra>",
         "legendgroup": "Low-Carb",
         "marker": {
          "color": "#3366CC"
         },
         "name": "Low-Carb",
         "notched": false,
         "offsetgroup": "Low-Carb",
         "orientation": "v",
         "showlegend": true,
         "type": "box",
         "x": [
          "Low-Carb",
          "Low-Carb",
          "Low-Carb",
          "Low-Carb",
          "Low-Carb",
          "Low-Carb",
          "Low-Carb",
          "Low-Carb",
          "Low-Carb",
          "Low-Carb"
         ],
         "x0": " ",
         "xaxis": "x",
         "y": [
          45,
          51,
          37,
          29,
          60,
          34,
          48,
          39,
          52,
          41
         ],
         "y0": " ",
         "yaxis": "y"
        },
        {
         "alignmentgroup": "True",
         "hovertemplate": "GROUP DIET CATEGORY=%{x}<br>AGE(in years)=%{y}<extra></extra>",
         "legendgroup": "Low-Fat",
         "marker": {
          "color": "#DC3912"
         },
         "name": "Low-Fat",
         "notched": false,
         "offsetgroup": "Low-Fat",
         "orientation": "v",
         "showlegend": true,
         "type": "box",
         "x": [
          "Low-Fat",
          "Low-Fat",
          "Low-Fat",
          "Low-Fat",
          "Low-Fat",
          "Low-Fat",
          "Low-Fat",
          "Low-Fat",
          "Low-Fat",
          "Low-Fat"
         ],
         "x0": " ",
         "xaxis": "x",
         "y": [
          38,
          44,
          50,
          33,
          47,
          55,
          42,
          36,
          29,
          53
         ],
         "y0": " ",
         "yaxis": "y"
        },
        {
         "alignmentgroup": "True",
         "hovertemplate": "GROUP DIET CATEGORY=%{x}<br>AGE(in years)=%{y}<extra></extra>",
         "legendgroup": "Mediterranean",
         "marker": {
          "color": "#FF9900"
         },
         "name": "Mediterranean",
         "notched": false,
         "offsetgroup": "Mediterranean",
         "orientation": "v",
         "showlegend": true,
         "type": "box",
         "x": [
          "Mediterranean",
          "Mediterranean",
          "Mediterranean",
          "Mediterranean",
          "Mediterranean",
          "Mediterranean",
          "Mediterranean",
          "Mediterranean",
          "Mediterranean",
          "Mediterranean"
         ],
         "x0": " ",
         "xaxis": "x",
         "y": [
          41,
          35,
          46,
          58,
          39,
          33,
          50,
          44,
          37,
          49
         ],
         "y0": " ",
         "yaxis": "y"
        }
       ],
       "layout": {
        "boxmode": "overlay",
        "font": {
         "family": "Courier New, monospace",
         "size": 16
        },
        "legend": {
         "title": {
          "text": "GROUP DIET CATEGORY"
         },
         "tracegroupgap": 0
        },
        "showlegend": false,
        "template": {
         "data": {
          "bar": [
           {
            "error_x": {
             "color": "#f2f5fa"
            },
            "error_y": {
             "color": "#f2f5fa"
            },
            "marker": {
             "line": {
              "color": "rgb(17,17,17)",
              "width": 0.5
             },
             "pattern": {
              "fillmode": "overlay",
              "size": 10,
              "solidity": 0.2
             }
            },
            "type": "bar"
           }
          ],
          "barpolar": [
           {
            "marker": {
             "line": {
              "color": "rgb(17,17,17)",
              "width": 0.5
             },
             "pattern": {
              "fillmode": "overlay",
              "size": 10,
              "solidity": 0.2
             }
            },
            "type": "barpolar"
           }
          ],
          "carpet": [
           {
            "aaxis": {
             "endlinecolor": "#A2B1C6",
             "gridcolor": "#506784",
             "linecolor": "#506784",
             "minorgridcolor": "#506784",
             "startlinecolor": "#A2B1C6"
            },
            "baxis": {
             "endlinecolor": "#A2B1C6",
             "gridcolor": "#506784",
             "linecolor": "#506784",
             "minorgridcolor": "#506784",
             "startlinecolor": "#A2B1C6"
            },
            "type": "carpet"
           }
          ],
          "choropleth": [
           {
            "colorbar": {
             "outlinewidth": 0,
             "ticks": ""
            },
            "type": "choropleth"
           }
          ],
          "contour": [
           {
            "colorbar": {
             "outlinewidth": 0,
             "ticks": ""
            },
            "colorscale": [
             [
              0,
              "#0d0887"
             ],
             [
              0.1111111111111111,
              "#46039f"
             ],
             [
              0.2222222222222222,
              "#7201a8"
             ],
             [
              0.3333333333333333,
              "#9c179e"
             ],
             [
              0.4444444444444444,
              "#bd3786"
             ],
             [
              0.5555555555555556,
              "#d8576b"
             ],
             [
              0.6666666666666666,
              "#ed7953"
             ],
             [
              0.7777777777777778,
              "#fb9f3a"
             ],
             [
              0.8888888888888888,
              "#fdca26"
             ],
             [
              1,
              "#f0f921"
             ]
            ],
            "type": "contour"
           }
          ],
          "contourcarpet": [
           {
            "colorbar": {
             "outlinewidth": 0,
             "ticks": ""
            },
            "type": "contourcarpet"
           }
          ],
          "heatmap": [
           {
            "colorbar": {
             "outlinewidth": 0,
             "ticks": ""
            },
            "colorscale": [
             [
              0,
              "#0d0887"
             ],
             [
              0.1111111111111111,
              "#46039f"
             ],
             [
              0.2222222222222222,
              "#7201a8"
             ],
             [
              0.3333333333333333,
              "#9c179e"
             ],
             [
              0.4444444444444444,
              "#bd3786"
             ],
             [
              0.5555555555555556,
              "#d8576b"
             ],
             [
              0.6666666666666666,
              "#ed7953"
             ],
             [
              0.7777777777777778,
              "#fb9f3a"
             ],
             [
              0.8888888888888888,
              "#fdca26"
             ],
             [
              1,
              "#f0f921"
             ]
            ],
            "type": "heatmap"
           }
          ],
          "heatmapgl": [
           {
            "colorbar": {
             "outlinewidth": 0,
             "ticks": ""
            },
            "colorscale": [
             [
              0,
              "#0d0887"
             ],
             [
              0.1111111111111111,
              "#46039f"
             ],
             [
              0.2222222222222222,
              "#7201a8"
             ],
             [
              0.3333333333333333,
              "#9c179e"
             ],
             [
              0.4444444444444444,
              "#bd3786"
             ],
             [
              0.5555555555555556,
              "#d8576b"
             ],
             [
              0.6666666666666666,
              "#ed7953"
             ],
             [
              0.7777777777777778,
              "#fb9f3a"
             ],
             [
              0.8888888888888888,
              "#fdca26"
             ],
             [
              1,
              "#f0f921"
             ]
            ],
            "type": "heatmapgl"
           }
          ],
          "histogram": [
           {
            "marker": {
             "pattern": {
              "fillmode": "overlay",
              "size": 10,
              "solidity": 0.2
             }
            },
            "type": "histogram"
           }
          ],
          "histogram2d": [
           {
            "colorbar": {
             "outlinewidth": 0,
             "ticks": ""
            },
            "colorscale": [
             [
              0,
              "#0d0887"
             ],
             [
              0.1111111111111111,
              "#46039f"
             ],
             [
              0.2222222222222222,
              "#7201a8"
             ],
             [
              0.3333333333333333,
              "#9c179e"
             ],
             [
              0.4444444444444444,
              "#bd3786"
             ],
             [
              0.5555555555555556,
              "#d8576b"
             ],
             [
              0.6666666666666666,
              "#ed7953"
             ],
             [
              0.7777777777777778,
              "#fb9f3a"
             ],
             [
              0.8888888888888888,
              "#fdca26"
             ],
             [
              1,
              "#f0f921"
             ]
            ],
            "type": "histogram2d"
           }
          ],
          "histogram2dcontour": [
           {
            "colorbar": {
             "outlinewidth": 0,
             "ticks": ""
            },
            "colorscale": [
             [
              0,
              "#0d0887"
             ],
             [
              0.1111111111111111,
              "#46039f"
             ],
             [
              0.2222222222222222,
              "#7201a8"
             ],
             [
              0.3333333333333333,
              "#9c179e"
             ],
             [
              0.4444444444444444,
              "#bd3786"
             ],
             [
              0.5555555555555556,
              "#d8576b"
             ],
             [
              0.6666666666666666,
              "#ed7953"
             ],
             [
              0.7777777777777778,
              "#fb9f3a"
             ],
             [
              0.8888888888888888,
              "#fdca26"
             ],
             [
              1,
              "#f0f921"
             ]
            ],
            "type": "histogram2dcontour"
           }
          ],
          "mesh3d": [
           {
            "colorbar": {
             "outlinewidth": 0,
             "ticks": ""
            },
            "type": "mesh3d"
           }
          ],
          "parcoords": [
           {
            "line": {
             "colorbar": {
              "outlinewidth": 0,
              "ticks": ""
             }
            },
            "type": "parcoords"
           }
          ],
          "pie": [
           {
            "automargin": true,
            "type": "pie"
           }
          ],
          "scatter": [
           {
            "marker": {
             "line": {
              "color": "#283442"
             }
            },
            "type": "scatter"
           }
          ],
          "scatter3d": [
           {
            "line": {
             "colorbar": {
              "outlinewidth": 0,
              "ticks": ""
             }
            },
            "marker": {
             "colorbar": {
              "outlinewidth": 0,
              "ticks": ""
             }
            },
            "type": "scatter3d"
           }
          ],
          "scattercarpet": [
           {
            "marker": {
             "colorbar": {
              "outlinewidth": 0,
              "ticks": ""
             }
            },
            "type": "scattercarpet"
           }
          ],
          "scattergeo": [
           {
            "marker": {
             "colorbar": {
              "outlinewidth": 0,
              "ticks": ""
             }
            },
            "type": "scattergeo"
           }
          ],
          "scattergl": [
           {
            "marker": {
             "line": {
              "color": "#283442"
             }
            },
            "type": "scattergl"
           }
          ],
          "scattermapbox": [
           {
            "marker": {
             "colorbar": {
              "outlinewidth": 0,
              "ticks": ""
             }
            },
            "type": "scattermapbox"
           }
          ],
          "scatterpolar": [
           {
            "marker": {
             "colorbar": {
              "outlinewidth": 0,
              "ticks": ""
             }
            },
            "type": "scatterpolar"
           }
          ],
          "scatterpolargl": [
           {
            "marker": {
             "colorbar": {
              "outlinewidth": 0,
              "ticks": ""
             }
            },
            "type": "scatterpolargl"
           }
          ],
          "scatterternary": [
           {
            "marker": {
             "colorbar": {
              "outlinewidth": 0,
              "ticks": ""
             }
            },
            "type": "scatterternary"
           }
          ],
          "surface": [
           {
            "colorbar": {
             "outlinewidth": 0,
             "ticks": ""
            },
            "colorscale": [
             [
              0,
              "#0d0887"
             ],
             [
              0.1111111111111111,
              "#46039f"
             ],
             [
              0.2222222222222222,
              "#7201a8"
             ],
             [
              0.3333333333333333,
              "#9c179e"
             ],
             [
              0.4444444444444444,
              "#bd3786"
             ],
             [
              0.5555555555555556,
              "#d8576b"
             ],
             [
              0.6666666666666666,
              "#ed7953"
             ],
             [
              0.7777777777777778,
              "#fb9f3a"
             ],
             [
              0.8888888888888888,
              "#fdca26"
             ],
             [
              1,
              "#f0f921"
             ]
            ],
            "type": "surface"
           }
          ],
          "table": [
           {
            "cells": {
             "fill": {
              "color": "#506784"
             },
             "line": {
              "color": "rgb(17,17,17)"
             }
            },
            "header": {
             "fill": {
              "color": "#2a3f5f"
             },
             "line": {
              "color": "rgb(17,17,17)"
             }
            },
            "type": "table"
           }
          ]
         },
         "layout": {
          "annotationdefaults": {
           "arrowcolor": "#f2f5fa",
           "arrowhead": 0,
           "arrowwidth": 1
          },
          "autotypenumbers": "strict",
          "coloraxis": {
           "colorbar": {
            "outlinewidth": 0,
            "ticks": ""
           }
          },
          "colorscale": {
           "diverging": [
            [
             0,
             "#8e0152"
            ],
            [
             0.1,
             "#c51b7d"
            ],
            [
             0.2,
             "#de77ae"
            ],
            [
             0.3,
             "#f1b6da"
            ],
            [
             0.4,
             "#fde0ef"
            ],
            [
             0.5,
             "#f7f7f7"
            ],
            [
             0.6,
             "#e6f5d0"
            ],
            [
             0.7,
             "#b8e186"
            ],
            [
             0.8,
             "#7fbc41"
            ],
            [
             0.9,
             "#4d9221"
            ],
            [
             1,
             "#276419"
            ]
           ],
           "sequential": [
            [
             0,
             "#0d0887"
            ],
            [
             0.1111111111111111,
             "#46039f"
            ],
            [
             0.2222222222222222,
             "#7201a8"
            ],
            [
             0.3333333333333333,
             "#9c179e"
            ],
            [
             0.4444444444444444,
             "#bd3786"
            ],
            [
             0.5555555555555556,
             "#d8576b"
            ],
            [
             0.6666666666666666,
             "#ed7953"
            ],
            [
             0.7777777777777778,
             "#fb9f3a"
            ],
            [
             0.8888888888888888,
             "#fdca26"
            ],
            [
             1,
             "#f0f921"
            ]
           ],
           "sequentialminus": [
            [
             0,
             "#0d0887"
            ],
            [
             0.1111111111111111,
             "#46039f"
            ],
            [
             0.2222222222222222,
             "#7201a8"
            ],
            [
             0.3333333333333333,
             "#9c179e"
            ],
            [
             0.4444444444444444,
             "#bd3786"
            ],
            [
             0.5555555555555556,
             "#d8576b"
            ],
            [
             0.6666666666666666,
             "#ed7953"
            ],
            [
             0.7777777777777778,
             "#fb9f3a"
            ],
            [
             0.8888888888888888,
             "#fdca26"
            ],
            [
             1,
             "#f0f921"
            ]
           ]
          },
          "colorway": [
           "#636efa",
           "#EF553B",
           "#00cc96",
           "#ab63fa",
           "#FFA15A",
           "#19d3f3",
           "#FF6692",
           "#B6E880",
           "#FF97FF",
           "#FECB52"
          ],
          "font": {
           "color": "#f2f5fa"
          },
          "geo": {
           "bgcolor": "rgb(17,17,17)",
           "lakecolor": "rgb(17,17,17)",
           "landcolor": "rgb(17,17,17)",
           "showlakes": true,
           "showland": true,
           "subunitcolor": "#506784"
          },
          "hoverlabel": {
           "align": "left"
          },
          "hovermode": "closest",
          "mapbox": {
           "style": "dark"
          },
          "paper_bgcolor": "rgb(17,17,17)",
          "plot_bgcolor": "rgb(17,17,17)",
          "polar": {
           "angularaxis": {
            "gridcolor": "#506784",
            "linecolor": "#506784",
            "ticks": ""
           },
           "bgcolor": "rgb(17,17,17)",
           "radialaxis": {
            "gridcolor": "#506784",
            "linecolor": "#506784",
            "ticks": ""
           }
          },
          "scene": {
           "xaxis": {
            "backgroundcolor": "rgb(17,17,17)",
            "gridcolor": "#506784",
            "gridwidth": 2,
            "linecolor": "#506784",
            "showbackground": true,
            "ticks": "",
            "zerolinecolor": "#C8D4E3"
           },
           "yaxis": {
            "backgroundcolor": "rgb(17,17,17)",
            "gridcolor": "#506784",
            "gridwidth": 2,
            "linecolor": "#506784",
            "showbackground": true,
            "ticks": "",
            "zerolinecolor": "#C8D4E3"
           },
           "zaxis": {
            "backgroundcolor": "rgb(17,17,17)",
            "gridcolor": "#506784",
            "gridwidth": 2,
            "linecolor": "#506784",
            "showbackground": true,
            "ticks": "",
            "zerolinecolor": "#C8D4E3"
           }
          },
          "shapedefaults": {
           "line": {
            "color": "#f2f5fa"
           }
          },
          "sliderdefaults": {
           "bgcolor": "#C8D4E3",
           "bordercolor": "rgb(17,17,17)",
           "borderwidth": 1,
           "tickwidth": 0
          },
          "ternary": {
           "aaxis": {
            "gridcolor": "#506784",
            "linecolor": "#506784",
            "ticks": ""
           },
           "baxis": {
            "gridcolor": "#506784",
            "linecolor": "#506784",
            "ticks": ""
           },
           "bgcolor": "rgb(17,17,17)",
           "caxis": {
            "gridcolor": "#506784",
            "linecolor": "#506784",
            "ticks": ""
           }
          },
          "title": {
           "x": 0.05
          },
          "updatemenudefaults": {
           "bgcolor": "#506784",
           "borderwidth": 0
          },
          "xaxis": {
           "automargin": true,
           "gridcolor": "#283442",
           "linecolor": "#506784",
           "ticks": "",
           "title": {
            "standoff": 15
           },
           "zerolinecolor": "#283442",
           "zerolinewidth": 2
          },
          "yaxis": {
           "automargin": true,
           "gridcolor": "#283442",
           "linecolor": "#506784",
           "ticks": "",
           "title": {
            "standoff": 15
           },
           "zerolinecolor": "#283442",
           "zerolinewidth": 2
          }
         }
        },
        "title": {
         "font": {
          "family": "Courier New, monospace",
          "size": 24
         },
         "text": "HOW AGE DIFFERS IN EACH GROUP DIET CATEGORY",
         "x": 0.5,
         "xanchor": "center"
        },
        "xaxis": {
         "anchor": "y",
         "categoryarray": [
          "Low-Carb",
          "Low-Fat",
          "Mediterranean"
         ],
         "categoryorder": "array",
         "domain": [
          0,
          1
         ],
         "title": {
          "font": {
           "family": "Courier New, monospace",
           "size": 18
          },
          "text": "GROUP DIET CATEGORY"
         }
        },
        "yaxis": {
         "anchor": "x",
         "domain": [
          0,
          1
         ],
         "title": {
          "font": {
           "family": "Courier New, monospace",
           "size": 18
          },
          "text": "AGE(in years)"
         }
        }
       }
      }
     },
     "metadata": {},
     "output_type": "display_data"
    }
   ],
   "source": [
    "## visualize \n",
    "## visualize  \n",
    "fig = px.box(\n",
    "    data, \n",
    "    x='Diet_Type',\n",
    "    y='Age', \n",
    "    color='Diet_Type', \n",
    "    title='RELATIONSHIP OF CHOLESTTEROL PER GROUP LEVEL', \n",
    "    labels=dict(\n",
    "        Diet_Type='GROUP DIET CATEGORY',\n",
    "        Age='AGE(in years)'\n",
    "    ), \n",
    "    color_discrete_sequence=colors[:3]\n",
    ")\n",
    "\n",
    "fig.update_layout(\n",
    "    showlegend=False,\n",
    "    title={\n",
    "        'text': 'HOW AGE DIFFERS IN EACH GROUP DIET CATEGORY',\n",
    "        'x': 0.5,              # Centers the title\n",
    "        'xanchor': 'center',   # Anchors the title at the center\n",
    "        'font': {\n",
    "            'family': \"Courier New, monospace\",  # Font family for the title\n",
    "            'size': 24                           # Increased font size for the title\n",
    "        }\n",
    "    },\n",
    "    font=dict(\n",
    "        family=\"Courier New, monospace\",  # Sets the default font for all text in the figure\n",
    "        size=16                           # Default font size (adjust as needed)\n",
    "    ),\n",
    "    xaxis_title_font=dict(\n",
    "        family=\"Courier New, monospace\",  # Font family for the x-axis label\n",
    "        size=18                           # Font size for the x-axis label\n",
    "    ),\n",
    "    yaxis_title_font=dict(\n",
    "        family=\"Courier New, monospace\",  # Font family for the y-axis label\n",
    "        size=18                           # Font size for the y-axis label\n",
    "    )\n",
    ")\n",
    "\n",
    "fig.show()\n",
    "\n"
   ]
  },
  {
   "cell_type": "markdown",
   "metadata": {},
   "source": [
    "* Relationship between the cholestrol and Body Mass Index"
   ]
  },
  {
   "cell_type": "code",
   "execution_count": 19,
   "metadata": {},
   "outputs": [
    {
     "data": {
      "text/html": [
       "<div>\n",
       "<style scoped>\n",
       "    .dataframe tbody tr th:only-of-type {\n",
       "        vertical-align: middle;\n",
       "    }\n",
       "\n",
       "    .dataframe tbody tr th {\n",
       "        vertical-align: top;\n",
       "    }\n",
       "\n",
       "    .dataframe thead th {\n",
       "        text-align: right;\n",
       "    }\n",
       "</style>\n",
       "<table border=\"1\" class=\"dataframe\">\n",
       "  <thead>\n",
       "    <tr style=\"text-align: right;\">\n",
       "      <th></th>\n",
       "      <th>Diet_Type</th>\n",
       "      <th>Age</th>\n",
       "      <th>Weight_Loss</th>\n",
       "    </tr>\n",
       "  </thead>\n",
       "  <tbody>\n",
       "    <tr>\n",
       "      <th>0</th>\n",
       "      <td>Low-Carb</td>\n",
       "      <td>45</td>\n",
       "      <td>6.2</td>\n",
       "    </tr>\n",
       "    <tr>\n",
       "      <th>1</th>\n",
       "      <td>Low-Carb</td>\n",
       "      <td>51</td>\n",
       "      <td>5.8</td>\n",
       "    </tr>\n",
       "    <tr>\n",
       "      <th>2</th>\n",
       "      <td>Low-Carb</td>\n",
       "      <td>37</td>\n",
       "      <td>4.3</td>\n",
       "    </tr>\n",
       "    <tr>\n",
       "      <th>3</th>\n",
       "      <td>Low-Carb</td>\n",
       "      <td>29</td>\n",
       "      <td>3.9</td>\n",
       "    </tr>\n",
       "    <tr>\n",
       "      <th>4</th>\n",
       "      <td>Low-Carb</td>\n",
       "      <td>60</td>\n",
       "      <td>7.1</td>\n",
       "    </tr>\n",
       "  </tbody>\n",
       "</table>\n",
       "</div>"
      ],
      "text/plain": [
       "  Diet_Type  Age  Weight_Loss\n",
       "0  Low-Carb   45          6.2\n",
       "1  Low-Carb   51          5.8\n",
       "2  Low-Carb   37          4.3\n",
       "3  Low-Carb   29          3.9\n",
       "4  Low-Carb   60          7.1"
      ]
     },
     "execution_count": 19,
     "metadata": {},
     "output_type": "execute_result"
    }
   ],
   "source": [
    "data.head()"
   ]
  },
  {
   "cell_type": "code",
   "execution_count": 20,
   "metadata": {},
   "outputs": [
    {
     "data": {
      "application/vnd.plotly.v1+json": {
       "config": {
        "plotlyServerURL": "https://plot.ly"
       },
       "data": [
        {
         "hovertemplate": "AGE (in years)=%{x}<br>Weight loss (in kg)=%{y}<extra></extra>",
         "legendgroup": "",
         "marker": {
          "color": "orange",
          "symbol": "circle"
         },
         "mode": "markers",
         "name": "",
         "orientation": "v",
         "showlegend": false,
         "type": "scatter",
         "x": [
          45,
          51,
          37,
          29,
          60,
          34,
          48,
          39,
          52,
          41,
          38,
          44,
          50,
          33,
          47,
          55,
          42,
          36,
          29,
          53,
          41,
          35,
          46,
          58,
          39,
          33,
          50,
          44,
          37,
          49
         ],
         "xaxis": "x",
         "y": [
          6.2,
          5.8,
          4.3,
          3.9,
          7.1,
          4,
          5.5,
          4.6,
          6,
          5.1,
          5,
          4.2,
          4.9,
          3.7,
          5.1,
          4.5,
          4.8,
          4.1,
          3.8,
          5.3,
          5.5,
          4.7,
          5.3,
          6.2,
          5,
          4.3,
          5.6,
          4.9,
          4.6,
          5.8
         ],
         "yaxis": "y"
        },
        {
         "hovertemplate": "<b>OLS trendline</b><br>Weight_Loss = 0.0777879 * Age + 1.63549<br>R<sup>2</sup>=0.638106<br><br>AGE (in years)=%{x}<br>Weight loss (in kg)=%{y} <b>(trend)</b><extra></extra>",
         "legendgroup": "",
         "marker": {
          "color": "orange",
          "symbol": "circle"
         },
         "mode": "lines",
         "name": "",
         "showlegend": false,
         "type": "scatter",
         "x": [
          29,
          29,
          33,
          33,
          34,
          35,
          36,
          37,
          37,
          38,
          39,
          39,
          41,
          41,
          42,
          44,
          44,
          45,
          46,
          47,
          48,
          49,
          50,
          50,
          51,
          52,
          53,
          55,
          58,
          60
         ],
         "xaxis": "x",
         "y": [
          3.891338348350832,
          3.891338348350832,
          4.202489873522362,
          4.202489873522362,
          4.280277754815245,
          4.358065636108127,
          4.435853517401009,
          4.513641398693892,
          4.513641398693892,
          4.591429279986775,
          4.669217161279657,
          4.669217161279657,
          4.824792923865422,
          4.824792923865422,
          4.902580805158305,
          5.058156567744069,
          5.058156567744069,
          5.135944449036952,
          5.213732330329835,
          5.291520211622717,
          5.3693080929156,
          5.447095974208482,
          5.524883855501365,
          5.524883855501365,
          5.602671736794248,
          5.68045961808713,
          5.758247499380012,
          5.913823261965777,
          6.147186905844425,
          6.30276266843019
         ],
         "yaxis": "y"
        }
       ],
       "layout": {
        "font": {
         "family": "Courier New, monospace",
         "size": 16
        },
        "legend": {
         "tracegroupgap": 0
        },
        "showlegend": false,
        "template": {
         "data": {
          "bar": [
           {
            "error_x": {
             "color": "#f2f5fa"
            },
            "error_y": {
             "color": "#f2f5fa"
            },
            "marker": {
             "line": {
              "color": "rgb(17,17,17)",
              "width": 0.5
             },
             "pattern": {
              "fillmode": "overlay",
              "size": 10,
              "solidity": 0.2
             }
            },
            "type": "bar"
           }
          ],
          "barpolar": [
           {
            "marker": {
             "line": {
              "color": "rgb(17,17,17)",
              "width": 0.5
             },
             "pattern": {
              "fillmode": "overlay",
              "size": 10,
              "solidity": 0.2
             }
            },
            "type": "barpolar"
           }
          ],
          "carpet": [
           {
            "aaxis": {
             "endlinecolor": "#A2B1C6",
             "gridcolor": "#506784",
             "linecolor": "#506784",
             "minorgridcolor": "#506784",
             "startlinecolor": "#A2B1C6"
            },
            "baxis": {
             "endlinecolor": "#A2B1C6",
             "gridcolor": "#506784",
             "linecolor": "#506784",
             "minorgridcolor": "#506784",
             "startlinecolor": "#A2B1C6"
            },
            "type": "carpet"
           }
          ],
          "choropleth": [
           {
            "colorbar": {
             "outlinewidth": 0,
             "ticks": ""
            },
            "type": "choropleth"
           }
          ],
          "contour": [
           {
            "colorbar": {
             "outlinewidth": 0,
             "ticks": ""
            },
            "colorscale": [
             [
              0,
              "#0d0887"
             ],
             [
              0.1111111111111111,
              "#46039f"
             ],
             [
              0.2222222222222222,
              "#7201a8"
             ],
             [
              0.3333333333333333,
              "#9c179e"
             ],
             [
              0.4444444444444444,
              "#bd3786"
             ],
             [
              0.5555555555555556,
              "#d8576b"
             ],
             [
              0.6666666666666666,
              "#ed7953"
             ],
             [
              0.7777777777777778,
              "#fb9f3a"
             ],
             [
              0.8888888888888888,
              "#fdca26"
             ],
             [
              1,
              "#f0f921"
             ]
            ],
            "type": "contour"
           }
          ],
          "contourcarpet": [
           {
            "colorbar": {
             "outlinewidth": 0,
             "ticks": ""
            },
            "type": "contourcarpet"
           }
          ],
          "heatmap": [
           {
            "colorbar": {
             "outlinewidth": 0,
             "ticks": ""
            },
            "colorscale": [
             [
              0,
              "#0d0887"
             ],
             [
              0.1111111111111111,
              "#46039f"
             ],
             [
              0.2222222222222222,
              "#7201a8"
             ],
             [
              0.3333333333333333,
              "#9c179e"
             ],
             [
              0.4444444444444444,
              "#bd3786"
             ],
             [
              0.5555555555555556,
              "#d8576b"
             ],
             [
              0.6666666666666666,
              "#ed7953"
             ],
             [
              0.7777777777777778,
              "#fb9f3a"
             ],
             [
              0.8888888888888888,
              "#fdca26"
             ],
             [
              1,
              "#f0f921"
             ]
            ],
            "type": "heatmap"
           }
          ],
          "heatmapgl": [
           {
            "colorbar": {
             "outlinewidth": 0,
             "ticks": ""
            },
            "colorscale": [
             [
              0,
              "#0d0887"
             ],
             [
              0.1111111111111111,
              "#46039f"
             ],
             [
              0.2222222222222222,
              "#7201a8"
             ],
             [
              0.3333333333333333,
              "#9c179e"
             ],
             [
              0.4444444444444444,
              "#bd3786"
             ],
             [
              0.5555555555555556,
              "#d8576b"
             ],
             [
              0.6666666666666666,
              "#ed7953"
             ],
             [
              0.7777777777777778,
              "#fb9f3a"
             ],
             [
              0.8888888888888888,
              "#fdca26"
             ],
             [
              1,
              "#f0f921"
             ]
            ],
            "type": "heatmapgl"
           }
          ],
          "histogram": [
           {
            "marker": {
             "pattern": {
              "fillmode": "overlay",
              "size": 10,
              "solidity": 0.2
             }
            },
            "type": "histogram"
           }
          ],
          "histogram2d": [
           {
            "colorbar": {
             "outlinewidth": 0,
             "ticks": ""
            },
            "colorscale": [
             [
              0,
              "#0d0887"
             ],
             [
              0.1111111111111111,
              "#46039f"
             ],
             [
              0.2222222222222222,
              "#7201a8"
             ],
             [
              0.3333333333333333,
              "#9c179e"
             ],
             [
              0.4444444444444444,
              "#bd3786"
             ],
             [
              0.5555555555555556,
              "#d8576b"
             ],
             [
              0.6666666666666666,
              "#ed7953"
             ],
             [
              0.7777777777777778,
              "#fb9f3a"
             ],
             [
              0.8888888888888888,
              "#fdca26"
             ],
             [
              1,
              "#f0f921"
             ]
            ],
            "type": "histogram2d"
           }
          ],
          "histogram2dcontour": [
           {
            "colorbar": {
             "outlinewidth": 0,
             "ticks": ""
            },
            "colorscale": [
             [
              0,
              "#0d0887"
             ],
             [
              0.1111111111111111,
              "#46039f"
             ],
             [
              0.2222222222222222,
              "#7201a8"
             ],
             [
              0.3333333333333333,
              "#9c179e"
             ],
             [
              0.4444444444444444,
              "#bd3786"
             ],
             [
              0.5555555555555556,
              "#d8576b"
             ],
             [
              0.6666666666666666,
              "#ed7953"
             ],
             [
              0.7777777777777778,
              "#fb9f3a"
             ],
             [
              0.8888888888888888,
              "#fdca26"
             ],
             [
              1,
              "#f0f921"
             ]
            ],
            "type": "histogram2dcontour"
           }
          ],
          "mesh3d": [
           {
            "colorbar": {
             "outlinewidth": 0,
             "ticks": ""
            },
            "type": "mesh3d"
           }
          ],
          "parcoords": [
           {
            "line": {
             "colorbar": {
              "outlinewidth": 0,
              "ticks": ""
             }
            },
            "type": "parcoords"
           }
          ],
          "pie": [
           {
            "automargin": true,
            "type": "pie"
           }
          ],
          "scatter": [
           {
            "marker": {
             "line": {
              "color": "#283442"
             }
            },
            "type": "scatter"
           }
          ],
          "scatter3d": [
           {
            "line": {
             "colorbar": {
              "outlinewidth": 0,
              "ticks": ""
             }
            },
            "marker": {
             "colorbar": {
              "outlinewidth": 0,
              "ticks": ""
             }
            },
            "type": "scatter3d"
           }
          ],
          "scattercarpet": [
           {
            "marker": {
             "colorbar": {
              "outlinewidth": 0,
              "ticks": ""
             }
            },
            "type": "scattercarpet"
           }
          ],
          "scattergeo": [
           {
            "marker": {
             "colorbar": {
              "outlinewidth": 0,
              "ticks": ""
             }
            },
            "type": "scattergeo"
           }
          ],
          "scattergl": [
           {
            "marker": {
             "line": {
              "color": "#283442"
             }
            },
            "type": "scattergl"
           }
          ],
          "scattermapbox": [
           {
            "marker": {
             "colorbar": {
              "outlinewidth": 0,
              "ticks": ""
             }
            },
            "type": "scattermapbox"
           }
          ],
          "scatterpolar": [
           {
            "marker": {
             "colorbar": {
              "outlinewidth": 0,
              "ticks": ""
             }
            },
            "type": "scatterpolar"
           }
          ],
          "scatterpolargl": [
           {
            "marker": {
             "colorbar": {
              "outlinewidth": 0,
              "ticks": ""
             }
            },
            "type": "scatterpolargl"
           }
          ],
          "scatterternary": [
           {
            "marker": {
             "colorbar": {
              "outlinewidth": 0,
              "ticks": ""
             }
            },
            "type": "scatterternary"
           }
          ],
          "surface": [
           {
            "colorbar": {
             "outlinewidth": 0,
             "ticks": ""
            },
            "colorscale": [
             [
              0,
              "#0d0887"
             ],
             [
              0.1111111111111111,
              "#46039f"
             ],
             [
              0.2222222222222222,
              "#7201a8"
             ],
             [
              0.3333333333333333,
              "#9c179e"
             ],
             [
              0.4444444444444444,
              "#bd3786"
             ],
             [
              0.5555555555555556,
              "#d8576b"
             ],
             [
              0.6666666666666666,
              "#ed7953"
             ],
             [
              0.7777777777777778,
              "#fb9f3a"
             ],
             [
              0.8888888888888888,
              "#fdca26"
             ],
             [
              1,
              "#f0f921"
             ]
            ],
            "type": "surface"
           }
          ],
          "table": [
           {
            "cells": {
             "fill": {
              "color": "#506784"
             },
             "line": {
              "color": "rgb(17,17,17)"
             }
            },
            "header": {
             "fill": {
              "color": "#2a3f5f"
             },
             "line": {
              "color": "rgb(17,17,17)"
             }
            },
            "type": "table"
           }
          ]
         },
         "layout": {
          "annotationdefaults": {
           "arrowcolor": "#f2f5fa",
           "arrowhead": 0,
           "arrowwidth": 1
          },
          "autotypenumbers": "strict",
          "coloraxis": {
           "colorbar": {
            "outlinewidth": 0,
            "ticks": ""
           }
          },
          "colorscale": {
           "diverging": [
            [
             0,
             "#8e0152"
            ],
            [
             0.1,
             "#c51b7d"
            ],
            [
             0.2,
             "#de77ae"
            ],
            [
             0.3,
             "#f1b6da"
            ],
            [
             0.4,
             "#fde0ef"
            ],
            [
             0.5,
             "#f7f7f7"
            ],
            [
             0.6,
             "#e6f5d0"
            ],
            [
             0.7,
             "#b8e186"
            ],
            [
             0.8,
             "#7fbc41"
            ],
            [
             0.9,
             "#4d9221"
            ],
            [
             1,
             "#276419"
            ]
           ],
           "sequential": [
            [
             0,
             "#0d0887"
            ],
            [
             0.1111111111111111,
             "#46039f"
            ],
            [
             0.2222222222222222,
             "#7201a8"
            ],
            [
             0.3333333333333333,
             "#9c179e"
            ],
            [
             0.4444444444444444,
             "#bd3786"
            ],
            [
             0.5555555555555556,
             "#d8576b"
            ],
            [
             0.6666666666666666,
             "#ed7953"
            ],
            [
             0.7777777777777778,
             "#fb9f3a"
            ],
            [
             0.8888888888888888,
             "#fdca26"
            ],
            [
             1,
             "#f0f921"
            ]
           ],
           "sequentialminus": [
            [
             0,
             "#0d0887"
            ],
            [
             0.1111111111111111,
             "#46039f"
            ],
            [
             0.2222222222222222,
             "#7201a8"
            ],
            [
             0.3333333333333333,
             "#9c179e"
            ],
            [
             0.4444444444444444,
             "#bd3786"
            ],
            [
             0.5555555555555556,
             "#d8576b"
            ],
            [
             0.6666666666666666,
             "#ed7953"
            ],
            [
             0.7777777777777778,
             "#fb9f3a"
            ],
            [
             0.8888888888888888,
             "#fdca26"
            ],
            [
             1,
             "#f0f921"
            ]
           ]
          },
          "colorway": [
           "#636efa",
           "#EF553B",
           "#00cc96",
           "#ab63fa",
           "#FFA15A",
           "#19d3f3",
           "#FF6692",
           "#B6E880",
           "#FF97FF",
           "#FECB52"
          ],
          "font": {
           "color": "#f2f5fa"
          },
          "geo": {
           "bgcolor": "rgb(17,17,17)",
           "lakecolor": "rgb(17,17,17)",
           "landcolor": "rgb(17,17,17)",
           "showlakes": true,
           "showland": true,
           "subunitcolor": "#506784"
          },
          "hoverlabel": {
           "align": "left"
          },
          "hovermode": "closest",
          "mapbox": {
           "style": "dark"
          },
          "paper_bgcolor": "rgb(17,17,17)",
          "plot_bgcolor": "rgb(17,17,17)",
          "polar": {
           "angularaxis": {
            "gridcolor": "#506784",
            "linecolor": "#506784",
            "ticks": ""
           },
           "bgcolor": "rgb(17,17,17)",
           "radialaxis": {
            "gridcolor": "#506784",
            "linecolor": "#506784",
            "ticks": ""
           }
          },
          "scene": {
           "xaxis": {
            "backgroundcolor": "rgb(17,17,17)",
            "gridcolor": "#506784",
            "gridwidth": 2,
            "linecolor": "#506784",
            "showbackground": true,
            "ticks": "",
            "zerolinecolor": "#C8D4E3"
           },
           "yaxis": {
            "backgroundcolor": "rgb(17,17,17)",
            "gridcolor": "#506784",
            "gridwidth": 2,
            "linecolor": "#506784",
            "showbackground": true,
            "ticks": "",
            "zerolinecolor": "#C8D4E3"
           },
           "zaxis": {
            "backgroundcolor": "rgb(17,17,17)",
            "gridcolor": "#506784",
            "gridwidth": 2,
            "linecolor": "#506784",
            "showbackground": true,
            "ticks": "",
            "zerolinecolor": "#C8D4E3"
           }
          },
          "shapedefaults": {
           "line": {
            "color": "#f2f5fa"
           }
          },
          "sliderdefaults": {
           "bgcolor": "#C8D4E3",
           "bordercolor": "rgb(17,17,17)",
           "borderwidth": 1,
           "tickwidth": 0
          },
          "ternary": {
           "aaxis": {
            "gridcolor": "#506784",
            "linecolor": "#506784",
            "ticks": ""
           },
           "baxis": {
            "gridcolor": "#506784",
            "linecolor": "#506784",
            "ticks": ""
           },
           "bgcolor": "rgb(17,17,17)",
           "caxis": {
            "gridcolor": "#506784",
            "linecolor": "#506784",
            "ticks": ""
           }
          },
          "title": {
           "x": 0.05
          },
          "updatemenudefaults": {
           "bgcolor": "#506784",
           "borderwidth": 0
          },
          "xaxis": {
           "automargin": true,
           "gridcolor": "#283442",
           "linecolor": "#506784",
           "ticks": "",
           "title": {
            "standoff": 15
           },
           "zerolinecolor": "#283442",
           "zerolinewidth": 2
          },
          "yaxis": {
           "automargin": true,
           "gridcolor": "#283442",
           "linecolor": "#506784",
           "ticks": "",
           "title": {
            "standoff": 15
           },
           "zerolinecolor": "#283442",
           "zerolinewidth": 2
          }
         }
        },
        "title": {
         "font": {
          "family": "Courier New, monospace",
          "size": 24
         },
         "text": "LINEARITY ASSUMPTION BETWEEN WEIGHT LOSS AND AGE",
         "x": 0.5,
         "xanchor": "center"
        },
        "xaxis": {
         "anchor": "y",
         "domain": [
          0,
          1
         ],
         "title": {
          "font": {
           "family": "Courier New, monospace",
           "size": 18
          },
          "text": "AGE (in years)"
         }
        },
        "yaxis": {
         "anchor": "x",
         "domain": [
          0,
          1
         ],
         "title": {
          "font": {
           "family": "Courier New, monospace",
           "size": 18
          },
          "text": "Weight loss (in kg)"
         }
        }
       }
      }
     },
     "metadata": {},
     "output_type": "display_data"
    }
   ],
   "source": [
    "## visualize  \n",
    "fig = px.scatter(\n",
    "    data, \n",
    "    x='Age',\n",
    "    y='Weight_Loss', \n",
    "    trendline='ols',\n",
    "    title='LINEARITY ASSUMPTION BETWEEN WEIGHT LOSS AND AGE', \n",
    "    labels={\n",
    "        'Age': 'AGE (in years)',\n",
    "        'Weight_Loss': 'Weight loss (in kg)'\n",
    "    },  \n",
    "    color_discrete_sequence=['orange']\n",
    ")\n",
    "\n",
    "fig.update_layout(\n",
    "    showlegend=False,\n",
    "    title={\n",
    "        'text': 'LINEARITY ASSUMPTION BETWEEN WEIGHT LOSS AND AGE',\n",
    "        'x': 0.5,              # Centers the title\n",
    "        'xanchor': 'center',   # Anchors the title at the center\n",
    "        'font': {\n",
    "            'family': \"Courier New, monospace\",  # Font family for the title\n",
    "            'size': 24                           # Increased font size for the title\n",
    "        }\n",
    "    },\n",
    "    font=dict(\n",
    "        family=\"Courier New, monospace\",  # Sets the default font for all text in the figure\n",
    "        size=16                           # Default font size (adjust as needed)\n",
    "    ),\n",
    "    xaxis_title_font=dict(\n",
    "        family=\"Courier New, monospace\",  # Font family for the x-axis label\n",
    "        size=18                           # Font size for the x-axis label\n",
    "    ),\n",
    "    yaxis_title_font=dict(\n",
    "        family=\"Courier New, monospace\",  # Font family for the y-axis label\n",
    "        size=18                           # Font size for the y-axis label\n",
    "    )\n",
    ")\n",
    "\n",
    "fig.show()\n"
   ]
  },
  {
   "cell_type": "markdown",
   "metadata": {},
   "source": [
    "* checking and verifying the linerity assumption"
   ]
  },
  {
   "cell_type": "code",
   "execution_count": 21,
   "metadata": {},
   "outputs": [],
   "source": [
    "## creating the formula \n",
    "formula = 'Weight_Loss~Age'\n",
    "## fixing the data into the ols  \n",
    "linearity_model = ols(formula,data=data).fit()"
   ]
  },
  {
   "cell_type": "code",
   "execution_count": 22,
   "metadata": {},
   "outputs": [
    {
     "data": {
      "text/html": [
       "<table class=\"simpletable\">\n",
       "<caption>OLS Regression Results</caption>\n",
       "<tr>\n",
       "  <th>Dep. Variable:</th>       <td>Weight_Loss</td>   <th>  R-squared:         </th> <td>   0.638</td>\n",
       "</tr>\n",
       "<tr>\n",
       "  <th>Model:</th>                   <td>OLS</td>       <th>  Adj. R-squared:    </th> <td>   0.625</td>\n",
       "</tr>\n",
       "<tr>\n",
       "  <th>Method:</th>             <td>Least Squares</td>  <th>  F-statistic:       </th> <td>   49.37</td>\n",
       "</tr>\n",
       "<tr>\n",
       "  <th>Date:</th>             <td>Sat, 08 Feb 2025</td> <th>  Prob (F-statistic):</th> <td>1.21e-07</td>\n",
       "</tr>\n",
       "<tr>\n",
       "  <th>Time:</th>                 <td>12:54:41</td>     <th>  Log-Likelihood:    </th> <td> -20.564</td>\n",
       "</tr>\n",
       "<tr>\n",
       "  <th>No. Observations:</th>      <td>    30</td>      <th>  AIC:               </th> <td>   45.13</td>\n",
       "</tr>\n",
       "<tr>\n",
       "  <th>Df Residuals:</th>          <td>    28</td>      <th>  BIC:               </th> <td>   47.93</td>\n",
       "</tr>\n",
       "<tr>\n",
       "  <th>Df Model:</th>              <td>     1</td>      <th>                     </th>     <td> </td>   \n",
       "</tr>\n",
       "<tr>\n",
       "  <th>Covariance Type:</th>      <td>nonrobust</td>    <th>                     </th>     <td> </td>   \n",
       "</tr>\n",
       "</table>\n",
       "<table class=\"simpletable\">\n",
       "<tr>\n",
       "      <td></td>         <th>coef</th>     <th>std err</th>      <th>t</th>      <th>P>|t|</th>  <th>[0.025</th>    <th>0.975]</th>  \n",
       "</tr>\n",
       "<tr>\n",
       "  <th>Intercept</th> <td>    1.6355</td> <td>    0.486</td> <td>    3.362</td> <td> 0.002</td> <td>    0.639</td> <td>    2.632</td>\n",
       "</tr>\n",
       "<tr>\n",
       "  <th>Age</th>       <td>    0.0778</td> <td>    0.011</td> <td>    7.026</td> <td> 0.000</td> <td>    0.055</td> <td>    0.100</td>\n",
       "</tr>\n",
       "</table>\n",
       "<table class=\"simpletable\">\n",
       "<tr>\n",
       "  <th>Omnibus:</th>       <td> 4.834</td> <th>  Durbin-Watson:     </th> <td>   1.466</td>\n",
       "</tr>\n",
       "<tr>\n",
       "  <th>Prob(Omnibus):</th> <td> 0.089</td> <th>  Jarque-Bera (JB):  </th> <td>   3.356</td>\n",
       "</tr>\n",
       "<tr>\n",
       "  <th>Skew:</th>          <td>-0.522</td> <th>  Prob(JB):          </th> <td>   0.187</td>\n",
       "</tr>\n",
       "<tr>\n",
       "  <th>Kurtosis:</th>      <td> 4.263</td> <th>  Cond. No.          </th> <td>    236.</td>\n",
       "</tr>\n",
       "</table><br/><br/>Notes:<br/>[1] Standard Errors assume that the covariance matrix of the errors is correctly specified."
      ],
      "text/latex": [
       "\\begin{center}\n",
       "\\begin{tabular}{lclc}\n",
       "\\toprule\n",
       "\\textbf{Dep. Variable:}    &   Weight\\_Loss   & \\textbf{  R-squared:         } &     0.638   \\\\\n",
       "\\textbf{Model:}            &       OLS        & \\textbf{  Adj. R-squared:    } &     0.625   \\\\\n",
       "\\textbf{Method:}           &  Least Squares   & \\textbf{  F-statistic:       } &     49.37   \\\\\n",
       "\\textbf{Date:}             & Sat, 08 Feb 2025 & \\textbf{  Prob (F-statistic):} &  1.21e-07   \\\\\n",
       "\\textbf{Time:}             &     12:54:41     & \\textbf{  Log-Likelihood:    } &   -20.564   \\\\\n",
       "\\textbf{No. Observations:} &          30      & \\textbf{  AIC:               } &     45.13   \\\\\n",
       "\\textbf{Df Residuals:}     &          28      & \\textbf{  BIC:               } &     47.93   \\\\\n",
       "\\textbf{Df Model:}         &           1      & \\textbf{                     } &             \\\\\n",
       "\\textbf{Covariance Type:}  &    nonrobust     & \\textbf{                     } &             \\\\\n",
       "\\bottomrule\n",
       "\\end{tabular}\n",
       "\\begin{tabular}{lcccccc}\n",
       "                   & \\textbf{coef} & \\textbf{std err} & \\textbf{t} & \\textbf{P$> |$t$|$} & \\textbf{[0.025} & \\textbf{0.975]}  \\\\\n",
       "\\midrule\n",
       "\\textbf{Intercept} &       1.6355  &        0.486     &     3.362  &         0.002        &        0.639    &        2.632     \\\\\n",
       "\\textbf{Age}       &       0.0778  &        0.011     &     7.026  &         0.000        &        0.055    &        0.100     \\\\\n",
       "\\bottomrule\n",
       "\\end{tabular}\n",
       "\\begin{tabular}{lclc}\n",
       "\\textbf{Omnibus:}       &  4.834 & \\textbf{  Durbin-Watson:     } &    1.466  \\\\\n",
       "\\textbf{Prob(Omnibus):} &  0.089 & \\textbf{  Jarque-Bera (JB):  } &    3.356  \\\\\n",
       "\\textbf{Skew:}          & -0.522 & \\textbf{  Prob(JB):          } &    0.187  \\\\\n",
       "\\textbf{Kurtosis:}      &  4.263 & \\textbf{  Cond. No.          } &     236.  \\\\\n",
       "\\bottomrule\n",
       "\\end{tabular}\n",
       "%\\caption{OLS Regression Results}\n",
       "\\end{center}\n",
       "\n",
       "Notes: \\newline\n",
       " [1] Standard Errors assume that the covariance matrix of the errors is correctly specified."
      ],
      "text/plain": [
       "<class 'statsmodels.iolib.summary.Summary'>\n",
       "\"\"\"\n",
       "                            OLS Regression Results                            \n",
       "==============================================================================\n",
       "Dep. Variable:            Weight_Loss   R-squared:                       0.638\n",
       "Model:                            OLS   Adj. R-squared:                  0.625\n",
       "Method:                 Least Squares   F-statistic:                     49.37\n",
       "Date:                Sat, 08 Feb 2025   Prob (F-statistic):           1.21e-07\n",
       "Time:                        12:54:41   Log-Likelihood:                -20.564\n",
       "No. Observations:                  30   AIC:                             45.13\n",
       "Df Residuals:                      28   BIC:                             47.93\n",
       "Df Model:                           1                                         \n",
       "Covariance Type:            nonrobust                                         \n",
       "==============================================================================\n",
       "                 coef    std err          t      P>|t|      [0.025      0.975]\n",
       "------------------------------------------------------------------------------\n",
       "Intercept      1.6355      0.486      3.362      0.002       0.639       2.632\n",
       "Age            0.0778      0.011      7.026      0.000       0.055       0.100\n",
       "==============================================================================\n",
       "Omnibus:                        4.834   Durbin-Watson:                   1.466\n",
       "Prob(Omnibus):                  0.089   Jarque-Bera (JB):                3.356\n",
       "Skew:                          -0.522   Prob(JB):                        0.187\n",
       "Kurtosis:                       4.263   Cond. No.                         236.\n",
       "==============================================================================\n",
       "\n",
       "Notes:\n",
       "[1] Standard Errors assume that the covariance matrix of the errors is correctly specified.\n",
       "\"\"\""
      ]
     },
     "execution_count": 22,
     "metadata": {},
     "output_type": "execute_result"
    }
   ],
   "source": [
    "## printing the results of the model \n",
    "linearity_model.summary()  \n"
   ]
  },
  {
   "cell_type": "markdown",
   "metadata": {},
   "source": [
    "* We fail to reject the null hypothesis , that there is no linear relationship betweeen the Dependent and the covariate"
   ]
  },
  {
   "cell_type": "markdown",
   "metadata": {},
   "source": [
    "* HOMGENITY OF THE REGRESSION SLOPES"
   ]
  },
  {
   "cell_type": "code",
   "execution_count": 23,
   "metadata": {},
   "outputs": [
    {
     "data": {
      "application/vnd.plotly.v1+json": {
       "config": {
        "plotlyServerURL": "https://plot.ly"
       },
       "data": [
        {
         "hovertemplate": "Diet_Type=Low-Carb<br>AGE(in years)=%{x}<br>Weight Loss (Kgs)=%{y}<extra></extra>",
         "legendgroup": "Low-Carb",
         "marker": {
          "color": "#3366CC",
          "symbol": "circle"
         },
         "mode": "markers",
         "name": "Low-Carb",
         "orientation": "v",
         "showlegend": true,
         "type": "scatter",
         "x": [
          45,
          51,
          37,
          29,
          60,
          34,
          48,
          39,
          52,
          41
         ],
         "xaxis": "x",
         "y": [
          6.2,
          5.8,
          4.3,
          3.9,
          7.1,
          4,
          5.5,
          4.6,
          6,
          5.1
         ],
         "yaxis": "y"
        },
        {
         "hovertemplate": "<b>OLS trendline</b><br>Weight_Loss = 0.106638 * Age + 0.600581<br>R<sup>2</sup>=0.902445<br><br>Diet_Type=Low-Carb<br>AGE(in years)=%{x}<br>Weight Loss (Kgs)=%{y} <b>(trend)</b><extra></extra>",
         "legendgroup": "Low-Carb",
         "marker": {
          "color": "#3366CC",
          "symbol": "circle"
         },
         "mode": "lines",
         "name": "Low-Carb",
         "showlegend": false,
         "type": "scatter",
         "x": [
          29,
          34,
          37,
          39,
          41,
          45,
          48,
          51,
          52,
          60
         ],
         "xaxis": "x",
         "y": [
          3.693084300858151,
          4.2262746087834415,
          4.546188793538615,
          4.7594649167087315,
          4.972741039878848,
          5.39929328621908,
          5.719207470974254,
          6.039121655729429,
          6.145759717314487,
          6.9988642099949505
         ],
         "yaxis": "y"
        },
        {
         "hovertemplate": "Diet_Type=Low-Fat<br>AGE(in years)=%{x}<br>Weight Loss (Kgs)=%{y}<extra></extra>",
         "legendgroup": "Low-Fat",
         "marker": {
          "color": "#DC3912",
          "symbol": "circle"
         },
         "mode": "markers",
         "name": "Low-Fat",
         "orientation": "v",
         "showlegend": true,
         "type": "scatter",
         "x": [
          38,
          44,
          50,
          33,
          47,
          55,
          42,
          36,
          29,
          53
         ],
         "xaxis": "x",
         "y": [
          5,
          4.2,
          4.9,
          3.7,
          5.1,
          4.5,
          4.8,
          4.1,
          3.8,
          5.3
         ],
         "yaxis": "y"
        },
        {
         "hovertemplate": "<b>OLS trendline</b><br>Weight_Loss = 0.0453169 * Age + 2.60497<br>R<sup>2</sup>=0.487663<br><br>Diet_Type=Low-Fat<br>AGE(in years)=%{x}<br>Weight Loss (Kgs)=%{y} <b>(trend)</b><extra></extra>",
         "legendgroup": "Low-Fat",
         "marker": {
          "color": "#DC3912",
          "symbol": "circle"
         },
         "mode": "lines",
         "name": "Low-Fat",
         "showlegend": false,
         "type": "scatter",
         "x": [
          29,
          33,
          36,
          38,
          42,
          44,
          47,
          50,
          53,
          55
         ],
         "xaxis": "x",
         "y": [
          3.919158947213644,
          4.1004264078811925,
          4.236377003381855,
          4.327010733715629,
          4.508278194383179,
          4.598911924716953,
          4.7348625202176144,
          4.870813115718276,
          5.006763711218938,
          5.097397441552713
         ],
         "yaxis": "y"
        },
        {
         "hovertemplate": "Diet_Type=Mediterranean<br>AGE(in years)=%{x}<br>Weight Loss (Kgs)=%{y}<extra></extra>",
         "legendgroup": "Mediterranean",
         "marker": {
          "color": "#FF9900",
          "symbol": "circle"
         },
         "mode": "markers",
         "name": "Mediterranean",
         "orientation": "v",
         "showlegend": true,
         "type": "scatter",
         "x": [
          41,
          35,
          46,
          58,
          39,
          33,
          50,
          44,
          37,
          49
         ],
         "xaxis": "x",
         "y": [
          5.5,
          4.7,
          5.3,
          6.2,
          5,
          4.3,
          5.6,
          4.9,
          4.6,
          5.8
         ],
         "yaxis": "y"
        },
        {
         "hovertemplate": "<b>OLS trendline</b><br>Weight_Loss = 0.0708302 * Age + 2.13013<br>R<sup>2</sup>=0.854254<br><br>Diet_Type=Mediterranean<br>AGE(in years)=%{x}<br>Weight Loss (Kgs)=%{y} <b>(trend)</b><extra></extra>",
         "legendgroup": "Mediterranean",
         "marker": {
          "color": "#FF9900",
          "symbol": "circle"
         },
         "mode": "lines",
         "name": "Mediterranean",
         "showlegend": false,
         "type": "scatter",
         "x": [
          33,
          35,
          37,
          39,
          41,
          44,
          46,
          49,
          50,
          58
         ],
         "xaxis": "x",
         "y": [
          4.467531504818382,
          4.609191994069679,
          4.750852483320976,
          4.892512972572274,
          5.034173461823571,
          5.246664195700518,
          5.388324684951815,
          5.600815418828761,
          5.6716456634544095,
          6.238287620459599
         ],
         "yaxis": "y"
        }
       ],
       "layout": {
        "font": {
         "family": "Courier New, monospace",
         "size": 16
        },
        "legend": {
         "title": {
          "text": "Diet_Type"
         },
         "tracegroupgap": 0
        },
        "showlegend": false,
        "template": {
         "data": {
          "bar": [
           {
            "error_x": {
             "color": "#f2f5fa"
            },
            "error_y": {
             "color": "#f2f5fa"
            },
            "marker": {
             "line": {
              "color": "rgb(17,17,17)",
              "width": 0.5
             },
             "pattern": {
              "fillmode": "overlay",
              "size": 10,
              "solidity": 0.2
             }
            },
            "type": "bar"
           }
          ],
          "barpolar": [
           {
            "marker": {
             "line": {
              "color": "rgb(17,17,17)",
              "width": 0.5
             },
             "pattern": {
              "fillmode": "overlay",
              "size": 10,
              "solidity": 0.2
             }
            },
            "type": "barpolar"
           }
          ],
          "carpet": [
           {
            "aaxis": {
             "endlinecolor": "#A2B1C6",
             "gridcolor": "#506784",
             "linecolor": "#506784",
             "minorgridcolor": "#506784",
             "startlinecolor": "#A2B1C6"
            },
            "baxis": {
             "endlinecolor": "#A2B1C6",
             "gridcolor": "#506784",
             "linecolor": "#506784",
             "minorgridcolor": "#506784",
             "startlinecolor": "#A2B1C6"
            },
            "type": "carpet"
           }
          ],
          "choropleth": [
           {
            "colorbar": {
             "outlinewidth": 0,
             "ticks": ""
            },
            "type": "choropleth"
           }
          ],
          "contour": [
           {
            "colorbar": {
             "outlinewidth": 0,
             "ticks": ""
            },
            "colorscale": [
             [
              0,
              "#0d0887"
             ],
             [
              0.1111111111111111,
              "#46039f"
             ],
             [
              0.2222222222222222,
              "#7201a8"
             ],
             [
              0.3333333333333333,
              "#9c179e"
             ],
             [
              0.4444444444444444,
              "#bd3786"
             ],
             [
              0.5555555555555556,
              "#d8576b"
             ],
             [
              0.6666666666666666,
              "#ed7953"
             ],
             [
              0.7777777777777778,
              "#fb9f3a"
             ],
             [
              0.8888888888888888,
              "#fdca26"
             ],
             [
              1,
              "#f0f921"
             ]
            ],
            "type": "contour"
           }
          ],
          "contourcarpet": [
           {
            "colorbar": {
             "outlinewidth": 0,
             "ticks": ""
            },
            "type": "contourcarpet"
           }
          ],
          "heatmap": [
           {
            "colorbar": {
             "outlinewidth": 0,
             "ticks": ""
            },
            "colorscale": [
             [
              0,
              "#0d0887"
             ],
             [
              0.1111111111111111,
              "#46039f"
             ],
             [
              0.2222222222222222,
              "#7201a8"
             ],
             [
              0.3333333333333333,
              "#9c179e"
             ],
             [
              0.4444444444444444,
              "#bd3786"
             ],
             [
              0.5555555555555556,
              "#d8576b"
             ],
             [
              0.6666666666666666,
              "#ed7953"
             ],
             [
              0.7777777777777778,
              "#fb9f3a"
             ],
             [
              0.8888888888888888,
              "#fdca26"
             ],
             [
              1,
              "#f0f921"
             ]
            ],
            "type": "heatmap"
           }
          ],
          "heatmapgl": [
           {
            "colorbar": {
             "outlinewidth": 0,
             "ticks": ""
            },
            "colorscale": [
             [
              0,
              "#0d0887"
             ],
             [
              0.1111111111111111,
              "#46039f"
             ],
             [
              0.2222222222222222,
              "#7201a8"
             ],
             [
              0.3333333333333333,
              "#9c179e"
             ],
             [
              0.4444444444444444,
              "#bd3786"
             ],
             [
              0.5555555555555556,
              "#d8576b"
             ],
             [
              0.6666666666666666,
              "#ed7953"
             ],
             [
              0.7777777777777778,
              "#fb9f3a"
             ],
             [
              0.8888888888888888,
              "#fdca26"
             ],
             [
              1,
              "#f0f921"
             ]
            ],
            "type": "heatmapgl"
           }
          ],
          "histogram": [
           {
            "marker": {
             "pattern": {
              "fillmode": "overlay",
              "size": 10,
              "solidity": 0.2
             }
            },
            "type": "histogram"
           }
          ],
          "histogram2d": [
           {
            "colorbar": {
             "outlinewidth": 0,
             "ticks": ""
            },
            "colorscale": [
             [
              0,
              "#0d0887"
             ],
             [
              0.1111111111111111,
              "#46039f"
             ],
             [
              0.2222222222222222,
              "#7201a8"
             ],
             [
              0.3333333333333333,
              "#9c179e"
             ],
             [
              0.4444444444444444,
              "#bd3786"
             ],
             [
              0.5555555555555556,
              "#d8576b"
             ],
             [
              0.6666666666666666,
              "#ed7953"
             ],
             [
              0.7777777777777778,
              "#fb9f3a"
             ],
             [
              0.8888888888888888,
              "#fdca26"
             ],
             [
              1,
              "#f0f921"
             ]
            ],
            "type": "histogram2d"
           }
          ],
          "histogram2dcontour": [
           {
            "colorbar": {
             "outlinewidth": 0,
             "ticks": ""
            },
            "colorscale": [
             [
              0,
              "#0d0887"
             ],
             [
              0.1111111111111111,
              "#46039f"
             ],
             [
              0.2222222222222222,
              "#7201a8"
             ],
             [
              0.3333333333333333,
              "#9c179e"
             ],
             [
              0.4444444444444444,
              "#bd3786"
             ],
             [
              0.5555555555555556,
              "#d8576b"
             ],
             [
              0.6666666666666666,
              "#ed7953"
             ],
             [
              0.7777777777777778,
              "#fb9f3a"
             ],
             [
              0.8888888888888888,
              "#fdca26"
             ],
             [
              1,
              "#f0f921"
             ]
            ],
            "type": "histogram2dcontour"
           }
          ],
          "mesh3d": [
           {
            "colorbar": {
             "outlinewidth": 0,
             "ticks": ""
            },
            "type": "mesh3d"
           }
          ],
          "parcoords": [
           {
            "line": {
             "colorbar": {
              "outlinewidth": 0,
              "ticks": ""
             }
            },
            "type": "parcoords"
           }
          ],
          "pie": [
           {
            "automargin": true,
            "type": "pie"
           }
          ],
          "scatter": [
           {
            "marker": {
             "line": {
              "color": "#283442"
             }
            },
            "type": "scatter"
           }
          ],
          "scatter3d": [
           {
            "line": {
             "colorbar": {
              "outlinewidth": 0,
              "ticks": ""
             }
            },
            "marker": {
             "colorbar": {
              "outlinewidth": 0,
              "ticks": ""
             }
            },
            "type": "scatter3d"
           }
          ],
          "scattercarpet": [
           {
            "marker": {
             "colorbar": {
              "outlinewidth": 0,
              "ticks": ""
             }
            },
            "type": "scattercarpet"
           }
          ],
          "scattergeo": [
           {
            "marker": {
             "colorbar": {
              "outlinewidth": 0,
              "ticks": ""
             }
            },
            "type": "scattergeo"
           }
          ],
          "scattergl": [
           {
            "marker": {
             "line": {
              "color": "#283442"
             }
            },
            "type": "scattergl"
           }
          ],
          "scattermapbox": [
           {
            "marker": {
             "colorbar": {
              "outlinewidth": 0,
              "ticks": ""
             }
            },
            "type": "scattermapbox"
           }
          ],
          "scatterpolar": [
           {
            "marker": {
             "colorbar": {
              "outlinewidth": 0,
              "ticks": ""
             }
            },
            "type": "scatterpolar"
           }
          ],
          "scatterpolargl": [
           {
            "marker": {
             "colorbar": {
              "outlinewidth": 0,
              "ticks": ""
             }
            },
            "type": "scatterpolargl"
           }
          ],
          "scatterternary": [
           {
            "marker": {
             "colorbar": {
              "outlinewidth": 0,
              "ticks": ""
             }
            },
            "type": "scatterternary"
           }
          ],
          "surface": [
           {
            "colorbar": {
             "outlinewidth": 0,
             "ticks": ""
            },
            "colorscale": [
             [
              0,
              "#0d0887"
             ],
             [
              0.1111111111111111,
              "#46039f"
             ],
             [
              0.2222222222222222,
              "#7201a8"
             ],
             [
              0.3333333333333333,
              "#9c179e"
             ],
             [
              0.4444444444444444,
              "#bd3786"
             ],
             [
              0.5555555555555556,
              "#d8576b"
             ],
             [
              0.6666666666666666,
              "#ed7953"
             ],
             [
              0.7777777777777778,
              "#fb9f3a"
             ],
             [
              0.8888888888888888,
              "#fdca26"
             ],
             [
              1,
              "#f0f921"
             ]
            ],
            "type": "surface"
           }
          ],
          "table": [
           {
            "cells": {
             "fill": {
              "color": "#506784"
             },
             "line": {
              "color": "rgb(17,17,17)"
             }
            },
            "header": {
             "fill": {
              "color": "#2a3f5f"
             },
             "line": {
              "color": "rgb(17,17,17)"
             }
            },
            "type": "table"
           }
          ]
         },
         "layout": {
          "annotationdefaults": {
           "arrowcolor": "#f2f5fa",
           "arrowhead": 0,
           "arrowwidth": 1
          },
          "autotypenumbers": "strict",
          "coloraxis": {
           "colorbar": {
            "outlinewidth": 0,
            "ticks": ""
           }
          },
          "colorscale": {
           "diverging": [
            [
             0,
             "#8e0152"
            ],
            [
             0.1,
             "#c51b7d"
            ],
            [
             0.2,
             "#de77ae"
            ],
            [
             0.3,
             "#f1b6da"
            ],
            [
             0.4,
             "#fde0ef"
            ],
            [
             0.5,
             "#f7f7f7"
            ],
            [
             0.6,
             "#e6f5d0"
            ],
            [
             0.7,
             "#b8e186"
            ],
            [
             0.8,
             "#7fbc41"
            ],
            [
             0.9,
             "#4d9221"
            ],
            [
             1,
             "#276419"
            ]
           ],
           "sequential": [
            [
             0,
             "#0d0887"
            ],
            [
             0.1111111111111111,
             "#46039f"
            ],
            [
             0.2222222222222222,
             "#7201a8"
            ],
            [
             0.3333333333333333,
             "#9c179e"
            ],
            [
             0.4444444444444444,
             "#bd3786"
            ],
            [
             0.5555555555555556,
             "#d8576b"
            ],
            [
             0.6666666666666666,
             "#ed7953"
            ],
            [
             0.7777777777777778,
             "#fb9f3a"
            ],
            [
             0.8888888888888888,
             "#fdca26"
            ],
            [
             1,
             "#f0f921"
            ]
           ],
           "sequentialminus": [
            [
             0,
             "#0d0887"
            ],
            [
             0.1111111111111111,
             "#46039f"
            ],
            [
             0.2222222222222222,
             "#7201a8"
            ],
            [
             0.3333333333333333,
             "#9c179e"
            ],
            [
             0.4444444444444444,
             "#bd3786"
            ],
            [
             0.5555555555555556,
             "#d8576b"
            ],
            [
             0.6666666666666666,
             "#ed7953"
            ],
            [
             0.7777777777777778,
             "#fb9f3a"
            ],
            [
             0.8888888888888888,
             "#fdca26"
            ],
            [
             1,
             "#f0f921"
            ]
           ]
          },
          "colorway": [
           "#636efa",
           "#EF553B",
           "#00cc96",
           "#ab63fa",
           "#FFA15A",
           "#19d3f3",
           "#FF6692",
           "#B6E880",
           "#FF97FF",
           "#FECB52"
          ],
          "font": {
           "color": "#f2f5fa"
          },
          "geo": {
           "bgcolor": "rgb(17,17,17)",
           "lakecolor": "rgb(17,17,17)",
           "landcolor": "rgb(17,17,17)",
           "showlakes": true,
           "showland": true,
           "subunitcolor": "#506784"
          },
          "hoverlabel": {
           "align": "left"
          },
          "hovermode": "closest",
          "mapbox": {
           "style": "dark"
          },
          "paper_bgcolor": "rgb(17,17,17)",
          "plot_bgcolor": "rgb(17,17,17)",
          "polar": {
           "angularaxis": {
            "gridcolor": "#506784",
            "linecolor": "#506784",
            "ticks": ""
           },
           "bgcolor": "rgb(17,17,17)",
           "radialaxis": {
            "gridcolor": "#506784",
            "linecolor": "#506784",
            "ticks": ""
           }
          },
          "scene": {
           "xaxis": {
            "backgroundcolor": "rgb(17,17,17)",
            "gridcolor": "#506784",
            "gridwidth": 2,
            "linecolor": "#506784",
            "showbackground": true,
            "ticks": "",
            "zerolinecolor": "#C8D4E3"
           },
           "yaxis": {
            "backgroundcolor": "rgb(17,17,17)",
            "gridcolor": "#506784",
            "gridwidth": 2,
            "linecolor": "#506784",
            "showbackground": true,
            "ticks": "",
            "zerolinecolor": "#C8D4E3"
           },
           "zaxis": {
            "backgroundcolor": "rgb(17,17,17)",
            "gridcolor": "#506784",
            "gridwidth": 2,
            "linecolor": "#506784",
            "showbackground": true,
            "ticks": "",
            "zerolinecolor": "#C8D4E3"
           }
          },
          "shapedefaults": {
           "line": {
            "color": "#f2f5fa"
           }
          },
          "sliderdefaults": {
           "bgcolor": "#C8D4E3",
           "bordercolor": "rgb(17,17,17)",
           "borderwidth": 1,
           "tickwidth": 0
          },
          "ternary": {
           "aaxis": {
            "gridcolor": "#506784",
            "linecolor": "#506784",
            "ticks": ""
           },
           "baxis": {
            "gridcolor": "#506784",
            "linecolor": "#506784",
            "ticks": ""
           },
           "bgcolor": "rgb(17,17,17)",
           "caxis": {
            "gridcolor": "#506784",
            "linecolor": "#506784",
            "ticks": ""
           }
          },
          "title": {
           "x": 0.05
          },
          "updatemenudefaults": {
           "bgcolor": "#506784",
           "borderwidth": 0
          },
          "xaxis": {
           "automargin": true,
           "gridcolor": "#283442",
           "linecolor": "#506784",
           "ticks": "",
           "title": {
            "standoff": 15
           },
           "zerolinecolor": "#283442",
           "zerolinewidth": 2
          },
          "yaxis": {
           "automargin": true,
           "gridcolor": "#283442",
           "linecolor": "#506784",
           "ticks": "",
           "title": {
            "standoff": 15
           },
           "zerolinecolor": "#283442",
           "zerolinewidth": 2
          }
         }
        },
        "title": {
         "font": {
          "family": "Courier New, monospace",
          "size": 24
         },
         "text": "INTERACTION PLOT:(AGE Vs DIET TYPE ON WEIGHT LOSS)",
         "x": 0.5,
         "xanchor": "center"
        },
        "xaxis": {
         "anchor": "y",
         "domain": [
          0,
          1
         ],
         "title": {
          "font": {
           "family": "Courier New, monospace",
           "size": 18
          },
          "text": "AGE(in years)"
         }
        },
        "yaxis": {
         "anchor": "x",
         "domain": [
          0,
          1
         ],
         "title": {
          "font": {
           "family": "Courier New, monospace",
           "size": 18
          },
          "text": "Weight Loss (Kgs)"
         }
        }
       }
      }
     },
     "metadata": {},
     "output_type": "display_data"
    }
   ],
   "source": [
    "## visualize \n",
    "## visualize  \n",
    "fig = px.scatter(\n",
    "    data, \n",
    "    x='Age',\n",
    "    y='Weight_Loss', \n",
    "    color='Diet_Type', \n",
    "    title='HOMOGENETITY OF REGRESSION SLOPES', \n",
    "    labels=dict(\n",
    "        Weight_Loss='Weight Loss (Kgs)',\n",
    "        Age='AGE(in years)'\n",
    "    ), \n",
    "    trendline='ols', \n",
    "    color_discrete_sequence=colors[:3]\n",
    ")\n",
    "\n",
    "fig.update_layout(\n",
    "    showlegend=False,\n",
    "    title={\n",
    "        'text': 'INTERACTION PLOT:(AGE Vs DIET TYPE ON WEIGHT LOSS)',\n",
    "        'x': 0.5,              # Centers the title\n",
    "        'xanchor': 'center',   # Anchors the title at the center\n",
    "        'font': {\n",
    "            'family': \"Courier New, monospace\",  # Font family for the title\n",
    "            'size': 24                           # Increased font size for the title\n",
    "        }\n",
    "    },\n",
    "    font=dict(\n",
    "        family=\"Courier New, monospace\",  # Sets the default font for all text in the figure\n",
    "        size=16                           # Default font size (adjust as needed)\n",
    "    ),\n",
    "    xaxis_title_font=dict(\n",
    "        family=\"Courier New, monospace\",  # Font family for the x-axis label\n",
    "        size=18                           # Font size for the x-axis label\n",
    "    ),\n",
    "    yaxis_title_font=dict(\n",
    "        family=\"Courier New, monospace\",  # Font family for the y-axis label\n",
    "        size=18                           # Font size for the y-axis label\n",
    "    )\n",
    ")\n",
    "\n",
    "fig.show()\n",
    "\n"
   ]
  },
  {
   "cell_type": "code",
   "execution_count": 24,
   "metadata": {},
   "outputs": [],
   "source": [
    "## formula  \n",
    "formula_11= 'Weight_Loss~Diet_Type*Age'\n",
    "## pass it to ols \n",
    "interaction_model = ols(formula_11,data=data).fit()"
   ]
  },
  {
   "cell_type": "code",
   "execution_count": 25,
   "metadata": {},
   "outputs": [
    {
     "data": {
      "text/html": [
       "<div>\n",
       "<style scoped>\n",
       "    .dataframe tbody tr th:only-of-type {\n",
       "        vertical-align: middle;\n",
       "    }\n",
       "\n",
       "    .dataframe tbody tr th {\n",
       "        vertical-align: top;\n",
       "    }\n",
       "\n",
       "    .dataframe thead th {\n",
       "        text-align: right;\n",
       "    }\n",
       "</style>\n",
       "<table border=\"1\" class=\"dataframe\">\n",
       "  <thead>\n",
       "    <tr style=\"text-align: right;\">\n",
       "      <th></th>\n",
       "      <th>df</th>\n",
       "      <th>sum_sq</th>\n",
       "      <th>mean_sq</th>\n",
       "      <th>F</th>\n",
       "      <th>PR(&gt;F)</th>\n",
       "    </tr>\n",
       "  </thead>\n",
       "  <tbody>\n",
       "    <tr>\n",
       "      <th>Diet_Type</th>\n",
       "      <td>2.0</td>\n",
       "      <td>3.100667</td>\n",
       "      <td>1.550333</td>\n",
       "      <td>12.815823</td>\n",
       "      <td>1.634673e-04</td>\n",
       "    </tr>\n",
       "    <tr>\n",
       "      <th>Age</th>\n",
       "      <td>1.0</td>\n",
       "      <td>11.716382</td>\n",
       "      <td>11.716382</td>\n",
       "      <td>96.853412</td>\n",
       "      <td>6.710570e-10</td>\n",
       "    </tr>\n",
       "    <tr>\n",
       "      <th>Diet_Type:Age</th>\n",
       "      <td>2.0</td>\n",
       "      <td>1.398332</td>\n",
       "      <td>0.699166</td>\n",
       "      <td>5.779653</td>\n",
       "      <td>8.935019e-03</td>\n",
       "    </tr>\n",
       "    <tr>\n",
       "      <th>Residual</th>\n",
       "      <td>24.0</td>\n",
       "      <td>2.903286</td>\n",
       "      <td>0.120970</td>\n",
       "      <td>NaN</td>\n",
       "      <td>NaN</td>\n",
       "    </tr>\n",
       "  </tbody>\n",
       "</table>\n",
       "</div>"
      ],
      "text/plain": [
       "                 df     sum_sq    mean_sq          F        PR(>F)\n",
       "Diet_Type       2.0   3.100667   1.550333  12.815823  1.634673e-04\n",
       "Age             1.0  11.716382  11.716382  96.853412  6.710570e-10\n",
       "Diet_Type:Age   2.0   1.398332   0.699166   5.779653  8.935019e-03\n",
       "Residual       24.0   2.903286   0.120970        NaN           NaN"
      ]
     },
     "execution_count": 25,
     "metadata": {},
     "output_type": "execute_result"
    }
   ],
   "source": [
    "## passing the interaction term with to ancova  \n",
    "anova_lm(interaction_model,type=3)"
   ]
  },
  {
   "cell_type": "code",
   "execution_count": 26,
   "metadata": {},
   "outputs": [],
   "source": [
    "## fitting the model  \n",
    "formula12 = 'Weight_Loss~Diet_Type+Age'\n",
    "## linear model   \n",
    "ols_model = ols(formula12,data=data).fit()"
   ]
  },
  {
   "cell_type": "code",
   "execution_count": 27,
   "metadata": {},
   "outputs": [],
   "source": [
    "## getting the estimates  \n",
    "data['residuals'] = ols_model.resid"
   ]
  },
  {
   "cell_type": "code",
   "execution_count": 28,
   "metadata": {},
   "outputs": [
    {
     "data": {
      "text/html": [
       "<div>\n",
       "<style scoped>\n",
       "    .dataframe tbody tr th:only-of-type {\n",
       "        vertical-align: middle;\n",
       "    }\n",
       "\n",
       "    .dataframe tbody tr th {\n",
       "        vertical-align: top;\n",
       "    }\n",
       "\n",
       "    .dataframe thead th {\n",
       "        text-align: right;\n",
       "    }\n",
       "</style>\n",
       "<table border=\"1\" class=\"dataframe\">\n",
       "  <thead>\n",
       "    <tr style=\"text-align: right;\">\n",
       "      <th></th>\n",
       "      <th>Diet_Type</th>\n",
       "      <th>Age</th>\n",
       "      <th>Weight_Loss</th>\n",
       "      <th>residuals</th>\n",
       "    </tr>\n",
       "  </thead>\n",
       "  <tbody>\n",
       "    <tr>\n",
       "      <th>0</th>\n",
       "      <td>Low-Carb</td>\n",
       "      <td>45</td>\n",
       "      <td>6.2</td>\n",
       "      <td>0.843168</td>\n",
       "    </tr>\n",
       "    <tr>\n",
       "      <th>1</th>\n",
       "      <td>Low-Carb</td>\n",
       "      <td>51</td>\n",
       "      <td>5.8</td>\n",
       "      <td>-0.014682</td>\n",
       "    </tr>\n",
       "    <tr>\n",
       "      <th>2</th>\n",
       "      <td>Low-Carb</td>\n",
       "      <td>37</td>\n",
       "      <td>4.3</td>\n",
       "      <td>-0.446365</td>\n",
       "    </tr>\n",
       "    <tr>\n",
       "      <th>3</th>\n",
       "      <td>Low-Carb</td>\n",
       "      <td>29</td>\n",
       "      <td>3.9</td>\n",
       "      <td>-0.235898</td>\n",
       "    </tr>\n",
       "    <tr>\n",
       "      <th>4</th>\n",
       "      <td>Low-Carb</td>\n",
       "      <td>60</td>\n",
       "      <td>7.1</td>\n",
       "      <td>0.598543</td>\n",
       "    </tr>\n",
       "  </tbody>\n",
       "</table>\n",
       "</div>"
      ],
      "text/plain": [
       "  Diet_Type  Age  Weight_Loss  residuals\n",
       "0  Low-Carb   45          6.2   0.843168\n",
       "1  Low-Carb   51          5.8  -0.014682\n",
       "2  Low-Carb   37          4.3  -0.446365\n",
       "3  Low-Carb   29          3.9  -0.235898\n",
       "4  Low-Carb   60          7.1   0.598543"
      ]
     },
     "execution_count": 28,
     "metadata": {},
     "output_type": "execute_result"
    }
   ],
   "source": [
    "## printing the data   \n",
    "data.head()"
   ]
  },
  {
   "cell_type": "code",
   "execution_count": 29,
   "metadata": {},
   "outputs": [
    {
     "data": {
      "application/vnd.plotly.v1+json": {
       "config": {
        "plotlyServerURL": "https://plot.ly"
       },
       "data": [
        {
         "alignmentgroup": "True",
         "bingroup": "x",
         "hovertemplate": "residuals=%{x}<br>count=%{y}<extra></extra>",
         "legendgroup": "",
         "marker": {
          "color": "#636efa",
          "pattern": {
           "shape": ""
          }
         },
         "name": "",
         "nbinsx": 20,
         "offsetgroup": "",
         "orientation": "v",
         "showlegend": false,
         "type": "histogram",
         "x": [
          0.843168331593863,
          -0.014681675861035082,
          -0.44636499179960776,
          -0.23589831519307802,
          0.59854331295662,
          -0.5174399880721587,
          -0.08575667213358606,
          -0.2989816609512399,
          0.10900998956315,
          0.048401669897126354,
          0.8186491725063405,
          -0.4392008349485561,
          -0.19705084240345272,
          -0.09980915461457762,
          0.2318741613239954,
          -0.9785925152825339,
          0.3134158342030764,
          0.071265841657973,
          0.3054241836886864,
          -0.02597584613090209,
          0.47787833606680064,
          0.1357283435216985,
          -0.10366333681228035,
          -0.11936335172207446,
          0.1304950052184335,
          -0.1116549873266699,
          -0.10889667511554535,
          -0.35104666766064785,
          -0.1168883256299349,
          0.1674116594602708
         ],
         "xaxis": "x",
         "yaxis": "y"
        }
       ],
       "layout": {
        "barmode": "relative",
        "legend": {
         "tracegroupgap": 0
        },
        "template": {
         "data": {
          "bar": [
           {
            "error_x": {
             "color": "#f2f5fa"
            },
            "error_y": {
             "color": "#f2f5fa"
            },
            "marker": {
             "line": {
              "color": "rgb(17,17,17)",
              "width": 0.5
             },
             "pattern": {
              "fillmode": "overlay",
              "size": 10,
              "solidity": 0.2
             }
            },
            "type": "bar"
           }
          ],
          "barpolar": [
           {
            "marker": {
             "line": {
              "color": "rgb(17,17,17)",
              "width": 0.5
             },
             "pattern": {
              "fillmode": "overlay",
              "size": 10,
              "solidity": 0.2
             }
            },
            "type": "barpolar"
           }
          ],
          "carpet": [
           {
            "aaxis": {
             "endlinecolor": "#A2B1C6",
             "gridcolor": "#506784",
             "linecolor": "#506784",
             "minorgridcolor": "#506784",
             "startlinecolor": "#A2B1C6"
            },
            "baxis": {
             "endlinecolor": "#A2B1C6",
             "gridcolor": "#506784",
             "linecolor": "#506784",
             "minorgridcolor": "#506784",
             "startlinecolor": "#A2B1C6"
            },
            "type": "carpet"
           }
          ],
          "choropleth": [
           {
            "colorbar": {
             "outlinewidth": 0,
             "ticks": ""
            },
            "type": "choropleth"
           }
          ],
          "contour": [
           {
            "colorbar": {
             "outlinewidth": 0,
             "ticks": ""
            },
            "colorscale": [
             [
              0,
              "#0d0887"
             ],
             [
              0.1111111111111111,
              "#46039f"
             ],
             [
              0.2222222222222222,
              "#7201a8"
             ],
             [
              0.3333333333333333,
              "#9c179e"
             ],
             [
              0.4444444444444444,
              "#bd3786"
             ],
             [
              0.5555555555555556,
              "#d8576b"
             ],
             [
              0.6666666666666666,
              "#ed7953"
             ],
             [
              0.7777777777777778,
              "#fb9f3a"
             ],
             [
              0.8888888888888888,
              "#fdca26"
             ],
             [
              1,
              "#f0f921"
             ]
            ],
            "type": "contour"
           }
          ],
          "contourcarpet": [
           {
            "colorbar": {
             "outlinewidth": 0,
             "ticks": ""
            },
            "type": "contourcarpet"
           }
          ],
          "heatmap": [
           {
            "colorbar": {
             "outlinewidth": 0,
             "ticks": ""
            },
            "colorscale": [
             [
              0,
              "#0d0887"
             ],
             [
              0.1111111111111111,
              "#46039f"
             ],
             [
              0.2222222222222222,
              "#7201a8"
             ],
             [
              0.3333333333333333,
              "#9c179e"
             ],
             [
              0.4444444444444444,
              "#bd3786"
             ],
             [
              0.5555555555555556,
              "#d8576b"
             ],
             [
              0.6666666666666666,
              "#ed7953"
             ],
             [
              0.7777777777777778,
              "#fb9f3a"
             ],
             [
              0.8888888888888888,
              "#fdca26"
             ],
             [
              1,
              "#f0f921"
             ]
            ],
            "type": "heatmap"
           }
          ],
          "heatmapgl": [
           {
            "colorbar": {
             "outlinewidth": 0,
             "ticks": ""
            },
            "colorscale": [
             [
              0,
              "#0d0887"
             ],
             [
              0.1111111111111111,
              "#46039f"
             ],
             [
              0.2222222222222222,
              "#7201a8"
             ],
             [
              0.3333333333333333,
              "#9c179e"
             ],
             [
              0.4444444444444444,
              "#bd3786"
             ],
             [
              0.5555555555555556,
              "#d8576b"
             ],
             [
              0.6666666666666666,
              "#ed7953"
             ],
             [
              0.7777777777777778,
              "#fb9f3a"
             ],
             [
              0.8888888888888888,
              "#fdca26"
             ],
             [
              1,
              "#f0f921"
             ]
            ],
            "type": "heatmapgl"
           }
          ],
          "histogram": [
           {
            "marker": {
             "pattern": {
              "fillmode": "overlay",
              "size": 10,
              "solidity": 0.2
             }
            },
            "type": "histogram"
           }
          ],
          "histogram2d": [
           {
            "colorbar": {
             "outlinewidth": 0,
             "ticks": ""
            },
            "colorscale": [
             [
              0,
              "#0d0887"
             ],
             [
              0.1111111111111111,
              "#46039f"
             ],
             [
              0.2222222222222222,
              "#7201a8"
             ],
             [
              0.3333333333333333,
              "#9c179e"
             ],
             [
              0.4444444444444444,
              "#bd3786"
             ],
             [
              0.5555555555555556,
              "#d8576b"
             ],
             [
              0.6666666666666666,
              "#ed7953"
             ],
             [
              0.7777777777777778,
              "#fb9f3a"
             ],
             [
              0.8888888888888888,
              "#fdca26"
             ],
             [
              1,
              "#f0f921"
             ]
            ],
            "type": "histogram2d"
           }
          ],
          "histogram2dcontour": [
           {
            "colorbar": {
             "outlinewidth": 0,
             "ticks": ""
            },
            "colorscale": [
             [
              0,
              "#0d0887"
             ],
             [
              0.1111111111111111,
              "#46039f"
             ],
             [
              0.2222222222222222,
              "#7201a8"
             ],
             [
              0.3333333333333333,
              "#9c179e"
             ],
             [
              0.4444444444444444,
              "#bd3786"
             ],
             [
              0.5555555555555556,
              "#d8576b"
             ],
             [
              0.6666666666666666,
              "#ed7953"
             ],
             [
              0.7777777777777778,
              "#fb9f3a"
             ],
             [
              0.8888888888888888,
              "#fdca26"
             ],
             [
              1,
              "#f0f921"
             ]
            ],
            "type": "histogram2dcontour"
           }
          ],
          "mesh3d": [
           {
            "colorbar": {
             "outlinewidth": 0,
             "ticks": ""
            },
            "type": "mesh3d"
           }
          ],
          "parcoords": [
           {
            "line": {
             "colorbar": {
              "outlinewidth": 0,
              "ticks": ""
             }
            },
            "type": "parcoords"
           }
          ],
          "pie": [
           {
            "automargin": true,
            "type": "pie"
           }
          ],
          "scatter": [
           {
            "marker": {
             "line": {
              "color": "#283442"
             }
            },
            "type": "scatter"
           }
          ],
          "scatter3d": [
           {
            "line": {
             "colorbar": {
              "outlinewidth": 0,
              "ticks": ""
             }
            },
            "marker": {
             "colorbar": {
              "outlinewidth": 0,
              "ticks": ""
             }
            },
            "type": "scatter3d"
           }
          ],
          "scattercarpet": [
           {
            "marker": {
             "colorbar": {
              "outlinewidth": 0,
              "ticks": ""
             }
            },
            "type": "scattercarpet"
           }
          ],
          "scattergeo": [
           {
            "marker": {
             "colorbar": {
              "outlinewidth": 0,
              "ticks": ""
             }
            },
            "type": "scattergeo"
           }
          ],
          "scattergl": [
           {
            "marker": {
             "line": {
              "color": "#283442"
             }
            },
            "type": "scattergl"
           }
          ],
          "scattermapbox": [
           {
            "marker": {
             "colorbar": {
              "outlinewidth": 0,
              "ticks": ""
             }
            },
            "type": "scattermapbox"
           }
          ],
          "scatterpolar": [
           {
            "marker": {
             "colorbar": {
              "outlinewidth": 0,
              "ticks": ""
             }
            },
            "type": "scatterpolar"
           }
          ],
          "scatterpolargl": [
           {
            "marker": {
             "colorbar": {
              "outlinewidth": 0,
              "ticks": ""
             }
            },
            "type": "scatterpolargl"
           }
          ],
          "scatterternary": [
           {
            "marker": {
             "colorbar": {
              "outlinewidth": 0,
              "ticks": ""
             }
            },
            "type": "scatterternary"
           }
          ],
          "surface": [
           {
            "colorbar": {
             "outlinewidth": 0,
             "ticks": ""
            },
            "colorscale": [
             [
              0,
              "#0d0887"
             ],
             [
              0.1111111111111111,
              "#46039f"
             ],
             [
              0.2222222222222222,
              "#7201a8"
             ],
             [
              0.3333333333333333,
              "#9c179e"
             ],
             [
              0.4444444444444444,
              "#bd3786"
             ],
             [
              0.5555555555555556,
              "#d8576b"
             ],
             [
              0.6666666666666666,
              "#ed7953"
             ],
             [
              0.7777777777777778,
              "#fb9f3a"
             ],
             [
              0.8888888888888888,
              "#fdca26"
             ],
             [
              1,
              "#f0f921"
             ]
            ],
            "type": "surface"
           }
          ],
          "table": [
           {
            "cells": {
             "fill": {
              "color": "#506784"
             },
             "line": {
              "color": "rgb(17,17,17)"
             }
            },
            "header": {
             "fill": {
              "color": "#2a3f5f"
             },
             "line": {
              "color": "rgb(17,17,17)"
             }
            },
            "type": "table"
           }
          ]
         },
         "layout": {
          "annotationdefaults": {
           "arrowcolor": "#f2f5fa",
           "arrowhead": 0,
           "arrowwidth": 1
          },
          "autotypenumbers": "strict",
          "coloraxis": {
           "colorbar": {
            "outlinewidth": 0,
            "ticks": ""
           }
          },
          "colorscale": {
           "diverging": [
            [
             0,
             "#8e0152"
            ],
            [
             0.1,
             "#c51b7d"
            ],
            [
             0.2,
             "#de77ae"
            ],
            [
             0.3,
             "#f1b6da"
            ],
            [
             0.4,
             "#fde0ef"
            ],
            [
             0.5,
             "#f7f7f7"
            ],
            [
             0.6,
             "#e6f5d0"
            ],
            [
             0.7,
             "#b8e186"
            ],
            [
             0.8,
             "#7fbc41"
            ],
            [
             0.9,
             "#4d9221"
            ],
            [
             1,
             "#276419"
            ]
           ],
           "sequential": [
            [
             0,
             "#0d0887"
            ],
            [
             0.1111111111111111,
             "#46039f"
            ],
            [
             0.2222222222222222,
             "#7201a8"
            ],
            [
             0.3333333333333333,
             "#9c179e"
            ],
            [
             0.4444444444444444,
             "#bd3786"
            ],
            [
             0.5555555555555556,
             "#d8576b"
            ],
            [
             0.6666666666666666,
             "#ed7953"
            ],
            [
             0.7777777777777778,
             "#fb9f3a"
            ],
            [
             0.8888888888888888,
             "#fdca26"
            ],
            [
             1,
             "#f0f921"
            ]
           ],
           "sequentialminus": [
            [
             0,
             "#0d0887"
            ],
            [
             0.1111111111111111,
             "#46039f"
            ],
            [
             0.2222222222222222,
             "#7201a8"
            ],
            [
             0.3333333333333333,
             "#9c179e"
            ],
            [
             0.4444444444444444,
             "#bd3786"
            ],
            [
             0.5555555555555556,
             "#d8576b"
            ],
            [
             0.6666666666666666,
             "#ed7953"
            ],
            [
             0.7777777777777778,
             "#fb9f3a"
            ],
            [
             0.8888888888888888,
             "#fdca26"
            ],
            [
             1,
             "#f0f921"
            ]
           ]
          },
          "colorway": [
           "#636efa",
           "#EF553B",
           "#00cc96",
           "#ab63fa",
           "#FFA15A",
           "#19d3f3",
           "#FF6692",
           "#B6E880",
           "#FF97FF",
           "#FECB52"
          ],
          "font": {
           "color": "#f2f5fa"
          },
          "geo": {
           "bgcolor": "rgb(17,17,17)",
           "lakecolor": "rgb(17,17,17)",
           "landcolor": "rgb(17,17,17)",
           "showlakes": true,
           "showland": true,
           "subunitcolor": "#506784"
          },
          "hoverlabel": {
           "align": "left"
          },
          "hovermode": "closest",
          "mapbox": {
           "style": "dark"
          },
          "paper_bgcolor": "rgb(17,17,17)",
          "plot_bgcolor": "rgb(17,17,17)",
          "polar": {
           "angularaxis": {
            "gridcolor": "#506784",
            "linecolor": "#506784",
            "ticks": ""
           },
           "bgcolor": "rgb(17,17,17)",
           "radialaxis": {
            "gridcolor": "#506784",
            "linecolor": "#506784",
            "ticks": ""
           }
          },
          "scene": {
           "xaxis": {
            "backgroundcolor": "rgb(17,17,17)",
            "gridcolor": "#506784",
            "gridwidth": 2,
            "linecolor": "#506784",
            "showbackground": true,
            "ticks": "",
            "zerolinecolor": "#C8D4E3"
           },
           "yaxis": {
            "backgroundcolor": "rgb(17,17,17)",
            "gridcolor": "#506784",
            "gridwidth": 2,
            "linecolor": "#506784",
            "showbackground": true,
            "ticks": "",
            "zerolinecolor": "#C8D4E3"
           },
           "zaxis": {
            "backgroundcolor": "rgb(17,17,17)",
            "gridcolor": "#506784",
            "gridwidth": 2,
            "linecolor": "#506784",
            "showbackground": true,
            "ticks": "",
            "zerolinecolor": "#C8D4E3"
           }
          },
          "shapedefaults": {
           "line": {
            "color": "#f2f5fa"
           }
          },
          "sliderdefaults": {
           "bgcolor": "#C8D4E3",
           "bordercolor": "rgb(17,17,17)",
           "borderwidth": 1,
           "tickwidth": 0
          },
          "ternary": {
           "aaxis": {
            "gridcolor": "#506784",
            "linecolor": "#506784",
            "ticks": ""
           },
           "baxis": {
            "gridcolor": "#506784",
            "linecolor": "#506784",
            "ticks": ""
           },
           "bgcolor": "rgb(17,17,17)",
           "caxis": {
            "gridcolor": "#506784",
            "linecolor": "#506784",
            "ticks": ""
           }
          },
          "title": {
           "x": 0.05
          },
          "updatemenudefaults": {
           "bgcolor": "#506784",
           "borderwidth": 0
          },
          "xaxis": {
           "automargin": true,
           "gridcolor": "#283442",
           "linecolor": "#506784",
           "ticks": "",
           "title": {
            "standoff": 15
           },
           "zerolinecolor": "#283442",
           "zerolinewidth": 2
          },
          "yaxis": {
           "automargin": true,
           "gridcolor": "#283442",
           "linecolor": "#506784",
           "ticks": "",
           "title": {
            "standoff": 15
           },
           "zerolinecolor": "#283442",
           "zerolinewidth": 2
          }
         }
        },
        "title": {
         "text": "NORMALITY OF RESIDUALS"
        },
        "xaxis": {
         "anchor": "y",
         "domain": [
          0,
          1
         ],
         "title": {
          "text": "residuals"
         }
        },
        "yaxis": {
         "anchor": "x",
         "domain": [
          0,
          1
         ],
         "title": {
          "text": "count"
         }
        }
       }
      }
     },
     "metadata": {},
     "output_type": "display_data"
    }
   ],
   "source": [
    "## plotting the residuals  \n",
    "fig = px.histogram(data,  x='residuals',nbins=20,title='NORMALITY OF RESIDUALS')\n",
    "fig.show()"
   ]
  },
  {
   "cell_type": "code",
   "execution_count": 30,
   "metadata": {},
   "outputs": [
    {
     "data": {
      "text/plain": [
       "ShapiroResult(statistic=0.9662001157274204, pvalue=0.44107668638872805)"
      ]
     },
     "execution_count": 30,
     "metadata": {},
     "output_type": "execute_result"
    }
   ],
   "source": [
    "## checking the assumption   \n",
    "stats.shapiro(data['residuals'])"
   ]
  },
  {
   "cell_type": "markdown",
   "metadata": {},
   "source": [
    "* HOMOGENEITY OF THE RESIDUALS"
   ]
  },
  {
   "cell_type": "code",
   "execution_count": 31,
   "metadata": {},
   "outputs": [
    {
     "data": {
      "text/plain": [
       "['Low-Carb', 'Low-Fat', 'Mediterranean']\n",
       "Categories (3, object): ['Low-Fat', 'Low-Carb', 'Mediterranean']"
      ]
     },
     "execution_count": 31,
     "metadata": {},
     "output_type": "execute_result"
    }
   ],
   "source": [
    "data['Diet_Type'].unique()"
   ]
  },
  {
   "cell_type": "code",
   "execution_count": 32,
   "metadata": {},
   "outputs": [
    {
     "data": {
      "text/plain": [
       "LeveneResult(statistic=1.3698827205035076, pvalue=0.271240190691828)"
      ]
     },
     "execution_count": 32,
     "metadata": {},
     "output_type": "execute_result"
    }
   ],
   "source": [
    "## assigniting residuals to each treatment level  \n",
    "residLowCarb= data.loc[data.Diet_Type=='Low-Carb','residuals'].to_list()\n",
    "reisdLowFat  = data.loc[data.Diet_Type=='Low-Fat','residuals'].to_list()\n",
    "Mediterranean = data.loc[data.Diet_Type=='Mediterranean','residuals'].to_list()\n",
    "## using the levenes test  \n",
    "stats.levene(residLowCarb , reisdLowFat,Mediterranean)"
   ]
  },
  {
   "cell_type": "code",
   "execution_count": 33,
   "metadata": {},
   "outputs": [
    {
     "data": {
      "application/vnd.plotly.v1+json": {
       "config": {
        "plotlyServerURL": "https://plot.ly"
       },
       "data": [
        {
         "alignmentgroup": "True",
         "hovertemplate": "GROUP DIET CATEGORY=%{x}<br>residuals=%{y}<extra></extra>",
         "legendgroup": "Low-Carb",
         "marker": {
          "color": "#3366CC"
         },
         "name": "Low-Carb",
         "notched": false,
         "offsetgroup": "Low-Carb",
         "orientation": "v",
         "showlegend": true,
         "type": "box",
         "x": [
          "Low-Carb",
          "Low-Carb",
          "Low-Carb",
          "Low-Carb",
          "Low-Carb",
          "Low-Carb",
          "Low-Carb",
          "Low-Carb",
          "Low-Carb",
          "Low-Carb"
         ],
         "x0": " ",
         "xaxis": "x",
         "y": [
          0.843168331593863,
          -0.014681675861035082,
          -0.44636499179960776,
          -0.23589831519307802,
          0.59854331295662,
          -0.5174399880721587,
          -0.08575667213358606,
          -0.2989816609512399,
          0.10900998956315,
          0.048401669897126354
         ],
         "y0": " ",
         "yaxis": "y"
        },
        {
         "alignmentgroup": "True",
         "hovertemplate": "GROUP DIET CATEGORY=%{x}<br>residuals=%{y}<extra></extra>",
         "legendgroup": "Low-Fat",
         "marker": {
          "color": "#DC3912"
         },
         "name": "Low-Fat",
         "notched": false,
         "offsetgroup": "Low-Fat",
         "orientation": "v",
         "showlegend": true,
         "type": "box",
         "x": [
          "Low-Fat",
          "Low-Fat",
          "Low-Fat",
          "Low-Fat",
          "Low-Fat",
          "Low-Fat",
          "Low-Fat",
          "Low-Fat",
          "Low-Fat",
          "Low-Fat"
         ],
         "x0": " ",
         "xaxis": "x",
         "y": [
          0.8186491725063405,
          -0.4392008349485561,
          -0.19705084240345272,
          -0.09980915461457762,
          0.2318741613239954,
          -0.9785925152825339,
          0.3134158342030764,
          0.071265841657973,
          0.3054241836886864,
          -0.02597584613090209
         ],
         "y0": " ",
         "yaxis": "y"
        },
        {
         "alignmentgroup": "True",
         "hovertemplate": "GROUP DIET CATEGORY=%{x}<br>residuals=%{y}<extra></extra>",
         "legendgroup": "Mediterranean",
         "marker": {
          "color": "#FF9900"
         },
         "name": "Mediterranean",
         "notched": false,
         "offsetgroup": "Mediterranean",
         "orientation": "v",
         "showlegend": true,
         "type": "box",
         "x": [
          "Mediterranean",
          "Mediterranean",
          "Mediterranean",
          "Mediterranean",
          "Mediterranean",
          "Mediterranean",
          "Mediterranean",
          "Mediterranean",
          "Mediterranean",
          "Mediterranean"
         ],
         "x0": " ",
         "xaxis": "x",
         "y": [
          0.47787833606680064,
          0.1357283435216985,
          -0.10366333681228035,
          -0.11936335172207446,
          0.1304950052184335,
          -0.1116549873266699,
          -0.10889667511554535,
          -0.35104666766064785,
          -0.1168883256299349,
          0.1674116594602708
         ],
         "y0": " ",
         "yaxis": "y"
        }
       ],
       "layout": {
        "boxmode": "overlay",
        "font": {
         "family": "Courier New, monospace",
         "size": 16
        },
        "legend": {
         "title": {
          "text": "GROUP DIET CATEGORY"
         },
         "tracegroupgap": 0
        },
        "showlegend": false,
        "template": {
         "data": {
          "bar": [
           {
            "error_x": {
             "color": "#f2f5fa"
            },
            "error_y": {
             "color": "#f2f5fa"
            },
            "marker": {
             "line": {
              "color": "rgb(17,17,17)",
              "width": 0.5
             },
             "pattern": {
              "fillmode": "overlay",
              "size": 10,
              "solidity": 0.2
             }
            },
            "type": "bar"
           }
          ],
          "barpolar": [
           {
            "marker": {
             "line": {
              "color": "rgb(17,17,17)",
              "width": 0.5
             },
             "pattern": {
              "fillmode": "overlay",
              "size": 10,
              "solidity": 0.2
             }
            },
            "type": "barpolar"
           }
          ],
          "carpet": [
           {
            "aaxis": {
             "endlinecolor": "#A2B1C6",
             "gridcolor": "#506784",
             "linecolor": "#506784",
             "minorgridcolor": "#506784",
             "startlinecolor": "#A2B1C6"
            },
            "baxis": {
             "endlinecolor": "#A2B1C6",
             "gridcolor": "#506784",
             "linecolor": "#506784",
             "minorgridcolor": "#506784",
             "startlinecolor": "#A2B1C6"
            },
            "type": "carpet"
           }
          ],
          "choropleth": [
           {
            "colorbar": {
             "outlinewidth": 0,
             "ticks": ""
            },
            "type": "choropleth"
           }
          ],
          "contour": [
           {
            "colorbar": {
             "outlinewidth": 0,
             "ticks": ""
            },
            "colorscale": [
             [
              0,
              "#0d0887"
             ],
             [
              0.1111111111111111,
              "#46039f"
             ],
             [
              0.2222222222222222,
              "#7201a8"
             ],
             [
              0.3333333333333333,
              "#9c179e"
             ],
             [
              0.4444444444444444,
              "#bd3786"
             ],
             [
              0.5555555555555556,
              "#d8576b"
             ],
             [
              0.6666666666666666,
              "#ed7953"
             ],
             [
              0.7777777777777778,
              "#fb9f3a"
             ],
             [
              0.8888888888888888,
              "#fdca26"
             ],
             [
              1,
              "#f0f921"
             ]
            ],
            "type": "contour"
           }
          ],
          "contourcarpet": [
           {
            "colorbar": {
             "outlinewidth": 0,
             "ticks": ""
            },
            "type": "contourcarpet"
           }
          ],
          "heatmap": [
           {
            "colorbar": {
             "outlinewidth": 0,
             "ticks": ""
            },
            "colorscale": [
             [
              0,
              "#0d0887"
             ],
             [
              0.1111111111111111,
              "#46039f"
             ],
             [
              0.2222222222222222,
              "#7201a8"
             ],
             [
              0.3333333333333333,
              "#9c179e"
             ],
             [
              0.4444444444444444,
              "#bd3786"
             ],
             [
              0.5555555555555556,
              "#d8576b"
             ],
             [
              0.6666666666666666,
              "#ed7953"
             ],
             [
              0.7777777777777778,
              "#fb9f3a"
             ],
             [
              0.8888888888888888,
              "#fdca26"
             ],
             [
              1,
              "#f0f921"
             ]
            ],
            "type": "heatmap"
           }
          ],
          "heatmapgl": [
           {
            "colorbar": {
             "outlinewidth": 0,
             "ticks": ""
            },
            "colorscale": [
             [
              0,
              "#0d0887"
             ],
             [
              0.1111111111111111,
              "#46039f"
             ],
             [
              0.2222222222222222,
              "#7201a8"
             ],
             [
              0.3333333333333333,
              "#9c179e"
             ],
             [
              0.4444444444444444,
              "#bd3786"
             ],
             [
              0.5555555555555556,
              "#d8576b"
             ],
             [
              0.6666666666666666,
              "#ed7953"
             ],
             [
              0.7777777777777778,
              "#fb9f3a"
             ],
             [
              0.8888888888888888,
              "#fdca26"
             ],
             [
              1,
              "#f0f921"
             ]
            ],
            "type": "heatmapgl"
           }
          ],
          "histogram": [
           {
            "marker": {
             "pattern": {
              "fillmode": "overlay",
              "size": 10,
              "solidity": 0.2
             }
            },
            "type": "histogram"
           }
          ],
          "histogram2d": [
           {
            "colorbar": {
             "outlinewidth": 0,
             "ticks": ""
            },
            "colorscale": [
             [
              0,
              "#0d0887"
             ],
             [
              0.1111111111111111,
              "#46039f"
             ],
             [
              0.2222222222222222,
              "#7201a8"
             ],
             [
              0.3333333333333333,
              "#9c179e"
             ],
             [
              0.4444444444444444,
              "#bd3786"
             ],
             [
              0.5555555555555556,
              "#d8576b"
             ],
             [
              0.6666666666666666,
              "#ed7953"
             ],
             [
              0.7777777777777778,
              "#fb9f3a"
             ],
             [
              0.8888888888888888,
              "#fdca26"
             ],
             [
              1,
              "#f0f921"
             ]
            ],
            "type": "histogram2d"
           }
          ],
          "histogram2dcontour": [
           {
            "colorbar": {
             "outlinewidth": 0,
             "ticks": ""
            },
            "colorscale": [
             [
              0,
              "#0d0887"
             ],
             [
              0.1111111111111111,
              "#46039f"
             ],
             [
              0.2222222222222222,
              "#7201a8"
             ],
             [
              0.3333333333333333,
              "#9c179e"
             ],
             [
              0.4444444444444444,
              "#bd3786"
             ],
             [
              0.5555555555555556,
              "#d8576b"
             ],
             [
              0.6666666666666666,
              "#ed7953"
             ],
             [
              0.7777777777777778,
              "#fb9f3a"
             ],
             [
              0.8888888888888888,
              "#fdca26"
             ],
             [
              1,
              "#f0f921"
             ]
            ],
            "type": "histogram2dcontour"
           }
          ],
          "mesh3d": [
           {
            "colorbar": {
             "outlinewidth": 0,
             "ticks": ""
            },
            "type": "mesh3d"
           }
          ],
          "parcoords": [
           {
            "line": {
             "colorbar": {
              "outlinewidth": 0,
              "ticks": ""
             }
            },
            "type": "parcoords"
           }
          ],
          "pie": [
           {
            "automargin": true,
            "type": "pie"
           }
          ],
          "scatter": [
           {
            "marker": {
             "line": {
              "color": "#283442"
             }
            },
            "type": "scatter"
           }
          ],
          "scatter3d": [
           {
            "line": {
             "colorbar": {
              "outlinewidth": 0,
              "ticks": ""
             }
            },
            "marker": {
             "colorbar": {
              "outlinewidth": 0,
              "ticks": ""
             }
            },
            "type": "scatter3d"
           }
          ],
          "scattercarpet": [
           {
            "marker": {
             "colorbar": {
              "outlinewidth": 0,
              "ticks": ""
             }
            },
            "type": "scattercarpet"
           }
          ],
          "scattergeo": [
           {
            "marker": {
             "colorbar": {
              "outlinewidth": 0,
              "ticks": ""
             }
            },
            "type": "scattergeo"
           }
          ],
          "scattergl": [
           {
            "marker": {
             "line": {
              "color": "#283442"
             }
            },
            "type": "scattergl"
           }
          ],
          "scattermapbox": [
           {
            "marker": {
             "colorbar": {
              "outlinewidth": 0,
              "ticks": ""
             }
            },
            "type": "scattermapbox"
           }
          ],
          "scatterpolar": [
           {
            "marker": {
             "colorbar": {
              "outlinewidth": 0,
              "ticks": ""
             }
            },
            "type": "scatterpolar"
           }
          ],
          "scatterpolargl": [
           {
            "marker": {
             "colorbar": {
              "outlinewidth": 0,
              "ticks": ""
             }
            },
            "type": "scatterpolargl"
           }
          ],
          "scatterternary": [
           {
            "marker": {
             "colorbar": {
              "outlinewidth": 0,
              "ticks": ""
             }
            },
            "type": "scatterternary"
           }
          ],
          "surface": [
           {
            "colorbar": {
             "outlinewidth": 0,
             "ticks": ""
            },
            "colorscale": [
             [
              0,
              "#0d0887"
             ],
             [
              0.1111111111111111,
              "#46039f"
             ],
             [
              0.2222222222222222,
              "#7201a8"
             ],
             [
              0.3333333333333333,
              "#9c179e"
             ],
             [
              0.4444444444444444,
              "#bd3786"
             ],
             [
              0.5555555555555556,
              "#d8576b"
             ],
             [
              0.6666666666666666,
              "#ed7953"
             ],
             [
              0.7777777777777778,
              "#fb9f3a"
             ],
             [
              0.8888888888888888,
              "#fdca26"
             ],
             [
              1,
              "#f0f921"
             ]
            ],
            "type": "surface"
           }
          ],
          "table": [
           {
            "cells": {
             "fill": {
              "color": "#506784"
             },
             "line": {
              "color": "rgb(17,17,17)"
             }
            },
            "header": {
             "fill": {
              "color": "#2a3f5f"
             },
             "line": {
              "color": "rgb(17,17,17)"
             }
            },
            "type": "table"
           }
          ]
         },
         "layout": {
          "annotationdefaults": {
           "arrowcolor": "#f2f5fa",
           "arrowhead": 0,
           "arrowwidth": 1
          },
          "autotypenumbers": "strict",
          "coloraxis": {
           "colorbar": {
            "outlinewidth": 0,
            "ticks": ""
           }
          },
          "colorscale": {
           "diverging": [
            [
             0,
             "#8e0152"
            ],
            [
             0.1,
             "#c51b7d"
            ],
            [
             0.2,
             "#de77ae"
            ],
            [
             0.3,
             "#f1b6da"
            ],
            [
             0.4,
             "#fde0ef"
            ],
            [
             0.5,
             "#f7f7f7"
            ],
            [
             0.6,
             "#e6f5d0"
            ],
            [
             0.7,
             "#b8e186"
            ],
            [
             0.8,
             "#7fbc41"
            ],
            [
             0.9,
             "#4d9221"
            ],
            [
             1,
             "#276419"
            ]
           ],
           "sequential": [
            [
             0,
             "#0d0887"
            ],
            [
             0.1111111111111111,
             "#46039f"
            ],
            [
             0.2222222222222222,
             "#7201a8"
            ],
            [
             0.3333333333333333,
             "#9c179e"
            ],
            [
             0.4444444444444444,
             "#bd3786"
            ],
            [
             0.5555555555555556,
             "#d8576b"
            ],
            [
             0.6666666666666666,
             "#ed7953"
            ],
            [
             0.7777777777777778,
             "#fb9f3a"
            ],
            [
             0.8888888888888888,
             "#fdca26"
            ],
            [
             1,
             "#f0f921"
            ]
           ],
           "sequentialminus": [
            [
             0,
             "#0d0887"
            ],
            [
             0.1111111111111111,
             "#46039f"
            ],
            [
             0.2222222222222222,
             "#7201a8"
            ],
            [
             0.3333333333333333,
             "#9c179e"
            ],
            [
             0.4444444444444444,
             "#bd3786"
            ],
            [
             0.5555555555555556,
             "#d8576b"
            ],
            [
             0.6666666666666666,
             "#ed7953"
            ],
            [
             0.7777777777777778,
             "#fb9f3a"
            ],
            [
             0.8888888888888888,
             "#fdca26"
            ],
            [
             1,
             "#f0f921"
            ]
           ]
          },
          "colorway": [
           "#636efa",
           "#EF553B",
           "#00cc96",
           "#ab63fa",
           "#FFA15A",
           "#19d3f3",
           "#FF6692",
           "#B6E880",
           "#FF97FF",
           "#FECB52"
          ],
          "font": {
           "color": "#f2f5fa"
          },
          "geo": {
           "bgcolor": "rgb(17,17,17)",
           "lakecolor": "rgb(17,17,17)",
           "landcolor": "rgb(17,17,17)",
           "showlakes": true,
           "showland": true,
           "subunitcolor": "#506784"
          },
          "hoverlabel": {
           "align": "left"
          },
          "hovermode": "closest",
          "mapbox": {
           "style": "dark"
          },
          "paper_bgcolor": "rgb(17,17,17)",
          "plot_bgcolor": "rgb(17,17,17)",
          "polar": {
           "angularaxis": {
            "gridcolor": "#506784",
            "linecolor": "#506784",
            "ticks": ""
           },
           "bgcolor": "rgb(17,17,17)",
           "radialaxis": {
            "gridcolor": "#506784",
            "linecolor": "#506784",
            "ticks": ""
           }
          },
          "scene": {
           "xaxis": {
            "backgroundcolor": "rgb(17,17,17)",
            "gridcolor": "#506784",
            "gridwidth": 2,
            "linecolor": "#506784",
            "showbackground": true,
            "ticks": "",
            "zerolinecolor": "#C8D4E3"
           },
           "yaxis": {
            "backgroundcolor": "rgb(17,17,17)",
            "gridcolor": "#506784",
            "gridwidth": 2,
            "linecolor": "#506784",
            "showbackground": true,
            "ticks": "",
            "zerolinecolor": "#C8D4E3"
           },
           "zaxis": {
            "backgroundcolor": "rgb(17,17,17)",
            "gridcolor": "#506784",
            "gridwidth": 2,
            "linecolor": "#506784",
            "showbackground": true,
            "ticks": "",
            "zerolinecolor": "#C8D4E3"
           }
          },
          "shapedefaults": {
           "line": {
            "color": "#f2f5fa"
           }
          },
          "sliderdefaults": {
           "bgcolor": "#C8D4E3",
           "bordercolor": "rgb(17,17,17)",
           "borderwidth": 1,
           "tickwidth": 0
          },
          "ternary": {
           "aaxis": {
            "gridcolor": "#506784",
            "linecolor": "#506784",
            "ticks": ""
           },
           "baxis": {
            "gridcolor": "#506784",
            "linecolor": "#506784",
            "ticks": ""
           },
           "bgcolor": "rgb(17,17,17)",
           "caxis": {
            "gridcolor": "#506784",
            "linecolor": "#506784",
            "ticks": ""
           }
          },
          "title": {
           "x": 0.05
          },
          "updatemenudefaults": {
           "bgcolor": "#506784",
           "borderwidth": 0
          },
          "xaxis": {
           "automargin": true,
           "gridcolor": "#283442",
           "linecolor": "#506784",
           "ticks": "",
           "title": {
            "standoff": 15
           },
           "zerolinecolor": "#283442",
           "zerolinewidth": 2
          },
          "yaxis": {
           "automargin": true,
           "gridcolor": "#283442",
           "linecolor": "#506784",
           "ticks": "",
           "title": {
            "standoff": 15
           },
           "zerolinecolor": "#283442",
           "zerolinewidth": 2
          }
         }
        },
        "title": {
         "font": {
          "family": "Courier New, monospace",
          "size": 24
         },
         "text": "HOMOGENETITY OF RESIDUALS",
         "x": 0.5,
         "xanchor": "center"
        },
        "xaxis": {
         "anchor": "y",
         "categoryarray": [
          "Low-Carb",
          "Low-Fat",
          "Mediterranean"
         ],
         "categoryorder": "array",
         "domain": [
          0,
          1
         ],
         "title": {
          "font": {
           "family": "Courier New, monospace",
           "size": 18
          },
          "text": "GROUP DIET CATEGORY"
         }
        },
        "yaxis": {
         "anchor": "x",
         "domain": [
          0,
          1
         ],
         "title": {
          "font": {
           "family": "Courier New, monospace",
           "size": 18
          },
          "text": "residuals"
         }
        }
       }
      }
     },
     "metadata": {},
     "output_type": "display_data"
    }
   ],
   "source": [
    "## visualize \n",
    "## visualize  \n",
    "fig = px.box(\n",
    "    data, \n",
    "    x='Diet_Type',\n",
    "    y='residuals', \n",
    "    color='Diet_Type', \n",
    "    title='HOMOGENETITY OF RESIDUALS', \n",
    "    labels=dict(\n",
    "        Diet_Type='GROUP DIET CATEGORY',\n",
    "        Age='AGE(in years)'\n",
    "    ), \n",
    "    color_discrete_sequence=colors[:3]\n",
    ")\n",
    "\n",
    "fig.update_layout(\n",
    "    showlegend=False,\n",
    "    title={\n",
    "        'text': 'HOMOGENETITY OF RESIDUALS',\n",
    "        'x': 0.5,              # Centers the title\n",
    "        'xanchor': 'center',   # Anchors the title at the center\n",
    "        'font': {\n",
    "            'family': \"Courier New, monospace\",  # Font family for the title\n",
    "            'size': 24                           # Increased font size for the title\n",
    "        }\n",
    "    },\n",
    "    font=dict(\n",
    "        family=\"Courier New, monospace\",  # Sets the default font for all text in the figure\n",
    "        size=16                           # Default font size (adjust as needed)\n",
    "    ),\n",
    "    xaxis_title_font=dict(\n",
    "        family=\"Courier New, monospace\",  # Font family for the x-axis label\n",
    "        size=18                           # Font size for the x-axis label\n",
    "    ),\n",
    "    yaxis_title_font=dict(\n",
    "        family=\"Courier New, monospace\",  # Font family for the y-axis label\n",
    "        size=18                           # Font size for the y-axis label\n",
    "    )\n",
    ")\n",
    "\n",
    "fig.show()\n",
    "\n"
   ]
  },
  {
   "cell_type": "markdown",
   "metadata": {},
   "source": [
    "*  Outliers"
   ]
  },
  {
   "cell_type": "code",
   "execution_count": 34,
   "metadata": {},
   "outputs": [
    {
     "data": {
      "text/plain": [
       "0"
      ]
     },
     "execution_count": 34,
     "metadata": {},
     "output_type": "execute_result"
    }
   ],
   "source": [
    "## ouutliers  \n",
    "np.sum(np.abs(ols_model.get_influence().resid_studentized_internal)>3)"
   ]
  },
  {
   "cell_type": "markdown",
   "metadata": {},
   "source": [
    "* Reseacrh Questions "
   ]
  },
  {
   "cell_type": "markdown",
   "metadata": {},
   "source": [
    "`1.`. At What age do diets differ significantly"
   ]
  },
  {
   "cell_type": "code",
   "execution_count": 35,
   "metadata": {},
   "outputs": [],
   "source": [
    "## creating thee model  \n",
    "model = ols('Weight_Loss~Diet_Type*Age',data=data).fit()"
   ]
  },
  {
   "cell_type": "code",
   "execution_count": 36,
   "metadata": {},
   "outputs": [
    {
     "data": {
      "text/html": [
       "<table class=\"simpletable\">\n",
       "<caption>OLS Regression Results</caption>\n",
       "<tr>\n",
       "  <th>Dep. Variable:</th>       <td>Weight_Loss</td>   <th>  R-squared:         </th> <td>   0.848</td>\n",
       "</tr>\n",
       "<tr>\n",
       "  <th>Model:</th>                   <td>OLS</td>       <th>  Adj. R-squared:    </th> <td>   0.817</td>\n",
       "</tr>\n",
       "<tr>\n",
       "  <th>Method:</th>             <td>Least Squares</td>  <th>  F-statistic:       </th> <td>   26.81</td>\n",
       "</tr>\n",
       "<tr>\n",
       "  <th>Date:</th>             <td>Sat, 08 Feb 2025</td> <th>  Prob (F-statistic):</th> <td>4.35e-09</td>\n",
       "</tr>\n",
       "<tr>\n",
       "  <th>Time:</th>                 <td>12:54:42</td>     <th>  Log-Likelihood:    </th> <td> -7.5378</td>\n",
       "</tr>\n",
       "<tr>\n",
       "  <th>No. Observations:</th>      <td>    30</td>      <th>  AIC:               </th> <td>   27.08</td>\n",
       "</tr>\n",
       "<tr>\n",
       "  <th>Df Residuals:</th>          <td>    24</td>      <th>  BIC:               </th> <td>   35.48</td>\n",
       "</tr>\n",
       "<tr>\n",
       "  <th>Df Model:</th>              <td>     5</td>      <th>                     </th>     <td> </td>   \n",
       "</tr>\n",
       "<tr>\n",
       "  <th>Covariance Type:</th>      <td>nonrobust</td>    <th>                     </th>     <td> </td>   \n",
       "</tr>\n",
       "</table>\n",
       "<table class=\"simpletable\">\n",
       "<tr>\n",
       "                 <td></td>                   <th>coef</th>     <th>std err</th>      <th>t</th>      <th>P>|t|</th>  <th>[0.025</th>    <th>0.975]</th>  \n",
       "</tr>\n",
       "<tr>\n",
       "  <th>Intercept</th>                      <td>    2.6050</td> <td>    0.580</td> <td>    4.491</td> <td> 0.000</td> <td>    1.408</td> <td>    3.802</td>\n",
       "</tr>\n",
       "<tr>\n",
       "  <th>Diet_Type[T.Low-Carb]</th>          <td>   -2.0044</td> <td>    0.799</td> <td>   -2.508</td> <td> 0.019</td> <td>   -3.654</td> <td>   -0.355</td>\n",
       "</tr>\n",
       "<tr>\n",
       "  <th>Diet_Type[T.Mediterranean]</th>     <td>   -0.4748</td> <td>    0.876</td> <td>   -0.542</td> <td> 0.593</td> <td>   -2.282</td> <td>    1.333</td>\n",
       "</tr>\n",
       "<tr>\n",
       "  <th>Age</th>                            <td>    0.0453</td> <td>    0.013</td> <td>    3.398</td> <td> 0.002</td> <td>    0.018</td> <td>    0.073</td>\n",
       "</tr>\n",
       "<tr>\n",
       "  <th>Diet_Type[T.Low-Carb]:Age</th>      <td>    0.0613</td> <td>    0.018</td> <td>    3.373</td> <td> 0.003</td> <td>    0.024</td> <td>    0.099</td>\n",
       "</tr>\n",
       "<tr>\n",
       "  <th>Diet_Type[T.Mediterranean]:Age</th> <td>    0.0255</td> <td>    0.020</td> <td>    1.272</td> <td> 0.215</td> <td>   -0.016</td> <td>    0.067</td>\n",
       "</tr>\n",
       "</table>\n",
       "<table class=\"simpletable\">\n",
       "<tr>\n",
       "  <th>Omnibus:</th>       <td> 3.259</td> <th>  Durbin-Watson:     </th> <td>   2.240</td>\n",
       "</tr>\n",
       "<tr>\n",
       "  <th>Prob(Omnibus):</th> <td> 0.196</td> <th>  Jarque-Bera (JB):  </th> <td>   2.170</td>\n",
       "</tr>\n",
       "<tr>\n",
       "  <th>Skew:</th>          <td> 0.649</td> <th>  Prob(JB):          </th> <td>   0.338</td>\n",
       "</tr>\n",
       "<tr>\n",
       "  <th>Kurtosis:</th>      <td> 3.230</td> <th>  Cond. No.          </th> <td>    876.</td>\n",
       "</tr>\n",
       "</table><br/><br/>Notes:<br/>[1] Standard Errors assume that the covariance matrix of the errors is correctly specified."
      ],
      "text/latex": [
       "\\begin{center}\n",
       "\\begin{tabular}{lclc}\n",
       "\\toprule\n",
       "\\textbf{Dep. Variable:}                  &   Weight\\_Loss   & \\textbf{  R-squared:         } &     0.848   \\\\\n",
       "\\textbf{Model:}                          &       OLS        & \\textbf{  Adj. R-squared:    } &     0.817   \\\\\n",
       "\\textbf{Method:}                         &  Least Squares   & \\textbf{  F-statistic:       } &     26.81   \\\\\n",
       "\\textbf{Date:}                           & Sat, 08 Feb 2025 & \\textbf{  Prob (F-statistic):} &  4.35e-09   \\\\\n",
       "\\textbf{Time:}                           &     12:54:42     & \\textbf{  Log-Likelihood:    } &   -7.5378   \\\\\n",
       "\\textbf{No. Observations:}               &          30      & \\textbf{  AIC:               } &     27.08   \\\\\n",
       "\\textbf{Df Residuals:}                   &          24      & \\textbf{  BIC:               } &     35.48   \\\\\n",
       "\\textbf{Df Model:}                       &           5      & \\textbf{                     } &             \\\\\n",
       "\\textbf{Covariance Type:}                &    nonrobust     & \\textbf{                     } &             \\\\\n",
       "\\bottomrule\n",
       "\\end{tabular}\n",
       "\\begin{tabular}{lcccccc}\n",
       "                                         & \\textbf{coef} & \\textbf{std err} & \\textbf{t} & \\textbf{P$> |$t$|$} & \\textbf{[0.025} & \\textbf{0.975]}  \\\\\n",
       "\\midrule\n",
       "\\textbf{Intercept}                       &       2.6050  &        0.580     &     4.491  &         0.000        &        1.408    &        3.802     \\\\\n",
       "\\textbf{Diet\\_Type[T.Low-Carb]}          &      -2.0044  &        0.799     &    -2.508  &         0.019        &       -3.654    &       -0.355     \\\\\n",
       "\\textbf{Diet\\_Type[T.Mediterranean]}     &      -0.4748  &        0.876     &    -0.542  &         0.593        &       -2.282    &        1.333     \\\\\n",
       "\\textbf{Age}                             &       0.0453  &        0.013     &     3.398  &         0.002        &        0.018    &        0.073     \\\\\n",
       "\\textbf{Diet\\_Type[T.Low-Carb]:Age}      &       0.0613  &        0.018     &     3.373  &         0.003        &        0.024    &        0.099     \\\\\n",
       "\\textbf{Diet\\_Type[T.Mediterranean]:Age} &       0.0255  &        0.020     &     1.272  &         0.215        &       -0.016    &        0.067     \\\\\n",
       "\\bottomrule\n",
       "\\end{tabular}\n",
       "\\begin{tabular}{lclc}\n",
       "\\textbf{Omnibus:}       &  3.259 & \\textbf{  Durbin-Watson:     } &    2.240  \\\\\n",
       "\\textbf{Prob(Omnibus):} &  0.196 & \\textbf{  Jarque-Bera (JB):  } &    2.170  \\\\\n",
       "\\textbf{Skew:}          &  0.649 & \\textbf{  Prob(JB):          } &    0.338  \\\\\n",
       "\\textbf{Kurtosis:}      &  3.230 & \\textbf{  Cond. No.          } &     876.  \\\\\n",
       "\\bottomrule\n",
       "\\end{tabular}\n",
       "%\\caption{OLS Regression Results}\n",
       "\\end{center}\n",
       "\n",
       "Notes: \\newline\n",
       " [1] Standard Errors assume that the covariance matrix of the errors is correctly specified."
      ],
      "text/plain": [
       "<class 'statsmodels.iolib.summary.Summary'>\n",
       "\"\"\"\n",
       "                            OLS Regression Results                            \n",
       "==============================================================================\n",
       "Dep. Variable:            Weight_Loss   R-squared:                       0.848\n",
       "Model:                            OLS   Adj. R-squared:                  0.817\n",
       "Method:                 Least Squares   F-statistic:                     26.81\n",
       "Date:                Sat, 08 Feb 2025   Prob (F-statistic):           4.35e-09\n",
       "Time:                        12:54:42   Log-Likelihood:                -7.5378\n",
       "No. Observations:                  30   AIC:                             27.08\n",
       "Df Residuals:                      24   BIC:                             35.48\n",
       "Df Model:                           5                                         \n",
       "Covariance Type:            nonrobust                                         \n",
       "==================================================================================================\n",
       "                                     coef    std err          t      P>|t|      [0.025      0.975]\n",
       "--------------------------------------------------------------------------------------------------\n",
       "Intercept                          2.6050      0.580      4.491      0.000       1.408       3.802\n",
       "Diet_Type[T.Low-Carb]             -2.0044      0.799     -2.508      0.019      -3.654      -0.355\n",
       "Diet_Type[T.Mediterranean]        -0.4748      0.876     -0.542      0.593      -2.282       1.333\n",
       "Age                                0.0453      0.013      3.398      0.002       0.018       0.073\n",
       "Diet_Type[T.Low-Carb]:Age          0.0613      0.018      3.373      0.003       0.024       0.099\n",
       "Diet_Type[T.Mediterranean]:Age     0.0255      0.020      1.272      0.215      -0.016       0.067\n",
       "==============================================================================\n",
       "Omnibus:                        3.259   Durbin-Watson:                   2.240\n",
       "Prob(Omnibus):                  0.196   Jarque-Bera (JB):                2.170\n",
       "Skew:                           0.649   Prob(JB):                        0.338\n",
       "Kurtosis:                       3.230   Cond. No.                         876.\n",
       "==============================================================================\n",
       "\n",
       "Notes:\n",
       "[1] Standard Errors assume that the covariance matrix of the errors is correctly specified.\n",
       "\"\"\""
      ]
     },
     "execution_count": 36,
     "metadata": {},
     "output_type": "execute_result"
    }
   ],
   "source": [
    "## printing the summary statsistics  \n",
    "model.summary()"
   ]
  },
  {
   "cell_type": "code",
   "execution_count": 37,
   "metadata": {},
   "outputs": [
    {
     "data": {
      "text/plain": [
       "count    30.000000\n",
       "mean     43.166667\n",
       "std       8.338045\n",
       "min      29.000000\n",
       "25%      37.000000\n",
       "50%      43.000000\n",
       "75%      49.750000\n",
       "max      60.000000\n",
       "Name: Age, dtype: float64"
      ]
     },
     "execution_count": 37,
     "metadata": {},
     "output_type": "execute_result"
    }
   ],
   "source": [
    "## descriptive statistics for Age\n",
    "data['Age'].describe()"
   ]
  },
  {
   "cell_type": "code",
   "execution_count": 38,
   "metadata": {},
   "outputs": [
    {
     "data": {
      "text/html": [
       "<pre style=\"white-space:pre;overflow-x:auto;line-height:normal;font-family:Menlo,'DejaVu Sans Mono',consolas,'Courier New',monospace\">\n",
       "<span style=\"font-weight: bold; text-decoration: underline\">Low Fat: Weight_Loss = </span><span style=\"color: #008080; text-decoration-color: #008080; font-weight: bold; text-decoration: underline\">2.60</span><span style=\"font-weight: bold; text-decoration: underline\"> + </span><span style=\"color: #800080; text-decoration-color: #800080; font-weight: bold; text-decoration: underline\">0.05</span><span style=\"font-weight: bold; text-decoration: underline\">(Age)</span>\n",
       "<span style=\"font-weight: bold; text-decoration: underline\">Low Carb: Weight_Loss = (</span><span style=\"color: #008080; text-decoration-color: #008080; font-weight: bold; text-decoration: underline\">2.60</span><span style=\"font-weight: bold; text-decoration: underline\"> + </span><span style=\"color: #008080; text-decoration-color: #008080; font-weight: bold; text-decoration: underline\">-2.00</span><span style=\"font-weight: bold; text-decoration: underline\">) + (</span><span style=\"color: #008080; text-decoration-color: #008080; font-weight: bold; text-decoration: underline\">0.05</span><span style=\"font-weight: bold; text-decoration: underline\"> + </span><span style=\"color: #008080; text-decoration-color: #008080; font-weight: bold; text-decoration: underline\">0.06</span><span style=\"font-weight: bold; text-decoration: underline\">)(Age) = </span><span style=\"color: #008080; text-decoration-color: #008080; font-weight: bold; text-decoration: underline\">0.60</span><span style=\"font-weight: bold; text-decoration: underline\"> + </span><span style=\"color: #800080; text-decoration-color: #800080; font-weight: bold; text-decoration: underline\">0.11</span><span style=\"font-weight: bold; text-decoration: underline\">(Age)</span>\n",
       "<span style=\"font-weight: bold; text-decoration: underline\">Mediterranean: Weight_Loss = (</span><span style=\"color: #008080; text-decoration-color: #008080; font-weight: bold; text-decoration: underline\">2.60</span><span style=\"font-weight: bold; text-decoration: underline\"> + </span><span style=\"color: #008080; text-decoration-color: #008080; font-weight: bold; text-decoration: underline\">-0.47</span><span style=\"font-weight: bold; text-decoration: underline\">) + (</span><span style=\"color: #008080; text-decoration-color: #008080; font-weight: bold; text-decoration: underline\">0.05</span><span style=\"font-weight: bold; text-decoration: underline\"> + </span><span style=\"color: #008080; text-decoration-color: #008080; font-weight: bold; text-decoration: underline\">0.03</span><span style=\"font-weight: bold; text-decoration: underline\">)(Age) = </span><span style=\"color: #008080; text-decoration-color: #008080; font-weight: bold; text-decoration: underline\">2.13</span><span style=\"font-weight: bold; text-decoration: underline\"> + </span><span style=\"color: #800080; text-decoration-color: #800080; font-weight: bold; text-decoration: underline\">0.07</span><span style=\"font-weight: bold; text-decoration: underline\">(Age)</span>\n",
       "\n",
       "</pre>\n"
      ],
      "text/plain": [
       "\n",
       "\u001b[1;4mLow Fat: Weight_Loss = \u001b[0m\u001b[1;4;36m2.60\u001b[0m\u001b[1;4m + \u001b[0m\u001b[1;4;35m0.05\u001b[0m\u001b[1;4m(\u001b[0m\u001b[1;4mAge\u001b[0m\u001b[1;4m)\u001b[0m\n",
       "\u001b[1;4mLow Carb: Weight_Loss = \u001b[0m\u001b[1;4m(\u001b[0m\u001b[1;4;36m2.60\u001b[0m\u001b[1;4m + \u001b[0m\u001b[1;4;36m-2.00\u001b[0m\u001b[1;4m)\u001b[0m\u001b[1;4m + \u001b[0m\u001b[1;4m(\u001b[0m\u001b[1;4;36m0.05\u001b[0m\u001b[1;4m + \u001b[0m\u001b[1;4;36m0.06\u001b[0m\u001b[1;4m)\u001b[0m\u001b[1;4m(\u001b[0m\u001b[1;4mAge\u001b[0m\u001b[1;4m)\u001b[0m\u001b[1;4m = \u001b[0m\u001b[1;4;36m0.60\u001b[0m\u001b[1;4m + \u001b[0m\u001b[1;4;35m0.11\u001b[0m\u001b[1;4m(\u001b[0m\u001b[1;4mAge\u001b[0m\u001b[1;4m)\u001b[0m\n",
       "\u001b[1;4mMediterranean: Weight_Loss = \u001b[0m\u001b[1;4m(\u001b[0m\u001b[1;4;36m2.60\u001b[0m\u001b[1;4m + \u001b[0m\u001b[1;4;36m-0.47\u001b[0m\u001b[1;4m)\u001b[0m\u001b[1;4m + \u001b[0m\u001b[1;4m(\u001b[0m\u001b[1;4;36m0.05\u001b[0m\u001b[1;4m + \u001b[0m\u001b[1;4;36m0.03\u001b[0m\u001b[1;4m)\u001b[0m\u001b[1;4m(\u001b[0m\u001b[1;4mAge\u001b[0m\u001b[1;4m)\u001b[0m\u001b[1;4m = \u001b[0m\u001b[1;4;36m2.13\u001b[0m\u001b[1;4m + \u001b[0m\u001b[1;4;35m0.07\u001b[0m\u001b[1;4m(\u001b[0m\u001b[1;4mAge\u001b[0m\u001b[1;4m)\u001b[0m\n",
       "\n"
      ]
     },
     "metadata": {},
     "output_type": "display_data"
    }
   ],
   "source": [
    "# Coefficients (assuming Low Fat is the reference)\n",
    "beta_0 = model.params['Intercept']                          # β₀ (Low Fat intercept)\n",
    "delta_1 = model.params['Diet_Type[T.Low-Carb]']             # Δ₁ (Low Carb vs. Low Fat)\n",
    "delta_2 = model.params['Diet_Type[T.Mediterranean]']        # Δ₂ (Mediterranean vs. Low Fat)\n",
    "beta_1 = model.params['Age']                                # β₁ (Age slope for Low Fat)\n",
    "gamma_1 = model.params['Diet_Type[T.Low-Carb]:Age']         # γ₁ (Low Carb x Age)\n",
    "gamma_2 = model.params['Diet_Type[T.Mediterranean]:Age']    # γ₂ (Mediterranean x Age)\n",
    "\n",
    "console.print(f\"\"\"\n",
    "Low Fat: Weight_Loss = {beta_0:.2f} + {beta_1:.2f}(Age)\n",
    "Low Carb: Weight_Loss = ({beta_0:.2f} + {delta_1:.2f}) + ({beta_1:.2f} + {gamma_1:.2f})(Age) = {beta_0 + delta_1:.2f} + {beta_1 + gamma_1:.2f}(Age)\n",
    "Mediterranean: Weight_Loss = ({beta_0:.2f} + {delta_2:.2f}) + ({beta_1:.2f} + {gamma_2:.2f})(Age) = {beta_0 + delta_2:.2f} + {beta_1 + gamma_2:.2f}(Age)\n",
    "\"\"\",style='bold underline')"
   ]
  },
  {
   "cell_type": "code",
   "execution_count": 39,
   "metadata": {},
   "outputs": [
    {
     "data": {
      "text/html": [
       "<pre style=\"white-space:pre;overflow-x:auto;line-height:normal;font-family:Menlo,'DejaVu Sans Mono',consolas,'Courier New',monospace\">                            OLS Regression Results                            \n",
       "==============================================================================\n",
       "Dep. Variable:            Weight_Loss   R-squared:                       <span style=\"color: #008080; text-decoration-color: #008080; font-weight: bold\">0.848</span>\n",
       "Model:                            OLS   Adj. R-squared:                  <span style=\"color: #008080; text-decoration-color: #008080; font-weight: bold\">0.817</span>\n",
       "Method:                 Least Squares   F-statistic:                     <span style=\"color: #008080; text-decoration-color: #008080; font-weight: bold\">26.81</span>\n",
       "Date:                Sat, <span style=\"color: #008080; text-decoration-color: #008080; font-weight: bold\">08</span> Feb <span style=\"color: #008080; text-decoration-color: #008080; font-weight: bold\">2025</span>   Prob <span style=\"font-weight: bold\">(</span>F-statistic<span style=\"font-weight: bold\">)</span>:           <span style=\"color: #008080; text-decoration-color: #008080; font-weight: bold\">4.35e-09</span>\n",
       "Time:                        <span style=\"color: #00ff00; text-decoration-color: #00ff00; font-weight: bold\">12:54:43</span>   Log-Likelihood:                <span style=\"color: #008080; text-decoration-color: #008080; font-weight: bold\">-7.5378</span>\n",
       "No. Observations:                  <span style=\"color: #008080; text-decoration-color: #008080; font-weight: bold\">30</span>   AIC:                             <span style=\"color: #008080; text-decoration-color: #008080; font-weight: bold\">27.08</span>\n",
       "Df Residuals:                      <span style=\"color: #008080; text-decoration-color: #008080; font-weight: bold\">24</span>   BIC:                             <span style=\"color: #008080; text-decoration-color: #008080; font-weight: bold\">35.48</span>\n",
       "Df Model:                           <span style=\"color: #008080; text-decoration-color: #008080; font-weight: bold\">5</span>                                         \n",
       "Covariance Type:            nonrobust                                         \n",
       "===========================================================================================================\n",
       "                                              coef    std err          t      P&gt;|t|      <span style=\"font-weight: bold\">[</span><span style=\"color: #008080; text-decoration-color: #008080; font-weight: bold\">0.025</span>      <span style=\"color: #008080; text-decoration-color: #008080; font-weight: bold\">0.975</span><span style=\"font-weight: bold\">]</span>\n",
       "-----------------------------------------------------------------------------------------------------------\n",
       "Intercept                                   <span style=\"color: #008080; text-decoration-color: #008080; font-weight: bold\">4.5611</span>      <span style=\"color: #008080; text-decoration-color: #008080; font-weight: bold\">0.110</span>     <span style=\"color: #008080; text-decoration-color: #008080; font-weight: bold\">41.404</span>      <span style=\"color: #008080; text-decoration-color: #008080; font-weight: bold\">0.000</span>       <span style=\"color: #008080; text-decoration-color: #008080; font-weight: bold\">4.334</span>       <span style=\"color: #008080; text-decoration-color: #008080; font-weight: bold\">4.789</span>\n",
       "Diet_Type<span style=\"font-weight: bold\">[</span>T.Low-Carb<span style=\"font-weight: bold\">]</span>                       <span style=\"color: #008080; text-decoration-color: #008080; font-weight: bold\">0.6426</span>      <span style=\"color: #008080; text-decoration-color: #008080; font-weight: bold\">0.156</span>      <span style=\"color: #008080; text-decoration-color: #008080; font-weight: bold\">4.126</span>      <span style=\"color: #008080; text-decoration-color: #008080; font-weight: bold\">0.000</span>       <span style=\"color: #008080; text-decoration-color: #008080; font-weight: bold\">0.321</span>       <span style=\"color: #008080; text-decoration-color: #008080; font-weight: bold\">0.964</span>\n",
       "Diet_Type<span style=\"font-weight: bold\">[</span>T.Mediterranean<span style=\"font-weight: bold\">]</span>                  <span style=\"color: #008080; text-decoration-color: #008080; font-weight: bold\">0.6265</span>      <span style=\"color: #008080; text-decoration-color: #008080; font-weight: bold\">0.156</span>      <span style=\"color: #008080; text-decoration-color: #008080; font-weight: bold\">4.024</span>      <span style=\"color: #008080; text-decoration-color: #008080; font-weight: bold\">0.000</span>       <span style=\"color: #008080; text-decoration-color: #008080; font-weight: bold\">0.305</span>       <span style=\"color: #008080; text-decoration-color: #008080; font-weight: bold\">0.948</span>\n",
       "Age_centered                                <span style=\"color: #008080; text-decoration-color: #008080; font-weight: bold\">0.0453</span>      <span style=\"color: #008080; text-decoration-color: #008080; font-weight: bold\">0.013</span>      <span style=\"color: #008080; text-decoration-color: #008080; font-weight: bold\">3.398</span>      <span style=\"color: #008080; text-decoration-color: #008080; font-weight: bold\">0.002</span>       <span style=\"color: #008080; text-decoration-color: #008080; font-weight: bold\">0.018</span>       <span style=\"color: #008080; text-decoration-color: #008080; font-weight: bold\">0.073</span>\n",
       "Diet_Type<span style=\"font-weight: bold\">[</span>T.Low-Carb<span style=\"font-weight: bold\">]</span>:Age_centered          <span style=\"color: #008080; text-decoration-color: #008080; font-weight: bold\">0.0613</span>      <span style=\"color: #008080; text-decoration-color: #008080; font-weight: bold\">0.018</span>      <span style=\"color: #008080; text-decoration-color: #008080; font-weight: bold\">3.373</span>      <span style=\"color: #008080; text-decoration-color: #008080; font-weight: bold\">0.003</span>       <span style=\"color: #008080; text-decoration-color: #008080; font-weight: bold\">0.024</span>       <span style=\"color: #008080; text-decoration-color: #008080; font-weight: bold\">0.099</span>\n",
       "Diet_Type<span style=\"font-weight: bold\">[</span>T.Mediterranean<span style=\"font-weight: bold\">]</span>:Age_centered     <span style=\"color: #008080; text-decoration-color: #008080; font-weight: bold\">0.0255</span>      <span style=\"color: #008080; text-decoration-color: #008080; font-weight: bold\">0.020</span>      <span style=\"color: #008080; text-decoration-color: #008080; font-weight: bold\">1.272</span>      <span style=\"color: #008080; text-decoration-color: #008080; font-weight: bold\">0.215</span>      <span style=\"color: #008080; text-decoration-color: #008080; font-weight: bold\">-0.016</span>       <span style=\"color: #008080; text-decoration-color: #008080; font-weight: bold\">0.067</span>\n",
       "==============================================================================\n",
       "Omnibus:                        <span style=\"color: #008080; text-decoration-color: #008080; font-weight: bold\">3.259</span>   Durbin-Watson:                   <span style=\"color: #008080; text-decoration-color: #008080; font-weight: bold\">2.240</span>\n",
       "<span style=\"color: #800080; text-decoration-color: #800080; font-weight: bold\">Prob</span><span style=\"font-weight: bold\">(</span>Omnibus<span style=\"font-weight: bold\">)</span>:                  <span style=\"color: #008080; text-decoration-color: #008080; font-weight: bold\">0.196</span>   Jarque-Bera <span style=\"font-weight: bold\">(</span>JB<span style=\"font-weight: bold\">)</span>:                <span style=\"color: #008080; text-decoration-color: #008080; font-weight: bold\">2.170</span>\n",
       "Skew:                           <span style=\"color: #008080; text-decoration-color: #008080; font-weight: bold\">0.649</span>   <span style=\"color: #800080; text-decoration-color: #800080; font-weight: bold\">Prob</span><span style=\"font-weight: bold\">(</span>JB<span style=\"font-weight: bold\">)</span>:                        <span style=\"color: #008080; text-decoration-color: #008080; font-weight: bold\">0.338</span>\n",
       "Kurtosis:                       <span style=\"color: #008080; text-decoration-color: #008080; font-weight: bold\">3.230</span>   Cond. No.                         <span style=\"color: #008080; text-decoration-color: #008080; font-weight: bold\">30.8</span>\n",
       "==============================================================================\n",
       "\n",
       "Notes:\n",
       "<span style=\"font-weight: bold\">[</span><span style=\"color: #008080; text-decoration-color: #008080; font-weight: bold\">1</span><span style=\"font-weight: bold\">]</span> Standard Errors assume that the covariance matrix of the errors is correctly specified.\n",
       "</pre>\n"
      ],
      "text/plain": [
       "                            OLS Regression Results                            \n",
       "==============================================================================\n",
       "Dep. Variable:            Weight_Loss   R-squared:                       \u001b[1;36m0.848\u001b[0m\n",
       "Model:                            OLS   Adj. R-squared:                  \u001b[1;36m0.817\u001b[0m\n",
       "Method:                 Least Squares   F-statistic:                     \u001b[1;36m26.81\u001b[0m\n",
       "Date:                Sat, \u001b[1;36m08\u001b[0m Feb \u001b[1;36m2025\u001b[0m   Prob \u001b[1m(\u001b[0mF-statistic\u001b[1m)\u001b[0m:           \u001b[1;36m4.35e-09\u001b[0m\n",
       "Time:                        \u001b[1;92m12:54:43\u001b[0m   Log-Likelihood:                \u001b[1;36m-7.5378\u001b[0m\n",
       "No. Observations:                  \u001b[1;36m30\u001b[0m   AIC:                             \u001b[1;36m27.08\u001b[0m\n",
       "Df Residuals:                      \u001b[1;36m24\u001b[0m   BIC:                             \u001b[1;36m35.48\u001b[0m\n",
       "Df Model:                           \u001b[1;36m5\u001b[0m                                         \n",
       "Covariance Type:            nonrobust                                         \n",
       "===========================================================================================================\n",
       "                                              coef    std err          t      P>|t|      \u001b[1m[\u001b[0m\u001b[1;36m0.025\u001b[0m      \u001b[1;36m0.975\u001b[0m\u001b[1m]\u001b[0m\n",
       "-----------------------------------------------------------------------------------------------------------\n",
       "Intercept                                   \u001b[1;36m4.5611\u001b[0m      \u001b[1;36m0.110\u001b[0m     \u001b[1;36m41.404\u001b[0m      \u001b[1;36m0.000\u001b[0m       \u001b[1;36m4.334\u001b[0m       \u001b[1;36m4.789\u001b[0m\n",
       "Diet_Type\u001b[1m[\u001b[0mT.Low-Carb\u001b[1m]\u001b[0m                       \u001b[1;36m0.6426\u001b[0m      \u001b[1;36m0.156\u001b[0m      \u001b[1;36m4.126\u001b[0m      \u001b[1;36m0.000\u001b[0m       \u001b[1;36m0.321\u001b[0m       \u001b[1;36m0.964\u001b[0m\n",
       "Diet_Type\u001b[1m[\u001b[0mT.Mediterranean\u001b[1m]\u001b[0m                  \u001b[1;36m0.6265\u001b[0m      \u001b[1;36m0.156\u001b[0m      \u001b[1;36m4.024\u001b[0m      \u001b[1;36m0.000\u001b[0m       \u001b[1;36m0.305\u001b[0m       \u001b[1;36m0.948\u001b[0m\n",
       "Age_centered                                \u001b[1;36m0.0453\u001b[0m      \u001b[1;36m0.013\u001b[0m      \u001b[1;36m3.398\u001b[0m      \u001b[1;36m0.002\u001b[0m       \u001b[1;36m0.018\u001b[0m       \u001b[1;36m0.073\u001b[0m\n",
       "Diet_Type\u001b[1m[\u001b[0mT.Low-Carb\u001b[1m]\u001b[0m:Age_centered          \u001b[1;36m0.0613\u001b[0m      \u001b[1;36m0.018\u001b[0m      \u001b[1;36m3.373\u001b[0m      \u001b[1;36m0.003\u001b[0m       \u001b[1;36m0.024\u001b[0m       \u001b[1;36m0.099\u001b[0m\n",
       "Diet_Type\u001b[1m[\u001b[0mT.Mediterranean\u001b[1m]\u001b[0m:Age_centered     \u001b[1;36m0.0255\u001b[0m      \u001b[1;36m0.020\u001b[0m      \u001b[1;36m1.272\u001b[0m      \u001b[1;36m0.215\u001b[0m      \u001b[1;36m-0.016\u001b[0m       \u001b[1;36m0.067\u001b[0m\n",
       "==============================================================================\n",
       "Omnibus:                        \u001b[1;36m3.259\u001b[0m   Durbin-Watson:                   \u001b[1;36m2.240\u001b[0m\n",
       "\u001b[1;35mProb\u001b[0m\u001b[1m(\u001b[0mOmnibus\u001b[1m)\u001b[0m:                  \u001b[1;36m0.196\u001b[0m   Jarque-Bera \u001b[1m(\u001b[0mJB\u001b[1m)\u001b[0m:                \u001b[1;36m2.170\u001b[0m\n",
       "Skew:                           \u001b[1;36m0.649\u001b[0m   \u001b[1;35mProb\u001b[0m\u001b[1m(\u001b[0mJB\u001b[1m)\u001b[0m:                        \u001b[1;36m0.338\u001b[0m\n",
       "Kurtosis:                       \u001b[1;36m3.230\u001b[0m   Cond. No.                         \u001b[1;36m30.8\u001b[0m\n",
       "==============================================================================\n",
       "\n",
       "Notes:\n",
       "\u001b[1m[\u001b[0m\u001b[1;36m1\u001b[0m\u001b[1m]\u001b[0m Standard Errors assume that the covariance matrix of the errors is correctly specified.\n"
      ]
     },
     "metadata": {},
     "output_type": "display_data"
    }
   ],
   "source": [
    "# Center Age at its mean\n",
    "data['Age_centered'] = data['Age'] - data['Age'].mean()\n",
    "\n",
    "# Refit the model with centered Age\n",
    "model_centered = ols('Weight_Loss ~ Diet_Type * Age_centered', data=data).fit()\n",
    "console.print(model_centered.summary())"
   ]
  },
  {
   "cell_type": "code",
   "execution_count": 40,
   "metadata": {},
   "outputs": [
    {
     "name": "stdout",
     "output_type": "stream",
     "text": [
      "\n",
      "--- Post-hoc tests at Age = 30 ---\n",
      "   Multiple Comparison of Means - Tukey HSD, FWER=0.05    \n",
      "==========================================================\n",
      " group1      group2    meandiff p-adj lower  upper  reject\n",
      "----------------------------------------------------------\n",
      "Low-Carb       Low-Fat   0.1648   0.0 0.1648 0.1648   True\n",
      "Low-Carb Mediterranean   0.4553   0.0 0.4553 0.4553   True\n",
      " Low-Fat Mediterranean   0.2906   0.0 0.2906 0.2906   True\n",
      "----------------------------------------------------------\n",
      "\n",
      "--- Post-hoc tests at Age = 40 ---\n",
      "    Multiple Comparison of Means - Tukey HSD, FWER=0.05     \n",
      "============================================================\n",
      " group1      group2    meandiff p-adj  lower   upper  reject\n",
      "------------------------------------------------------------\n",
      "Low-Carb       Low-Fat  -0.4485   0.0 -0.4485 -0.4485   True\n",
      "Low-Carb Mediterranean   0.0972   0.0  0.0972  0.0972   True\n",
      " Low-Fat Mediterranean   0.5457   0.0  0.5457  0.5457   True\n",
      "------------------------------------------------------------\n",
      "\n",
      "--- Post-hoc tests at Age = 50 ---\n",
      "    Multiple Comparison of Means - Tukey HSD, FWER=0.05     \n",
      "============================================================\n",
      " group1      group2    meandiff p-adj  lower   upper  reject\n",
      "------------------------------------------------------------\n",
      "Low-Carb       Low-Fat  -1.0617   0.0 -1.0617 -1.0617   True\n",
      "Low-Carb Mediterranean  -0.2608   0.0 -0.2608 -0.2608   True\n",
      " Low-Fat Mediterranean   0.8008   0.0  0.8008  0.8008   True\n",
      "------------------------------------------------------------\n",
      "\n",
      "--- Post-hoc tests at Age = 60 ---\n",
      "    Multiple Comparison of Means - Tukey HSD, FWER=0.05     \n",
      "============================================================\n",
      " group1      group2    meandiff p-adj  lower   upper  reject\n",
      "------------------------------------------------------------\n",
      "Low-Carb       Low-Fat  -1.6749   0.0 -1.6749 -1.6749   True\n",
      "Low-Carb Mediterranean  -0.6189   0.0 -0.6189 -0.6189   True\n",
      " Low-Fat Mediterranean    1.056   0.0   1.056   1.056   True\n",
      "------------------------------------------------------------\n"
     ]
    }
   ],
   "source": [
    "import statsmodels.api as sm\n",
    "from statsmodels.formula.api import ols\n",
    "\n",
    "# Fit the model\n",
    "model = ols('Weight_Loss ~ Diet_Type * Age', data=data).fit()\n",
    "\n",
    "\n",
    "ages_of_interest = [30, 40, 50,60]\n",
    "\n",
    "# Test simple effects at each age\n",
    "for age in ages_of_interest:\n",
    "    print(f\"\\n--- Post-hoc tests at Age = {age} ---\")\n",
    "    # Create a subset with the age of interest\n",
    "    df_subset = data.copy()\n",
    "    df_subset['Predicted'] = model.predict(df_subset.assign(Age=age))\n",
    "    \n",
    "    # Perform Tukey HSD test\n",
    "    from statsmodels.stats.multicomp import MultiComparison\n",
    "    mc = MultiComparison(df_subset['Predicted'], df_subset['Diet_Type'])\n",
    "    tukey_results = mc.tukeyhsd()\n",
    "    print(tukey_results)"
   ]
  },
  {
   "cell_type": "code",
   "execution_count": 41,
   "metadata": {},
   "outputs": [
    {
     "data": {
      "text/html": [
       "<pre style=\"white-space:pre;overflow-x:auto;line-height:normal;font-family:Menlo,'DejaVu Sans Mono',consolas,'Courier New',monospace\"><span style=\"font-weight: bold; text-decoration: underline\">Detailed Tukey's HSD Post-Hoc Analysis: Evaluating Diet Effects Across Age Groups (Model not centred)</span>\n",
       "</pre>\n"
      ],
      "text/plain": [
       "\u001b[1;4mDetailed Tukey's HSD Post-Hoc Analysis: Evaluating Diet Effects Across Age Groups \u001b[0m\u001b[1;4m(\u001b[0m\u001b[1;4mModel not centred\u001b[0m\u001b[1;4m)\u001b[0m\n"
      ]
     },
     "metadata": {},
     "output_type": "display_data"
    },
    {
     "data": {
      "text/html": [
       "<pre style=\"white-space:pre;overflow-x:auto;line-height:normal;font-family:Menlo,'DejaVu Sans Mono',consolas,'Courier New',monospace\">         group1         group2  meandiff  p-adj   lower   upper  reject\n",
       "Age                                                                    \n",
       "<span style=\"color: #008080; text-decoration-color: #008080; font-weight: bold\">30</span>  <span style=\"color: #008080; text-decoration-color: #008080; font-weight: bold\">0</span>  Low-Carb        Low-Fat    <span style=\"color: #008080; text-decoration-color: #008080; font-weight: bold\">0.1648</span>    <span style=\"color: #008080; text-decoration-color: #008080; font-weight: bold\">0.0</span>  <span style=\"color: #008080; text-decoration-color: #008080; font-weight: bold\">0.1648</span>  <span style=\"color: #008080; text-decoration-color: #008080; font-weight: bold\">0.1648</span>    <span style=\"color: #00ff00; text-decoration-color: #00ff00; font-style: italic\">True</span>\n",
       "    <span style=\"color: #008080; text-decoration-color: #008080; font-weight: bold\">1</span>  Low-Carb  Mediterranean    <span style=\"color: #008080; text-decoration-color: #008080; font-weight: bold\">0.4553</span>    <span style=\"color: #008080; text-decoration-color: #008080; font-weight: bold\">0.0</span>  <span style=\"color: #008080; text-decoration-color: #008080; font-weight: bold\">0.4553</span>  <span style=\"color: #008080; text-decoration-color: #008080; font-weight: bold\">0.4553</span>    <span style=\"color: #00ff00; text-decoration-color: #00ff00; font-style: italic\">True</span>\n",
       "    <span style=\"color: #008080; text-decoration-color: #008080; font-weight: bold\">2</span>   Low-Fat  Mediterranean    <span style=\"color: #008080; text-decoration-color: #008080; font-weight: bold\">0.2906</span>    <span style=\"color: #008080; text-decoration-color: #008080; font-weight: bold\">0.0</span>  <span style=\"color: #008080; text-decoration-color: #008080; font-weight: bold\">0.2906</span>  <span style=\"color: #008080; text-decoration-color: #008080; font-weight: bold\">0.2906</span>    <span style=\"color: #00ff00; text-decoration-color: #00ff00; font-style: italic\">True</span>\n",
       "<span style=\"color: #008080; text-decoration-color: #008080; font-weight: bold\">40</span>  <span style=\"color: #008080; text-decoration-color: #008080; font-weight: bold\">0</span>  Low-Carb        Low-Fat   <span style=\"color: #008080; text-decoration-color: #008080; font-weight: bold\">-0.4485</span>    <span style=\"color: #008080; text-decoration-color: #008080; font-weight: bold\">0.0</span> <span style=\"color: #008080; text-decoration-color: #008080; font-weight: bold\">-0.4485</span> <span style=\"color: #008080; text-decoration-color: #008080; font-weight: bold\">-0.4485</span>    <span style=\"color: #00ff00; text-decoration-color: #00ff00; font-style: italic\">True</span>\n",
       "    <span style=\"color: #008080; text-decoration-color: #008080; font-weight: bold\">1</span>  Low-Carb  Mediterranean    <span style=\"color: #008080; text-decoration-color: #008080; font-weight: bold\">0.0972</span>    <span style=\"color: #008080; text-decoration-color: #008080; font-weight: bold\">0.0</span>  <span style=\"color: #008080; text-decoration-color: #008080; font-weight: bold\">0.0972</span>  <span style=\"color: #008080; text-decoration-color: #008080; font-weight: bold\">0.0972</span>    <span style=\"color: #00ff00; text-decoration-color: #00ff00; font-style: italic\">True</span>\n",
       "    <span style=\"color: #008080; text-decoration-color: #008080; font-weight: bold\">2</span>   Low-Fat  Mediterranean    <span style=\"color: #008080; text-decoration-color: #008080; font-weight: bold\">0.5457</span>    <span style=\"color: #008080; text-decoration-color: #008080; font-weight: bold\">0.0</span>  <span style=\"color: #008080; text-decoration-color: #008080; font-weight: bold\">0.5457</span>  <span style=\"color: #008080; text-decoration-color: #008080; font-weight: bold\">0.5457</span>    <span style=\"color: #00ff00; text-decoration-color: #00ff00; font-style: italic\">True</span>\n",
       "<span style=\"color: #008080; text-decoration-color: #008080; font-weight: bold\">50</span>  <span style=\"color: #008080; text-decoration-color: #008080; font-weight: bold\">0</span>  Low-Carb        Low-Fat   <span style=\"color: #008080; text-decoration-color: #008080; font-weight: bold\">-1.0617</span>    <span style=\"color: #008080; text-decoration-color: #008080; font-weight: bold\">0.0</span> <span style=\"color: #008080; text-decoration-color: #008080; font-weight: bold\">-1.0617</span> <span style=\"color: #008080; text-decoration-color: #008080; font-weight: bold\">-1.0617</span>    <span style=\"color: #00ff00; text-decoration-color: #00ff00; font-style: italic\">True</span>\n",
       "    <span style=\"color: #008080; text-decoration-color: #008080; font-weight: bold\">1</span>  Low-Carb  Mediterranean   <span style=\"color: #008080; text-decoration-color: #008080; font-weight: bold\">-0.2608</span>    <span style=\"color: #008080; text-decoration-color: #008080; font-weight: bold\">0.0</span> <span style=\"color: #008080; text-decoration-color: #008080; font-weight: bold\">-0.2608</span> <span style=\"color: #008080; text-decoration-color: #008080; font-weight: bold\">-0.2608</span>    <span style=\"color: #00ff00; text-decoration-color: #00ff00; font-style: italic\">True</span>\n",
       "    <span style=\"color: #008080; text-decoration-color: #008080; font-weight: bold\">2</span>   Low-Fat  Mediterranean    <span style=\"color: #008080; text-decoration-color: #008080; font-weight: bold\">0.8008</span>    <span style=\"color: #008080; text-decoration-color: #008080; font-weight: bold\">0.0</span>  <span style=\"color: #008080; text-decoration-color: #008080; font-weight: bold\">0.8008</span>  <span style=\"color: #008080; text-decoration-color: #008080; font-weight: bold\">0.8008</span>    <span style=\"color: #00ff00; text-decoration-color: #00ff00; font-style: italic\">True</span>\n",
       "<span style=\"color: #008080; text-decoration-color: #008080; font-weight: bold\">60</span>  <span style=\"color: #008080; text-decoration-color: #008080; font-weight: bold\">0</span>  Low-Carb        Low-Fat   <span style=\"color: #008080; text-decoration-color: #008080; font-weight: bold\">-1.6749</span>    <span style=\"color: #008080; text-decoration-color: #008080; font-weight: bold\">0.0</span> <span style=\"color: #008080; text-decoration-color: #008080; font-weight: bold\">-1.6749</span> <span style=\"color: #008080; text-decoration-color: #008080; font-weight: bold\">-1.6749</span>    <span style=\"color: #00ff00; text-decoration-color: #00ff00; font-style: italic\">True</span>\n",
       "    <span style=\"color: #008080; text-decoration-color: #008080; font-weight: bold\">1</span>  Low-Carb  Mediterranean   <span style=\"color: #008080; text-decoration-color: #008080; font-weight: bold\">-0.6189</span>    <span style=\"color: #008080; text-decoration-color: #008080; font-weight: bold\">0.0</span> <span style=\"color: #008080; text-decoration-color: #008080; font-weight: bold\">-0.6189</span> <span style=\"color: #008080; text-decoration-color: #008080; font-weight: bold\">-0.6189</span>    <span style=\"color: #00ff00; text-decoration-color: #00ff00; font-style: italic\">True</span>\n",
       "    <span style=\"color: #008080; text-decoration-color: #008080; font-weight: bold\">2</span>   Low-Fat  Mediterranean    <span style=\"color: #008080; text-decoration-color: #008080; font-weight: bold\">1.0560</span>    <span style=\"color: #008080; text-decoration-color: #008080; font-weight: bold\">0.0</span>  <span style=\"color: #008080; text-decoration-color: #008080; font-weight: bold\">1.0560</span>  <span style=\"color: #008080; text-decoration-color: #008080; font-weight: bold\">1.0560</span>    <span style=\"color: #00ff00; text-decoration-color: #00ff00; font-style: italic\">True</span>\n",
       "</pre>\n"
      ],
      "text/plain": [
       "         group1         group2  meandiff  p-adj   lower   upper  reject\n",
       "Age                                                                    \n",
       "\u001b[1;36m30\u001b[0m  \u001b[1;36m0\u001b[0m  Low-Carb        Low-Fat    \u001b[1;36m0.1648\u001b[0m    \u001b[1;36m0.0\u001b[0m  \u001b[1;36m0.1648\u001b[0m  \u001b[1;36m0.1648\u001b[0m    \u001b[3;92mTrue\u001b[0m\n",
       "    \u001b[1;36m1\u001b[0m  Low-Carb  Mediterranean    \u001b[1;36m0.4553\u001b[0m    \u001b[1;36m0.0\u001b[0m  \u001b[1;36m0.4553\u001b[0m  \u001b[1;36m0.4553\u001b[0m    \u001b[3;92mTrue\u001b[0m\n",
       "    \u001b[1;36m2\u001b[0m   Low-Fat  Mediterranean    \u001b[1;36m0.2906\u001b[0m    \u001b[1;36m0.0\u001b[0m  \u001b[1;36m0.2906\u001b[0m  \u001b[1;36m0.2906\u001b[0m    \u001b[3;92mTrue\u001b[0m\n",
       "\u001b[1;36m40\u001b[0m  \u001b[1;36m0\u001b[0m  Low-Carb        Low-Fat   \u001b[1;36m-0.4485\u001b[0m    \u001b[1;36m0.0\u001b[0m \u001b[1;36m-0.4485\u001b[0m \u001b[1;36m-0.4485\u001b[0m    \u001b[3;92mTrue\u001b[0m\n",
       "    \u001b[1;36m1\u001b[0m  Low-Carb  Mediterranean    \u001b[1;36m0.0972\u001b[0m    \u001b[1;36m0.0\u001b[0m  \u001b[1;36m0.0972\u001b[0m  \u001b[1;36m0.0972\u001b[0m    \u001b[3;92mTrue\u001b[0m\n",
       "    \u001b[1;36m2\u001b[0m   Low-Fat  Mediterranean    \u001b[1;36m0.5457\u001b[0m    \u001b[1;36m0.0\u001b[0m  \u001b[1;36m0.5457\u001b[0m  \u001b[1;36m0.5457\u001b[0m    \u001b[3;92mTrue\u001b[0m\n",
       "\u001b[1;36m50\u001b[0m  \u001b[1;36m0\u001b[0m  Low-Carb        Low-Fat   \u001b[1;36m-1.0617\u001b[0m    \u001b[1;36m0.0\u001b[0m \u001b[1;36m-1.0617\u001b[0m \u001b[1;36m-1.0617\u001b[0m    \u001b[3;92mTrue\u001b[0m\n",
       "    \u001b[1;36m1\u001b[0m  Low-Carb  Mediterranean   \u001b[1;36m-0.2608\u001b[0m    \u001b[1;36m0.0\u001b[0m \u001b[1;36m-0.2608\u001b[0m \u001b[1;36m-0.2608\u001b[0m    \u001b[3;92mTrue\u001b[0m\n",
       "    \u001b[1;36m2\u001b[0m   Low-Fat  Mediterranean    \u001b[1;36m0.8008\u001b[0m    \u001b[1;36m0.0\u001b[0m  \u001b[1;36m0.8008\u001b[0m  \u001b[1;36m0.8008\u001b[0m    \u001b[3;92mTrue\u001b[0m\n",
       "\u001b[1;36m60\u001b[0m  \u001b[1;36m0\u001b[0m  Low-Carb        Low-Fat   \u001b[1;36m-1.6749\u001b[0m    \u001b[1;36m0.0\u001b[0m \u001b[1;36m-1.6749\u001b[0m \u001b[1;36m-1.6749\u001b[0m    \u001b[3;92mTrue\u001b[0m\n",
       "    \u001b[1;36m1\u001b[0m  Low-Carb  Mediterranean   \u001b[1;36m-0.6189\u001b[0m    \u001b[1;36m0.0\u001b[0m \u001b[1;36m-0.6189\u001b[0m \u001b[1;36m-0.6189\u001b[0m    \u001b[3;92mTrue\u001b[0m\n",
       "    \u001b[1;36m2\u001b[0m   Low-Fat  Mediterranean    \u001b[1;36m1.0560\u001b[0m    \u001b[1;36m0.0\u001b[0m  \u001b[1;36m1.0560\u001b[0m  \u001b[1;36m1.0560\u001b[0m    \u001b[3;92mTrue\u001b[0m\n"
      ]
     },
     "metadata": {},
     "output_type": "display_data"
    }
   ],
   "source": [
    "import pandas as pd\n",
    "\n",
    "# Collect post-hoc results\n",
    "results = []\n",
    "for age in ages_of_interest:\n",
    "    df_subset = data.copy()\n",
    "    df_subset['Predicted'] = model.predict(df_subset.assign(Age=age))\n",
    "    mc = MultiComparison(df_subset['Predicted'], df_subset['Diet_Type'])\n",
    "    tukey_results = mc.tukeyhsd()\n",
    "    results.append(pd.DataFrame(tukey_results._results_table.data[1:], columns=tukey_results._results_table.data[0]))\n",
    "\n",
    "# Combine results into one table\n",
    "summary_table_not_centred = pd.concat(results, keys=ages_of_interest, names=['Age'])\n",
    "console.print(f\"[bold underline]Detailed Tukey's HSD Post-Hoc Analysis: Evaluating Diet Effects Across Age Groups (Model not centred)[/bold underline]\")\n",
    "console.print(summary_table_not_centred)\n"
   ]
  },
  {
   "cell_type": "code",
   "execution_count": 42,
   "metadata": {},
   "outputs": [
    {
     "data": {
      "image/png": "[encoded data removed]",
      "text/plain": [
       "<Figure size 2000x500 with 1 Axes>"
      ]
     },
     "metadata": {},
     "output_type": "display_data"
    }
   ],
   "source": [
    "import matplotlib.pyplot as plt\n",
    "import seaborn as sns\n",
    "import pandas as pd\n",
    "\n",
    "# Sample DataFrame (replace with your actual data)\n",
    "data12 = {\n",
    "    'Age': [30, 30, 30, 40, 40, 40, 50, 50, 50, 60, 60, 60],\n",
    "    'group1': ['Low-Carb', 'Low-Carb', 'Low-Fat', 'Low-Carb', 'Low-Carb', 'Low-Fat', 'Low-Carb', 'Low-Carb', 'Low-Fat', 'Low-Carb', 'Low-Carb', 'Low-Fat'],\n",
    "    'group2': ['Low-Fat', 'Mediterranean', 'Mediterranean', 'Low-Fat', 'Mediterranean', 'Mediterranean', 'Low-Fat', 'Mediterranean', 'Mediterranean', 'Low-Fat', 'Mediterranean', 'Mediterranean'],\n",
    "    'meandiff': [0.1648, 0.4553, 0.2906, -0.4485, 0.0972, 0.5457, -1.0617, -0.2608, 0.8008, -1.6749, -0.6189, 1.0560]\n",
    "}\n",
    "df = pd.DataFrame(data12)\n",
    "\n",
    "# Create a grouped bar plot\n",
    "plt.figure(figsize=(20, 5))\n",
    "sns.barplot(x='Age', y='meandiff', hue='group1', data=df, palette='viridis')\n",
    "plt.title('Mean Difference in Diet Effectiveness by Age Group')\n",
    "plt.xlabel('Age Group')\n",
    "plt.ylabel('Mean Difference')\n",
    "plt.legend(title='Diet Group')\n",
    "plt.show()"
   ]
  },
  {
   "cell_type": "markdown",
   "metadata": {},
   "source": [
    "* `FINDINGS`\n",
    "   - This report analyzes the mean differences in diet effectiveness across different age groups, comparing Low-Carb and Low-Fat diets. The reference point for comparison is the Low-Fat diet, meaning negative values indicate poorer performance of the Low-Carb diet relative to Low-Fat. \n",
    "* `Key Findings:  `\n",
    "* `Low-Carb Diet Shows Mixed Results Across Age Groups`\n",
    "     * The effectiveness of the Low-Carb diet fluctuates depending on age.\n",
    "     * Some age groups show positive effects, while others experience negative effects, meaning Low-Carb underperforms compared to Low-Fat.\n",
    "* `Younger Age Groups (Below 40) Show Minimal Differences`\n",
    "     * In individuals under 40, both diets perform similarly, with small mean differences close to zero.\n",
    "     * This suggests that for younger individuals, either diet could be equally effective, with no strong advantage for Low-Carb.\n",
    "* `Low-Carb Diet is Less Effective for Middle-Aged Groups (40-50): `\n",
    "     * In the 40-50 age range, the Low-Carb diet shows negative mean differences, meaning it performs worse than Low-Fat.\n",
    "     * The negative values suggest that middle-aged individuals following a Low-Carb diet may experience fewer benefits than those on Low-Fat.\n",
    "     * The error bars indicate variability, but the general trend is consistent with lower effectiveness of Low-Carb.\n",
    "* 4. `Older Age Groups (50+) Face Significant Issues with Low-Carb:` \n",
    "     * For individuals over 50, the Low-Carb diet has the largest negative mean difference, meaning it is significantly less effective than Low-Fat.\n",
    "     * The magnitude of the negative difference increases, suggesting that Low-Carb may not be a suitable diet for older individuals compared to Low-Fat.\n",
    "     * The error bars indicate higher variability, meaning some individuals may respond differently, but the overall trend is clear.\n",
    "* `Key Takeaways & Recommendations`\n",
    "     * For individuals under 40: Either diet is a viable choice, as the mean difference is small.\n",
    "     * For middle-aged individuals (40-50): The Low-Fat diet may be a safer option, as Low-Carb shows signs of being less effective.\n",
    "     * For older individuals (50+): The Low-Fat diet is the recommended option, as Low-Carb shows a strong negative impact."
   ]
  },
  {
   "cell_type": "code",
   "execution_count": 43,
   "metadata": {},
   "outputs": [
    {
     "data": {
      "image/png": "[encoded data removed]",
      "text/plain": [
       "<Figure size 2000x600 with 1 Axes>"
      ]
     },
     "metadata": {},
     "output_type": "display_data"
    }
   ],
   "source": [
    "# Pivot the data for line plotting\n",
    "df_pivot = df.drop_duplicates(subset=['Age','group1']).pivot(index='Age', columns='group1', values='meandiff')\n",
    "\n",
    "# Plot trends over age\n",
    "plt.figure(figsize=(20, 6))\n",
    "for column in df_pivot.columns:\n",
    "    plt.plot(df_pivot.index, df_pivot[column], marker='o', label=column)\n",
    "plt.title('Trends in Diet Effectiveness Over Age')\n",
    "plt.xlabel('Age Group')\n",
    "plt.ylabel('Mean Difference')\n",
    "plt.legend(title='Diet Group')\n",
    "plt.grid(True)\n",
    "plt.show()"
   ]
  },
  {
   "cell_type": "markdown",
   "metadata": {},
   "source": [
    "* `Summary Report `\n",
    "    * Objective: To compare the effectiveness of Low-Carb and Low-Fat diets on weight loss across different ages.\n",
    "* `Findings:` \n",
    "  * The Low-Carb diet (blue line) shows a declining trend in effectiveness as age increases.\n",
    "  * The Low-Fat diet (orange line) shows a positive trend, becoming more effective for older individuals.\n",
    "  * Low-Carboyhdrates:Effectiveness decreases with age. Younger individuals experience more weight loss benefits compared to older individuals.\n",
    "  * Low-Fat Diet: Effectiveness increases with age. Older individuals see more weight loss benefits than younger ones.\n",
    "  * Conclusion: For younger clients, a Low-Carb diet might be more effective for weight loss. However, for older clients, transitioning to a Low-Fat diet could yield better results as they age.\n",
    "* `Effectiveness for Younger vs. Older Individuals:`\n",
    "  * Around age 30, both diets start at a similar effectiveness level.\n",
    "  * As age increases, Low-Carb becomes progressively less effective, while Low-Fat becomes more effective\n",
    "  * By age 60, the Low-Carb diet has a strong negative impact, whereas Low-Fat maintains a steady positive effect.\n",
    "* `Decision Implications Based on Age Group` \n",
    "   * For younger individuals (30s-40s): A Low-Carb diet may work well initially, but its benefits appear to diminish with age.\n",
    "   * For older individuals (50s-60s): A Low-Fat diet seems more effective and could be a better long-term choice.\n",
    "* `Potential Reasons for This Pattern`\n",
    "   * Metabolic shifts with age: Older individuals may respond better to a balanced diet with carbohydrates rather than relying on low-carb fat metabolism.\n",
    "   * Sustainability: Older adults might find Low-Fat diets easier to adhere to, leading to better long-term results.\n",
    "   * Hormonal and physiological changes: Aging bodies may process macronutrients differently, favoring a Low-Fat over Low-Carb approach.\n",
    "* `Data-Driven Recommendations:` \n",
    "   * For younger individuals (under 40): A Low-Carb diet may be recommended for faster weight loss, but they should transition gradually as they age.\n",
    "   * For middle-aged & older individuals (40+): A Low-Fat diet is likely the better choice for sustained weight management and overall effectiveness.\n",
    "   * Personalized Approach: Diet plans should consider age as a key factor when recommending Low-Carb vs. Low-Fat strategies\n",
    "    \n"
   ]
  },
  {
   "cell_type": "code",
   "execution_count": 44,
   "metadata": {},
   "outputs": [
    {
     "data": {
      "image/png": "[encoded data removed]",
      "text/plain": [
       "<Figure size 1200x600 with 2 Axes>"
      ]
     },
     "metadata": {},
     "output_type": "display_data"
    }
   ],
   "source": [
    "# Create a heatmap-friendly DataFrame\n",
    "heatmap_data = df.pivot_table(index='Age', columns='group1', values='meandiff')\n",
    "\n",
    "# Plot heatmap\n",
    "plt.figure(figsize=(12, 6))\n",
    "sns.heatmap(heatmap_data, annot=True, cmap='coolwarm', fmt=\".2f\", linewidths=0.5)\n",
    "plt.title('Heatmap of Mean Differences by Age and Diet Group')\n",
    "plt.xlabel('Diet Group')\n",
    "plt.ylabel('Age Group')\n",
    "plt.show()# Create a heatmap-friendly DataFrame\n",
    "heatmap_data = df.pivot_table(index='Age', columns='group1', values='meandiff')\n"
   ]
  },
  {
   "cell_type": "markdown",
   "metadata": {},
   "source": [
    "`KEY FINDINGS`\n",
    "* The heatmap visualizes mean differences across age groups (30, 40, 50, 60) for two diet types: Low-Carb and Low-Fat. The color gradient highlights variations, with red shades indicating positive differences and blue shades indicating negative differences. This analysis provides key insights for dietary recommendations targeted at different age groups.\n",
    "* `Key Observations`\n",
    "* Positive Impact of Low-Fat Diet:\n",
    "   * The Low-Fat diet shows consistently positive mean differences, with the effect becoming more pronounced in older age groups:\n",
    "   * Age 50: A mean difference of 0.80.\n",
    "   * Age 60: The highest mean difference of 1.06.\n",
    "   * Implication: The Low-Fat diet may be more beneficial for older individuals, especially those aged 50 and above.\n",
    "*  Negative Impact of Low-Carb Diet:\n",
    "   * The Low-Carb diet exhibits negative mean differences across all age groups, intensifying with age:\n",
    "   * Age 40: A small negative difference of -0.18.\n",
    "   * Age 60: A substantial negative difference of -1.15.\n",
    "   * Implication: The Low-Carb diet may not be as suitable for older individuals, particularly those aged 50 and above.\n",
    "* Minimal Variations in Younger Age Groups:\n",
    "   * For age groups 30 and 40, the differences are relatively minor for both diets: \n",
    "   * Low-Fat: 0.29 and 0.55, respectively.\n",
    "   * Low-Carb: 0.31 and -0.18, respectively.\n",
    "   * Implication: Both diets may have a less pronounced impact on younger populations.\n",
    "\n",
    "* Recommendations: \n",
    "   * Targeted Dietary Recommendations:Promote Low-Fat diets for individuals aged 50 and above, as they show the highest positive differences.\n",
    "   * Reassess the suitability of Low-Carb diets, especially for older populations.\n",
    "\n",
    "\n",
    "\n",
    "\n"
   ]
  },
  {
   "cell_type": "code",
   "execution_count": 45,
   "metadata": {},
   "outputs": [
    {
     "name": "stdout",
     "output_type": "stream",
     "text": [
      "   Age Recommended Diet                    Reason\n",
      "0   30    Mediterranean   Highest mean difference\n",
      "1   40          Low-Fat      Outperforms Low-Carb\n",
      "2   50          Low-Fat  Widest gap with Low-Carb\n",
      "3   60          Low-Fat       Largest effect size\n"
     ]
    }
   ],
   "source": [
    "# Create a summary table\n",
    "recommendations = {\n",
    "    'Age': [30, 40, 50, 60],\n",
    "    'Recommended Diet': ['Mediterranean', 'Low-Fat', 'Low-Fat', 'Low-Fat'],\n",
    "    'Reason': ['Highest mean difference', 'Outperforms Low-Carb', 'Widest gap with Low-Carb', 'Largest effect size']\n",
    "}\n",
    "recommendations_df = pd.DataFrame(recommendations)\n",
    "\n",
    "# Display the table\n",
    "print(recommendations_df)"
   ]
  },
  {
   "cell_type": "code",
   "execution_count": 46,
   "metadata": {},
   "outputs": [
    {
     "name": "stdout",
     "output_type": "stream",
     "text": [
      "=== Executive Summary ===\n",
      "- Mediterranean diet is best for individuals under 40.\n",
      "- Low-Fat diet becomes increasingly effective after 40, outperforming Low-Carb.\n",
      "- At age 60, Low-Fat shows the largest advantage over Mediterranean (1.056 mean difference).\n",
      "=== Recommended Diet by Age ===\n",
      "   Age Recommended Diet                    Reason\n",
      "0   30    Mediterranean   Highest mean difference\n",
      "1   40          Low-Fat      Outperforms Low-Carb\n",
      "2   50          Low-Fat  Widest gap with Low-Carb\n",
      "3   60          Low-Fat       Largest effect size\n"
     ]
    }
   ],
   "source": [
    "# Combine everything into a single report\n",
    "print(\"=== Executive Summary ===\")\n",
    "print(\"- Mediterranean diet is best for individuals under 40.\")\n",
    "print(\"- Low-Fat diet becomes increasingly effective after 40, outperforming Low-Carb.\")\n",
    "print(\"- At age 60, Low-Fat shows the largest advantage over Mediterranean (1.056 mean difference).\")\n",
    "\n",
    "print(\"=== Recommended Diet by Age ===\")\n",
    "print(recommendations_df)"
   ]
  },
  {
   "cell_type": "code",
   "execution_count": 47,
   "metadata": {},
   "outputs": [
    {
     "data": {
      "text/html": [
       "<pre style=\"white-space:pre;overflow-x:auto;line-height:normal;font-family:Menlo,'DejaVu Sans Mono',consolas,'Courier New',monospace\">\n",
       "<span style=\"font-weight: bold; text-decoration: underline\">Expected average weight loss when :(</span><span style=\"color: #008080; text-decoration-color: #008080; font-weight: bold; text-decoration: underline\">43.2</span><span style=\"font-weight: bold; text-decoration: underline\"> years):</span>\n",
       "<span style=\"font-weight: bold; text-decoration: underline\">- Low Fat: </span><span style=\"color: #008080; text-decoration-color: #008080; font-weight: bold; text-decoration: underline\">4.56</span><span style=\"font-weight: bold; text-decoration: underline\"> + </span><span style=\"color: #800080; text-decoration-color: #800080; font-weight: bold; text-decoration: underline\">0.05</span><span style=\"font-weight: bold; text-decoration: underline\">(Age)</span>\n",
       "<span style=\"font-weight: bold; text-decoration: underline\">- Low Carb: </span><span style=\"color: #008080; text-decoration-color: #008080; font-weight: bold; text-decoration: underline\">5.20</span><span style=\"font-weight: bold; text-decoration: underline\"> + (</span><span style=\"color: #008080; text-decoration-color: #008080; font-weight: bold; text-decoration: underline\">0.11</span><span style=\"font-weight: bold; text-decoration: underline\">)(Age)</span>\n",
       "\n",
       "</pre>\n"
      ],
      "text/plain": [
       "\n",
       "\u001b[1;4mExpected average weight loss when :\u001b[0m\u001b[1;4m(\u001b[0m\u001b[1;4;36m43.2\u001b[0m\u001b[1;4m years\u001b[0m\u001b[1;4m)\u001b[0m\u001b[1;4m:\u001b[0m\n",
       "\u001b[1;4m- Low Fat: \u001b[0m\u001b[1;4;36m4.56\u001b[0m\u001b[1;4m + \u001b[0m\u001b[1;4;35m0.05\u001b[0m\u001b[1;4m(\u001b[0m\u001b[1;4mAge\u001b[0m\u001b[1;4m)\u001b[0m\n",
       "\u001b[1;4m- Low Carb: \u001b[0m\u001b[1;4;36m5.20\u001b[0m\u001b[1;4m + \u001b[0m\u001b[1;4m(\u001b[0m\u001b[1;4;36m0.11\u001b[0m\u001b[1;4m)\u001b[0m\u001b[1;4m(\u001b[0m\u001b[1;4mAge\u001b[0m\u001b[1;4m)\u001b[0m\n",
       "\n"
      ]
     },
     "metadata": {},
     "output_type": "display_data"
    }
   ],
   "source": [
    "# Center Age\n",
    "mean_age = data['Age'].mean()\n",
    "data['Age_centered'] = data['Age'] - mean_age\n",
    "\n",
    "# Refit the model\n",
    "model_centered = ols('Weight_Loss ~ Diet_Type + Age_centered + Diet_Type:Age_centered', data=data).fit()\n",
    "\n",
    "# Print coefficients\n",
    "beta_0 = model_centered.params['Intercept']\n",
    "delta_1 = model_centered.params['Diet_Type[T.Low-Carb]']\n",
    "beta_age = model_centered.params['Age_centered']\n",
    "gamma_1 = model_centered.params['Diet_Type[T.Low-Carb]:Age_centered']\n",
    "\n",
    "console.print(f\"\"\"\n",
    "Expected average weight loss when :({mean_age:.1f} years):\n",
    "- Low Fat: {beta_0:.2f} + {beta_age:.2f}(Age)\n",
    "- Low Carb: {beta_0 + delta_1:.2f} + ({beta_age + gamma_1:.2f})(Age)\n",
    "\"\"\",style='bold underline')"
   ]
  },
  {
   "cell_type": "code",
   "execution_count": 48,
   "metadata": {},
   "outputs": [
    {
     "data": {
      "text/html": [
       "<div>\n",
       "<style scoped>\n",
       "    .dataframe tbody tr th:only-of-type {\n",
       "        vertical-align: middle;\n",
       "    }\n",
       "\n",
       "    .dataframe tbody tr th {\n",
       "        vertical-align: top;\n",
       "    }\n",
       "\n",
       "    .dataframe thead th {\n",
       "        text-align: right;\n",
       "    }\n",
       "</style>\n",
       "<table border=\"1\" class=\"dataframe\">\n",
       "  <thead>\n",
       "    <tr style=\"text-align: right;\">\n",
       "      <th></th>\n",
       "      <th>Diet_Type</th>\n",
       "      <th>Age</th>\n",
       "      <th>Weight_Loss</th>\n",
       "      <th>residuals</th>\n",
       "      <th>Age_centered</th>\n",
       "    </tr>\n",
       "  </thead>\n",
       "  <tbody>\n",
       "    <tr>\n",
       "      <th>0</th>\n",
       "      <td>Low-Carb</td>\n",
       "      <td>45</td>\n",
       "      <td>6.2</td>\n",
       "      <td>0.843168</td>\n",
       "      <td>1.833333</td>\n",
       "    </tr>\n",
       "    <tr>\n",
       "      <th>1</th>\n",
       "      <td>Low-Carb</td>\n",
       "      <td>51</td>\n",
       "      <td>5.8</td>\n",
       "      <td>-0.014682</td>\n",
       "      <td>7.833333</td>\n",
       "    </tr>\n",
       "    <tr>\n",
       "      <th>2</th>\n",
       "      <td>Low-Carb</td>\n",
       "      <td>37</td>\n",
       "      <td>4.3</td>\n",
       "      <td>-0.446365</td>\n",
       "      <td>-6.166667</td>\n",
       "    </tr>\n",
       "    <tr>\n",
       "      <th>3</th>\n",
       "      <td>Low-Carb</td>\n",
       "      <td>29</td>\n",
       "      <td>3.9</td>\n",
       "      <td>-0.235898</td>\n",
       "      <td>-14.166667</td>\n",
       "    </tr>\n",
       "    <tr>\n",
       "      <th>4</th>\n",
       "      <td>Low-Carb</td>\n",
       "      <td>60</td>\n",
       "      <td>7.1</td>\n",
       "      <td>0.598543</td>\n",
       "      <td>16.833333</td>\n",
       "    </tr>\n",
       "  </tbody>\n",
       "</table>\n",
       "</div>"
      ],
      "text/plain": [
       "  Diet_Type  Age  Weight_Loss  residuals  Age_centered\n",
       "0  Low-Carb   45          6.2   0.843168      1.833333\n",
       "1  Low-Carb   51          5.8  -0.014682      7.833333\n",
       "2  Low-Carb   37          4.3  -0.446365     -6.166667\n",
       "3  Low-Carb   29          3.9  -0.235898    -14.166667\n",
       "4  Low-Carb   60          7.1   0.598543     16.833333"
      ]
     },
     "execution_count": 48,
     "metadata": {},
     "output_type": "execute_result"
    }
   ],
   "source": [
    "data.head()"
   ]
  },
  {
   "cell_type": "code",
   "execution_count": 49,
   "metadata": {},
   "outputs": [
    {
     "data": {
      "text/html": [
       "<pre style=\"white-space:pre;overflow-x:auto;line-height:normal;font-family:Menlo,'DejaVu Sans Mono',consolas,'Courier New',monospace\"><span style=\"font-weight: bold; text-decoration: underline\">Detailed Tukey's HSD Post-Hoc Analysis: Evaluating Diet Effects Across Age </span><span style=\"color: #800080; text-decoration-color: #800080; font-weight: bold; text-decoration: underline\">Groups</span><span style=\"font-weight: bold; text-decoration: underline\">(Centred Model)</span>\n",
       "</pre>\n"
      ],
      "text/plain": [
       "\u001b[1;4mDetailed Tukey's HSD Post-Hoc Analysis: Evaluating Diet Effects Across Age \u001b[0m\u001b[1;4;35mGroups\u001b[0m\u001b[1;4m(\u001b[0m\u001b[1;4mCentred Model\u001b[0m\u001b[1;4m)\u001b[0m\n"
      ]
     },
     "metadata": {},
     "output_type": "display_data"
    },
    {
     "data": {
      "text/html": [
       "<pre style=\"white-space:pre;overflow-x:auto;line-height:normal;font-family:Menlo,'DejaVu Sans Mono',consolas,'Courier New',monospace\">         group1         group2  meandiff  p-adj   lower   upper  reject\n",
       "Age                                                                    \n",
       "<span style=\"color: #008080; text-decoration-color: #008080; font-weight: bold\">30</span>  <span style=\"color: #008080; text-decoration-color: #008080; font-weight: bold\">0</span>  Low-Carb        Low-Fat    <span style=\"color: #008080; text-decoration-color: #008080; font-weight: bold\">0.2772</span>    <span style=\"color: #008080; text-decoration-color: #008080; font-weight: bold\">0.0</span>  <span style=\"color: #008080; text-decoration-color: #008080; font-weight: bold\">0.2772</span>  <span style=\"color: #008080; text-decoration-color: #008080; font-weight: bold\">0.2772</span>    <span style=\"color: #00ff00; text-decoration-color: #00ff00; font-style: italic\">True</span>\n",
       "    <span style=\"color: #008080; text-decoration-color: #008080; font-weight: bold\">1</span>  Low-Carb  Mediterranean    <span style=\"color: #008080; text-decoration-color: #008080; font-weight: bold\">0.5210</span>    <span style=\"color: #008080; text-decoration-color: #008080; font-weight: bold\">0.0</span>  <span style=\"color: #008080; text-decoration-color: #008080; font-weight: bold\">0.5210</span>  <span style=\"color: #008080; text-decoration-color: #008080; font-weight: bold\">0.5210</span>    <span style=\"color: #00ff00; text-decoration-color: #00ff00; font-style: italic\">True</span>\n",
       "    <span style=\"color: #008080; text-decoration-color: #008080; font-weight: bold\">2</span>   Low-Fat  Mediterranean    <span style=\"color: #008080; text-decoration-color: #008080; font-weight: bold\">0.2438</span>    <span style=\"color: #008080; text-decoration-color: #008080; font-weight: bold\">0.0</span>  <span style=\"color: #008080; text-decoration-color: #008080; font-weight: bold\">0.2438</span>  <span style=\"color: #008080; text-decoration-color: #008080; font-weight: bold\">0.2438</span>    <span style=\"color: #00ff00; text-decoration-color: #00ff00; font-style: italic\">True</span>\n",
       "<span style=\"color: #008080; text-decoration-color: #008080; font-weight: bold\">40</span>  <span style=\"color: #008080; text-decoration-color: #008080; font-weight: bold\">0</span>  Low-Carb        Low-Fat   <span style=\"color: #008080; text-decoration-color: #008080; font-weight: bold\">-0.3360</span>    <span style=\"color: #008080; text-decoration-color: #008080; font-weight: bold\">0.0</span> <span style=\"color: #008080; text-decoration-color: #008080; font-weight: bold\">-0.3360</span> <span style=\"color: #008080; text-decoration-color: #008080; font-weight: bold\">-0.3360</span>    <span style=\"color: #00ff00; text-decoration-color: #00ff00; font-style: italic\">True</span>\n",
       "    <span style=\"color: #008080; text-decoration-color: #008080; font-weight: bold\">1</span>  Low-Carb  Mediterranean    <span style=\"color: #008080; text-decoration-color: #008080; font-weight: bold\">0.1629</span>    <span style=\"color: #008080; text-decoration-color: #008080; font-weight: bold\">0.0</span>  <span style=\"color: #008080; text-decoration-color: #008080; font-weight: bold\">0.1629</span>  <span style=\"color: #008080; text-decoration-color: #008080; font-weight: bold\">0.1629</span>    <span style=\"color: #00ff00; text-decoration-color: #00ff00; font-style: italic\">True</span>\n",
       "    <span style=\"color: #008080; text-decoration-color: #008080; font-weight: bold\">2</span>   Low-Fat  Mediterranean    <span style=\"color: #008080; text-decoration-color: #008080; font-weight: bold\">0.4989</span>    <span style=\"color: #008080; text-decoration-color: #008080; font-weight: bold\">0.0</span>  <span style=\"color: #008080; text-decoration-color: #008080; font-weight: bold\">0.4989</span>  <span style=\"color: #008080; text-decoration-color: #008080; font-weight: bold\">0.4989</span>    <span style=\"color: #00ff00; text-decoration-color: #00ff00; font-style: italic\">True</span>\n",
       "<span style=\"color: #008080; text-decoration-color: #008080; font-weight: bold\">50</span>  <span style=\"color: #008080; text-decoration-color: #008080; font-weight: bold\">0</span>  Low-Carb        Low-Fat   <span style=\"color: #008080; text-decoration-color: #008080; font-weight: bold\">-0.9492</span>    <span style=\"color: #008080; text-decoration-color: #008080; font-weight: bold\">0.0</span> <span style=\"color: #008080; text-decoration-color: #008080; font-weight: bold\">-0.9492</span> <span style=\"color: #008080; text-decoration-color: #008080; font-weight: bold\">-0.9492</span>    <span style=\"color: #00ff00; text-decoration-color: #00ff00; font-style: italic\">True</span>\n",
       "    <span style=\"color: #008080; text-decoration-color: #008080; font-weight: bold\">1</span>  Low-Carb  Mediterranean   <span style=\"color: #008080; text-decoration-color: #008080; font-weight: bold\">-0.1952</span>    <span style=\"color: #008080; text-decoration-color: #008080; font-weight: bold\">0.0</span> <span style=\"color: #008080; text-decoration-color: #008080; font-weight: bold\">-0.1952</span> <span style=\"color: #008080; text-decoration-color: #008080; font-weight: bold\">-0.1952</span>    <span style=\"color: #00ff00; text-decoration-color: #00ff00; font-style: italic\">True</span>\n",
       "    <span style=\"color: #008080; text-decoration-color: #008080; font-weight: bold\">2</span>   Low-Fat  Mediterranean    <span style=\"color: #008080; text-decoration-color: #008080; font-weight: bold\">0.7541</span>    <span style=\"color: #008080; text-decoration-color: #008080; font-weight: bold\">0.0</span>  <span style=\"color: #008080; text-decoration-color: #008080; font-weight: bold\">0.7541</span>  <span style=\"color: #008080; text-decoration-color: #008080; font-weight: bold\">0.7541</span>    <span style=\"color: #00ff00; text-decoration-color: #00ff00; font-style: italic\">True</span>\n",
       "<span style=\"color: #008080; text-decoration-color: #008080; font-weight: bold\">60</span>  <span style=\"color: #008080; text-decoration-color: #008080; font-weight: bold\">0</span>  Low-Carb        Low-Fat   <span style=\"color: #008080; text-decoration-color: #008080; font-weight: bold\">-1.5625</span>    <span style=\"color: #008080; text-decoration-color: #008080; font-weight: bold\">0.0</span> <span style=\"color: #008080; text-decoration-color: #008080; font-weight: bold\">-1.5625</span> <span style=\"color: #008080; text-decoration-color: #008080; font-weight: bold\">-1.5625</span>    <span style=\"color: #00ff00; text-decoration-color: #00ff00; font-style: italic\">True</span>\n",
       "    <span style=\"color: #008080; text-decoration-color: #008080; font-weight: bold\">1</span>  Low-Carb  Mediterranean   <span style=\"color: #008080; text-decoration-color: #008080; font-weight: bold\">-0.5533</span>    <span style=\"color: #008080; text-decoration-color: #008080; font-weight: bold\">0.0</span> <span style=\"color: #008080; text-decoration-color: #008080; font-weight: bold\">-0.5533</span> <span style=\"color: #008080; text-decoration-color: #008080; font-weight: bold\">-0.5533</span>    <span style=\"color: #00ff00; text-decoration-color: #00ff00; font-style: italic\">True</span>\n",
       "    <span style=\"color: #008080; text-decoration-color: #008080; font-weight: bold\">2</span>   Low-Fat  Mediterranean    <span style=\"color: #008080; text-decoration-color: #008080; font-weight: bold\">1.0092</span>    <span style=\"color: #008080; text-decoration-color: #008080; font-weight: bold\">0.0</span>  <span style=\"color: #008080; text-decoration-color: #008080; font-weight: bold\">1.0092</span>  <span style=\"color: #008080; text-decoration-color: #008080; font-weight: bold\">1.0092</span>    <span style=\"color: #00ff00; text-decoration-color: #00ff00; font-style: italic\">True</span>\n",
       "</pre>\n"
      ],
      "text/plain": [
       "         group1         group2  meandiff  p-adj   lower   upper  reject\n",
       "Age                                                                    \n",
       "\u001b[1;36m30\u001b[0m  \u001b[1;36m0\u001b[0m  Low-Carb        Low-Fat    \u001b[1;36m0.2772\u001b[0m    \u001b[1;36m0.0\u001b[0m  \u001b[1;36m0.2772\u001b[0m  \u001b[1;36m0.2772\u001b[0m    \u001b[3;92mTrue\u001b[0m\n",
       "    \u001b[1;36m1\u001b[0m  Low-Carb  Mediterranean    \u001b[1;36m0.5210\u001b[0m    \u001b[1;36m0.0\u001b[0m  \u001b[1;36m0.5210\u001b[0m  \u001b[1;36m0.5210\u001b[0m    \u001b[3;92mTrue\u001b[0m\n",
       "    \u001b[1;36m2\u001b[0m   Low-Fat  Mediterranean    \u001b[1;36m0.2438\u001b[0m    \u001b[1;36m0.0\u001b[0m  \u001b[1;36m0.2438\u001b[0m  \u001b[1;36m0.2438\u001b[0m    \u001b[3;92mTrue\u001b[0m\n",
       "\u001b[1;36m40\u001b[0m  \u001b[1;36m0\u001b[0m  Low-Carb        Low-Fat   \u001b[1;36m-0.3360\u001b[0m    \u001b[1;36m0.0\u001b[0m \u001b[1;36m-0.3360\u001b[0m \u001b[1;36m-0.3360\u001b[0m    \u001b[3;92mTrue\u001b[0m\n",
       "    \u001b[1;36m1\u001b[0m  Low-Carb  Mediterranean    \u001b[1;36m0.1629\u001b[0m    \u001b[1;36m0.0\u001b[0m  \u001b[1;36m0.1629\u001b[0m  \u001b[1;36m0.1629\u001b[0m    \u001b[3;92mTrue\u001b[0m\n",
       "    \u001b[1;36m2\u001b[0m   Low-Fat  Mediterranean    \u001b[1;36m0.4989\u001b[0m    \u001b[1;36m0.0\u001b[0m  \u001b[1;36m0.4989\u001b[0m  \u001b[1;36m0.4989\u001b[0m    \u001b[3;92mTrue\u001b[0m\n",
       "\u001b[1;36m50\u001b[0m  \u001b[1;36m0\u001b[0m  Low-Carb        Low-Fat   \u001b[1;36m-0.9492\u001b[0m    \u001b[1;36m0.0\u001b[0m \u001b[1;36m-0.9492\u001b[0m \u001b[1;36m-0.9492\u001b[0m    \u001b[3;92mTrue\u001b[0m\n",
       "    \u001b[1;36m1\u001b[0m  Low-Carb  Mediterranean   \u001b[1;36m-0.1952\u001b[0m    \u001b[1;36m0.0\u001b[0m \u001b[1;36m-0.1952\u001b[0m \u001b[1;36m-0.1952\u001b[0m    \u001b[3;92mTrue\u001b[0m\n",
       "    \u001b[1;36m2\u001b[0m   Low-Fat  Mediterranean    \u001b[1;36m0.7541\u001b[0m    \u001b[1;36m0.0\u001b[0m  \u001b[1;36m0.7541\u001b[0m  \u001b[1;36m0.7541\u001b[0m    \u001b[3;92mTrue\u001b[0m\n",
       "\u001b[1;36m60\u001b[0m  \u001b[1;36m0\u001b[0m  Low-Carb        Low-Fat   \u001b[1;36m-1.5625\u001b[0m    \u001b[1;36m0.0\u001b[0m \u001b[1;36m-1.5625\u001b[0m \u001b[1;36m-1.5625\u001b[0m    \u001b[3;92mTrue\u001b[0m\n",
       "    \u001b[1;36m1\u001b[0m  Low-Carb  Mediterranean   \u001b[1;36m-0.5533\u001b[0m    \u001b[1;36m0.0\u001b[0m \u001b[1;36m-0.5533\u001b[0m \u001b[1;36m-0.5533\u001b[0m    \u001b[3;92mTrue\u001b[0m\n",
       "    \u001b[1;36m2\u001b[0m   Low-Fat  Mediterranean    \u001b[1;36m1.0092\u001b[0m    \u001b[1;36m0.0\u001b[0m  \u001b[1;36m1.0092\u001b[0m  \u001b[1;36m1.0092\u001b[0m    \u001b[3;92mTrue\u001b[0m\n"
      ]
     },
     "metadata": {},
     "output_type": "display_data"
    }
   ],
   "source": [
    "import pandas as pd\n",
    "import numpy as np\n",
    "\n",
    "# Collect post-hoc results\n",
    "results = []\n",
    "for age in ages_of_interest:\n",
    "    df_subset = data.copy()\n",
    "    df_subset['Predicted'] = model_centered.predict(df_subset.assign(Age_centered=(age - np.mean(ages_of_interest))))\n",
    "    mc = MultiComparison(df_subset['Predicted'], df_subset['Diet_Type'])\n",
    "    tukey_results = mc.tukeyhsd()\n",
    "    results.append(pd.DataFrame(tukey_results._results_table.data[1:], columns=tukey_results._results_table.data[0]))\n",
    "\n",
    "# Combine results into one table\n",
    "summary_table_centred = pd.concat(results, keys=ages_of_interest, names=['Age'])\n",
    "console.print(f\"[bold underline]Detailed Tukey's HSD Post-Hoc Analysis: Evaluating Diet Effects Across Age Groups(Centred Model)[/bold underline]\")\n",
    "console.print(summary_table_centred)\n"
   ]
  },
  {
   "cell_type": "code",
   "execution_count": null,
   "metadata": {},
   "outputs": [],
   "source": []
  },
  {
   "cell_type": "code",
   "execution_count": null,
   "metadata": {},
   "outputs": [],
   "source": []
  },
  {
   "cell_type": "code",
   "execution_count": null,
   "metadata": {},
   "outputs": [],
   "source": []
  }
 ],
 "metadata": {
  "kernelspec": {
   "display_name": "jt",
   "language": "python",
   "name": "python3"
  },
  "language_info": {
   "codemirror_mode": {
    "name": "ipython",
    "version": 3
   },
   "file_extension": ".py",
   "mimetype": "text/x-python",
   "name": "python",
   "nbconvert_exporter": "python",
   "pygments_lexer": "ipython3",
   "version": "3.12.2"
  }
 },
 "nbformat": 4,
 "nbformat_minor": 2
}
