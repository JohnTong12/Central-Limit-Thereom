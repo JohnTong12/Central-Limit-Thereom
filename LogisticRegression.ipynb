{
 "cells": [
  {
   "cell_type": "markdown",
   "metadata": {},
   "source": [
    "`LOGISTIC REGRESSION`"
   ]
  },
  {
   "cell_type": "code",
   "execution_count": 6,
   "metadata": {},
   "outputs": [],
   "source": [
    "## importing neccessary libraries  \n",
    "import numpy as np\n",
    "import matplotlib.pyplot as plt \n",
    "import seaborn as sns  \n",
    "import plotly.express as px   \n",
    "import plotly.graph_objects as go  \n",
    "import plotly.io as io  \n",
    "import patsy \n",
    "import statsmodels.api as sm  \n",
    "from statsmodels.api import Logit \n",
    "import pandas as pd     \n",
    "from scipy import stats\n",
    "from rich.console import Console \n",
    "Console = Console()"
   ]
  },
  {
   "cell_type": "code",
   "execution_count": 7,
   "metadata": {},
   "outputs": [
    {
     "data": {
      "text/html": [
       "<div>\n",
       "<style scoped>\n",
       "    .dataframe tbody tr th:only-of-type {\n",
       "        vertical-align: middle;\n",
       "    }\n",
       "\n",
       "    .dataframe tbody tr th {\n",
       "        vertical-align: top;\n",
       "    }\n",
       "\n",
       "    .dataframe thead th {\n",
       "        text-align: right;\n",
       "    }\n",
       "</style>\n",
       "<table border=\"1\" class=\"dataframe\">\n",
       "  <thead>\n",
       "    <tr style=\"text-align: right;\">\n",
       "      <th></th>\n",
       "      <th>PatientID</th>\n",
       "      <th>SecondSurgeryNeeded</th>\n",
       "      <th>AgeAtFirstSurgery</th>\n",
       "      <th>DiseaseDuration</th>\n",
       "      <th>LengthAffectedIntestine</th>\n",
       "      <th>AlbuminLevel</th>\n",
       "      <th>IBDType</th>\n",
       "      <th>PreviousAbdominalSurgery</th>\n",
       "      <th>SmokingStatus</th>\n",
       "      <th>Comorbidities</th>\n",
       "      <th>TypeOfSurgery</th>\n",
       "      <th>UseOfBiologics</th>\n",
       "      <th>FamilyHistoryOfIBD</th>\n",
       "      <th>Gender</th>\n",
       "      <th>SurgeonExperienceLevel</th>\n",
       "    </tr>\n",
       "  </thead>\n",
       "  <tbody>\n",
       "    <tr>\n",
       "      <th>0</th>\n",
       "      <td>P001</td>\n",
       "      <td>Yes</td>\n",
       "      <td>35</td>\n",
       "      <td>6.8</td>\n",
       "      <td>105</td>\n",
       "      <td>4.3</td>\n",
       "      <td>Crohn's</td>\n",
       "      <td>Yes</td>\n",
       "      <td>Current</td>\n",
       "      <td>No</td>\n",
       "      <td>Open</td>\n",
       "      <td>Yes</td>\n",
       "      <td>No</td>\n",
       "      <td>Female</td>\n",
       "      <td>Specialist</td>\n",
       "    </tr>\n",
       "    <tr>\n",
       "      <th>1</th>\n",
       "      <td>P002</td>\n",
       "      <td>Yes</td>\n",
       "      <td>40</td>\n",
       "      <td>4.9</td>\n",
       "      <td>127</td>\n",
       "      <td>3.8</td>\n",
       "      <td>Crohn's</td>\n",
       "      <td>No</td>\n",
       "      <td>Never</td>\n",
       "      <td>No</td>\n",
       "      <td>Open</td>\n",
       "      <td>Yes</td>\n",
       "      <td>Yes</td>\n",
       "      <td>Male</td>\n",
       "      <td>Specialist</td>\n",
       "    </tr>\n",
       "    <tr>\n",
       "      <th>2</th>\n",
       "      <td>P003</td>\n",
       "      <td>Yes</td>\n",
       "      <td>31</td>\n",
       "      <td>11.5</td>\n",
       "      <td>135</td>\n",
       "      <td>3.2</td>\n",
       "      <td>Crohn's</td>\n",
       "      <td>Yes</td>\n",
       "      <td>Former</td>\n",
       "      <td>No</td>\n",
       "      <td>Minimally Invasive</td>\n",
       "      <td>Yes</td>\n",
       "      <td>No</td>\n",
       "      <td>Female</td>\n",
       "      <td>Senior</td>\n",
       "    </tr>\n",
       "    <tr>\n",
       "      <th>3</th>\n",
       "      <td>P004</td>\n",
       "      <td>Yes</td>\n",
       "      <td>50</td>\n",
       "      <td>20.6</td>\n",
       "      <td>110</td>\n",
       "      <td>3.2</td>\n",
       "      <td>Crohn's</td>\n",
       "      <td>No</td>\n",
       "      <td>Former</td>\n",
       "      <td>Yes</td>\n",
       "      <td>Open</td>\n",
       "      <td>No</td>\n",
       "      <td>Yes</td>\n",
       "      <td>Male</td>\n",
       "      <td>Specialist</td>\n",
       "    </tr>\n",
       "    <tr>\n",
       "      <th>4</th>\n",
       "      <td>P005</td>\n",
       "      <td>Yes</td>\n",
       "      <td>35</td>\n",
       "      <td>14.9</td>\n",
       "      <td>151</td>\n",
       "      <td>2.6</td>\n",
       "      <td>Crohn's</td>\n",
       "      <td>Yes</td>\n",
       "      <td>Never</td>\n",
       "      <td>Yes</td>\n",
       "      <td>Open</td>\n",
       "      <td>Yes</td>\n",
       "      <td>No</td>\n",
       "      <td>Male</td>\n",
       "      <td>Mid_Level</td>\n",
       "    </tr>\n",
       "  </tbody>\n",
       "</table>\n",
       "</div>"
      ],
      "text/plain": [
       "  PatientID SecondSurgeryNeeded  AgeAtFirstSurgery  DiseaseDuration  \\\n",
       "0      P001                 Yes                 35              6.8   \n",
       "1      P002                 Yes                 40              4.9   \n",
       "2      P003                 Yes                 31             11.5   \n",
       "3      P004                 Yes                 50             20.6   \n",
       "4      P005                 Yes                 35             14.9   \n",
       "\n",
       "   LengthAffectedIntestine  AlbuminLevel  IBDType PreviousAbdominalSurgery  \\\n",
       "0                      105           4.3  Crohn's                      Yes   \n",
       "1                      127           3.8  Crohn's                       No   \n",
       "2                      135           3.2  Crohn's                      Yes   \n",
       "3                      110           3.2  Crohn's                       No   \n",
       "4                      151           2.6  Crohn's                      Yes   \n",
       "\n",
       "  SmokingStatus Comorbidities       TypeOfSurgery UseOfBiologics  \\\n",
       "0       Current            No                Open            Yes   \n",
       "1         Never            No                Open            Yes   \n",
       "2        Former            No  Minimally Invasive            Yes   \n",
       "3        Former           Yes                Open             No   \n",
       "4         Never           Yes                Open            Yes   \n",
       "\n",
       "  FamilyHistoryOfIBD  Gender SurgeonExperienceLevel  \n",
       "0                 No  Female             Specialist  \n",
       "1                Yes    Male             Specialist  \n",
       "2                 No  Female                 Senior  \n",
       "3                Yes    Male             Specialist  \n",
       "4                 No    Male              Mid_Level  "
      ]
     },
     "execution_count": 7,
     "metadata": {},
     "output_type": "execute_result"
    }
   ],
   "source": [
    "## loading the data  \n",
    "data = pd.read_excel(r'D:\\python_data_analysis\\Analytics\\Practice\\projects\\healthcare_dataset.xlsx')\n",
    "## displaying the first five items   \n",
    "data.head()\n"
   ]
  },
  {
   "cell_type": "code",
   "execution_count": 8,
   "metadata": {},
   "outputs": [
    {
     "data": {
      "text/html": [
       "<div>\n",
       "<style scoped>\n",
       "    .dataframe tbody tr th:only-of-type {\n",
       "        vertical-align: middle;\n",
       "    }\n",
       "\n",
       "    .dataframe tbody tr th {\n",
       "        vertical-align: top;\n",
       "    }\n",
       "\n",
       "    .dataframe thead th {\n",
       "        text-align: right;\n",
       "    }\n",
       "</style>\n",
       "<table border=\"1\" class=\"dataframe\">\n",
       "  <thead>\n",
       "    <tr style=\"text-align: right;\">\n",
       "      <th></th>\n",
       "      <th>PatientID</th>\n",
       "      <th>SecondSurgeryNeeded</th>\n",
       "      <th>AgeAtFirstSurgery</th>\n",
       "      <th>DiseaseDuration</th>\n",
       "      <th>LengthAffectedIntestine</th>\n",
       "      <th>AlbuminLevel</th>\n",
       "      <th>IBDType</th>\n",
       "      <th>PreviousAbdominalSurgery</th>\n",
       "      <th>SmokingStatus</th>\n",
       "      <th>Comorbidities</th>\n",
       "      <th>TypeOfSurgery</th>\n",
       "      <th>UseOfBiologics</th>\n",
       "      <th>FamilyHistoryOfIBD</th>\n",
       "      <th>Gender</th>\n",
       "      <th>SurgeonExperienceLevel</th>\n",
       "    </tr>\n",
       "  </thead>\n",
       "  <tbody>\n",
       "    <tr>\n",
       "      <th>115</th>\n",
       "      <td>P116</td>\n",
       "      <td>No</td>\n",
       "      <td>38</td>\n",
       "      <td>0.1</td>\n",
       "      <td>41</td>\n",
       "      <td>4.6</td>\n",
       "      <td>UC</td>\n",
       "      <td>Yes</td>\n",
       "      <td>Current</td>\n",
       "      <td>No</td>\n",
       "      <td>Minimally Invasive</td>\n",
       "      <td>No</td>\n",
       "      <td>No</td>\n",
       "      <td>Female</td>\n",
       "      <td>Mid_Level</td>\n",
       "    </tr>\n",
       "    <tr>\n",
       "      <th>116</th>\n",
       "      <td>P117</td>\n",
       "      <td>No</td>\n",
       "      <td>43</td>\n",
       "      <td>7.2</td>\n",
       "      <td>83</td>\n",
       "      <td>4.3</td>\n",
       "      <td>UC</td>\n",
       "      <td>No</td>\n",
       "      <td>Never</td>\n",
       "      <td>Yes</td>\n",
       "      <td>Minimally Invasive</td>\n",
       "      <td>Yes</td>\n",
       "      <td>No</td>\n",
       "      <td>Male</td>\n",
       "      <td>Senior</td>\n",
       "    </tr>\n",
       "    <tr>\n",
       "      <th>117</th>\n",
       "      <td>P118</td>\n",
       "      <td>No</td>\n",
       "      <td>42</td>\n",
       "      <td>3.9</td>\n",
       "      <td>92</td>\n",
       "      <td>2.9</td>\n",
       "      <td>Crohn's</td>\n",
       "      <td>No</td>\n",
       "      <td>Never</td>\n",
       "      <td>Yes</td>\n",
       "      <td>Minimally Invasive</td>\n",
       "      <td>No</td>\n",
       "      <td>No</td>\n",
       "      <td>Male</td>\n",
       "      <td>Senior</td>\n",
       "    </tr>\n",
       "    <tr>\n",
       "      <th>118</th>\n",
       "      <td>P119</td>\n",
       "      <td>No</td>\n",
       "      <td>62</td>\n",
       "      <td>17.8</td>\n",
       "      <td>107</td>\n",
       "      <td>3.4</td>\n",
       "      <td>Crohn's</td>\n",
       "      <td>No</td>\n",
       "      <td>Never</td>\n",
       "      <td>Yes</td>\n",
       "      <td>Minimally Invasive</td>\n",
       "      <td>No</td>\n",
       "      <td>No</td>\n",
       "      <td>Male</td>\n",
       "      <td>Mid_Level</td>\n",
       "    </tr>\n",
       "    <tr>\n",
       "      <th>119</th>\n",
       "      <td>P120</td>\n",
       "      <td>No</td>\n",
       "      <td>43</td>\n",
       "      <td>16.3</td>\n",
       "      <td>67</td>\n",
       "      <td>4.5</td>\n",
       "      <td>Crohn's</td>\n",
       "      <td>No</td>\n",
       "      <td>Never</td>\n",
       "      <td>Yes</td>\n",
       "      <td>Minimally Invasive</td>\n",
       "      <td>Yes</td>\n",
       "      <td>No</td>\n",
       "      <td>Male</td>\n",
       "      <td>Senior</td>\n",
       "    </tr>\n",
       "  </tbody>\n",
       "</table>\n",
       "</div>"
      ],
      "text/plain": [
       "    PatientID SecondSurgeryNeeded  AgeAtFirstSurgery  DiseaseDuration  \\\n",
       "115      P116                  No                 38              0.1   \n",
       "116      P117                  No                 43              7.2   \n",
       "117      P118                  No                 42              3.9   \n",
       "118      P119                  No                 62             17.8   \n",
       "119      P120                  No                 43             16.3   \n",
       "\n",
       "     LengthAffectedIntestine  AlbuminLevel  IBDType PreviousAbdominalSurgery  \\\n",
       "115                       41           4.6       UC                      Yes   \n",
       "116                       83           4.3       UC                       No   \n",
       "117                       92           2.9  Crohn's                       No   \n",
       "118                      107           3.4  Crohn's                       No   \n",
       "119                       67           4.5  Crohn's                       No   \n",
       "\n",
       "    SmokingStatus Comorbidities       TypeOfSurgery UseOfBiologics  \\\n",
       "115       Current            No  Minimally Invasive             No   \n",
       "116         Never           Yes  Minimally Invasive            Yes   \n",
       "117         Never           Yes  Minimally Invasive             No   \n",
       "118         Never           Yes  Minimally Invasive             No   \n",
       "119         Never           Yes  Minimally Invasive            Yes   \n",
       "\n",
       "    FamilyHistoryOfIBD  Gender SurgeonExperienceLevel  \n",
       "115                 No  Female              Mid_Level  \n",
       "116                 No    Male                 Senior  \n",
       "117                 No    Male                 Senior  \n",
       "118                 No    Male              Mid_Level  \n",
       "119                 No    Male                 Senior  "
      ]
     },
     "execution_count": 8,
     "metadata": {},
     "output_type": "execute_result"
    }
   ],
   "source": [
    "## checking the last five  \n",
    "data.tail()"
   ]
  },
  {
   "cell_type": "code",
   "execution_count": 9,
   "metadata": {},
   "outputs": [
    {
     "data": {
      "text/plain": [
       "(120, 15)"
      ]
     },
     "execution_count": 9,
     "metadata": {},
     "output_type": "execute_result"
    }
   ],
   "source": [
    "## checking for shape of the data  \n",
    "data.shape"
   ]
  },
  {
   "cell_type": "code",
   "execution_count": 10,
   "metadata": {},
   "outputs": [
    {
     "name": "stdout",
     "output_type": "stream",
     "text": [
      "<class 'pandas.core.frame.DataFrame'>\n",
      "RangeIndex: 120 entries, 0 to 119\n",
      "Data columns (total 15 columns):\n",
      " #   Column                    Non-Null Count  Dtype  \n",
      "---  ------                    --------------  -----  \n",
      " 0   PatientID                 120 non-null    object \n",
      " 1   SecondSurgeryNeeded       120 non-null    object \n",
      " 2   AgeAtFirstSurgery         120 non-null    int64  \n",
      " 3   DiseaseDuration           120 non-null    float64\n",
      " 4   LengthAffectedIntestine   120 non-null    int64  \n",
      " 5   AlbuminLevel              120 non-null    float64\n",
      " 6   IBDType                   120 non-null    object \n",
      " 7   PreviousAbdominalSurgery  120 non-null    object \n",
      " 8   SmokingStatus             120 non-null    object \n",
      " 9   Comorbidities             120 non-null    object \n",
      " 10  TypeOfSurgery             120 non-null    object \n",
      " 11  UseOfBiologics            120 non-null    object \n",
      " 12  FamilyHistoryOfIBD        120 non-null    object \n",
      " 13  Gender                    120 non-null    object \n",
      " 14  SurgeonExperienceLevel    120 non-null    object \n",
      "dtypes: float64(2), int64(2), object(11)\n",
      "memory usage: 14.2+ KB\n"
     ]
    }
   ],
   "source": [
    "## checking for general info  \n",
    "data.info()"
   ]
  },
  {
   "cell_type": "code",
   "execution_count": 11,
   "metadata": {},
   "outputs": [
    {
     "data": {
      "text/plain": [
       "PatientID                   0.0\n",
       "SecondSurgeryNeeded         0.0\n",
       "AgeAtFirstSurgery           0.0\n",
       "DiseaseDuration             0.0\n",
       "LengthAffectedIntestine     0.0\n",
       "AlbuminLevel                0.0\n",
       "IBDType                     0.0\n",
       "PreviousAbdominalSurgery    0.0\n",
       "SmokingStatus               0.0\n",
       "Comorbidities               0.0\n",
       "TypeOfSurgery               0.0\n",
       "UseOfBiologics              0.0\n",
       "FamilyHistoryOfIBD          0.0\n",
       "Gender                      0.0\n",
       "SurgeonExperienceLevel      0.0\n",
       "dtype: float64"
      ]
     },
     "execution_count": 11,
     "metadata": {},
     "output_type": "execute_result"
    }
   ],
   "source": [
    "## checking for missing values    \n",
    "data.isnull().mean()*100"
   ]
  },
  {
   "cell_type": "code",
   "execution_count": 12,
   "metadata": {},
   "outputs": [
    {
     "data": {
      "text/plain": [
       "0"
      ]
     },
     "execution_count": 12,
     "metadata": {},
     "output_type": "execute_result"
    }
   ],
   "source": [
    "## checking for duplicates  \n",
    "data.duplicated(keep='first').sum()"
   ]
  },
  {
   "cell_type": "markdown",
   "metadata": {},
   "source": [
    "* Exploratory data Analysis"
   ]
  },
  {
   "cell_type": "code",
   "execution_count": 13,
   "metadata": {},
   "outputs": [
    {
     "data": {
      "text/html": [
       "<div>\n",
       "<style scoped>\n",
       "    .dataframe tbody tr th:only-of-type {\n",
       "        vertical-align: middle;\n",
       "    }\n",
       "\n",
       "    .dataframe tbody tr th {\n",
       "        vertical-align: top;\n",
       "    }\n",
       "\n",
       "    .dataframe thead th {\n",
       "        text-align: right;\n",
       "    }\n",
       "</style>\n",
       "<table border=\"1\" class=\"dataframe\">\n",
       "  <thead>\n",
       "    <tr style=\"text-align: right;\">\n",
       "      <th></th>\n",
       "      <th>count</th>\n",
       "      <th>mean</th>\n",
       "      <th>std</th>\n",
       "      <th>min</th>\n",
       "      <th>25%</th>\n",
       "      <th>50%</th>\n",
       "      <th>75%</th>\n",
       "      <th>max</th>\n",
       "    </tr>\n",
       "  </thead>\n",
       "  <tbody>\n",
       "    <tr>\n",
       "      <th>AgeAtFirstSurgery</th>\n",
       "      <td>120.0</td>\n",
       "      <td>39.841667</td>\n",
       "      <td>10.919103</td>\n",
       "      <td>-2.0</td>\n",
       "      <td>33.000</td>\n",
       "      <td>40.00</td>\n",
       "      <td>47.00</td>\n",
       "      <td>66.0</td>\n",
       "    </tr>\n",
       "    <tr>\n",
       "      <th>DiseaseDuration</th>\n",
       "      <td>120.0</td>\n",
       "      <td>8.206667</td>\n",
       "      <td>5.164418</td>\n",
       "      <td>0.1</td>\n",
       "      <td>3.875</td>\n",
       "      <td>8.25</td>\n",
       "      <td>11.95</td>\n",
       "      <td>20.6</td>\n",
       "    </tr>\n",
       "    <tr>\n",
       "      <th>LengthAffectedIntestine</th>\n",
       "      <td>120.0</td>\n",
       "      <td>100.425000</td>\n",
       "      <td>31.546594</td>\n",
       "      <td>35.0</td>\n",
       "      <td>76.750</td>\n",
       "      <td>99.50</td>\n",
       "      <td>121.50</td>\n",
       "      <td>181.0</td>\n",
       "    </tr>\n",
       "    <tr>\n",
       "      <th>AlbuminLevel</th>\n",
       "      <td>120.0</td>\n",
       "      <td>3.747500</td>\n",
       "      <td>0.544331</td>\n",
       "      <td>2.6</td>\n",
       "      <td>3.400</td>\n",
       "      <td>3.70</td>\n",
       "      <td>4.20</td>\n",
       "      <td>5.0</td>\n",
       "    </tr>\n",
       "  </tbody>\n",
       "</table>\n",
       "</div>"
      ],
      "text/plain": [
       "                         count        mean        std   min     25%    50%  \\\n",
       "AgeAtFirstSurgery        120.0   39.841667  10.919103  -2.0  33.000  40.00   \n",
       "DiseaseDuration          120.0    8.206667   5.164418   0.1   3.875   8.25   \n",
       "LengthAffectedIntestine  120.0  100.425000  31.546594  35.0  76.750  99.50   \n",
       "AlbuminLevel             120.0    3.747500   0.544331   2.6   3.400   3.70   \n",
       "\n",
       "                            75%    max  \n",
       "AgeAtFirstSurgery         47.00   66.0  \n",
       "DiseaseDuration           11.95   20.6  \n",
       "LengthAffectedIntestine  121.50  181.0  \n",
       "AlbuminLevel               4.20    5.0  "
      ]
     },
     "execution_count": 13,
     "metadata": {},
     "output_type": "execute_result"
    }
   ],
   "source": [
    "## checking for decscriptive statisics  \n",
    "data.describe().T"
   ]
  },
  {
   "cell_type": "markdown",
   "metadata": {},
   "source": [
    "* Choosing the Base Category for each categorical column\n",
    "  "
   ]
  },
  {
   "cell_type": "code",
   "execution_count": 14,
   "metadata": {},
   "outputs": [],
   "source": [
    "\n",
    "# IBDType: Base case = Ulcerative Colitis (UC)\n",
    "data['IBDType'] = pd.Categorical(data['IBDType'], categories=['UC', \"Crohn's\"])\n",
    "\n",
    "# SurgeonExperienceLevel: Base case = Senior\n",
    "data['SurgeonExperienceLevel'] = pd.Categorical(data['SurgeonExperienceLevel'],\n",
    "                                                categories=['Senior', 'Mid_Level', 'Specialist'])\n",
    "\n",
    "# PreviousAbdominalSurgery: Base case = No\n",
    "data['PreviousAbdominalSurgery'] = pd.Categorical(data['PreviousAbdominalSurgery'],\n",
    "                                                categories=['No', 'Yes'])\n",
    "\n",
    "# SmokingStatus: Base case = Never\n",
    "data['SmokingStatus'] = pd.Categorical(data['SmokingStatus'], categories=['Never', 'Former', 'Current'])\n",
    "\n",
    "# Comorbidities: Base case = No\n",
    "data['Comorbidities'] = pd.Categorical(data['Comorbidities'], categories=['No', 'Yes'])\n",
    "\n",
    "# TypeOfSurgery: Base case = Minimally Invasive\n",
    "data['TypeOfSurgery'] = pd.Categorical(data['TypeOfSurgery'],\n",
    "                                       categories=['Minimally Invasive', 'Open'])\n",
    "\n",
    "# UseOfBiologics: Base case = No\n",
    "data['UseOfBiologics'] = pd.Categorical(data['UseOfBiologics'], categories=['No', 'Yes'])\n",
    "\n",
    "# FamilyHistoryOfIBD: Base case = No\n",
    "data['FamilyHistoryOfIBD'] = pd.Categorical(data['FamilyHistoryOfIBD'], categories=['No', 'Yes'])\n",
    "\n",
    "# Gender: Base case = Female\n",
    "data['Gender'] = pd.Categorical(data['Gender'], categories=['Female', 'Male'])\n",
    "\n",
    "# SecondSurgeryNeeded: Base case \n",
    "data['SecondSurgeryNeeded'] = pd.Categorical(data['SecondSurgeryNeeded'], categories=['No', 'Yes'])\n"
   ]
  },
  {
   "cell_type": "code",
   "execution_count": 15,
   "metadata": {},
   "outputs": [
    {
     "data": {
      "text/plain": [
       "PatientID                     object\n",
       "SecondSurgeryNeeded         category\n",
       "AgeAtFirstSurgery              int64\n",
       "DiseaseDuration              float64\n",
       "LengthAffectedIntestine        int64\n",
       "AlbuminLevel                 float64\n",
       "IBDType                     category\n",
       "PreviousAbdominalSurgery    category\n",
       "SmokingStatus               category\n",
       "Comorbidities               category\n",
       "TypeOfSurgery               category\n",
       "UseOfBiologics              category\n",
       "FamilyHistoryOfIBD          category\n",
       "Gender                      category\n",
       "SurgeonExperienceLevel      category\n",
       "dtype: object"
      ]
     },
     "execution_count": 15,
     "metadata": {},
     "output_type": "execute_result"
    }
   ],
   "source": [
    "## checking the dytes  \n",
    "data.dtypes"
   ]
  },
  {
   "cell_type": "code",
   "execution_count": 16,
   "metadata": {},
   "outputs": [
    {
     "name": "stdout",
     "output_type": "stream",
     "text": [
      "SecondSurgeryNeeded\n",
      "SecondSurgeryNeeded\n",
      "No     60\n",
      "Yes    60\n",
      "Name: count, dtype: int64\n",
      "\n",
      "IBDType\n",
      "IBDType\n",
      "Crohn's    72\n",
      "UC         48\n",
      "Name: count, dtype: int64\n",
      "\n",
      "PreviousAbdominalSurgery\n",
      "PreviousAbdominalSurgery\n",
      "No     95\n",
      "Yes    25\n",
      "Name: count, dtype: int64\n",
      "\n",
      "SmokingStatus\n",
      "SmokingStatus\n",
      "Never      61\n",
      "Current    32\n",
      "Former     27\n",
      "Name: count, dtype: int64\n",
      "\n",
      "Comorbidities\n",
      "Comorbidities\n",
      "No     63\n",
      "Yes    57\n",
      "Name: count, dtype: int64\n",
      "\n",
      "TypeOfSurgery\n",
      "TypeOfSurgery\n",
      "Open                  62\n",
      "Minimally Invasive    58\n",
      "Name: count, dtype: int64\n",
      "\n",
      "UseOfBiologics\n",
      "UseOfBiologics\n",
      "No     60\n",
      "Yes    60\n",
      "Name: count, dtype: int64\n",
      "\n",
      "FamilyHistoryOfIBD\n",
      "FamilyHistoryOfIBD\n",
      "No     104\n",
      "Yes     16\n",
      "Name: count, dtype: int64\n",
      "\n",
      "Gender\n",
      "Gender\n",
      "Female    60\n",
      "Male      60\n",
      "Name: count, dtype: int64\n",
      "\n",
      "SurgeonExperienceLevel\n",
      "SurgeonExperienceLevel\n",
      "Specialist    52\n",
      "Senior        40\n",
      "Mid_Level     28\n",
      "Name: count, dtype: int64\n",
      "\n"
     ]
    }
   ],
   "source": [
    "## printing the unique counts in each column  \n",
    "categorical_columns = data.select_dtypes(include=['category']).columns\n",
    "## creating a dictionary where the data we be stored  \n",
    "column_dictionary = {}\n",
    "## looping through the categorical columns  \n",
    "for column in categorical_columns: \n",
    "    column_dictionary[column] = data[column].value_counts()\n",
    "for key , value in column_dictionary.items():  \n",
    "    print(f\"{key}\")\n",
    "    print(f\"{value}\")\n",
    "    print()"
   ]
  },
  {
   "cell_type": "code",
   "execution_count": 17,
   "metadata": {},
   "outputs": [
    {
     "data": {
      "application/vnd.plotly.v1+json": {
       "config": {
        "plotlyServerURL": "https://plot.ly"
       },
       "data": [
        {
         "alignmentgroup": "True",
         "hovertemplate": "Gender=%{x}<br>Age At first Surgery=%{y}<extra></extra>",
         "legendgroup": "Female",
         "marker": {
          "color": "#636efa"
         },
         "name": "Female",
         "notched": false,
         "offsetgroup": "Female",
         "orientation": "v",
         "showlegend": true,
         "type": "box",
         "x": [
          "Female",
          "Female",
          "Female",
          "Female",
          "Female",
          "Female",
          "Female",
          "Female",
          "Female",
          "Female",
          "Female",
          "Female",
          "Female",
          "Female",
          "Female",
          "Female",
          "Female",
          "Female",
          "Female",
          "Female",
          "Female",
          "Female",
          "Female",
          "Female",
          "Female",
          "Female",
          "Female",
          "Female",
          "Female",
          "Female",
          "Female",
          "Female",
          "Female",
          "Female",
          "Female",
          "Female",
          "Female",
          "Female",
          "Female",
          "Female",
          "Female",
          "Female",
          "Female",
          "Female",
          "Female",
          "Female",
          "Female",
          "Female",
          "Female",
          "Female",
          "Female",
          "Female",
          "Female",
          "Female",
          "Female",
          "Female",
          "Female",
          "Female",
          "Female",
          "Female"
         ],
         "x0": " ",
         "xaxis": "x",
         "y": [
          35,
          31,
          32,
          35,
          39,
          46,
          46,
          34,
          40,
          43,
          34,
          47,
          42,
          38,
          41,
          26,
          31,
          35,
          23,
          21,
          52,
          46,
          37,
          30,
          25,
          39,
          26,
          39,
          47,
          47,
          51,
          19,
          55,
          42,
          45,
          41,
          48,
          37,
          48,
          38,
          45,
          50,
          40,
          42,
          38,
          46,
          49,
          66,
          64,
          46,
          39,
          53,
          56,
          26,
          51,
          28,
          56,
          54,
          37,
          38
         ],
         "y0": " ",
         "yaxis": "y"
        },
        {
         "alignmentgroup": "True",
         "hovertemplate": "Gender=%{x}<br>Age At first Surgery=%{y}<extra></extra>",
         "legendgroup": "Male",
         "marker": {
          "color": "#EF553B"
         },
         "name": "Male",
         "notched": false,
         "offsetgroup": "Male",
         "orientation": "v",
         "showlegend": true,
         "type": "box",
         "x": [
          "Male",
          "Male",
          "Male",
          "Male",
          "Male",
          "Male",
          "Male",
          "Male",
          "Male",
          "Male",
          "Male",
          "Male",
          "Male",
          "Male",
          "Male",
          "Male",
          "Male",
          "Male",
          "Male",
          "Male",
          "Male",
          "Male",
          "Male",
          "Male",
          "Male",
          "Male",
          "Male",
          "Male",
          "Male",
          "Male",
          "Male",
          "Male",
          "Male",
          "Male",
          "Male",
          "Male",
          "Male",
          "Male",
          "Male",
          "Male",
          "Male",
          "Male",
          "Male",
          "Male",
          "Male",
          "Male",
          "Male",
          "Male",
          "Male",
          "Male",
          "Male",
          "Male",
          "Male",
          "Male",
          "Male",
          "Male",
          "Male",
          "Male",
          "Male",
          "Male"
         ],
         "x0": " ",
         "xaxis": "x",
         "y": [
          40,
          50,
          35,
          51,
          31,
          51,
          33,
          41,
          37,
          19,
          40,
          18,
          38,
          43,
          32,
          32,
          33,
          12,
          12,
          33,
          20,
          32,
          29,
          42,
          32,
          40,
          30,
          49,
          -2,
          45,
          30,
          43,
          43,
          48,
          33,
          33,
          47,
          41,
          39,
          49,
          38,
          43,
          39,
          51,
          50,
          46,
          57,
          38,
          41,
          45,
          37,
          54,
          49,
          62,
          45,
          37,
          43,
          42,
          62,
          43
         ],
         "y0": " ",
         "yaxis": "y"
        }
       ],
       "layout": {
        "boxmode": "overlay",
        "font": {
         "color": "black",
         "family": "Arial",
         "size": 14
        },
        "legend": {
         "title": {
          "text": "Gender"
         },
         "tracegroupgap": 0
        },
        "template": {
         "data": {
          "bar": [
           {
            "error_x": {
             "color": "#2a3f5f"
            },
            "error_y": {
             "color": "#2a3f5f"
            },
            "marker": {
             "line": {
              "color": "white",
              "width": 0.5
             },
             "pattern": {
              "fillmode": "overlay",
              "size": 10,
              "solidity": 0.2
             }
            },
            "type": "bar"
           }
          ],
          "barpolar": [
           {
            "marker": {
             "line": {
              "color": "white",
              "width": 0.5
             },
             "pattern": {
              "fillmode": "overlay",
              "size": 10,
              "solidity": 0.2
             }
            },
            "type": "barpolar"
           }
          ],
          "carpet": [
           {
            "aaxis": {
             "endlinecolor": "#2a3f5f",
             "gridcolor": "#C8D4E3",
             "linecolor": "#C8D4E3",
             "minorgridcolor": "#C8D4E3",
             "startlinecolor": "#2a3f5f"
            },
            "baxis": {
             "endlinecolor": "#2a3f5f",
             "gridcolor": "#C8D4E3",
             "linecolor": "#C8D4E3",
             "minorgridcolor": "#C8D4E3",
             "startlinecolor": "#2a3f5f"
            },
            "type": "carpet"
           }
          ],
          "choropleth": [
           {
            "colorbar": {
             "outlinewidth": 0,
             "ticks": ""
            },
            "type": "choropleth"
           }
          ],
          "contour": [
           {
            "colorbar": {
             "outlinewidth": 0,
             "ticks": ""
            },
            "colorscale": [
             [
              0,
              "#0d0887"
             ],
             [
              0.1111111111111111,
              "#46039f"
             ],
             [
              0.2222222222222222,
              "#7201a8"
             ],
             [
              0.3333333333333333,
              "#9c179e"
             ],
             [
              0.4444444444444444,
              "#bd3786"
             ],
             [
              0.5555555555555556,
              "#d8576b"
             ],
             [
              0.6666666666666666,
              "#ed7953"
             ],
             [
              0.7777777777777778,
              "#fb9f3a"
             ],
             [
              0.8888888888888888,
              "#fdca26"
             ],
             [
              1,
              "#f0f921"
             ]
            ],
            "type": "contour"
           }
          ],
          "contourcarpet": [
           {
            "colorbar": {
             "outlinewidth": 0,
             "ticks": ""
            },
            "type": "contourcarpet"
           }
          ],
          "heatmap": [
           {
            "colorbar": {
             "outlinewidth": 0,
             "ticks": ""
            },
            "colorscale": [
             [
              0,
              "#0d0887"
             ],
             [
              0.1111111111111111,
              "#46039f"
             ],
             [
              0.2222222222222222,
              "#7201a8"
             ],
             [
              0.3333333333333333,
              "#9c179e"
             ],
             [
              0.4444444444444444,
              "#bd3786"
             ],
             [
              0.5555555555555556,
              "#d8576b"
             ],
             [
              0.6666666666666666,
              "#ed7953"
             ],
             [
              0.7777777777777778,
              "#fb9f3a"
             ],
             [
              0.8888888888888888,
              "#fdca26"
             ],
             [
              1,
              "#f0f921"
             ]
            ],
            "type": "heatmap"
           }
          ],
          "heatmapgl": [
           {
            "colorbar": {
             "outlinewidth": 0,
             "ticks": ""
            },
            "colorscale": [
             [
              0,
              "#0d0887"
             ],
             [
              0.1111111111111111,
              "#46039f"
             ],
             [
              0.2222222222222222,
              "#7201a8"
             ],
             [
              0.3333333333333333,
              "#9c179e"
             ],
             [
              0.4444444444444444,
              "#bd3786"
             ],
             [
              0.5555555555555556,
              "#d8576b"
             ],
             [
              0.6666666666666666,
              "#ed7953"
             ],
             [
              0.7777777777777778,
              "#fb9f3a"
             ],
             [
              0.8888888888888888,
              "#fdca26"
             ],
             [
              1,
              "#f0f921"
             ]
            ],
            "type": "heatmapgl"
           }
          ],
          "histogram": [
           {
            "marker": {
             "pattern": {
              "fillmode": "overlay",
              "size": 10,
              "solidity": 0.2
             }
            },
            "type": "histogram"
           }
          ],
          "histogram2d": [
           {
            "colorbar": {
             "outlinewidth": 0,
             "ticks": ""
            },
            "colorscale": [
             [
              0,
              "#0d0887"
             ],
             [
              0.1111111111111111,
              "#46039f"
             ],
             [
              0.2222222222222222,
              "#7201a8"
             ],
             [
              0.3333333333333333,
              "#9c179e"
             ],
             [
              0.4444444444444444,
              "#bd3786"
             ],
             [
              0.5555555555555556,
              "#d8576b"
             ],
             [
              0.6666666666666666,
              "#ed7953"
             ],
             [
              0.7777777777777778,
              "#fb9f3a"
             ],
             [
              0.8888888888888888,
              "#fdca26"
             ],
             [
              1,
              "#f0f921"
             ]
            ],
            "type": "histogram2d"
           }
          ],
          "histogram2dcontour": [
           {
            "colorbar": {
             "outlinewidth": 0,
             "ticks": ""
            },
            "colorscale": [
             [
              0,
              "#0d0887"
             ],
             [
              0.1111111111111111,
              "#46039f"
             ],
             [
              0.2222222222222222,
              "#7201a8"
             ],
             [
              0.3333333333333333,
              "#9c179e"
             ],
             [
              0.4444444444444444,
              "#bd3786"
             ],
             [
              0.5555555555555556,
              "#d8576b"
             ],
             [
              0.6666666666666666,
              "#ed7953"
             ],
             [
              0.7777777777777778,
              "#fb9f3a"
             ],
             [
              0.8888888888888888,
              "#fdca26"
             ],
             [
              1,
              "#f0f921"
             ]
            ],
            "type": "histogram2dcontour"
           }
          ],
          "mesh3d": [
           {
            "colorbar": {
             "outlinewidth": 0,
             "ticks": ""
            },
            "type": "mesh3d"
           }
          ],
          "parcoords": [
           {
            "line": {
             "colorbar": {
              "outlinewidth": 0,
              "ticks": ""
             }
            },
            "type": "parcoords"
           }
          ],
          "pie": [
           {
            "automargin": true,
            "type": "pie"
           }
          ],
          "scatter": [
           {
            "fillpattern": {
             "fillmode": "overlay",
             "size": 10,
             "solidity": 0.2
            },
            "type": "scatter"
           }
          ],
          "scatter3d": [
           {
            "line": {
             "colorbar": {
              "outlinewidth": 0,
              "ticks": ""
             }
            },
            "marker": {
             "colorbar": {
              "outlinewidth": 0,
              "ticks": ""
             }
            },
            "type": "scatter3d"
           }
          ],
          "scattercarpet": [
           {
            "marker": {
             "colorbar": {
              "outlinewidth": 0,
              "ticks": ""
             }
            },
            "type": "scattercarpet"
           }
          ],
          "scattergeo": [
           {
            "marker": {
             "colorbar": {
              "outlinewidth": 0,
              "ticks": ""
             }
            },
            "type": "scattergeo"
           }
          ],
          "scattergl": [
           {
            "marker": {
             "colorbar": {
              "outlinewidth": 0,
              "ticks": ""
             }
            },
            "type": "scattergl"
           }
          ],
          "scattermapbox": [
           {
            "marker": {
             "colorbar": {
              "outlinewidth": 0,
              "ticks": ""
             }
            },
            "type": "scattermapbox"
           }
          ],
          "scatterpolar": [
           {
            "marker": {
             "colorbar": {
              "outlinewidth": 0,
              "ticks": ""
             }
            },
            "type": "scatterpolar"
           }
          ],
          "scatterpolargl": [
           {
            "marker": {
             "colorbar": {
              "outlinewidth": 0,
              "ticks": ""
             }
            },
            "type": "scatterpolargl"
           }
          ],
          "scatterternary": [
           {
            "marker": {
             "colorbar": {
              "outlinewidth": 0,
              "ticks": ""
             }
            },
            "type": "scatterternary"
           }
          ],
          "surface": [
           {
            "colorbar": {
             "outlinewidth": 0,
             "ticks": ""
            },
            "colorscale": [
             [
              0,
              "#0d0887"
             ],
             [
              0.1111111111111111,
              "#46039f"
             ],
             [
              0.2222222222222222,
              "#7201a8"
             ],
             [
              0.3333333333333333,
              "#9c179e"
             ],
             [
              0.4444444444444444,
              "#bd3786"
             ],
             [
              0.5555555555555556,
              "#d8576b"
             ],
             [
              0.6666666666666666,
              "#ed7953"
             ],
             [
              0.7777777777777778,
              "#fb9f3a"
             ],
             [
              0.8888888888888888,
              "#fdca26"
             ],
             [
              1,
              "#f0f921"
             ]
            ],
            "type": "surface"
           }
          ],
          "table": [
           {
            "cells": {
             "fill": {
              "color": "#EBF0F8"
             },
             "line": {
              "color": "white"
             }
            },
            "header": {
             "fill": {
              "color": "#C8D4E3"
             },
             "line": {
              "color": "white"
             }
            },
            "type": "table"
           }
          ]
         },
         "layout": {
          "annotationdefaults": {
           "arrowcolor": "#2a3f5f",
           "arrowhead": 0,
           "arrowwidth": 1
          },
          "autotypenumbers": "strict",
          "coloraxis": {
           "colorbar": {
            "outlinewidth": 0,
            "ticks": ""
           }
          },
          "colorscale": {
           "diverging": [
            [
             0,
             "#8e0152"
            ],
            [
             0.1,
             "#c51b7d"
            ],
            [
             0.2,
             "#de77ae"
            ],
            [
             0.3,
             "#f1b6da"
            ],
            [
             0.4,
             "#fde0ef"
            ],
            [
             0.5,
             "#f7f7f7"
            ],
            [
             0.6,
             "#e6f5d0"
            ],
            [
             0.7,
             "#b8e186"
            ],
            [
             0.8,
             "#7fbc41"
            ],
            [
             0.9,
             "#4d9221"
            ],
            [
             1,
             "#276419"
            ]
           ],
           "sequential": [
            [
             0,
             "#0d0887"
            ],
            [
             0.1111111111111111,
             "#46039f"
            ],
            [
             0.2222222222222222,
             "#7201a8"
            ],
            [
             0.3333333333333333,
             "#9c179e"
            ],
            [
             0.4444444444444444,
             "#bd3786"
            ],
            [
             0.5555555555555556,
             "#d8576b"
            ],
            [
             0.6666666666666666,
             "#ed7953"
            ],
            [
             0.7777777777777778,
             "#fb9f3a"
            ],
            [
             0.8888888888888888,
             "#fdca26"
            ],
            [
             1,
             "#f0f921"
            ]
           ],
           "sequentialminus": [
            [
             0,
             "#0d0887"
            ],
            [
             0.1111111111111111,
             "#46039f"
            ],
            [
             0.2222222222222222,
             "#7201a8"
            ],
            [
             0.3333333333333333,
             "#9c179e"
            ],
            [
             0.4444444444444444,
             "#bd3786"
            ],
            [
             0.5555555555555556,
             "#d8576b"
            ],
            [
             0.6666666666666666,
             "#ed7953"
            ],
            [
             0.7777777777777778,
             "#fb9f3a"
            ],
            [
             0.8888888888888888,
             "#fdca26"
            ],
            [
             1,
             "#f0f921"
            ]
           ]
          },
          "colorway": [
           "#636efa",
           "#EF553B",
           "#00cc96",
           "#ab63fa",
           "#FFA15A",
           "#19d3f3",
           "#FF6692",
           "#B6E880",
           "#FF97FF",
           "#FECB52"
          ],
          "font": {
           "color": "#2a3f5f"
          },
          "geo": {
           "bgcolor": "white",
           "lakecolor": "white",
           "landcolor": "white",
           "showlakes": true,
           "showland": true,
           "subunitcolor": "#C8D4E3"
          },
          "hoverlabel": {
           "align": "left"
          },
          "hovermode": "closest",
          "mapbox": {
           "style": "light"
          },
          "paper_bgcolor": "white",
          "plot_bgcolor": "white",
          "polar": {
           "angularaxis": {
            "gridcolor": "#EBF0F8",
            "linecolor": "#EBF0F8",
            "ticks": ""
           },
           "bgcolor": "white",
           "radialaxis": {
            "gridcolor": "#EBF0F8",
            "linecolor": "#EBF0F8",
            "ticks": ""
           }
          },
          "scene": {
           "xaxis": {
            "backgroundcolor": "white",
            "gridcolor": "#DFE8F3",
            "gridwidth": 2,
            "linecolor": "#EBF0F8",
            "showbackground": true,
            "ticks": "",
            "zerolinecolor": "#EBF0F8"
           },
           "yaxis": {
            "backgroundcolor": "white",
            "gridcolor": "#DFE8F3",
            "gridwidth": 2,
            "linecolor": "#EBF0F8",
            "showbackground": true,
            "ticks": "",
            "zerolinecolor": "#EBF0F8"
           },
           "zaxis": {
            "backgroundcolor": "white",
            "gridcolor": "#DFE8F3",
            "gridwidth": 2,
            "linecolor": "#EBF0F8",
            "showbackground": true,
            "ticks": "",
            "zerolinecolor": "#EBF0F8"
           }
          },
          "shapedefaults": {
           "line": {
            "color": "#2a3f5f"
           }
          },
          "ternary": {
           "aaxis": {
            "gridcolor": "#DFE8F3",
            "linecolor": "#A2B1C6",
            "ticks": ""
           },
           "baxis": {
            "gridcolor": "#DFE8F3",
            "linecolor": "#A2B1C6",
            "ticks": ""
           },
           "bgcolor": "white",
           "caxis": {
            "gridcolor": "#DFE8F3",
            "linecolor": "#A2B1C6",
            "ticks": ""
           }
          },
          "title": {
           "x": 0.05
          },
          "xaxis": {
           "automargin": true,
           "gridcolor": "#EBF0F8",
           "linecolor": "#EBF0F8",
           "ticks": "",
           "title": {
            "standoff": 15
           },
           "zerolinecolor": "#EBF0F8",
           "zerolinewidth": 2
          },
          "yaxis": {
           "automargin": true,
           "gridcolor": "#EBF0F8",
           "linecolor": "#EBF0F8",
           "ticks": "",
           "title": {
            "standoff": 15
           },
           "zerolinecolor": "#EBF0F8",
           "zerolinewidth": 2
          }
         }
        },
        "title": {
         "font": {
          "color": "darkblue",
          "family": "Arial",
          "size": 22
         },
         "text": "Distribution of Age At first Surgery by Gender"
        },
        "xaxis": {
         "anchor": "y",
         "categoryarray": [
          "Female",
          "Male"
         ],
         "categoryorder": "array",
         "domain": [
          0,
          1
         ],
         "title": {
          "font": {
           "color": "black",
           "family": "Arial",
           "size": 16
          },
          "text": "Gender"
         }
        },
        "yaxis": {
         "anchor": "x",
         "domain": [
          0,
          1
         ],
         "title": {
          "font": {
           "color": "black",
           "family": "Arial",
           "size": 16
          },
          "text": "Age At first Surgery"
         }
        }
       }
      }
     },
     "metadata": {},
     "output_type": "display_data"
    }
   ],
   "source": [
    "## By Age \n",
    "import plotly.express as px\n",
    "\n",
    "fig = px.box(\n",
    "    data,\n",
    "    x='Gender',\n",
    "    y='AgeAtFirstSurgery',\n",
    "    color='Gender',\n",
    "    title='Distribution of Age At first Surgery by Gender',\n",
    "    labels={\n",
    "        'Gender': 'Gender',\n",
    "        'AgeAtFirstSurgery': 'Age At first Surgery'\n",
    "    },\n",
    "    template='plotly_white'\n",
    ")\n",
    "\n",
    "# Update layout for better readability\n",
    "fig.update_layout(\n",
    "    title_font=dict(family='Arial', size=22, color='darkblue'),\n",
    "    font=dict(family='Arial', size=14, color='black'),\n",
    "    xaxis_title_font=dict(family='Arial', size=16, color='black'),\n",
    "    yaxis_title_font=dict(family='Arial', size=16, color='black')\n",
    ")\n",
    "\n",
    "fig.show()\n"
   ]
  },
  {
   "cell_type": "markdown",
   "metadata": {},
   "source": [
    "* Test for Independence"
   ]
  },
  {
   "cell_type": "code",
   "execution_count": 18,
   "metadata": {},
   "outputs": [
    {
     "data": {
      "text/html": [
       "<div>\n",
       "<style scoped>\n",
       "    .dataframe tbody tr th:only-of-type {\n",
       "        vertical-align: middle;\n",
       "    }\n",
       "\n",
       "    .dataframe tbody tr th {\n",
       "        vertical-align: top;\n",
       "    }\n",
       "\n",
       "    .dataframe thead th {\n",
       "        text-align: right;\n",
       "    }\n",
       "</style>\n",
       "<table border=\"1\" class=\"dataframe\">\n",
       "  <thead>\n",
       "    <tr style=\"text-align: right;\">\n",
       "      <th></th>\n",
       "      <th>PatientID</th>\n",
       "      <th>SecondSurgeryNeeded</th>\n",
       "      <th>AgeAtFirstSurgery</th>\n",
       "      <th>DiseaseDuration</th>\n",
       "      <th>LengthAffectedIntestine</th>\n",
       "      <th>AlbuminLevel</th>\n",
       "      <th>IBDType</th>\n",
       "      <th>PreviousAbdominalSurgery</th>\n",
       "      <th>SmokingStatus</th>\n",
       "      <th>Comorbidities</th>\n",
       "      <th>TypeOfSurgery</th>\n",
       "      <th>UseOfBiologics</th>\n",
       "      <th>FamilyHistoryOfIBD</th>\n",
       "      <th>Gender</th>\n",
       "      <th>SurgeonExperienceLevel</th>\n",
       "    </tr>\n",
       "  </thead>\n",
       "  <tbody>\n",
       "    <tr>\n",
       "      <th>0</th>\n",
       "      <td>P001</td>\n",
       "      <td>Yes</td>\n",
       "      <td>35</td>\n",
       "      <td>6.8</td>\n",
       "      <td>105</td>\n",
       "      <td>4.3</td>\n",
       "      <td>Crohn's</td>\n",
       "      <td>Yes</td>\n",
       "      <td>Current</td>\n",
       "      <td>No</td>\n",
       "      <td>Open</td>\n",
       "      <td>Yes</td>\n",
       "      <td>No</td>\n",
       "      <td>Female</td>\n",
       "      <td>Specialist</td>\n",
       "    </tr>\n",
       "    <tr>\n",
       "      <th>1</th>\n",
       "      <td>P002</td>\n",
       "      <td>Yes</td>\n",
       "      <td>40</td>\n",
       "      <td>4.9</td>\n",
       "      <td>127</td>\n",
       "      <td>3.8</td>\n",
       "      <td>Crohn's</td>\n",
       "      <td>No</td>\n",
       "      <td>Never</td>\n",
       "      <td>No</td>\n",
       "      <td>Open</td>\n",
       "      <td>Yes</td>\n",
       "      <td>Yes</td>\n",
       "      <td>Male</td>\n",
       "      <td>Specialist</td>\n",
       "    </tr>\n",
       "    <tr>\n",
       "      <th>2</th>\n",
       "      <td>P003</td>\n",
       "      <td>Yes</td>\n",
       "      <td>31</td>\n",
       "      <td>11.5</td>\n",
       "      <td>135</td>\n",
       "      <td>3.2</td>\n",
       "      <td>Crohn's</td>\n",
       "      <td>Yes</td>\n",
       "      <td>Former</td>\n",
       "      <td>No</td>\n",
       "      <td>Minimally Invasive</td>\n",
       "      <td>Yes</td>\n",
       "      <td>No</td>\n",
       "      <td>Female</td>\n",
       "      <td>Senior</td>\n",
       "    </tr>\n",
       "    <tr>\n",
       "      <th>3</th>\n",
       "      <td>P004</td>\n",
       "      <td>Yes</td>\n",
       "      <td>50</td>\n",
       "      <td>20.6</td>\n",
       "      <td>110</td>\n",
       "      <td>3.2</td>\n",
       "      <td>Crohn's</td>\n",
       "      <td>No</td>\n",
       "      <td>Former</td>\n",
       "      <td>Yes</td>\n",
       "      <td>Open</td>\n",
       "      <td>No</td>\n",
       "      <td>Yes</td>\n",
       "      <td>Male</td>\n",
       "      <td>Specialist</td>\n",
       "    </tr>\n",
       "    <tr>\n",
       "      <th>4</th>\n",
       "      <td>P005</td>\n",
       "      <td>Yes</td>\n",
       "      <td>35</td>\n",
       "      <td>14.9</td>\n",
       "      <td>151</td>\n",
       "      <td>2.6</td>\n",
       "      <td>Crohn's</td>\n",
       "      <td>Yes</td>\n",
       "      <td>Never</td>\n",
       "      <td>Yes</td>\n",
       "      <td>Open</td>\n",
       "      <td>Yes</td>\n",
       "      <td>No</td>\n",
       "      <td>Male</td>\n",
       "      <td>Mid_Level</td>\n",
       "    </tr>\n",
       "  </tbody>\n",
       "</table>\n",
       "</div>"
      ],
      "text/plain": [
       "  PatientID SecondSurgeryNeeded  AgeAtFirstSurgery  DiseaseDuration  \\\n",
       "0      P001                 Yes                 35              6.8   \n",
       "1      P002                 Yes                 40              4.9   \n",
       "2      P003                 Yes                 31             11.5   \n",
       "3      P004                 Yes                 50             20.6   \n",
       "4      P005                 Yes                 35             14.9   \n",
       "\n",
       "   LengthAffectedIntestine  AlbuminLevel  IBDType PreviousAbdominalSurgery  \\\n",
       "0                      105           4.3  Crohn's                      Yes   \n",
       "1                      127           3.8  Crohn's                       No   \n",
       "2                      135           3.2  Crohn's                      Yes   \n",
       "3                      110           3.2  Crohn's                       No   \n",
       "4                      151           2.6  Crohn's                      Yes   \n",
       "\n",
       "  SmokingStatus Comorbidities       TypeOfSurgery UseOfBiologics  \\\n",
       "0       Current            No                Open            Yes   \n",
       "1         Never            No                Open            Yes   \n",
       "2        Former            No  Minimally Invasive            Yes   \n",
       "3        Former           Yes                Open             No   \n",
       "4         Never           Yes                Open            Yes   \n",
       "\n",
       "  FamilyHistoryOfIBD  Gender SurgeonExperienceLevel  \n",
       "0                 No  Female             Specialist  \n",
       "1                Yes    Male             Specialist  \n",
       "2                 No  Female                 Senior  \n",
       "3                Yes    Male             Specialist  \n",
       "4                 No    Male              Mid_Level  "
      ]
     },
     "execution_count": 18,
     "metadata": {},
     "output_type": "execute_result"
    }
   ],
   "source": [
    "## test for Indepeendence \n",
    "data.head()"
   ]
  },
  {
   "cell_type": "code",
   "execution_count": 19,
   "metadata": {},
   "outputs": [
    {
     "data": {
      "text/plain": [
       "Chi2ContingencyResult(statistic=7.813524590163935, pvalue=0.02010549144359778, dof=2, expected_freq=array([[30.5, 13.5, 16. ],\n",
       "       [30.5, 13.5, 16. ]]))"
      ]
     },
     "execution_count": 19,
     "metadata": {},
     "output_type": "execute_result"
    }
   ],
   "source": [
    "## checking for independence  \n",
    "stats.chi2_contingency(pd.crosstab(data['SecondSurgeryNeeded'],data['SmokingStatus']))\n"
   ]
  },
  {
   "cell_type": "code",
   "execution_count": 20,
   "metadata": {},
   "outputs": [
    {
     "data": {
      "text/plain": [
       "Chi2ContingencyResult(statistic=3.971540874043029, pvalue=0.13727481176805686, dof=2, expected_freq=array([[32.025, 28.975],\n",
       "       [14.175, 12.825],\n",
       "       [16.8  , 15.2  ]]))"
      ]
     },
     "execution_count": 20,
     "metadata": {},
     "output_type": "execute_result"
    }
   ],
   "source": [
    "## test for independence for IBDType and  TypeOfSurgery \n",
    "stats.chi2_contingency(pd.crosstab(data['SmokingStatus'],data['Comorbidities']))"
   ]
  },
  {
   "cell_type": "markdown",
   "metadata": {},
   "source": [
    "* Finding \n",
    "  - The finding indicates that there exist an association between the SecondSurgeryNeeded and SmokingStatus\n",
    "  - For  SmokingStatus and  Comorbidities there is no associattion at all as the p values are soo high"
   ]
  },
  {
   "cell_type": "markdown",
   "metadata": {},
   "source": [
    "* Comparing Means"
   ]
  },
  {
   "cell_type": "code",
   "execution_count": 21,
   "metadata": {},
   "outputs": [
    {
     "data": {
      "text/plain": [
       "TtestResult(statistic=3.685771283649253, pvalue=0.0003458202770806173, df=118.0)"
      ]
     },
     "execution_count": 21,
     "metadata": {},
     "output_type": "execute_result"
    }
   ],
   "source": [
    "## comparing the means between the different levels of IBDType and LengthAffectedIntestine\n",
    "stats.ttest_ind(data.loc[data['IBDType']==\"Crohn's\",'LengthAffectedIntestine'], \n",
    "                data.loc[data['IBDType']==\"UC\",'LengthAffectedIntestine'] \n",
    "                )\n"
   ]
  },
  {
   "cell_type": "code",
   "execution_count": 22,
   "metadata": {},
   "outputs": [
    {
     "data": {
      "text/plain": [
       "TtestResult(statistic=-3.921343102156887, pvalue=0.0001482844597986628, df=118.0)"
      ]
     },
     "execution_count": 22,
     "metadata": {},
     "output_type": "execute_result"
    }
   ],
   "source": [
    "stats.ttest_ind(data.loc[data['IBDType']==\"Crohn's\",'AlbuminLevel'], \n",
    "                data.loc[data['IBDType']==\"UC\",'AlbuminLevel'] \n",
    "                )"
   ]
  },
  {
   "cell_type": "code",
   "execution_count": 23,
   "metadata": {},
   "outputs": [
    {
     "data": {
      "text/plain": [
       "TtestResult(statistic=0.6539772445709465, pvalue=0.514398956649805, df=118.0)"
      ]
     },
     "execution_count": 23,
     "metadata": {},
     "output_type": "execute_result"
    }
   ],
   "source": [
    "stats.ttest_ind(data.loc[data['PreviousAbdominalSurgery']==\"No\",'AlbuminLevel'], \n",
    "                data.loc[data['PreviousAbdominalSurgery']==\"Yes\",'AlbuminLevel'] \n",
    "                )"
   ]
  },
  {
   "cell_type": "code",
   "execution_count": 24,
   "metadata": {},
   "outputs": [
    {
     "data": {
      "text/plain": [
       "F_onewayResult(statistic=2.8112154956202495, pvalue=0.0641996246012496)"
      ]
     },
     "execution_count": 24,
     "metadata": {},
     "output_type": "execute_result"
    }
   ],
   "source": [
    "## performng a one way anova  \n",
    "stats.f_oneway(data.loc[data['SmokingStatus']=='Never','LengthAffectedIntestine'], \n",
    "               data.loc[data['SmokingStatus']=='Current','LengthAffectedIntestine'],   \n",
    "               data.loc[data['SmokingStatus']=='Former','LengthAffectedIntestine']   \n",
    "               )\n"
   ]
  },
  {
   "cell_type": "markdown",
   "metadata": {},
   "source": [
    "* Findings \n",
    "  - The results show that there is statiscally significant difference for the means of the two different lavels"
   ]
  },
  {
   "cell_type": "markdown",
   "metadata": {},
   "source": [
    "`ODDS RATIO`\n",
    "- To understand odds ratio , we have to know the meaning of probability , simplify probabilility is a value given the occurence of an eveent \n",
    "\n",
    "`ODDS`\n",
    "- refers to the  ratio of probabililty of event occuring to compared to it not occuring\n",
    "\n",
    "`ODDS RATIO`\n",
    "- it refers to the statiscal measure used to quantify the strength of an association between the exposure aand an outcome"
   ]
  },
  {
   "cell_type": "code",
   "execution_count": 25,
   "metadata": {},
   "outputs": [
    {
     "data": {
      "text/plain": [
       "0.49999999999999994"
      ]
     },
     "execution_count": 25,
     "metadata": {},
     "output_type": "execute_result"
    }
   ],
   "source": [
    "## example  , lets take the a probability of an occurence of an event is 5 in 15 attempts   \n",
    "p = 5/15\n",
    "## then the odds would be  \n",
    "odds = p/(1-p)\n",
    "odds"
   ]
  },
  {
   "cell_type": "code",
   "execution_count": 26,
   "metadata": {},
   "outputs": [],
   "source": [
    "## then two impelement odds ratio we need to \n",
    "p_ufair = 0.7\n",
    "p_fair = 0.5   \n",
    "## calucate the odds foer each  \n",
    "odds_for_p_unfair = p_ufair/(1-p_ufair)\n",
    "## claculate the odds for p fair  \n",
    "odds_for_p_fair = p_fair / (1-p_fair)"
   ]
  },
  {
   "cell_type": "code",
   "execution_count": 27,
   "metadata": {},
   "outputs": [
    {
     "data": {
      "text/plain": [
       "2.333333333333333"
      ]
     },
     "execution_count": 27,
     "metadata": {},
     "output_type": "execute_result"
    }
   ],
   "source": [
    "## calculate the odds ratio \n",
    "odds_ratio = odds_for_p_unfair / odds_for_p_fair\n",
    "odds_ratio"
   ]
  },
  {
   "cell_type": "code",
   "execution_count": 28,
   "metadata": {},
   "outputs": [
    {
     "data": {
      "text/plain": [
       "1.333333333333333"
      ]
     },
     "execution_count": 28,
     "metadata": {},
     "output_type": "execute_result"
    }
   ],
   "source": [
    "## calculting the odds increase  \n",
    "odd_increase = odds_ratio - 1\n",
    "odd_increase\n"
   ]
  },
  {
   "cell_type": "markdown",
   "metadata": {},
   "source": [
    "* Interpretations  \n",
    "  - The interpratations will be there is 133.3% increase in the odds of the unfair coin compared to the fair coin"
   ]
  },
  {
   "cell_type": "markdown",
   "metadata": {},
   "source": [
    "`Modelling the Logistic Regression starting with one continous numerical dependent variable`"
   ]
  },
  {
   "cell_type": "code",
   "execution_count": 29,
   "metadata": {},
   "outputs": [
    {
     "data": {
      "text/html": [
       "<div>\n",
       "<style scoped>\n",
       "    .dataframe tbody tr th:only-of-type {\n",
       "        vertical-align: middle;\n",
       "    }\n",
       "\n",
       "    .dataframe tbody tr th {\n",
       "        vertical-align: top;\n",
       "    }\n",
       "\n",
       "    .dataframe thead th {\n",
       "        text-align: right;\n",
       "    }\n",
       "</style>\n",
       "<table border=\"1\" class=\"dataframe\">\n",
       "  <thead>\n",
       "    <tr style=\"text-align: right;\">\n",
       "      <th></th>\n",
       "      <th>PatientID</th>\n",
       "      <th>SecondSurgeryNeeded</th>\n",
       "      <th>AgeAtFirstSurgery</th>\n",
       "      <th>DiseaseDuration</th>\n",
       "      <th>LengthAffectedIntestine</th>\n",
       "      <th>AlbuminLevel</th>\n",
       "      <th>IBDType</th>\n",
       "      <th>PreviousAbdominalSurgery</th>\n",
       "      <th>SmokingStatus</th>\n",
       "      <th>Comorbidities</th>\n",
       "      <th>TypeOfSurgery</th>\n",
       "      <th>UseOfBiologics</th>\n",
       "      <th>FamilyHistoryOfIBD</th>\n",
       "      <th>Gender</th>\n",
       "      <th>SurgeonExperienceLevel</th>\n",
       "      <th>SecondSurgeryNeededEncoded</th>\n",
       "    </tr>\n",
       "  </thead>\n",
       "  <tbody>\n",
       "    <tr>\n",
       "      <th>0</th>\n",
       "      <td>P001</td>\n",
       "      <td>Yes</td>\n",
       "      <td>35</td>\n",
       "      <td>6.8</td>\n",
       "      <td>105</td>\n",
       "      <td>4.3</td>\n",
       "      <td>Crohn's</td>\n",
       "      <td>Yes</td>\n",
       "      <td>Current</td>\n",
       "      <td>No</td>\n",
       "      <td>Open</td>\n",
       "      <td>Yes</td>\n",
       "      <td>No</td>\n",
       "      <td>Female</td>\n",
       "      <td>Specialist</td>\n",
       "      <td>1</td>\n",
       "    </tr>\n",
       "    <tr>\n",
       "      <th>1</th>\n",
       "      <td>P002</td>\n",
       "      <td>Yes</td>\n",
       "      <td>40</td>\n",
       "      <td>4.9</td>\n",
       "      <td>127</td>\n",
       "      <td>3.8</td>\n",
       "      <td>Crohn's</td>\n",
       "      <td>No</td>\n",
       "      <td>Never</td>\n",
       "      <td>No</td>\n",
       "      <td>Open</td>\n",
       "      <td>Yes</td>\n",
       "      <td>Yes</td>\n",
       "      <td>Male</td>\n",
       "      <td>Specialist</td>\n",
       "      <td>1</td>\n",
       "    </tr>\n",
       "    <tr>\n",
       "      <th>2</th>\n",
       "      <td>P003</td>\n",
       "      <td>Yes</td>\n",
       "      <td>31</td>\n",
       "      <td>11.5</td>\n",
       "      <td>135</td>\n",
       "      <td>3.2</td>\n",
       "      <td>Crohn's</td>\n",
       "      <td>Yes</td>\n",
       "      <td>Former</td>\n",
       "      <td>No</td>\n",
       "      <td>Minimally Invasive</td>\n",
       "      <td>Yes</td>\n",
       "      <td>No</td>\n",
       "      <td>Female</td>\n",
       "      <td>Senior</td>\n",
       "      <td>1</td>\n",
       "    </tr>\n",
       "    <tr>\n",
       "      <th>3</th>\n",
       "      <td>P004</td>\n",
       "      <td>Yes</td>\n",
       "      <td>50</td>\n",
       "      <td>20.6</td>\n",
       "      <td>110</td>\n",
       "      <td>3.2</td>\n",
       "      <td>Crohn's</td>\n",
       "      <td>No</td>\n",
       "      <td>Former</td>\n",
       "      <td>Yes</td>\n",
       "      <td>Open</td>\n",
       "      <td>No</td>\n",
       "      <td>Yes</td>\n",
       "      <td>Male</td>\n",
       "      <td>Specialist</td>\n",
       "      <td>1</td>\n",
       "    </tr>\n",
       "    <tr>\n",
       "      <th>4</th>\n",
       "      <td>P005</td>\n",
       "      <td>Yes</td>\n",
       "      <td>35</td>\n",
       "      <td>14.9</td>\n",
       "      <td>151</td>\n",
       "      <td>2.6</td>\n",
       "      <td>Crohn's</td>\n",
       "      <td>Yes</td>\n",
       "      <td>Never</td>\n",
       "      <td>Yes</td>\n",
       "      <td>Open</td>\n",
       "      <td>Yes</td>\n",
       "      <td>No</td>\n",
       "      <td>Male</td>\n",
       "      <td>Mid_Level</td>\n",
       "      <td>1</td>\n",
       "    </tr>\n",
       "  </tbody>\n",
       "</table>\n",
       "</div>"
      ],
      "text/plain": [
       "  PatientID SecondSurgeryNeeded  AgeAtFirstSurgery  DiseaseDuration  \\\n",
       "0      P001                 Yes                 35              6.8   \n",
       "1      P002                 Yes                 40              4.9   \n",
       "2      P003                 Yes                 31             11.5   \n",
       "3      P004                 Yes                 50             20.6   \n",
       "4      P005                 Yes                 35             14.9   \n",
       "\n",
       "   LengthAffectedIntestine  AlbuminLevel  IBDType PreviousAbdominalSurgery  \\\n",
       "0                      105           4.3  Crohn's                      Yes   \n",
       "1                      127           3.8  Crohn's                       No   \n",
       "2                      135           3.2  Crohn's                      Yes   \n",
       "3                      110           3.2  Crohn's                       No   \n",
       "4                      151           2.6  Crohn's                      Yes   \n",
       "\n",
       "  SmokingStatus Comorbidities       TypeOfSurgery UseOfBiologics  \\\n",
       "0       Current            No                Open            Yes   \n",
       "1         Never            No                Open            Yes   \n",
       "2        Former            No  Minimally Invasive            Yes   \n",
       "3        Former           Yes                Open             No   \n",
       "4         Never           Yes                Open            Yes   \n",
       "\n",
       "  FamilyHistoryOfIBD  Gender SurgeonExperienceLevel  \\\n",
       "0                 No  Female             Specialist   \n",
       "1                Yes    Male             Specialist   \n",
       "2                 No  Female                 Senior   \n",
       "3                Yes    Male             Specialist   \n",
       "4                 No    Male              Mid_Level   \n",
       "\n",
       "   SecondSurgeryNeededEncoded  \n",
       "0                           1  \n",
       "1                           1  \n",
       "2                           1  \n",
       "3                           1  \n",
       "4                           1  "
      ]
     },
     "execution_count": 29,
     "metadata": {},
     "output_type": "execute_result"
    }
   ],
   "source": [
    "##  Generating a dummy variabless for the yes group   \n",
    "data['SecondSurgeryNeededEncoded'] = pd.get_dummies(data['SecondSurgeryNeeded']).Yes.astype(int)\n",
    "## checkng the data  \n",
    "data.head()\n"
   ]
  },
  {
   "cell_type": "code",
   "execution_count": 30,
   "metadata": {},
   "outputs": [
    {
     "data": {
      "application/vnd.plotly.v1+json": {
       "config": {
        "plotlyServerURL": "https://plot.ly"
       },
       "data": [
        {
         "hovertemplate": "Length of Affected Intestine (cm)=%{x}<br>Second Surgery Needed (Encoded)=%{y}<extra></extra>",
         "legendgroup": "",
         "marker": {
          "color": "darkred",
          "line": {
           "color": "black",
           "width": 1
          },
          "size": 10,
          "symbol": "circle"
         },
         "mode": "markers",
         "name": "",
         "orientation": "v",
         "showlegend": false,
         "type": "scatter",
         "x": [
          105,
          127,
          135,
          110,
          151,
          76,
          136,
          138,
          119,
          111,
          98,
          163,
          108,
          141,
          145,
          134,
          97,
          108,
          123,
          117,
          127,
          144,
          137,
          141,
          111,
          162,
          126,
          112,
          121,
          120,
          95,
          105,
          116,
          152,
          143,
          115,
          113,
          105,
          141,
          64,
          150,
          92,
          126,
          123,
          121,
          100,
          128,
          143,
          112,
          147,
          110,
          160,
          109,
          92,
          143,
          48,
          135,
          142,
          118,
          181,
          96,
          105,
          44,
          36,
          56,
          99,
          87,
          88,
          57,
          77,
          76,
          42,
          76,
          90,
          61,
          97,
          80,
          70,
          62,
          67,
          77,
          102,
          66,
          80,
          97,
          96,
          89,
          95,
          63,
          81,
          67,
          67,
          80,
          49,
          62,
          98,
          95,
          63,
          102,
          111,
          113,
          88,
          76,
          108,
          49,
          35,
          65,
          63,
          83,
          51,
          73,
          104,
          92,
          99,
          84,
          41,
          83,
          92,
          107,
          67
         ],
         "xaxis": "x",
         "y": [
          1,
          1,
          1,
          1,
          1,
          1,
          1,
          1,
          1,
          1,
          1,
          1,
          1,
          1,
          1,
          1,
          1,
          1,
          1,
          1,
          1,
          1,
          1,
          1,
          1,
          1,
          1,
          1,
          1,
          1,
          1,
          1,
          1,
          1,
          1,
          1,
          1,
          1,
          1,
          1,
          1,
          1,
          1,
          1,
          1,
          1,
          1,
          1,
          1,
          1,
          1,
          1,
          1,
          1,
          1,
          1,
          1,
          1,
          1,
          1,
          0,
          0,
          0,
          0,
          0,
          0,
          0,
          0,
          0,
          0,
          0,
          0,
          0,
          0,
          0,
          0,
          0,
          0,
          0,
          0,
          0,
          0,
          0,
          0,
          0,
          0,
          0,
          0,
          0,
          0,
          0,
          0,
          0,
          0,
          0,
          0,
          0,
          0,
          0,
          0,
          0,
          0,
          0,
          0,
          0,
          0,
          0,
          0,
          0,
          0,
          0,
          0,
          0,
          0,
          0,
          0,
          0,
          0,
          0,
          0
         ],
         "yaxis": "y"
        }
       ],
       "layout": {
        "font": {
         "color": "black",
         "family": "Arial",
         "size": 16
        },
        "legend": {
         "tracegroupgap": 0
        },
        "paper_bgcolor": "white",
        "plot_bgcolor": "white",
        "template": {
         "data": {
          "bar": [
           {
            "error_x": {
             "color": "#2a3f5f"
            },
            "error_y": {
             "color": "#2a3f5f"
            },
            "marker": {
             "line": {
              "color": "white",
              "width": 0.5
             },
             "pattern": {
              "fillmode": "overlay",
              "size": 10,
              "solidity": 0.2
             }
            },
            "type": "bar"
           }
          ],
          "barpolar": [
           {
            "marker": {
             "line": {
              "color": "white",
              "width": 0.5
             },
             "pattern": {
              "fillmode": "overlay",
              "size": 10,
              "solidity": 0.2
             }
            },
            "type": "barpolar"
           }
          ],
          "carpet": [
           {
            "aaxis": {
             "endlinecolor": "#2a3f5f",
             "gridcolor": "#C8D4E3",
             "linecolor": "#C8D4E3",
             "minorgridcolor": "#C8D4E3",
             "startlinecolor": "#2a3f5f"
            },
            "baxis": {
             "endlinecolor": "#2a3f5f",
             "gridcolor": "#C8D4E3",
             "linecolor": "#C8D4E3",
             "minorgridcolor": "#C8D4E3",
             "startlinecolor": "#2a3f5f"
            },
            "type": "carpet"
           }
          ],
          "choropleth": [
           {
            "colorbar": {
             "outlinewidth": 0,
             "ticks": ""
            },
            "type": "choropleth"
           }
          ],
          "contour": [
           {
            "colorbar": {
             "outlinewidth": 0,
             "ticks": ""
            },
            "colorscale": [
             [
              0,
              "#0d0887"
             ],
             [
              0.1111111111111111,
              "#46039f"
             ],
             [
              0.2222222222222222,
              "#7201a8"
             ],
             [
              0.3333333333333333,
              "#9c179e"
             ],
             [
              0.4444444444444444,
              "#bd3786"
             ],
             [
              0.5555555555555556,
              "#d8576b"
             ],
             [
              0.6666666666666666,
              "#ed7953"
             ],
             [
              0.7777777777777778,
              "#fb9f3a"
             ],
             [
              0.8888888888888888,
              "#fdca26"
             ],
             [
              1,
              "#f0f921"
             ]
            ],
            "type": "contour"
           }
          ],
          "contourcarpet": [
           {
            "colorbar": {
             "outlinewidth": 0,
             "ticks": ""
            },
            "type": "contourcarpet"
           }
          ],
          "heatmap": [
           {
            "colorbar": {
             "outlinewidth": 0,
             "ticks": ""
            },
            "colorscale": [
             [
              0,
              "#0d0887"
             ],
             [
              0.1111111111111111,
              "#46039f"
             ],
             [
              0.2222222222222222,
              "#7201a8"
             ],
             [
              0.3333333333333333,
              "#9c179e"
             ],
             [
              0.4444444444444444,
              "#bd3786"
             ],
             [
              0.5555555555555556,
              "#d8576b"
             ],
             [
              0.6666666666666666,
              "#ed7953"
             ],
             [
              0.7777777777777778,
              "#fb9f3a"
             ],
             [
              0.8888888888888888,
              "#fdca26"
             ],
             [
              1,
              "#f0f921"
             ]
            ],
            "type": "heatmap"
           }
          ],
          "heatmapgl": [
           {
            "colorbar": {
             "outlinewidth": 0,
             "ticks": ""
            },
            "colorscale": [
             [
              0,
              "#0d0887"
             ],
             [
              0.1111111111111111,
              "#46039f"
             ],
             [
              0.2222222222222222,
              "#7201a8"
             ],
             [
              0.3333333333333333,
              "#9c179e"
             ],
             [
              0.4444444444444444,
              "#bd3786"
             ],
             [
              0.5555555555555556,
              "#d8576b"
             ],
             [
              0.6666666666666666,
              "#ed7953"
             ],
             [
              0.7777777777777778,
              "#fb9f3a"
             ],
             [
              0.8888888888888888,
              "#fdca26"
             ],
             [
              1,
              "#f0f921"
             ]
            ],
            "type": "heatmapgl"
           }
          ],
          "histogram": [
           {
            "marker": {
             "pattern": {
              "fillmode": "overlay",
              "size": 10,
              "solidity": 0.2
             }
            },
            "type": "histogram"
           }
          ],
          "histogram2d": [
           {
            "colorbar": {
             "outlinewidth": 0,
             "ticks": ""
            },
            "colorscale": [
             [
              0,
              "#0d0887"
             ],
             [
              0.1111111111111111,
              "#46039f"
             ],
             [
              0.2222222222222222,
              "#7201a8"
             ],
             [
              0.3333333333333333,
              "#9c179e"
             ],
             [
              0.4444444444444444,
              "#bd3786"
             ],
             [
              0.5555555555555556,
              "#d8576b"
             ],
             [
              0.6666666666666666,
              "#ed7953"
             ],
             [
              0.7777777777777778,
              "#fb9f3a"
             ],
             [
              0.8888888888888888,
              "#fdca26"
             ],
             [
              1,
              "#f0f921"
             ]
            ],
            "type": "histogram2d"
           }
          ],
          "histogram2dcontour": [
           {
            "colorbar": {
             "outlinewidth": 0,
             "ticks": ""
            },
            "colorscale": [
             [
              0,
              "#0d0887"
             ],
             [
              0.1111111111111111,
              "#46039f"
             ],
             [
              0.2222222222222222,
              "#7201a8"
             ],
             [
              0.3333333333333333,
              "#9c179e"
             ],
             [
              0.4444444444444444,
              "#bd3786"
             ],
             [
              0.5555555555555556,
              "#d8576b"
             ],
             [
              0.6666666666666666,
              "#ed7953"
             ],
             [
              0.7777777777777778,
              "#fb9f3a"
             ],
             [
              0.8888888888888888,
              "#fdca26"
             ],
             [
              1,
              "#f0f921"
             ]
            ],
            "type": "histogram2dcontour"
           }
          ],
          "mesh3d": [
           {
            "colorbar": {
             "outlinewidth": 0,
             "ticks": ""
            },
            "type": "mesh3d"
           }
          ],
          "parcoords": [
           {
            "line": {
             "colorbar": {
              "outlinewidth": 0,
              "ticks": ""
             }
            },
            "type": "parcoords"
           }
          ],
          "pie": [
           {
            "automargin": true,
            "type": "pie"
           }
          ],
          "scatter": [
           {
            "fillpattern": {
             "fillmode": "overlay",
             "size": 10,
             "solidity": 0.2
            },
            "type": "scatter"
           }
          ],
          "scatter3d": [
           {
            "line": {
             "colorbar": {
              "outlinewidth": 0,
              "ticks": ""
             }
            },
            "marker": {
             "colorbar": {
              "outlinewidth": 0,
              "ticks": ""
             }
            },
            "type": "scatter3d"
           }
          ],
          "scattercarpet": [
           {
            "marker": {
             "colorbar": {
              "outlinewidth": 0,
              "ticks": ""
             }
            },
            "type": "scattercarpet"
           }
          ],
          "scattergeo": [
           {
            "marker": {
             "colorbar": {
              "outlinewidth": 0,
              "ticks": ""
             }
            },
            "type": "scattergeo"
           }
          ],
          "scattergl": [
           {
            "marker": {
             "colorbar": {
              "outlinewidth": 0,
              "ticks": ""
             }
            },
            "type": "scattergl"
           }
          ],
          "scattermapbox": [
           {
            "marker": {
             "colorbar": {
              "outlinewidth": 0,
              "ticks": ""
             }
            },
            "type": "scattermapbox"
           }
          ],
          "scatterpolar": [
           {
            "marker": {
             "colorbar": {
              "outlinewidth": 0,
              "ticks": ""
             }
            },
            "type": "scatterpolar"
           }
          ],
          "scatterpolargl": [
           {
            "marker": {
             "colorbar": {
              "outlinewidth": 0,
              "ticks": ""
             }
            },
            "type": "scatterpolargl"
           }
          ],
          "scatterternary": [
           {
            "marker": {
             "colorbar": {
              "outlinewidth": 0,
              "ticks": ""
             }
            },
            "type": "scatterternary"
           }
          ],
          "surface": [
           {
            "colorbar": {
             "outlinewidth": 0,
             "ticks": ""
            },
            "colorscale": [
             [
              0,
              "#0d0887"
             ],
             [
              0.1111111111111111,
              "#46039f"
             ],
             [
              0.2222222222222222,
              "#7201a8"
             ],
             [
              0.3333333333333333,
              "#9c179e"
             ],
             [
              0.4444444444444444,
              "#bd3786"
             ],
             [
              0.5555555555555556,
              "#d8576b"
             ],
             [
              0.6666666666666666,
              "#ed7953"
             ],
             [
              0.7777777777777778,
              "#fb9f3a"
             ],
             [
              0.8888888888888888,
              "#fdca26"
             ],
             [
              1,
              "#f0f921"
             ]
            ],
            "type": "surface"
           }
          ],
          "table": [
           {
            "cells": {
             "fill": {
              "color": "#EBF0F8"
             },
             "line": {
              "color": "white"
             }
            },
            "header": {
             "fill": {
              "color": "#C8D4E3"
             },
             "line": {
              "color": "white"
             }
            },
            "type": "table"
           }
          ]
         },
         "layout": {
          "annotationdefaults": {
           "arrowcolor": "#2a3f5f",
           "arrowhead": 0,
           "arrowwidth": 1
          },
          "autotypenumbers": "strict",
          "coloraxis": {
           "colorbar": {
            "outlinewidth": 0,
            "ticks": ""
           }
          },
          "colorscale": {
           "diverging": [
            [
             0,
             "#8e0152"
            ],
            [
             0.1,
             "#c51b7d"
            ],
            [
             0.2,
             "#de77ae"
            ],
            [
             0.3,
             "#f1b6da"
            ],
            [
             0.4,
             "#fde0ef"
            ],
            [
             0.5,
             "#f7f7f7"
            ],
            [
             0.6,
             "#e6f5d0"
            ],
            [
             0.7,
             "#b8e186"
            ],
            [
             0.8,
             "#7fbc41"
            ],
            [
             0.9,
             "#4d9221"
            ],
            [
             1,
             "#276419"
            ]
           ],
           "sequential": [
            [
             0,
             "#0d0887"
            ],
            [
             0.1111111111111111,
             "#46039f"
            ],
            [
             0.2222222222222222,
             "#7201a8"
            ],
            [
             0.3333333333333333,
             "#9c179e"
            ],
            [
             0.4444444444444444,
             "#bd3786"
            ],
            [
             0.5555555555555556,
             "#d8576b"
            ],
            [
             0.6666666666666666,
             "#ed7953"
            ],
            [
             0.7777777777777778,
             "#fb9f3a"
            ],
            [
             0.8888888888888888,
             "#fdca26"
            ],
            [
             1,
             "#f0f921"
            ]
           ],
           "sequentialminus": [
            [
             0,
             "#0d0887"
            ],
            [
             0.1111111111111111,
             "#46039f"
            ],
            [
             0.2222222222222222,
             "#7201a8"
            ],
            [
             0.3333333333333333,
             "#9c179e"
            ],
            [
             0.4444444444444444,
             "#bd3786"
            ],
            [
             0.5555555555555556,
             "#d8576b"
            ],
            [
             0.6666666666666666,
             "#ed7953"
            ],
            [
             0.7777777777777778,
             "#fb9f3a"
            ],
            [
             0.8888888888888888,
             "#fdca26"
            ],
            [
             1,
             "#f0f921"
            ]
           ]
          },
          "colorway": [
           "#636efa",
           "#EF553B",
           "#00cc96",
           "#ab63fa",
           "#FFA15A",
           "#19d3f3",
           "#FF6692",
           "#B6E880",
           "#FF97FF",
           "#FECB52"
          ],
          "font": {
           "color": "#2a3f5f"
          },
          "geo": {
           "bgcolor": "white",
           "lakecolor": "white",
           "landcolor": "white",
           "showlakes": true,
           "showland": true,
           "subunitcolor": "#C8D4E3"
          },
          "hoverlabel": {
           "align": "left"
          },
          "hovermode": "closest",
          "mapbox": {
           "style": "light"
          },
          "paper_bgcolor": "white",
          "plot_bgcolor": "white",
          "polar": {
           "angularaxis": {
            "gridcolor": "#EBF0F8",
            "linecolor": "#EBF0F8",
            "ticks": ""
           },
           "bgcolor": "white",
           "radialaxis": {
            "gridcolor": "#EBF0F8",
            "linecolor": "#EBF0F8",
            "ticks": ""
           }
          },
          "scene": {
           "xaxis": {
            "backgroundcolor": "white",
            "gridcolor": "#DFE8F3",
            "gridwidth": 2,
            "linecolor": "#EBF0F8",
            "showbackground": true,
            "ticks": "",
            "zerolinecolor": "#EBF0F8"
           },
           "yaxis": {
            "backgroundcolor": "white",
            "gridcolor": "#DFE8F3",
            "gridwidth": 2,
            "linecolor": "#EBF0F8",
            "showbackground": true,
            "ticks": "",
            "zerolinecolor": "#EBF0F8"
           },
           "zaxis": {
            "backgroundcolor": "white",
            "gridcolor": "#DFE8F3",
            "gridwidth": 2,
            "linecolor": "#EBF0F8",
            "showbackground": true,
            "ticks": "",
            "zerolinecolor": "#EBF0F8"
           }
          },
          "shapedefaults": {
           "line": {
            "color": "#2a3f5f"
           }
          },
          "ternary": {
           "aaxis": {
            "gridcolor": "#DFE8F3",
            "linecolor": "#A2B1C6",
            "ticks": ""
           },
           "baxis": {
            "gridcolor": "#DFE8F3",
            "linecolor": "#A2B1C6",
            "ticks": ""
           },
           "bgcolor": "white",
           "caxis": {
            "gridcolor": "#DFE8F3",
            "linecolor": "#A2B1C6",
            "ticks": ""
           }
          },
          "title": {
           "x": 0.05
          },
          "xaxis": {
           "automargin": true,
           "gridcolor": "#EBF0F8",
           "linecolor": "#EBF0F8",
           "ticks": "",
           "title": {
            "standoff": 15
           },
           "zerolinecolor": "#EBF0F8",
           "zerolinewidth": 2
          },
          "yaxis": {
           "automargin": true,
           "gridcolor": "#EBF0F8",
           "linecolor": "#EBF0F8",
           "ticks": "",
           "title": {
            "standoff": 15
           },
           "zerolinecolor": "#EBF0F8",
           "zerolinewidth": 2
          }
         }
        },
        "title": {
         "font": {
          "color": "darkblue",
          "family": "Arial",
          "size": 24
         },
         "text": "Probability of Second Surgery Needed vs. Length of Affected Intestine"
        },
        "xaxis": {
         "anchor": "y",
         "domain": [
          0,
          1
         ],
         "title": {
          "font": {
           "color": "black",
           "family": "Arial",
           "size": 18
          },
          "text": "Length of Affected Intestine (cm)"
         }
        },
        "yaxis": {
         "anchor": "x",
         "domain": [
          0,
          1
         ],
         "title": {
          "font": {
           "color": "black",
           "family": "Arial",
           "size": 18
          },
          "text": "Second Surgery Needed (Encoded)"
         }
        }
       }
      }
     },
     "metadata": {},
     "output_type": "display_data"
    }
   ],
   "source": [
    "import plotly.express as px\n",
    "\n",
    "fig = px.scatter(\n",
    "    data_frame=data,\n",
    "    x='LengthAffectedIntestine',\n",
    "    y='SecondSurgeryNeededEncoded',\n",
    "    title='Probability of Second Surgery Needed vs. Length of Affected Intestine',\n",
    "    labels={\n",
    "        'LengthAffectedIntestine': 'Length of Affected Intestine (cm)',\n",
    "        'SecondSurgeryNeededEncoded': 'Second Surgery Needed (Encoded)'\n",
    "    },\n",
    "    template='plotly_white'\n",
    ")\n",
    "\n",
    "# Enhance marker style for better visibility\n",
    "fig.update_traces(\n",
    "    marker=dict(\n",
    "        size=10,\n",
    "        color='darkred',\n",
    "        line=dict(width=1, color='black')\n",
    "    ),\n",
    "    mode='markers'\n",
    ")\n",
    "\n",
    "# Update layout for clearer text and overall aesthetics\n",
    "fig.update_layout(\n",
    "    title_font=dict(family='Arial', size=24, color='darkblue'),\n",
    "    font=dict(family='Arial', size=16, color='black'),\n",
    "    xaxis_title_font=dict(family='Arial', size=18, color='black'),\n",
    "    yaxis_title_font=dict(family='Arial', size=18, color='black'),\n",
    "    plot_bgcolor='white',\n",
    "    paper_bgcolor='white'\n",
    ")\n",
    "\n",
    "fig.show()\n"
   ]
  },
  {
   "cell_type": "code",
   "execution_count": 31,
   "metadata": {},
   "outputs": [],
   "source": [
    "## creating dmatrices  \n",
    "y , X = patsy.dmatrices('SecondSurgeryNeeded~LengthAffectedIntestine',data=data)"
   ]
  },
  {
   "cell_type": "code",
   "execution_count": 32,
   "metadata": {},
   "outputs": [],
   "source": [
    "## changing the oblect to numpy array   \n",
    "y = np.array(y[:,1]) \n",
    "X = np.array(X)"
   ]
  },
  {
   "cell_type": "code",
   "execution_count": 33,
   "metadata": {},
   "outputs": [
    {
     "name": "stdout",
     "output_type": "stream",
     "text": [
      "Optimization terminated successfully.\n",
      "         Current function value: 0.343856\n",
      "         Iterations 7\n"
     ]
    }
   ],
   "source": [
    "## passing the data to ols   \n",
    "log_model_1 = Logit(y,X).fit()"
   ]
  },
  {
   "cell_type": "code",
   "execution_count": 34,
   "metadata": {},
   "outputs": [
    {
     "data": {
      "text/html": [
       "<table class=\"simpletable\">\n",
       "<caption>Logit Regression Results</caption>\n",
       "<tr>\n",
       "  <th>Dep. Variable:</th>           <td>y</td>        <th>  No. Observations:  </th>  <td>   120</td>  \n",
       "</tr>\n",
       "<tr>\n",
       "  <th>Model:</th>                 <td>Logit</td>      <th>  Df Residuals:      </th>  <td>   118</td>  \n",
       "</tr>\n",
       "<tr>\n",
       "  <th>Method:</th>                 <td>MLE</td>       <th>  Df Model:          </th>  <td>     1</td>  \n",
       "</tr>\n",
       "<tr>\n",
       "  <th>Date:</th>            <td>Wed, 26 Feb 2025</td> <th>  Pseudo R-squ.:     </th>  <td>0.5039</td>  \n",
       "</tr>\n",
       "<tr>\n",
       "  <th>Time:</th>                <td>17:04:53</td>     <th>  Log-Likelihood:    </th> <td> -41.263</td> \n",
       "</tr>\n",
       "<tr>\n",
       "  <th>converged:</th>             <td>True</td>       <th>  LL-Null:           </th> <td> -83.178</td> \n",
       "</tr>\n",
       "<tr>\n",
       "  <th>Covariance Type:</th>     <td>nonrobust</td>    <th>  LLR p-value:       </th> <td>5.392e-20</td>\n",
       "</tr>\n",
       "</table>\n",
       "<table class=\"simpletable\">\n",
       "<tr>\n",
       "    <td></td>       <th>coef</th>     <th>std err</th>      <th>z</th>      <th>P>|z|</th>  <th>[0.025</th>    <th>0.975]</th>  \n",
       "</tr>\n",
       "<tr>\n",
       "  <th>const</th> <td>   -9.7765</td> <td>    1.838</td> <td>   -5.319</td> <td> 0.000</td> <td>  -13.379</td> <td>   -6.174</td>\n",
       "</tr>\n",
       "<tr>\n",
       "  <th>x1</th>    <td>    0.0974</td> <td>    0.018</td> <td>    5.392</td> <td> 0.000</td> <td>    0.062</td> <td>    0.133</td>\n",
       "</tr>\n",
       "</table>"
      ],
      "text/latex": [
       "\\begin{center}\n",
       "\\begin{tabular}{lclc}\n",
       "\\toprule\n",
       "\\textbf{Dep. Variable:}   &        y         & \\textbf{  No. Observations:  } &      120    \\\\\n",
       "\\textbf{Model:}           &      Logit       & \\textbf{  Df Residuals:      } &      118    \\\\\n",
       "\\textbf{Method:}          &       MLE        & \\textbf{  Df Model:          } &        1    \\\\\n",
       "\\textbf{Date:}            & Wed, 26 Feb 2025 & \\textbf{  Pseudo R-squ.:     } &   0.5039    \\\\\n",
       "\\textbf{Time:}            &     17:04:53     & \\textbf{  Log-Likelihood:    } &   -41.263   \\\\\n",
       "\\textbf{converged:}       &       True       & \\textbf{  LL-Null:           } &   -83.178   \\\\\n",
       "\\textbf{Covariance Type:} &    nonrobust     & \\textbf{  LLR p-value:       } & 5.392e-20   \\\\\n",
       "\\bottomrule\n",
       "\\end{tabular}\n",
       "\\begin{tabular}{lcccccc}\n",
       "               & \\textbf{coef} & \\textbf{std err} & \\textbf{z} & \\textbf{P$> |$z$|$} & \\textbf{[0.025} & \\textbf{0.975]}  \\\\\n",
       "\\midrule\n",
       "\\textbf{const} &      -9.7765  &        1.838     &    -5.319  &         0.000        &      -13.379    &       -6.174     \\\\\n",
       "\\textbf{x1}    &       0.0974  &        0.018     &     5.392  &         0.000        &        0.062    &        0.133     \\\\\n",
       "\\bottomrule\n",
       "\\end{tabular}\n",
       "%\\caption{Logit Regression Results}\n",
       "\\end{center}"
      ],
      "text/plain": [
       "<class 'statsmodels.iolib.summary.Summary'>\n",
       "\"\"\"\n",
       "                           Logit Regression Results                           \n",
       "==============================================================================\n",
       "Dep. Variable:                      y   No. Observations:                  120\n",
       "Model:                          Logit   Df Residuals:                      118\n",
       "Method:                           MLE   Df Model:                            1\n",
       "Date:                Wed, 26 Feb 2025   Pseudo R-squ.:                  0.5039\n",
       "Time:                        17:04:53   Log-Likelihood:                -41.263\n",
       "converged:                       True   LL-Null:                       -83.178\n",
       "Covariance Type:            nonrobust   LLR p-value:                 5.392e-20\n",
       "==============================================================================\n",
       "                 coef    std err          z      P>|z|      [0.025      0.975]\n",
       "------------------------------------------------------------------------------\n",
       "const         -9.7765      1.838     -5.319      0.000     -13.379      -6.174\n",
       "x1             0.0974      0.018      5.392      0.000       0.062       0.133\n",
       "==============================================================================\n",
       "\"\"\""
      ]
     },
     "execution_count": 34,
     "metadata": {},
     "output_type": "execute_result"
    }
   ],
   "source": [
    "## uncovering the results  \n",
    "log_model_1.summary()"
   ]
  },
  {
   "cell_type": "markdown",
   "metadata": {},
   "source": [
    "* Findings \n",
    "  - The first thing we look at is the R squared = 0.50 approximatley 50.3% of the variation in the log model is explained by the explanatory variable\n",
    "  - After fitting the model on one continous numerical variable , we look at the  p value is statiscally signficant meaning its a good predictor of the depent \n",
    "  - The  coefficent of X1 = 0.0974 which is in a logarithmic scale so we need to exponentiate them\n",
    "  - "
   ]
  },
  {
   "cell_type": "code",
   "execution_count": 35,
   "metadata": {},
   "outputs": [
    {
     "data": {
      "text/plain": [
       "10.226"
      ]
     },
     "execution_count": 35,
     "metadata": {},
     "output_type": "execute_result"
    }
   ],
   "source": [
    "## getting the parameters and exponentiate them  \n",
    "odds_for_affected_intestine_length=np.exp(log_model_1.params[1])\n",
    "## calculate the odds increase  \n",
    "odds_increase = odds_for_affected_intestine_length - 1\n",
    "np.round(odds_increase*100,3)"
   ]
  },
  {
   "cell_type": "markdown",
   "metadata": {},
   "source": [
    "* Interpretation of the coefficient of the length of Affected Intestine length\n",
    "  - The odds ratio mean , for each 1 centimetre increase in thee length of affected intestine , the odds of needing a secoond surgery increase by a factor of 1.022 which is 10.22% compared to the base group"
   ]
  },
  {
   "cell_type": "code",
   "execution_count": 36,
   "metadata": {},
   "outputs": [
    {
     "data": {
      "text/plain": [
       "array([0.87074719])"
      ]
     },
     "execution_count": 36,
     "metadata": {},
     "output_type": "execute_result"
    }
   ],
   "source": [
    "## probability of a nedding a second surgery given length of 120 cm  \n",
    "log_model_1.predict([1,120])\n",
    "## so the probability of needing a  second surgery given the length of the affected instettine is 0.87 , meaning its so high"
   ]
  },
  {
   "cell_type": "code",
   "execution_count": 37,
   "metadata": {},
   "outputs": [],
   "source": [
    "## creating an array of affected intestine lengths and visualize them          \n",
    "affectedIntestineleength = np.linspace(data['LengthAffectedIntestine'].min(),data['LengthAffectedIntestine'].max(),num=200)\n",
    "## adding a constant to the length of the affected instetine  \n",
    "affectedIntestineleength_constant_added = sm.add_constant(affectedIntestineleength)\n",
    "## new predictions  \n",
    "new_affected_line_predictions = log_model_1.predict(affectedIntestineleength_constant_added)\n",
    "\n"
   ]
  },
  {
   "cell_type": "code",
   "execution_count": 38,
   "metadata": {},
   "outputs": [
    {
     "data": {
      "application/vnd.plotly.v1+json": {
       "config": {
        "plotlyServerURL": "https://plot.ly"
       },
       "data": [
        {
         "line": {
          "color": "blue",
          "width": 3
         },
         "mode": "lines",
         "name": "Model Prediction",
         "type": "scatter",
         "x": [
          35,
          35.733668341708544,
          36.46733668341709,
          37.201005025125625,
          37.93467336683417,
          38.66834170854271,
          39.402010050251256,
          40.1356783919598,
          40.869346733668344,
          41.60301507537689,
          42.336683417085425,
          43.07035175879397,
          43.80402010050251,
          44.537688442211056,
          45.2713567839196,
          46.00502512562814,
          46.73869346733668,
          47.472361809045225,
          48.20603015075377,
          48.93969849246231,
          49.67336683417085,
          50.4070351758794,
          51.14070351758794,
          51.87437185929648,
          52.608040201005025,
          53.34170854271356,
          54.07537688442211,
          54.80904522613065,
          55.54271356783919,
          56.27638190954774,
          57.01005025125628,
          57.743718592964825,
          58.47738693467336,
          59.21105527638191,
          59.94472361809045,
          60.678391959798994,
          61.41206030150754,
          62.145728643216074,
          62.879396984924625,
          63.61306532663316,
          64.3467336683417,
          65.08040201005025,
          65.8140703517588,
          66.54773869346734,
          67.28140703517587,
          68.01507537688443,
          68.74874371859296,
          69.4824120603015,
          70.21608040201005,
          70.9497487437186,
          71.68341708542712,
          72.41708542713567,
          73.15075376884423,
          73.88442211055276,
          74.6180904522613,
          75.35175879396985,
          76.08542713567839,
          76.81909547738692,
          77.55276381909547,
          78.28643216080403,
          79.02010050251256,
          79.7537688442211,
          80.48743718592965,
          81.22110552763819,
          81.95477386934672,
          82.68844221105527,
          83.42211055276383,
          84.15577889447235,
          84.8894472361809,
          85.62311557788945,
          86.35678391959799,
          87.09045226130652,
          87.82412060301507,
          88.55778894472361,
          89.29145728643215,
          90.0251256281407,
          90.75879396984925,
          91.49246231155779,
          92.22613065326632,
          92.95979899497488,
          93.69346733668341,
          94.42713567839195,
          95.1608040201005,
          95.89447236180905,
          96.62814070351759,
          97.36180904522612,
          98.09547738693468,
          98.82914572864321,
          99.56281407035175,
          100.2964824120603,
          101.03015075376884,
          101.76381909547739,
          102.49748743718592,
          103.23115577889448,
          103.96482412060301,
          104.69849246231155,
          105.4321608040201,
          106.16582914572864,
          106.89949748743719,
          107.63316582914572,
          108.36683417085426,
          109.10050251256281,
          109.83417085427135,
          110.5678391959799,
          111.30150753768844,
          112.03517587939697,
          112.76884422110552,
          113.50251256281406,
          114.23618090452261,
          114.96984924623115,
          115.7035175879397,
          116.43718592964824,
          117.17085427135677,
          117.90452261306532,
          118.63819095477386,
          119.37185929648241,
          120.10552763819095,
          120.83919597989949,
          121.57286432160804,
          122.30653266331657,
          123.04020100502512,
          123.77386934673366,
          124.50753768844221,
          125.24120603015075,
          125.97487437185929,
          126.70854271356784,
          127.44221105527637,
          128.17587939698493,
          128.90954773869345,
          129.643216080402,
          130.37688442211055,
          131.1105527638191,
          131.84422110552765,
          132.57788944723617,
          133.3115577889447,
          134.04522613065325,
          134.7788944723618,
          135.51256281407035,
          136.2462311557789,
          136.97989949748745,
          137.71356783919597,
          138.4472361809045,
          139.18090452261305,
          139.9145728643216,
          140.64824120603015,
          141.3819095477387,
          142.11557788944722,
          142.84924623115577,
          143.5829145728643,
          144.31658291457285,
          145.0502512562814,
          145.78391959798995,
          146.5175879396985,
          147.25125628140702,
          147.98492462311557,
          148.7185929648241,
          149.45226130653265,
          150.1859296482412,
          150.91959798994975,
          151.6532663316583,
          152.38693467336682,
          153.12060301507537,
          153.8542713567839,
          154.58793969849245,
          155.321608040201,
          156.05527638190955,
          156.7889447236181,
          157.52261306532662,
          158.25628140703517,
          158.9899497487437,
          159.72361809045225,
          160.4572864321608,
          161.19095477386935,
          161.9246231155779,
          162.65829145728642,
          163.39195979899498,
          164.1256281407035,
          164.85929648241205,
          165.5929648241206,
          166.32663316582915,
          167.06030150753767,
          167.79396984924622,
          168.52763819095478,
          169.2613065326633,
          169.99497487437185,
          170.7286432160804,
          171.46231155778895,
          172.19597989949747,
          172.92964824120602,
          173.66331658291458,
          174.3969849246231,
          175.13065326633165,
          175.8643216080402,
          176.59798994974872,
          177.33165829145727,
          178.06532663316582,
          178.79899497487438,
          179.5326633165829,
          180.26633165829145,
          181
         ],
         "y": [
          0.001711588100952786,
          0.0018380956580737542,
          0.0019739352014694986,
          0.0021197922835189884,
          0.0022764023850915635,
          0.002444554485295632,
          0.002625094876225781,
          0.002818931237934257,
          0.003027036989545215,
          0.0032504559331098175,
          0.0034903072074577305,
          0.0037477905699230102,
          0.0040241920243962795,
          0.004320889814663089,
          0.004639360802410669,
          0.004981187249598779,
          0.005348064025067586,
          0.00574180625526511,
          0.006164357438782443,
          0.006617798043943832,
          0.007104354607963609,
          0.0076264093550966975,
          0.008186510349711098,
          0.0087873821982288,
          0.009431937311333388,
          0.010123287734639013,
          0.01086475755205296,
          0.011659895861229487,
          0.012512490314679854,
          0.013426581213131858,
          0.014406476129471222,
          0.015456765031877385,
          0.016582335863410926,
          0.017788390522124962,
          0.0190804611705558,
          0.020464426785987477,
          0.02194652984296133,
          0.023533392996898828,
          0.02523203561220763,
          0.027049889949647205,
          0.028994816795863285,
          0.031075120282713947,
          0.03329956160521604,
          0.03567737130460991,
          0.03821825973724419,
          0.040932425300902325,
          0.04383055993816327,
          0.046923851381919235,
          0.050223981551996214,
          0.05374312045493297,
          0.05749391488265988,
          0.061489471151730216,
          0.06574333107491985,
          0.07026944031390443,
          0.07508210822825506,
          0.08019595831559047,
          0.08562586833426285,
          0.09138689921779383,
          0.09749421193415216,
          0.10396297151793844,
          0.11080823761481325,
          0.11804484103022195,
          0.12568724597347328,
          0.13374939793768317,
          0.1422445574591149,
          0.1511851203575889,
          0.16058242547242793,
          0.17044655137276113,
          0.1807861040306921,
          0.19160799799099557,
          0.20291723413778068,
          0.21471667772877814,
          0.22700684091929413,
          0.23978567450412175,
          0.25304837403739855,
          0.26678720581589976,
          0.2809913583984187,
          0.2956468253517739,
          0.3107363247352575,
          0.3262392604386608,
          0.34213172986146767,
          0.35838658156030817,
          0.3749735254087445,
          0.3918592965322373,
          0.4090078728399549,
          0.42638074442540386,
          0.4439372315123462,
          0.46163484605178756,
          0.47942969060459484,
          0.4972768868462719,
          0.5151310249734518,
          0.5329466245326222,
          0.550678596772321,
          0.5682826985638909,
          0.5857159682459698,
          0.6029371344069709,
          0.6199069895913063,
          0.6365887221464315,
          0.6529482008538109,
          0.668954208535232,
          0.6845786224216076,
          0.699796540642124,
          0.7145863556719045,
          0.7289297769110473,
          0.7428118057145807,
          0.756220667122981,
          0.7691477032417965,
          0.7815872336851027,
          0.7935363887407904,
          0.8049949209550715,
          0.8159650006949162,
          0.8264510009604021,
          0.836459276316263,
          0.8459979403251374,
          0.8550766453244762,
          0.8637063678220179,
          0.8718992022148041,
          0.8796681649832956,
          0.8870270109904201,
          0.893990063036386,
          0.9005720553911171,
          0.9067879916511975,
          0.9126530169484595,
          0.9181823042718337,
          0.923390954450093,
          0.9282939091767689,
          0.9329058763351562,
          0.9372412667958269,
          0.941314141806261,
          0.9451381700669466,
          0.9487265935857366,
          0.9520922014179366,
          0.9552473104294488,
          0.9582037522608066,
          0.9609728657179997,
          0.9635654938690102,
          0.9659919851808179,
          0.9682621980884851,
          0.970385508444464,
          0.9723708193513243,
          0.9742265729339598,
          0.9759607636573366,
          0.9775809528426799,
          0.9790942840783906,
          0.9805074992618587,
          0.9818269550446899,
          0.9830586394867574,
          0.9842081887540649,
          0.9852809037218311,
          0.9862817663676662,
          0.9872154558604312,
          0.9880863642685579,
          0.9888986118274855,
          0.989656061719655,
          0.990362334332391,
          0.9910208209692029,
          0.9916346969987228,
          0.9922069344328477,
          0.9927403139318147,
          0.9932374362390677,
          0.9937007330529841,
          0.9941324773459624,
          0.9945347931440939,
          0.9949096647828102,
          0.9952589456555128,
          0.9955843664734098,
          0.9958875430556167,
          0.9961699836691027,
          0.9964330959383274,
          0.9966781933444656,
          0.9969065013339848,
          0.997119163056066,
          0.9973172447479649,
          0.9975017407869319,
          0.9976735784267469,
          0.9978336222363177,
          0.9979826782571474,
          0.9981214978957936,
          0.9982507815667627,
          0.9983711821005735,
          0.9984833079310457,
          0.9985877260751623,
          0.9986849649181929,
          0.998775516816089,
          0.9988598405265312,
          0.9989383634793739,
          0.9990114838966391,
          0.9990795727716247,
          0.9991429757161497,
          0.9992020146844174,
          0.999256989581478,
          0.999308179763793,
          0.9993558454389407,
          0.9994002289710763,
          0.9994415560983402,
          0.9994800370680349,
          0.9995158676950044,
          0.9995492303483247,
          0.9995802948710739,
          0.9996092194376507
         ]
        },
        {
         "marker": {
          "color": "red",
          "line": {
           "color": "black",
           "width": 1
          },
          "size": 8
         },
         "mode": "markers",
         "name": "Observed Data",
         "type": "scatter",
         "x": [
          105,
          127,
          135,
          110,
          151,
          76,
          136,
          138,
          119,
          111,
          98,
          163,
          108,
          141,
          145,
          134,
          97,
          108,
          123,
          117,
          127,
          144,
          137,
          141,
          111,
          162,
          126,
          112,
          121,
          120,
          95,
          105,
          116,
          152,
          143,
          115,
          113,
          105,
          141,
          64,
          150,
          92,
          126,
          123,
          121,
          100,
          128,
          143,
          112,
          147,
          110,
          160,
          109,
          92,
          143,
          48,
          135,
          142,
          118,
          181,
          96,
          105,
          44,
          36,
          56,
          99,
          87,
          88,
          57,
          77,
          76,
          42,
          76,
          90,
          61,
          97,
          80,
          70,
          62,
          67,
          77,
          102,
          66,
          80,
          97,
          96,
          89,
          95,
          63,
          81,
          67,
          67,
          80,
          49,
          62,
          98,
          95,
          63,
          102,
          111,
          113,
          88,
          76,
          108,
          49,
          35,
          65,
          63,
          83,
          51,
          73,
          104,
          92,
          99,
          84,
          41,
          83,
          92,
          107,
          67
         ],
         "y": [
          1,
          1,
          1,
          1,
          1,
          1,
          1,
          1,
          1,
          1,
          1,
          1,
          1,
          1,
          1,
          1,
          1,
          1,
          1,
          1,
          1,
          1,
          1,
          1,
          1,
          1,
          1,
          1,
          1,
          1,
          1,
          1,
          1,
          1,
          1,
          1,
          1,
          1,
          1,
          1,
          1,
          1,
          1,
          1,
          1,
          1,
          1,
          1,
          1,
          1,
          1,
          1,
          1,
          1,
          1,
          1,
          1,
          1,
          1,
          1,
          0,
          0,
          0,
          0,
          0,
          0,
          0,
          0,
          0,
          0,
          0,
          0,
          0,
          0,
          0,
          0,
          0,
          0,
          0,
          0,
          0,
          0,
          0,
          0,
          0,
          0,
          0,
          0,
          0,
          0,
          0,
          0,
          0,
          0,
          0,
          0,
          0,
          0,
          0,
          0,
          0,
          0,
          0,
          0,
          0,
          0,
          0,
          0,
          0,
          0,
          0,
          0,
          0,
          0,
          0,
          0,
          0,
          0,
          0,
          0
         ]
        }
       ],
       "layout": {
        "legend": {
         "font": {
          "color": "black",
          "family": "Arial",
          "size": 14
         }
        },
        "paper_bgcolor": "white",
        "plot_bgcolor": "white",
        "template": {
         "data": {
          "bar": [
           {
            "error_x": {
             "color": "#2a3f5f"
            },
            "error_y": {
             "color": "#2a3f5f"
            },
            "marker": {
             "line": {
              "color": "#E5ECF6",
              "width": 0.5
             },
             "pattern": {
              "fillmode": "overlay",
              "size": 10,
              "solidity": 0.2
             }
            },
            "type": "bar"
           }
          ],
          "barpolar": [
           {
            "marker": {
             "line": {
              "color": "#E5ECF6",
              "width": 0.5
             },
             "pattern": {
              "fillmode": "overlay",
              "size": 10,
              "solidity": 0.2
             }
            },
            "type": "barpolar"
           }
          ],
          "carpet": [
           {
            "aaxis": {
             "endlinecolor": "#2a3f5f",
             "gridcolor": "white",
             "linecolor": "white",
             "minorgridcolor": "white",
             "startlinecolor": "#2a3f5f"
            },
            "baxis": {
             "endlinecolor": "#2a3f5f",
             "gridcolor": "white",
             "linecolor": "white",
             "minorgridcolor": "white",
             "startlinecolor": "#2a3f5f"
            },
            "type": "carpet"
           }
          ],
          "choropleth": [
           {
            "colorbar": {
             "outlinewidth": 0,
             "ticks": ""
            },
            "type": "choropleth"
           }
          ],
          "contour": [
           {
            "colorbar": {
             "outlinewidth": 0,
             "ticks": ""
            },
            "colorscale": [
             [
              0,
              "#0d0887"
             ],
             [
              0.1111111111111111,
              "#46039f"
             ],
             [
              0.2222222222222222,
              "#7201a8"
             ],
             [
              0.3333333333333333,
              "#9c179e"
             ],
             [
              0.4444444444444444,
              "#bd3786"
             ],
             [
              0.5555555555555556,
              "#d8576b"
             ],
             [
              0.6666666666666666,
              "#ed7953"
             ],
             [
              0.7777777777777778,
              "#fb9f3a"
             ],
             [
              0.8888888888888888,
              "#fdca26"
             ],
             [
              1,
              "#f0f921"
             ]
            ],
            "type": "contour"
           }
          ],
          "contourcarpet": [
           {
            "colorbar": {
             "outlinewidth": 0,
             "ticks": ""
            },
            "type": "contourcarpet"
           }
          ],
          "heatmap": [
           {
            "colorbar": {
             "outlinewidth": 0,
             "ticks": ""
            },
            "colorscale": [
             [
              0,
              "#0d0887"
             ],
             [
              0.1111111111111111,
              "#46039f"
             ],
             [
              0.2222222222222222,
              "#7201a8"
             ],
             [
              0.3333333333333333,
              "#9c179e"
             ],
             [
              0.4444444444444444,
              "#bd3786"
             ],
             [
              0.5555555555555556,
              "#d8576b"
             ],
             [
              0.6666666666666666,
              "#ed7953"
             ],
             [
              0.7777777777777778,
              "#fb9f3a"
             ],
             [
              0.8888888888888888,
              "#fdca26"
             ],
             [
              1,
              "#f0f921"
             ]
            ],
            "type": "heatmap"
           }
          ],
          "heatmapgl": [
           {
            "colorbar": {
             "outlinewidth": 0,
             "ticks": ""
            },
            "colorscale": [
             [
              0,
              "#0d0887"
             ],
             [
              0.1111111111111111,
              "#46039f"
             ],
             [
              0.2222222222222222,
              "#7201a8"
             ],
             [
              0.3333333333333333,
              "#9c179e"
             ],
             [
              0.4444444444444444,
              "#bd3786"
             ],
             [
              0.5555555555555556,
              "#d8576b"
             ],
             [
              0.6666666666666666,
              "#ed7953"
             ],
             [
              0.7777777777777778,
              "#fb9f3a"
             ],
             [
              0.8888888888888888,
              "#fdca26"
             ],
             [
              1,
              "#f0f921"
             ]
            ],
            "type": "heatmapgl"
           }
          ],
          "histogram": [
           {
            "marker": {
             "pattern": {
              "fillmode": "overlay",
              "size": 10,
              "solidity": 0.2
             }
            },
            "type": "histogram"
           }
          ],
          "histogram2d": [
           {
            "colorbar": {
             "outlinewidth": 0,
             "ticks": ""
            },
            "colorscale": [
             [
              0,
              "#0d0887"
             ],
             [
              0.1111111111111111,
              "#46039f"
             ],
             [
              0.2222222222222222,
              "#7201a8"
             ],
             [
              0.3333333333333333,
              "#9c179e"
             ],
             [
              0.4444444444444444,
              "#bd3786"
             ],
             [
              0.5555555555555556,
              "#d8576b"
             ],
             [
              0.6666666666666666,
              "#ed7953"
             ],
             [
              0.7777777777777778,
              "#fb9f3a"
             ],
             [
              0.8888888888888888,
              "#fdca26"
             ],
             [
              1,
              "#f0f921"
             ]
            ],
            "type": "histogram2d"
           }
          ],
          "histogram2dcontour": [
           {
            "colorbar": {
             "outlinewidth": 0,
             "ticks": ""
            },
            "colorscale": [
             [
              0,
              "#0d0887"
             ],
             [
              0.1111111111111111,
              "#46039f"
             ],
             [
              0.2222222222222222,
              "#7201a8"
             ],
             [
              0.3333333333333333,
              "#9c179e"
             ],
             [
              0.4444444444444444,
              "#bd3786"
             ],
             [
              0.5555555555555556,
              "#d8576b"
             ],
             [
              0.6666666666666666,
              "#ed7953"
             ],
             [
              0.7777777777777778,
              "#fb9f3a"
             ],
             [
              0.8888888888888888,
              "#fdca26"
             ],
             [
              1,
              "#f0f921"
             ]
            ],
            "type": "histogram2dcontour"
           }
          ],
          "mesh3d": [
           {
            "colorbar": {
             "outlinewidth": 0,
             "ticks": ""
            },
            "type": "mesh3d"
           }
          ],
          "parcoords": [
           {
            "line": {
             "colorbar": {
              "outlinewidth": 0,
              "ticks": ""
             }
            },
            "type": "parcoords"
           }
          ],
          "pie": [
           {
            "automargin": true,
            "type": "pie"
           }
          ],
          "scatter": [
           {
            "fillpattern": {
             "fillmode": "overlay",
             "size": 10,
             "solidity": 0.2
            },
            "type": "scatter"
           }
          ],
          "scatter3d": [
           {
            "line": {
             "colorbar": {
              "outlinewidth": 0,
              "ticks": ""
             }
            },
            "marker": {
             "colorbar": {
              "outlinewidth": 0,
              "ticks": ""
             }
            },
            "type": "scatter3d"
           }
          ],
          "scattercarpet": [
           {
            "marker": {
             "colorbar": {
              "outlinewidth": 0,
              "ticks": ""
             }
            },
            "type": "scattercarpet"
           }
          ],
          "scattergeo": [
           {
            "marker": {
             "colorbar": {
              "outlinewidth": 0,
              "ticks": ""
             }
            },
            "type": "scattergeo"
           }
          ],
          "scattergl": [
           {
            "marker": {
             "colorbar": {
              "outlinewidth": 0,
              "ticks": ""
             }
            },
            "type": "scattergl"
           }
          ],
          "scattermapbox": [
           {
            "marker": {
             "colorbar": {
              "outlinewidth": 0,
              "ticks": ""
             }
            },
            "type": "scattermapbox"
           }
          ],
          "scatterpolar": [
           {
            "marker": {
             "colorbar": {
              "outlinewidth": 0,
              "ticks": ""
             }
            },
            "type": "scatterpolar"
           }
          ],
          "scatterpolargl": [
           {
            "marker": {
             "colorbar": {
              "outlinewidth": 0,
              "ticks": ""
             }
            },
            "type": "scatterpolargl"
           }
          ],
          "scatterternary": [
           {
            "marker": {
             "colorbar": {
              "outlinewidth": 0,
              "ticks": ""
             }
            },
            "type": "scatterternary"
           }
          ],
          "surface": [
           {
            "colorbar": {
             "outlinewidth": 0,
             "ticks": ""
            },
            "colorscale": [
             [
              0,
              "#0d0887"
             ],
             [
              0.1111111111111111,
              "#46039f"
             ],
             [
              0.2222222222222222,
              "#7201a8"
             ],
             [
              0.3333333333333333,
              "#9c179e"
             ],
             [
              0.4444444444444444,
              "#bd3786"
             ],
             [
              0.5555555555555556,
              "#d8576b"
             ],
             [
              0.6666666666666666,
              "#ed7953"
             ],
             [
              0.7777777777777778,
              "#fb9f3a"
             ],
             [
              0.8888888888888888,
              "#fdca26"
             ],
             [
              1,
              "#f0f921"
             ]
            ],
            "type": "surface"
           }
          ],
          "table": [
           {
            "cells": {
             "fill": {
              "color": "#EBF0F8"
             },
             "line": {
              "color": "white"
             }
            },
            "header": {
             "fill": {
              "color": "#C8D4E3"
             },
             "line": {
              "color": "white"
             }
            },
            "type": "table"
           }
          ]
         },
         "layout": {
          "annotationdefaults": {
           "arrowcolor": "#2a3f5f",
           "arrowhead": 0,
           "arrowwidth": 1
          },
          "autotypenumbers": "strict",
          "coloraxis": {
           "colorbar": {
            "outlinewidth": 0,
            "ticks": ""
           }
          },
          "colorscale": {
           "diverging": [
            [
             0,
             "#8e0152"
            ],
            [
             0.1,
             "#c51b7d"
            ],
            [
             0.2,
             "#de77ae"
            ],
            [
             0.3,
             "#f1b6da"
            ],
            [
             0.4,
             "#fde0ef"
            ],
            [
             0.5,
             "#f7f7f7"
            ],
            [
             0.6,
             "#e6f5d0"
            ],
            [
             0.7,
             "#b8e186"
            ],
            [
             0.8,
             "#7fbc41"
            ],
            [
             0.9,
             "#4d9221"
            ],
            [
             1,
             "#276419"
            ]
           ],
           "sequential": [
            [
             0,
             "#0d0887"
            ],
            [
             0.1111111111111111,
             "#46039f"
            ],
            [
             0.2222222222222222,
             "#7201a8"
            ],
            [
             0.3333333333333333,
             "#9c179e"
            ],
            [
             0.4444444444444444,
             "#bd3786"
            ],
            [
             0.5555555555555556,
             "#d8576b"
            ],
            [
             0.6666666666666666,
             "#ed7953"
            ],
            [
             0.7777777777777778,
             "#fb9f3a"
            ],
            [
             0.8888888888888888,
             "#fdca26"
            ],
            [
             1,
             "#f0f921"
            ]
           ],
           "sequentialminus": [
            [
             0,
             "#0d0887"
            ],
            [
             0.1111111111111111,
             "#46039f"
            ],
            [
             0.2222222222222222,
             "#7201a8"
            ],
            [
             0.3333333333333333,
             "#9c179e"
            ],
            [
             0.4444444444444444,
             "#bd3786"
            ],
            [
             0.5555555555555556,
             "#d8576b"
            ],
            [
             0.6666666666666666,
             "#ed7953"
            ],
            [
             0.7777777777777778,
             "#fb9f3a"
            ],
            [
             0.8888888888888888,
             "#fdca26"
            ],
            [
             1,
             "#f0f921"
            ]
           ]
          },
          "colorway": [
           "#636efa",
           "#EF553B",
           "#00cc96",
           "#ab63fa",
           "#FFA15A",
           "#19d3f3",
           "#FF6692",
           "#B6E880",
           "#FF97FF",
           "#FECB52"
          ],
          "font": {
           "color": "#2a3f5f"
          },
          "geo": {
           "bgcolor": "white",
           "lakecolor": "white",
           "landcolor": "#E5ECF6",
           "showlakes": true,
           "showland": true,
           "subunitcolor": "white"
          },
          "hoverlabel": {
           "align": "left"
          },
          "hovermode": "closest",
          "mapbox": {
           "style": "light"
          },
          "paper_bgcolor": "white",
          "plot_bgcolor": "#E5ECF6",
          "polar": {
           "angularaxis": {
            "gridcolor": "white",
            "linecolor": "white",
            "ticks": ""
           },
           "bgcolor": "#E5ECF6",
           "radialaxis": {
            "gridcolor": "white",
            "linecolor": "white",
            "ticks": ""
           }
          },
          "scene": {
           "xaxis": {
            "backgroundcolor": "#E5ECF6",
            "gridcolor": "white",
            "gridwidth": 2,
            "linecolor": "white",
            "showbackground": true,
            "ticks": "",
            "zerolinecolor": "white"
           },
           "yaxis": {
            "backgroundcolor": "#E5ECF6",
            "gridcolor": "white",
            "gridwidth": 2,
            "linecolor": "white",
            "showbackground": true,
            "ticks": "",
            "zerolinecolor": "white"
           },
           "zaxis": {
            "backgroundcolor": "#E5ECF6",
            "gridcolor": "white",
            "gridwidth": 2,
            "linecolor": "white",
            "showbackground": true,
            "ticks": "",
            "zerolinecolor": "white"
           }
          },
          "shapedefaults": {
           "line": {
            "color": "#2a3f5f"
           }
          },
          "ternary": {
           "aaxis": {
            "gridcolor": "white",
            "linecolor": "white",
            "ticks": ""
           },
           "baxis": {
            "gridcolor": "white",
            "linecolor": "white",
            "ticks": ""
           },
           "bgcolor": "#E5ECF6",
           "caxis": {
            "gridcolor": "white",
            "linecolor": "white",
            "ticks": ""
           }
          },
          "title": {
           "x": 0.05
          },
          "xaxis": {
           "automargin": true,
           "gridcolor": "white",
           "linecolor": "white",
           "ticks": "",
           "title": {
            "standoff": 15
           },
           "zerolinecolor": "white",
           "zerolinewidth": 2
          },
          "yaxis": {
           "automargin": true,
           "gridcolor": "white",
           "linecolor": "white",
           "ticks": "",
           "title": {
            "standoff": 15
           },
           "zerolinecolor": "white",
           "zerolinewidth": 2
          }
         }
        },
        "title": {
         "font": {
          "color": "darkblue",
          "family": "Arial",
          "size": 24
         },
         "text": "Probability of Second Surgery Needed vs. Length of Affected Intestine [cm]"
        },
        "xaxis": {
         "gridcolor": "lightgray",
         "tickfont": {
          "color": "black",
          "family": "Arial",
          "size": 14
         },
         "title": {
          "font": {
           "color": "black",
           "family": "Arial",
           "size": 18
          },
          "text": "Length of Affected Intestine (cm)"
         }
        },
        "yaxis": {
         "gridcolor": "lightgray",
         "tickfont": {
          "color": "black",
          "family": "Arial",
          "size": 14
         },
         "title": {
          "font": {
           "color": "black",
           "family": "Arial",
           "size": 18
          },
          "text": "Second Surgery Needed (Encoded)"
         }
        }
       }
      }
     },
     "metadata": {},
     "output_type": "display_data"
    }
   ],
   "source": [
    "import plotly.graph_objects as go\n",
    "\n",
    "fig = go.Figure()\n",
    "\n",
    "# Adding the model prediction trace (line)\n",
    "fig.add_trace(go.Scatter(\n",
    "    x=affectedIntestineleength,\n",
    "    y=new_affected_line_predictions,\n",
    "    mode='lines',\n",
    "    name='Model Prediction',\n",
    "    line=dict(color='blue', width=3)\n",
    "))\n",
    "\n",
    "# Adding the observed data trace (markers)\n",
    "fig.add_trace(go.Scatter(\n",
    "    x=data['LengthAffectedIntestine'].tolist(),\n",
    "    y=data['SecondSurgeryNeededEncoded'].tolist(),\n",
    "    mode='markers',\n",
    "    name='Observed Data',\n",
    "    marker=dict(color='red', size=8, line=dict(width=1, color='black'))\n",
    "))\n",
    "\n",
    "# Update layout with enhanced visual settings\n",
    "fig.update_layout(\n",
    "    title='Probability of Second Surgery Needed vs. Length of Affected Intestine [cm]',\n",
    "    title_font=dict(family='Arial', size=24, color='darkblue'),\n",
    "    xaxis=dict(\n",
    "        title='Length of Affected Intestine (cm)',\n",
    "        title_font=dict(family='Arial', size=18, color='black'),\n",
    "        tickfont=dict(family='Arial', size=14, color='black'),\n",
    "        gridcolor='lightgray'\n",
    "    ),\n",
    "    yaxis=dict(\n",
    "        title='Second Surgery Needed (Encoded)',\n",
    "        title_font=dict(family='Arial', size=18, color='black'),\n",
    "        tickfont=dict(family='Arial', size=14, color='black'),\n",
    "        gridcolor='lightgray'\n",
    "    ),\n",
    "    plot_bgcolor='white',\n",
    "    paper_bgcolor='white',\n",
    "    legend=dict(font=dict(family='Arial', size=14, color='black'))\n",
    ")\n",
    "\n",
    "fig.show()\n"
   ]
  },
  {
   "cell_type": "markdown",
   "metadata": {},
   "source": [
    "* Displaying the underlying Z distribution"
   ]
  },
  {
   "cell_type": "code",
   "execution_count": 39,
   "metadata": {},
   "outputs": [
    {
     "data": {
      "application/vnd.plotly.v1+json": {
       "config": {
        "plotlyServerURL": "https://plot.ly"
       },
       "data": [
        {
         "line": {
          "color": "blue",
          "width": 3
         },
         "mode": "lines",
         "name": "Normal PDF",
         "type": "scatter",
         "x": [
          -2.575829303548901,
          -2.5237923479216504,
          -2.4717553922944,
          -2.419718436667149,
          -2.3676814810398987,
          -2.3156445254126483,
          -2.263607569785398,
          -2.2115706141581475,
          -2.1595336585308966,
          -2.107496702903646,
          -2.055459747276396,
          -2.003422791649145,
          -1.9513858360218947,
          -1.8993488803946441,
          -1.8473119247673937,
          -1.7952749691401433,
          -1.7432380135128926,
          -1.691201057885642,
          -1.6391641022583916,
          -1.5871271466311412,
          -1.5350901910038905,
          -1.4830532353766401,
          -1.4310162797493895,
          -1.378979324122139,
          -1.3269423684948887,
          -1.274905412867638,
          -1.2228684572403876,
          -1.170831501613137,
          -1.1187945459858866,
          -1.066757590358636,
          -1.0147206347313855,
          -0.9626836791041349,
          -0.9106467234768845,
          -0.858609767849634,
          -0.8065728122223834,
          -0.754535856595133,
          -0.7024989009678824,
          -0.650461945340632,
          -0.5984249897133813,
          -0.5463880340861307,
          -0.49435107845888027,
          -0.44231412283162985,
          -0.39027716720437944,
          -0.338240211577129,
          -0.28620325594987817,
          -0.23416630032262775,
          -0.18212934469537734,
          -0.13009238906812692,
          -0.07805543344087651,
          -0.02601847781362565,
          0.026018477813624763,
          0.07805543344087518,
          0.1300923890681256,
          0.18212934469537645,
          0.23416630032262686,
          0.2862032559498773,
          0.3382402115771277,
          0.3902771672043781,
          0.44231412283162896,
          0.4943510784588794,
          0.5463880340861298,
          0.5984249897133802,
          0.6504619453406311,
          0.7024989009678815,
          0.7545358565951319,
          0.8065728122223823,
          0.8586097678496327,
          0.9106467234768836,
          0.962683679104134,
          1.0147206347313844,
          1.0667575903586348,
          1.1187945459858857,
          1.170831501613136,
          1.2228684572403865,
          1.274905412867637,
          1.3269423684948873,
          1.3789793241221382,
          1.4310162797493882,
          1.4830532353766395,
          1.5350901910038899,
          1.5871271466311403,
          1.6391641022583907,
          1.6912010578856411,
          1.7432380135128915,
          1.795274969140142,
          1.8473119247673924,
          1.8993488803946428,
          1.951385836021894,
          2.0034227916491445,
          2.055459747276395,
          2.1074967029036453,
          2.1595336585308957,
          2.211570614158146,
          2.2636075697853966,
          2.315644525412647,
          2.3676814810398974,
          2.419718436667148,
          2.471755392294399,
          2.5237923479216495,
          2.5758293035489004
         ],
         "y": [
          0.014459743026917405,
          0.01651142949985314,
          0.018803243585716393,
          0.021355260214621773,
          0.0241880557663897,
          0.027322538884644317,
          0.030779753833990033,
          0.03458065615544537,
          0.03874586090012553,
          0.043295364307432756,
          0.0482482404344718,
          0.0536223149283213,
          0.059433818849963405,
          0.06569702619351131,
          0.07242387948007643,
          0.07962360852344573,
          0.08730234814436869,
          0.09546276123026247,
          0.10410367407553062,
          0.11321973137253095,
          0.12280107853334275,
          0.13283307918817502,
          0.1432960757100723,
          0.15416520044302234,
          0.1654102449508752,
          0.17699559405119217,
          0.18888023064971832,
          0.2010178164514141,
          0.2133568525023208,
          0.22584092222818367,
          0.23840901820161262,
          0.2509959523160123,
          0.2635328474029277,
          0.27594770663559204,
          0.28816605535460205,
          0.3001116482736249,
          0.3117072334170803,
          0.3228753626512405,
          0.3335392373374139,
          0.34362357650058073,
          0.3530554940050366,
          0.3617653705912285,
          0.3696877062798492,
          0.3767619386081119,
          0.3829332124387942,
          0.38815308767658835,
          0.3923801721313357,
          0.39558066796804137,
          0.3977288216550099,
          0.39880726903209623,
          0.39880726903209623,
          0.3977288216550099,
          0.3955806679680415,
          0.39238017213133575,
          0.3881530876765884,
          0.3829332124387943,
          0.3767619386081121,
          0.3696877062798494,
          0.36176537059122865,
          0.3530554940050367,
          0.3436235765005809,
          0.33353923733741414,
          0.32287536265124067,
          0.31170723341708045,
          0.30011164827362513,
          0.28816605535460227,
          0.27594770663559237,
          0.26353284740292793,
          0.25099595231601246,
          0.2384090182016129,
          0.22584092222818394,
          0.21335685250232103,
          0.20101781645141428,
          0.18888023064971857,
          0.17699559405119242,
          0.16541024495087547,
          0.15416520044302254,
          0.14329607571007258,
          0.13283307918817513,
          0.12280107853334288,
          0.11321973137253113,
          0.10410367407553077,
          0.09546276123026261,
          0.08730234814436885,
          0.07962360852344592,
          0.07242387948007661,
          0.06569702619351148,
          0.05943381884996348,
          0.053622314928321355,
          0.04824824043447189,
          0.04329536430743283,
          0.0387458609001256,
          0.03458065615544546,
          0.030779753833990127,
          0.027322538884644403,
          0.024188055766389778,
          0.02135526021462184,
          0.018803243585716434,
          0.016511429499853174,
          0.014459743026917419
         ]
        }
       ],
       "layout": {
        "annotations": [
         {
          "showarrow": false,
          "text": "z Critical = 1.96",
          "x": 1.959963984540054,
          "xanchor": "left",
          "xref": "x",
          "y": 1,
          "yanchor": "top",
          "yref": "y domain"
         },
         {
          "showarrow": false,
          "text": "-z Critical = 1.96",
          "x": -1.959963984540054,
          "xanchor": "right",
          "xref": "x",
          "y": 1,
          "yanchor": "top",
          "yref": "y domain"
         },
         {
          "showarrow": false,
          "text": "z Score = 5.39",
          "x": 5.392,
          "xanchor": "left",
          "xref": "x",
          "y": 0,
          "yanchor": "bottom",
          "yref": "y domain"
         },
         {
          "showarrow": false,
          "text": "-z Score = 5.39",
          "x": -5.392,
          "xanchor": "right",
          "xref": "x",
          "y": 0,
          "yanchor": "bottom",
          "yref": "y domain"
         }
        ],
        "font": {
         "color": "black",
         "family": "Arial",
         "size": 16
        },
        "legend": {
         "font": {
          "color": "black",
          "family": "Arial",
          "size": 14
         }
        },
        "paper_bgcolor": "white",
        "plot_bgcolor": "white",
        "shapes": [
         {
          "line": {
           "color": "red",
           "dash": "dash"
          },
          "type": "line",
          "x0": 1.959963984540054,
          "x1": 1.959963984540054,
          "xref": "x",
          "y0": 0,
          "y1": 1,
          "yref": "y domain"
         },
         {
          "line": {
           "color": "red",
           "dash": "dash"
          },
          "type": "line",
          "x0": -1.959963984540054,
          "x1": -1.959963984540054,
          "xref": "x",
          "y0": 0,
          "y1": 1,
          "yref": "y domain"
         },
         {
          "line": {
           "color": "green",
           "dash": "dash"
          },
          "type": "line",
          "x0": 5.392,
          "x1": 5.392,
          "xref": "x",
          "y0": 0,
          "y1": 1,
          "yref": "y domain"
         },
         {
          "line": {
           "color": "green",
           "dash": "dash"
          },
          "type": "line",
          "x0": -5.392,
          "x1": -5.392,
          "xref": "x",
          "y0": 0,
          "y1": 1,
          "yref": "y domain"
         }
        ],
        "template": {
         "data": {
          "bar": [
           {
            "error_x": {
             "color": "#2a3f5f"
            },
            "error_y": {
             "color": "#2a3f5f"
            },
            "marker": {
             "line": {
              "color": "#E5ECF6",
              "width": 0.5
             },
             "pattern": {
              "fillmode": "overlay",
              "size": 10,
              "solidity": 0.2
             }
            },
            "type": "bar"
           }
          ],
          "barpolar": [
           {
            "marker": {
             "line": {
              "color": "#E5ECF6",
              "width": 0.5
             },
             "pattern": {
              "fillmode": "overlay",
              "size": 10,
              "solidity": 0.2
             }
            },
            "type": "barpolar"
           }
          ],
          "carpet": [
           {
            "aaxis": {
             "endlinecolor": "#2a3f5f",
             "gridcolor": "white",
             "linecolor": "white",
             "minorgridcolor": "white",
             "startlinecolor": "#2a3f5f"
            },
            "baxis": {
             "endlinecolor": "#2a3f5f",
             "gridcolor": "white",
             "linecolor": "white",
             "minorgridcolor": "white",
             "startlinecolor": "#2a3f5f"
            },
            "type": "carpet"
           }
          ],
          "choropleth": [
           {
            "colorbar": {
             "outlinewidth": 0,
             "ticks": ""
            },
            "type": "choropleth"
           }
          ],
          "contour": [
           {
            "colorbar": {
             "outlinewidth": 0,
             "ticks": ""
            },
            "colorscale": [
             [
              0,
              "#0d0887"
             ],
             [
              0.1111111111111111,
              "#46039f"
             ],
             [
              0.2222222222222222,
              "#7201a8"
             ],
             [
              0.3333333333333333,
              "#9c179e"
             ],
             [
              0.4444444444444444,
              "#bd3786"
             ],
             [
              0.5555555555555556,
              "#d8576b"
             ],
             [
              0.6666666666666666,
              "#ed7953"
             ],
             [
              0.7777777777777778,
              "#fb9f3a"
             ],
             [
              0.8888888888888888,
              "#fdca26"
             ],
             [
              1,
              "#f0f921"
             ]
            ],
            "type": "contour"
           }
          ],
          "contourcarpet": [
           {
            "colorbar": {
             "outlinewidth": 0,
             "ticks": ""
            },
            "type": "contourcarpet"
           }
          ],
          "heatmap": [
           {
            "colorbar": {
             "outlinewidth": 0,
             "ticks": ""
            },
            "colorscale": [
             [
              0,
              "#0d0887"
             ],
             [
              0.1111111111111111,
              "#46039f"
             ],
             [
              0.2222222222222222,
              "#7201a8"
             ],
             [
              0.3333333333333333,
              "#9c179e"
             ],
             [
              0.4444444444444444,
              "#bd3786"
             ],
             [
              0.5555555555555556,
              "#d8576b"
             ],
             [
              0.6666666666666666,
              "#ed7953"
             ],
             [
              0.7777777777777778,
              "#fb9f3a"
             ],
             [
              0.8888888888888888,
              "#fdca26"
             ],
             [
              1,
              "#f0f921"
             ]
            ],
            "type": "heatmap"
           }
          ],
          "heatmapgl": [
           {
            "colorbar": {
             "outlinewidth": 0,
             "ticks": ""
            },
            "colorscale": [
             [
              0,
              "#0d0887"
             ],
             [
              0.1111111111111111,
              "#46039f"
             ],
             [
              0.2222222222222222,
              "#7201a8"
             ],
             [
              0.3333333333333333,
              "#9c179e"
             ],
             [
              0.4444444444444444,
              "#bd3786"
             ],
             [
              0.5555555555555556,
              "#d8576b"
             ],
             [
              0.6666666666666666,
              "#ed7953"
             ],
             [
              0.7777777777777778,
              "#fb9f3a"
             ],
             [
              0.8888888888888888,
              "#fdca26"
             ],
             [
              1,
              "#f0f921"
             ]
            ],
            "type": "heatmapgl"
           }
          ],
          "histogram": [
           {
            "marker": {
             "pattern": {
              "fillmode": "overlay",
              "size": 10,
              "solidity": 0.2
             }
            },
            "type": "histogram"
           }
          ],
          "histogram2d": [
           {
            "colorbar": {
             "outlinewidth": 0,
             "ticks": ""
            },
            "colorscale": [
             [
              0,
              "#0d0887"
             ],
             [
              0.1111111111111111,
              "#46039f"
             ],
             [
              0.2222222222222222,
              "#7201a8"
             ],
             [
              0.3333333333333333,
              "#9c179e"
             ],
             [
              0.4444444444444444,
              "#bd3786"
             ],
             [
              0.5555555555555556,
              "#d8576b"
             ],
             [
              0.6666666666666666,
              "#ed7953"
             ],
             [
              0.7777777777777778,
              "#fb9f3a"
             ],
             [
              0.8888888888888888,
              "#fdca26"
             ],
             [
              1,
              "#f0f921"
             ]
            ],
            "type": "histogram2d"
           }
          ],
          "histogram2dcontour": [
           {
            "colorbar": {
             "outlinewidth": 0,
             "ticks": ""
            },
            "colorscale": [
             [
              0,
              "#0d0887"
             ],
             [
              0.1111111111111111,
              "#46039f"
             ],
             [
              0.2222222222222222,
              "#7201a8"
             ],
             [
              0.3333333333333333,
              "#9c179e"
             ],
             [
              0.4444444444444444,
              "#bd3786"
             ],
             [
              0.5555555555555556,
              "#d8576b"
             ],
             [
              0.6666666666666666,
              "#ed7953"
             ],
             [
              0.7777777777777778,
              "#fb9f3a"
             ],
             [
              0.8888888888888888,
              "#fdca26"
             ],
             [
              1,
              "#f0f921"
             ]
            ],
            "type": "histogram2dcontour"
           }
          ],
          "mesh3d": [
           {
            "colorbar": {
             "outlinewidth": 0,
             "ticks": ""
            },
            "type": "mesh3d"
           }
          ],
          "parcoords": [
           {
            "line": {
             "colorbar": {
              "outlinewidth": 0,
              "ticks": ""
             }
            },
            "type": "parcoords"
           }
          ],
          "pie": [
           {
            "automargin": true,
            "type": "pie"
           }
          ],
          "scatter": [
           {
            "fillpattern": {
             "fillmode": "overlay",
             "size": 10,
             "solidity": 0.2
            },
            "type": "scatter"
           }
          ],
          "scatter3d": [
           {
            "line": {
             "colorbar": {
              "outlinewidth": 0,
              "ticks": ""
             }
            },
            "marker": {
             "colorbar": {
              "outlinewidth": 0,
              "ticks": ""
             }
            },
            "type": "scatter3d"
           }
          ],
          "scattercarpet": [
           {
            "marker": {
             "colorbar": {
              "outlinewidth": 0,
              "ticks": ""
             }
            },
            "type": "scattercarpet"
           }
          ],
          "scattergeo": [
           {
            "marker": {
             "colorbar": {
              "outlinewidth": 0,
              "ticks": ""
             }
            },
            "type": "scattergeo"
           }
          ],
          "scattergl": [
           {
            "marker": {
             "colorbar": {
              "outlinewidth": 0,
              "ticks": ""
             }
            },
            "type": "scattergl"
           }
          ],
          "scattermapbox": [
           {
            "marker": {
             "colorbar": {
              "outlinewidth": 0,
              "ticks": ""
             }
            },
            "type": "scattermapbox"
           }
          ],
          "scatterpolar": [
           {
            "marker": {
             "colorbar": {
              "outlinewidth": 0,
              "ticks": ""
             }
            },
            "type": "scatterpolar"
           }
          ],
          "scatterpolargl": [
           {
            "marker": {
             "colorbar": {
              "outlinewidth": 0,
              "ticks": ""
             }
            },
            "type": "scatterpolargl"
           }
          ],
          "scatterternary": [
           {
            "marker": {
             "colorbar": {
              "outlinewidth": 0,
              "ticks": ""
             }
            },
            "type": "scatterternary"
           }
          ],
          "surface": [
           {
            "colorbar": {
             "outlinewidth": 0,
             "ticks": ""
            },
            "colorscale": [
             [
              0,
              "#0d0887"
             ],
             [
              0.1111111111111111,
              "#46039f"
             ],
             [
              0.2222222222222222,
              "#7201a8"
             ],
             [
              0.3333333333333333,
              "#9c179e"
             ],
             [
              0.4444444444444444,
              "#bd3786"
             ],
             [
              0.5555555555555556,
              "#d8576b"
             ],
             [
              0.6666666666666666,
              "#ed7953"
             ],
             [
              0.7777777777777778,
              "#fb9f3a"
             ],
             [
              0.8888888888888888,
              "#fdca26"
             ],
             [
              1,
              "#f0f921"
             ]
            ],
            "type": "surface"
           }
          ],
          "table": [
           {
            "cells": {
             "fill": {
              "color": "#EBF0F8"
             },
             "line": {
              "color": "white"
             }
            },
            "header": {
             "fill": {
              "color": "#C8D4E3"
             },
             "line": {
              "color": "white"
             }
            },
            "type": "table"
           }
          ]
         },
         "layout": {
          "annotationdefaults": {
           "arrowcolor": "#2a3f5f",
           "arrowhead": 0,
           "arrowwidth": 1
          },
          "autotypenumbers": "strict",
          "coloraxis": {
           "colorbar": {
            "outlinewidth": 0,
            "ticks": ""
           }
          },
          "colorscale": {
           "diverging": [
            [
             0,
             "#8e0152"
            ],
            [
             0.1,
             "#c51b7d"
            ],
            [
             0.2,
             "#de77ae"
            ],
            [
             0.3,
             "#f1b6da"
            ],
            [
             0.4,
             "#fde0ef"
            ],
            [
             0.5,
             "#f7f7f7"
            ],
            [
             0.6,
             "#e6f5d0"
            ],
            [
             0.7,
             "#b8e186"
            ],
            [
             0.8,
             "#7fbc41"
            ],
            [
             0.9,
             "#4d9221"
            ],
            [
             1,
             "#276419"
            ]
           ],
           "sequential": [
            [
             0,
             "#0d0887"
            ],
            [
             0.1111111111111111,
             "#46039f"
            ],
            [
             0.2222222222222222,
             "#7201a8"
            ],
            [
             0.3333333333333333,
             "#9c179e"
            ],
            [
             0.4444444444444444,
             "#bd3786"
            ],
            [
             0.5555555555555556,
             "#d8576b"
            ],
            [
             0.6666666666666666,
             "#ed7953"
            ],
            [
             0.7777777777777778,
             "#fb9f3a"
            ],
            [
             0.8888888888888888,
             "#fdca26"
            ],
            [
             1,
             "#f0f921"
            ]
           ],
           "sequentialminus": [
            [
             0,
             "#0d0887"
            ],
            [
             0.1111111111111111,
             "#46039f"
            ],
            [
             0.2222222222222222,
             "#7201a8"
            ],
            [
             0.3333333333333333,
             "#9c179e"
            ],
            [
             0.4444444444444444,
             "#bd3786"
            ],
            [
             0.5555555555555556,
             "#d8576b"
            ],
            [
             0.6666666666666666,
             "#ed7953"
            ],
            [
             0.7777777777777778,
             "#fb9f3a"
            ],
            [
             0.8888888888888888,
             "#fdca26"
            ],
            [
             1,
             "#f0f921"
            ]
           ]
          },
          "colorway": [
           "#636efa",
           "#EF553B",
           "#00cc96",
           "#ab63fa",
           "#FFA15A",
           "#19d3f3",
           "#FF6692",
           "#B6E880",
           "#FF97FF",
           "#FECB52"
          ],
          "font": {
           "color": "#2a3f5f"
          },
          "geo": {
           "bgcolor": "white",
           "lakecolor": "white",
           "landcolor": "#E5ECF6",
           "showlakes": true,
           "showland": true,
           "subunitcolor": "white"
          },
          "hoverlabel": {
           "align": "left"
          },
          "hovermode": "closest",
          "mapbox": {
           "style": "light"
          },
          "paper_bgcolor": "white",
          "plot_bgcolor": "#E5ECF6",
          "polar": {
           "angularaxis": {
            "gridcolor": "white",
            "linecolor": "white",
            "ticks": ""
           },
           "bgcolor": "#E5ECF6",
           "radialaxis": {
            "gridcolor": "white",
            "linecolor": "white",
            "ticks": ""
           }
          },
          "scene": {
           "xaxis": {
            "backgroundcolor": "#E5ECF6",
            "gridcolor": "white",
            "gridwidth": 2,
            "linecolor": "white",
            "showbackground": true,
            "ticks": "",
            "zerolinecolor": "white"
           },
           "yaxis": {
            "backgroundcolor": "#E5ECF6",
            "gridcolor": "white",
            "gridwidth": 2,
            "linecolor": "white",
            "showbackground": true,
            "ticks": "",
            "zerolinecolor": "white"
           },
           "zaxis": {
            "backgroundcolor": "#E5ECF6",
            "gridcolor": "white",
            "gridwidth": 2,
            "linecolor": "white",
            "showbackground": true,
            "ticks": "",
            "zerolinecolor": "white"
           }
          },
          "shapedefaults": {
           "line": {
            "color": "#2a3f5f"
           }
          },
          "ternary": {
           "aaxis": {
            "gridcolor": "white",
            "linecolor": "white",
            "ticks": ""
           },
           "baxis": {
            "gridcolor": "white",
            "linecolor": "white",
            "ticks": ""
           },
           "bgcolor": "#E5ECF6",
           "caxis": {
            "gridcolor": "white",
            "linecolor": "white",
            "ticks": ""
           }
          },
          "title": {
           "x": 0.05
          },
          "xaxis": {
           "automargin": true,
           "gridcolor": "white",
           "linecolor": "white",
           "ticks": "",
           "title": {
            "standoff": 15
           },
           "zerolinecolor": "white",
           "zerolinewidth": 2
          },
          "yaxis": {
           "automargin": true,
           "gridcolor": "white",
           "linecolor": "white",
           "ticks": "",
           "title": {
            "standoff": 15
           },
           "zerolinecolor": "white",
           "zerolinewidth": 2
          }
         }
        },
        "title": {
         "font": {
          "color": "darkblue",
          "family": "Arial",
          "size": 24
         },
         "text": "Normal Distribution with Z Critical and Z Score"
        },
        "xaxis": {
         "gridcolor": "lightgray",
         "tickfont": {
          "color": "black",
          "family": "Arial",
          "size": 14
         },
         "title": {
          "font": {
           "color": "black",
           "family": "Arial",
           "size": 18
          },
          "text": "Z Value"
         }
        },
        "yaxis": {
         "gridcolor": "lightgray",
         "tickfont": {
          "color": "black",
          "family": "Arial",
          "size": 14
         },
         "title": {
          "font": {
           "color": "black",
           "family": "Arial",
           "size": 18
          },
          "text": "Probability Density"
         }
        }
       }
      }
     },
     "metadata": {},
     "output_type": "display_data"
    }
   ],
   "source": [
    "\n",
    "# Z score and critical value\n",
    "z_score = 5.392\n",
    "z_critical = stats.norm.ppf(0.975)\n",
    "\n",
    "# x values for the normal distribution plot\n",
    "xvals = np.linspace(stats.norm.ppf(0.005), stats.norm.ppf(0.995), num=100)\n",
    "\n",
    "# Create the figure\n",
    "fig = go.Figure()\n",
    "\n",
    "# Add trace for the normal distribution (PDF)\n",
    "fig.add_trace(go.Scatter(\n",
    "    x=xvals,\n",
    "    y=stats.norm.pdf(xvals),\n",
    "    mode='lines',\n",
    "    name='Normal PDF',\n",
    "    line=dict(color='blue', width=3)\n",
    "))\n",
    "\n",
    "# Add vertical line for the positive z critical value with annotation\n",
    "fig.add_vline(\n",
    "    x=z_critical,\n",
    "    line_dash='dash',\n",
    "    line_color='red',\n",
    "    annotation_text=f\"z Critical = {z_critical:.2f}\",\n",
    "    annotation_position=\"top right\"\n",
    ")\n",
    "\n",
    "# Add vertical line for the negative z critical value with annotation\n",
    "fig.add_vline(\n",
    "    x=-z_critical,\n",
    "    line_dash='dash',\n",
    "    line_color='red',\n",
    "    annotation_text=f\"-z Critical = {z_critical:.2f}\",\n",
    "    annotation_position=\"top left\"\n",
    ")\n",
    "\n",
    "# Add vertical line for the positive observed z score with annotation\n",
    "fig.add_vline(\n",
    "    x=z_score,\n",
    "    line_dash='dash',\n",
    "    line_color='green',\n",
    "    annotation_text=f\"z Score = {z_score:.2f}\",\n",
    "    annotation_position=\"bottom right\"\n",
    ")\n",
    "\n",
    "# Add vertical line for the negative observed z score with annotation\n",
    "fig.add_vline(\n",
    "    x=-z_score,\n",
    "    line_dash='dash',\n",
    "    line_color='green',\n",
    "    annotation_text=f\"-z Score = {z_score:.2f}\",\n",
    "    annotation_position=\"bottom left\"\n",
    ")\n",
    "\n",
    "# Update layout with enhanced fonts, labels, and background\n",
    "fig.update_layout(\n",
    "    title='Normal Distribution with Z Critical and Z Score',\n",
    "    title_font=dict(family='Arial', size=24, color='darkblue'),\n",
    "    xaxis_title='Z Value',\n",
    "    xaxis=dict(\n",
    "        title_font=dict(family='Arial', size=18, color='black'),\n",
    "        tickfont=dict(family='Arial', size=14, color='black'),\n",
    "        gridcolor='lightgray'\n",
    "    ),\n",
    "    yaxis_title='Probability Density',\n",
    "    yaxis=dict(\n",
    "        title_font=dict(family='Arial', size=18, color='black'),\n",
    "        tickfont=dict(family='Arial', size=14, color='black'),\n",
    "        gridcolor='lightgray'\n",
    "    ),\n",
    "    font=dict(family='Arial', size=16, color='black'),\n",
    "    plot_bgcolor='white',\n",
    "    paper_bgcolor='white',\n",
    "    legend=dict(font=dict(family='Arial', size=14, color='black'))\n",
    ")\n",
    "\n",
    "fig.show()\n"
   ]
  },
  {
   "cell_type": "markdown",
   "metadata": {},
   "source": [
    "* Logistic Regresssion with a Categorical Indepedent variable"
   ]
  },
  {
   "cell_type": "code",
   "execution_count": 40,
   "metadata": {},
   "outputs": [
    {
     "data": {
      "text/html": [
       "<div>\n",
       "<style scoped>\n",
       "    .dataframe tbody tr th:only-of-type {\n",
       "        vertical-align: middle;\n",
       "    }\n",
       "\n",
       "    .dataframe tbody tr th {\n",
       "        vertical-align: top;\n",
       "    }\n",
       "\n",
       "    .dataframe thead th {\n",
       "        text-align: right;\n",
       "    }\n",
       "</style>\n",
       "<table border=\"1\" class=\"dataframe\">\n",
       "  <thead>\n",
       "    <tr style=\"text-align: right;\">\n",
       "      <th></th>\n",
       "      <th>PatientID</th>\n",
       "      <th>SecondSurgeryNeeded</th>\n",
       "      <th>AgeAtFirstSurgery</th>\n",
       "      <th>DiseaseDuration</th>\n",
       "      <th>LengthAffectedIntestine</th>\n",
       "      <th>AlbuminLevel</th>\n",
       "      <th>IBDType</th>\n",
       "      <th>PreviousAbdominalSurgery</th>\n",
       "      <th>SmokingStatus</th>\n",
       "      <th>Comorbidities</th>\n",
       "      <th>TypeOfSurgery</th>\n",
       "      <th>UseOfBiologics</th>\n",
       "      <th>FamilyHistoryOfIBD</th>\n",
       "      <th>Gender</th>\n",
       "      <th>SurgeonExperienceLevel</th>\n",
       "      <th>SecondSurgeryNeededEncoded</th>\n",
       "    </tr>\n",
       "  </thead>\n",
       "  <tbody>\n",
       "    <tr>\n",
       "      <th>0</th>\n",
       "      <td>P001</td>\n",
       "      <td>Yes</td>\n",
       "      <td>35</td>\n",
       "      <td>6.8</td>\n",
       "      <td>105</td>\n",
       "      <td>4.3</td>\n",
       "      <td>Crohn's</td>\n",
       "      <td>Yes</td>\n",
       "      <td>Current</td>\n",
       "      <td>No</td>\n",
       "      <td>Open</td>\n",
       "      <td>Yes</td>\n",
       "      <td>No</td>\n",
       "      <td>Female</td>\n",
       "      <td>Specialist</td>\n",
       "      <td>1</td>\n",
       "    </tr>\n",
       "    <tr>\n",
       "      <th>1</th>\n",
       "      <td>P002</td>\n",
       "      <td>Yes</td>\n",
       "      <td>40</td>\n",
       "      <td>4.9</td>\n",
       "      <td>127</td>\n",
       "      <td>3.8</td>\n",
       "      <td>Crohn's</td>\n",
       "      <td>No</td>\n",
       "      <td>Never</td>\n",
       "      <td>No</td>\n",
       "      <td>Open</td>\n",
       "      <td>Yes</td>\n",
       "      <td>Yes</td>\n",
       "      <td>Male</td>\n",
       "      <td>Specialist</td>\n",
       "      <td>1</td>\n",
       "    </tr>\n",
       "    <tr>\n",
       "      <th>2</th>\n",
       "      <td>P003</td>\n",
       "      <td>Yes</td>\n",
       "      <td>31</td>\n",
       "      <td>11.5</td>\n",
       "      <td>135</td>\n",
       "      <td>3.2</td>\n",
       "      <td>Crohn's</td>\n",
       "      <td>Yes</td>\n",
       "      <td>Former</td>\n",
       "      <td>No</td>\n",
       "      <td>Minimally Invasive</td>\n",
       "      <td>Yes</td>\n",
       "      <td>No</td>\n",
       "      <td>Female</td>\n",
       "      <td>Senior</td>\n",
       "      <td>1</td>\n",
       "    </tr>\n",
       "    <tr>\n",
       "      <th>3</th>\n",
       "      <td>P004</td>\n",
       "      <td>Yes</td>\n",
       "      <td>50</td>\n",
       "      <td>20.6</td>\n",
       "      <td>110</td>\n",
       "      <td>3.2</td>\n",
       "      <td>Crohn's</td>\n",
       "      <td>No</td>\n",
       "      <td>Former</td>\n",
       "      <td>Yes</td>\n",
       "      <td>Open</td>\n",
       "      <td>No</td>\n",
       "      <td>Yes</td>\n",
       "      <td>Male</td>\n",
       "      <td>Specialist</td>\n",
       "      <td>1</td>\n",
       "    </tr>\n",
       "    <tr>\n",
       "      <th>4</th>\n",
       "      <td>P005</td>\n",
       "      <td>Yes</td>\n",
       "      <td>35</td>\n",
       "      <td>14.9</td>\n",
       "      <td>151</td>\n",
       "      <td>2.6</td>\n",
       "      <td>Crohn's</td>\n",
       "      <td>Yes</td>\n",
       "      <td>Never</td>\n",
       "      <td>Yes</td>\n",
       "      <td>Open</td>\n",
       "      <td>Yes</td>\n",
       "      <td>No</td>\n",
       "      <td>Male</td>\n",
       "      <td>Mid_Level</td>\n",
       "      <td>1</td>\n",
       "    </tr>\n",
       "  </tbody>\n",
       "</table>\n",
       "</div>"
      ],
      "text/plain": [
       "  PatientID SecondSurgeryNeeded  AgeAtFirstSurgery  DiseaseDuration  \\\n",
       "0      P001                 Yes                 35              6.8   \n",
       "1      P002                 Yes                 40              4.9   \n",
       "2      P003                 Yes                 31             11.5   \n",
       "3      P004                 Yes                 50             20.6   \n",
       "4      P005                 Yes                 35             14.9   \n",
       "\n",
       "   LengthAffectedIntestine  AlbuminLevel  IBDType PreviousAbdominalSurgery  \\\n",
       "0                      105           4.3  Crohn's                      Yes   \n",
       "1                      127           3.8  Crohn's                       No   \n",
       "2                      135           3.2  Crohn's                      Yes   \n",
       "3                      110           3.2  Crohn's                       No   \n",
       "4                      151           2.6  Crohn's                      Yes   \n",
       "\n",
       "  SmokingStatus Comorbidities       TypeOfSurgery UseOfBiologics  \\\n",
       "0       Current            No                Open            Yes   \n",
       "1         Never            No                Open            Yes   \n",
       "2        Former            No  Minimally Invasive            Yes   \n",
       "3        Former           Yes                Open             No   \n",
       "4         Never           Yes                Open            Yes   \n",
       "\n",
       "  FamilyHistoryOfIBD  Gender SurgeonExperienceLevel  \\\n",
       "0                 No  Female             Specialist   \n",
       "1                Yes    Male             Specialist   \n",
       "2                 No  Female                 Senior   \n",
       "3                Yes    Male             Specialist   \n",
       "4                 No    Male              Mid_Level   \n",
       "\n",
       "   SecondSurgeryNeededEncoded  \n",
       "0                           1  \n",
       "1                           1  \n",
       "2                           1  \n",
       "3                           1  \n",
       "4                           1  "
      ]
     },
     "execution_count": 40,
     "metadata": {},
     "output_type": "execute_result"
    }
   ],
   "source": [
    "data.head()"
   ]
  },
  {
   "cell_type": "code",
   "execution_count": 41,
   "metadata": {},
   "outputs": [],
   "source": [
    "y , X = patsy.dmatrices('SecondSurgeryNeeded~SurgeonExperienceLevel',data)"
   ]
  },
  {
   "cell_type": "code",
   "execution_count": 42,
   "metadata": {},
   "outputs": [],
   "source": [
    "## ## changing the oblect to numpy array   \n",
    "y = np.array(y[:,1]) \n",
    "X = np.array(X)"
   ]
  },
  {
   "cell_type": "code",
   "execution_count": 43,
   "metadata": {},
   "outputs": [
    {
     "data": {
      "text/plain": [
       "array([1., 1., 1., 1., 1.])"
      ]
     },
     "execution_count": 43,
     "metadata": {},
     "output_type": "execute_result"
    }
   ],
   "source": [
    "## print the first five items  \n",
    "y[:5]"
   ]
  },
  {
   "cell_type": "code",
   "execution_count": 44,
   "metadata": {},
   "outputs": [
    {
     "data": {
      "text/plain": [
       "array([[1., 0., 1.],\n",
       "       [1., 0., 1.],\n",
       "       [1., 0., 0.],\n",
       "       [1., 0., 1.],\n",
       "       [1., 1., 0.]])"
      ]
     },
     "execution_count": 44,
     "metadata": {},
     "output_type": "execute_result"
    }
   ],
   "source": [
    "## print the first five for X  \n",
    "X[:5]"
   ]
  },
  {
   "cell_type": "code",
   "execution_count": 45,
   "metadata": {},
   "outputs": [
    {
     "name": "stdout",
     "output_type": "stream",
     "text": [
      "Optimization terminated successfully.\n",
      "         Current function value: 0.608917\n",
      "         Iterations 5\n"
     ]
    }
   ],
   "source": [
    "## feeding it to the model   \n",
    "log_model_2 = Logit(y,X).fit()"
   ]
  },
  {
   "cell_type": "code",
   "execution_count": 46,
   "metadata": {},
   "outputs": [
    {
     "data": {
      "text/html": [
       "<table class=\"simpletable\">\n",
       "<caption>Logit Regression Results</caption>\n",
       "<tr>\n",
       "  <th>Dep. Variable:</th>           <td>y</td>        <th>  No. Observations:  </th>  <td>   120</td>  \n",
       "</tr>\n",
       "<tr>\n",
       "  <th>Model:</th>                 <td>Logit</td>      <th>  Df Residuals:      </th>  <td>   117</td>  \n",
       "</tr>\n",
       "<tr>\n",
       "  <th>Method:</th>                 <td>MLE</td>       <th>  Df Model:          </th>  <td>     2</td>  \n",
       "</tr>\n",
       "<tr>\n",
       "  <th>Date:</th>            <td>Wed, 26 Feb 2025</td> <th>  Pseudo R-squ.:     </th>  <td>0.1215</td>  \n",
       "</tr>\n",
       "<tr>\n",
       "  <th>Time:</th>                <td>17:04:53</td>     <th>  Log-Likelihood:    </th> <td> -73.070</td> \n",
       "</tr>\n",
       "<tr>\n",
       "  <th>converged:</th>             <td>True</td>       <th>  LL-Null:           </th> <td> -83.178</td> \n",
       "</tr>\n",
       "<tr>\n",
       "  <th>Covariance Type:</th>     <td>nonrobust</td>    <th>  LLR p-value:       </th> <td>4.077e-05</td>\n",
       "</tr>\n",
       "</table>\n",
       "<table class=\"simpletable\">\n",
       "<tr>\n",
       "    <td></td>       <th>coef</th>     <th>std err</th>      <th>z</th>      <th>P>|z|</th>  <th>[0.025</th>    <th>0.975]</th>  \n",
       "</tr>\n",
       "<tr>\n",
       "  <th>const</th> <td>   -1.0986</td> <td>    0.365</td> <td>   -3.009</td> <td> 0.003</td> <td>   -1.814</td> <td>   -0.383</td>\n",
       "</tr>\n",
       "<tr>\n",
       "  <th>x1</th>    <td>    0.9555</td> <td>    0.526</td> <td>    1.816</td> <td> 0.069</td> <td>   -0.076</td> <td>    1.987</td>\n",
       "</tr>\n",
       "<tr>\n",
       "  <th>x2</th>    <td>    2.0015</td> <td>    0.476</td> <td>    4.201</td> <td> 0.000</td> <td>    1.068</td> <td>    2.935</td>\n",
       "</tr>\n",
       "</table>"
      ],
      "text/latex": [
       "\\begin{center}\n",
       "\\begin{tabular}{lclc}\n",
       "\\toprule\n",
       "\\textbf{Dep. Variable:}   &        y         & \\textbf{  No. Observations:  } &      120    \\\\\n",
       "\\textbf{Model:}           &      Logit       & \\textbf{  Df Residuals:      } &      117    \\\\\n",
       "\\textbf{Method:}          &       MLE        & \\textbf{  Df Model:          } &        2    \\\\\n",
       "\\textbf{Date:}            & Wed, 26 Feb 2025 & \\textbf{  Pseudo R-squ.:     } &   0.1215    \\\\\n",
       "\\textbf{Time:}            &     17:04:53     & \\textbf{  Log-Likelihood:    } &   -73.070   \\\\\n",
       "\\textbf{converged:}       &       True       & \\textbf{  LL-Null:           } &   -83.178   \\\\\n",
       "\\textbf{Covariance Type:} &    nonrobust     & \\textbf{  LLR p-value:       } & 4.077e-05   \\\\\n",
       "\\bottomrule\n",
       "\\end{tabular}\n",
       "\\begin{tabular}{lcccccc}\n",
       "               & \\textbf{coef} & \\textbf{std err} & \\textbf{z} & \\textbf{P$> |$z$|$} & \\textbf{[0.025} & \\textbf{0.975]}  \\\\\n",
       "\\midrule\n",
       "\\textbf{const} &      -1.0986  &        0.365     &    -3.009  &         0.003        &       -1.814    &       -0.383     \\\\\n",
       "\\textbf{x1}    &       0.9555  &        0.526     &     1.816  &         0.069        &       -0.076    &        1.987     \\\\\n",
       "\\textbf{x2}    &       2.0015  &        0.476     &     4.201  &         0.000        &        1.068    &        2.935     \\\\\n",
       "\\bottomrule\n",
       "\\end{tabular}\n",
       "%\\caption{Logit Regression Results}\n",
       "\\end{center}"
      ],
      "text/plain": [
       "<class 'statsmodels.iolib.summary.Summary'>\n",
       "\"\"\"\n",
       "                           Logit Regression Results                           \n",
       "==============================================================================\n",
       "Dep. Variable:                      y   No. Observations:                  120\n",
       "Model:                          Logit   Df Residuals:                      117\n",
       "Method:                           MLE   Df Model:                            2\n",
       "Date:                Wed, 26 Feb 2025   Pseudo R-squ.:                  0.1215\n",
       "Time:                        17:04:53   Log-Likelihood:                -73.070\n",
       "converged:                       True   LL-Null:                       -83.178\n",
       "Covariance Type:            nonrobust   LLR p-value:                 4.077e-05\n",
       "==============================================================================\n",
       "                 coef    std err          z      P>|z|      [0.025      0.975]\n",
       "------------------------------------------------------------------------------\n",
       "const         -1.0986      0.365     -3.009      0.003      -1.814      -0.383\n",
       "x1             0.9555      0.526      1.816      0.069      -0.076       1.987\n",
       "x2             2.0015      0.476      4.201      0.000       1.068       2.935\n",
       "==============================================================================\n",
       "\"\"\""
      ]
     },
     "execution_count": 46,
     "metadata": {},
     "output_type": "execute_result"
    }
   ],
   "source": [
    "## printing the summary results  \n",
    "log_model_2.summary()"
   ]
  },
  {
   "cell_type": "code",
   "execution_count": 47,
   "metadata": {},
   "outputs": [
    {
     "data": {
      "text/plain": [
       "array([-1.09861229,  0.95551145,  2.00148   ])"
      ]
     },
     "execution_count": 47,
     "metadata": {},
     "output_type": "execute_result"
    }
   ],
   "source": [
    "## getting tthe parameters  \n",
    "log_model_2.params"
   ]
  },
  {
   "cell_type": "code",
   "execution_count": 48,
   "metadata": {},
   "outputs": [
    {
     "data": {
      "text/plain": [
       "array([0.33333333, 2.6       , 7.4       ])"
      ]
     },
     "execution_count": 48,
     "metadata": {},
     "output_type": "execute_result"
    }
   ],
   "source": [
    "## exponaentate \n",
    "np.exp(log_model_2.params)"
   ]
  },
  {
   "cell_type": "markdown",
   "metadata": {},
   "source": [
    "* Interpretation of the coefficients  \n",
    "  - lets start with the x1=2.6 which was found be exponenting the coefficeints , so its its above 1 , that meeans there is an association , so it would be interpretated ,the odds of needing a second surgery increases by a factor of 2.6 compared to the based group senior ,meaning a patient who was treated by a mid level surgeon , his or hers odds of needing a second surgery it increase by 16 % compared to when a patient wa who used thee senior surgeon"
   ]
  },
  {
   "cell_type": "code",
   "execution_count": 49,
   "metadata": {},
   "outputs": [
    {
     "name": "stdout",
     "output_type": "stream",
     "text": [
      "Optimization terminated successfully.\n",
      "         Current function value: 0.608917\n",
      "         Iterations 5\n"
     ]
    }
   ],
   "source": [
    "## try to use the formula aspect  \n",
    "log_model = sm.Logit.from_formula('SecondSurgeryNeededEncoded~SurgeonExperienceLevel', data).fit()"
   ]
  },
  {
   "cell_type": "code",
   "execution_count": 50,
   "metadata": {},
   "outputs": [
    {
     "data": {
      "text/html": [
       "<table class=\"simpletable\">\n",
       "<caption>Logit Regression Results</caption>\n",
       "<tr>\n",
       "  <th>Dep. Variable:</th>   <td>SecondSurgeryNeededEncoded</td> <th>  No. Observations:  </th>  <td>   120</td>  \n",
       "</tr>\n",
       "<tr>\n",
       "  <th>Model:</th>                      <td>Logit</td>           <th>  Df Residuals:      </th>  <td>   117</td>  \n",
       "</tr>\n",
       "<tr>\n",
       "  <th>Method:</th>                      <td>MLE</td>            <th>  Df Model:          </th>  <td>     2</td>  \n",
       "</tr>\n",
       "<tr>\n",
       "  <th>Date:</th>                 <td>Wed, 26 Feb 2025</td>      <th>  Pseudo R-squ.:     </th>  <td>0.1215</td>  \n",
       "</tr>\n",
       "<tr>\n",
       "  <th>Time:</th>                     <td>17:04:53</td>          <th>  Log-Likelihood:    </th> <td> -73.070</td> \n",
       "</tr>\n",
       "<tr>\n",
       "  <th>converged:</th>                  <td>True</td>            <th>  LL-Null:           </th> <td> -83.178</td> \n",
       "</tr>\n",
       "<tr>\n",
       "  <th>Covariance Type:</th>          <td>nonrobust</td>         <th>  LLR p-value:       </th> <td>4.077e-05</td>\n",
       "</tr>\n",
       "</table>\n",
       "<table class=\"simpletable\">\n",
       "<tr>\n",
       "                    <td></td>                      <th>coef</th>     <th>std err</th>      <th>z</th>      <th>P>|z|</th>  <th>[0.025</th>    <th>0.975]</th>  \n",
       "</tr>\n",
       "<tr>\n",
       "  <th>Intercept</th>                            <td>   -1.0986</td> <td>    0.365</td> <td>   -3.009</td> <td> 0.003</td> <td>   -1.814</td> <td>   -0.383</td>\n",
       "</tr>\n",
       "<tr>\n",
       "  <th>SurgeonExperienceLevel[T.Mid_Level]</th>  <td>    0.9555</td> <td>    0.526</td> <td>    1.816</td> <td> 0.069</td> <td>   -0.076</td> <td>    1.987</td>\n",
       "</tr>\n",
       "<tr>\n",
       "  <th>SurgeonExperienceLevel[T.Specialist]</th> <td>    2.0015</td> <td>    0.476</td> <td>    4.201</td> <td> 0.000</td> <td>    1.068</td> <td>    2.935</td>\n",
       "</tr>\n",
       "</table>"
      ],
      "text/latex": [
       "\\begin{center}\n",
       "\\begin{tabular}{lclc}\n",
       "\\toprule\n",
       "\\textbf{Dep. Variable:}                       & SecondSurgeryNeededEncoded & \\textbf{  No. Observations:  } &      120    \\\\\n",
       "\\textbf{Model:}                               &           Logit            & \\textbf{  Df Residuals:      } &      117    \\\\\n",
       "\\textbf{Method:}                              &            MLE             & \\textbf{  Df Model:          } &        2    \\\\\n",
       "\\textbf{Date:}                                &      Wed, 26 Feb 2025      & \\textbf{  Pseudo R-squ.:     } &   0.1215    \\\\\n",
       "\\textbf{Time:}                                &          17:04:53          & \\textbf{  Log-Likelihood:    } &   -73.070   \\\\\n",
       "\\textbf{converged:}                           &            True            & \\textbf{  LL-Null:           } &   -83.178   \\\\\n",
       "\\textbf{Covariance Type:}                     &         nonrobust          & \\textbf{  LLR p-value:       } & 4.077e-05   \\\\\n",
       "\\bottomrule\n",
       "\\end{tabular}\n",
       "\\begin{tabular}{lcccccc}\n",
       "                                              & \\textbf{coef} & \\textbf{std err} & \\textbf{z} & \\textbf{P$> |$z$|$} & \\textbf{[0.025} & \\textbf{0.975]}  \\\\\n",
       "\\midrule\n",
       "\\textbf{Intercept}                            &      -1.0986  &        0.365     &    -3.009  &         0.003        &       -1.814    &       -0.383     \\\\\n",
       "\\textbf{SurgeonExperienceLevel[T.Mid\\_Level]} &       0.9555  &        0.526     &     1.816  &         0.069        &       -0.076    &        1.987     \\\\\n",
       "\\textbf{SurgeonExperienceLevel[T.Specialist]} &       2.0015  &        0.476     &     4.201  &         0.000        &        1.068    &        2.935     \\\\\n",
       "\\bottomrule\n",
       "\\end{tabular}\n",
       "%\\caption{Logit Regression Results}\n",
       "\\end{center}"
      ],
      "text/plain": [
       "<class 'statsmodels.iolib.summary.Summary'>\n",
       "\"\"\"\n",
       "                               Logit Regression Results                               \n",
       "======================================================================================\n",
       "Dep. Variable:     SecondSurgeryNeededEncoded   No. Observations:                  120\n",
       "Model:                                  Logit   Df Residuals:                      117\n",
       "Method:                                   MLE   Df Model:                            2\n",
       "Date:                        Wed, 26 Feb 2025   Pseudo R-squ.:                  0.1215\n",
       "Time:                                17:04:53   Log-Likelihood:                -73.070\n",
       "converged:                               True   LL-Null:                       -83.178\n",
       "Covariance Type:                    nonrobust   LLR p-value:                 4.077e-05\n",
       "========================================================================================================\n",
       "                                           coef    std err          z      P>|z|      [0.025      0.975]\n",
       "--------------------------------------------------------------------------------------------------------\n",
       "Intercept                               -1.0986      0.365     -3.009      0.003      -1.814      -0.383\n",
       "SurgeonExperienceLevel[T.Mid_Level]      0.9555      0.526      1.816      0.069      -0.076       1.987\n",
       "SurgeonExperienceLevel[T.Specialist]     2.0015      0.476      4.201      0.000       1.068       2.935\n",
       "========================================================================================================\n",
       "\"\"\""
      ]
     },
     "execution_count": 50,
     "metadata": {},
     "output_type": "execute_result"
    }
   ],
   "source": [
    "## results  \n",
    "log_model.summary()"
   ]
  },
  {
   "cell_type": "code",
   "execution_count": 51,
   "metadata": {},
   "outputs": [
    {
     "data": {
      "text/html": [
       "<div>\n",
       "<style scoped>\n",
       "    .dataframe tbody tr th:only-of-type {\n",
       "        vertical-align: middle;\n",
       "    }\n",
       "\n",
       "    .dataframe tbody tr th {\n",
       "        vertical-align: top;\n",
       "    }\n",
       "\n",
       "    .dataframe thead th {\n",
       "        text-align: right;\n",
       "    }\n",
       "</style>\n",
       "<table border=\"1\" class=\"dataframe\">\n",
       "  <thead>\n",
       "    <tr style=\"text-align: right;\">\n",
       "      <th></th>\n",
       "      <th>0</th>\n",
       "      <th>1</th>\n",
       "    </tr>\n",
       "  </thead>\n",
       "  <tbody>\n",
       "    <tr>\n",
       "      <th>Intercept</th>\n",
       "      <td>0.162954</td>\n",
       "      <td>0.681857</td>\n",
       "    </tr>\n",
       "    <tr>\n",
       "      <th>SurgeonExperienceLevel[T.Mid_Level]</th>\n",
       "      <td>0.926918</td>\n",
       "      <td>7.292984</td>\n",
       "    </tr>\n",
       "    <tr>\n",
       "      <th>SurgeonExperienceLevel[T.Specialist]</th>\n",
       "      <td>2.908417</td>\n",
       "      <td>18.828110</td>\n",
       "    </tr>\n",
       "  </tbody>\n",
       "</table>\n",
       "</div>"
      ],
      "text/plain": [
       "                                             0          1\n",
       "Intercept                             0.162954   0.681857\n",
       "SurgeonExperienceLevel[T.Mid_Level]   0.926918   7.292984\n",
       "SurgeonExperienceLevel[T.Specialist]  2.908417  18.828110"
      ]
     },
     "execution_count": 51,
     "metadata": {},
     "output_type": "execute_result"
    }
   ],
   "source": [
    "## getting the confidence intervals \n",
    "np.exp(log_model.conf_int())"
   ]
  },
  {
   "cell_type": "code",
   "execution_count": 52,
   "metadata": {},
   "outputs": [
    {
     "data": {
      "text/plain": [
       "Intercept                               0.333333\n",
       "SurgeonExperienceLevel[T.Mid_Level]     2.600000\n",
       "SurgeonExperienceLevel[T.Specialist]    7.400000\n",
       "dtype: float64"
      ]
     },
     "execution_count": 52,
     "metadata": {},
     "output_type": "execute_result"
    }
   ],
   "source": [
    "## getting the p values  \n",
    "np.exp(log_model.params)"
   ]
  },
  {
   "cell_type": "markdown",
   "metadata": {},
   "source": [
    "* Logistic Regression with a continous numeric and a categorical variable"
   ]
  },
  {
   "cell_type": "code",
   "execution_count": 53,
   "metadata": {},
   "outputs": [
    {
     "data": {
      "text/html": [
       "<div>\n",
       "<style scoped>\n",
       "    .dataframe tbody tr th:only-of-type {\n",
       "        vertical-align: middle;\n",
       "    }\n",
       "\n",
       "    .dataframe tbody tr th {\n",
       "        vertical-align: top;\n",
       "    }\n",
       "\n",
       "    .dataframe thead th {\n",
       "        text-align: right;\n",
       "    }\n",
       "</style>\n",
       "<table border=\"1\" class=\"dataframe\">\n",
       "  <thead>\n",
       "    <tr style=\"text-align: right;\">\n",
       "      <th></th>\n",
       "      <th>PatientID</th>\n",
       "      <th>SecondSurgeryNeeded</th>\n",
       "      <th>AgeAtFirstSurgery</th>\n",
       "      <th>DiseaseDuration</th>\n",
       "      <th>LengthAffectedIntestine</th>\n",
       "      <th>AlbuminLevel</th>\n",
       "      <th>IBDType</th>\n",
       "      <th>PreviousAbdominalSurgery</th>\n",
       "      <th>SmokingStatus</th>\n",
       "      <th>Comorbidities</th>\n",
       "      <th>TypeOfSurgery</th>\n",
       "      <th>UseOfBiologics</th>\n",
       "      <th>FamilyHistoryOfIBD</th>\n",
       "      <th>Gender</th>\n",
       "      <th>SurgeonExperienceLevel</th>\n",
       "      <th>SecondSurgeryNeededEncoded</th>\n",
       "    </tr>\n",
       "  </thead>\n",
       "  <tbody>\n",
       "    <tr>\n",
       "      <th>0</th>\n",
       "      <td>P001</td>\n",
       "      <td>Yes</td>\n",
       "      <td>35</td>\n",
       "      <td>6.8</td>\n",
       "      <td>105</td>\n",
       "      <td>4.3</td>\n",
       "      <td>Crohn's</td>\n",
       "      <td>Yes</td>\n",
       "      <td>Current</td>\n",
       "      <td>No</td>\n",
       "      <td>Open</td>\n",
       "      <td>Yes</td>\n",
       "      <td>No</td>\n",
       "      <td>Female</td>\n",
       "      <td>Specialist</td>\n",
       "      <td>1</td>\n",
       "    </tr>\n",
       "    <tr>\n",
       "      <th>1</th>\n",
       "      <td>P002</td>\n",
       "      <td>Yes</td>\n",
       "      <td>40</td>\n",
       "      <td>4.9</td>\n",
       "      <td>127</td>\n",
       "      <td>3.8</td>\n",
       "      <td>Crohn's</td>\n",
       "      <td>No</td>\n",
       "      <td>Never</td>\n",
       "      <td>No</td>\n",
       "      <td>Open</td>\n",
       "      <td>Yes</td>\n",
       "      <td>Yes</td>\n",
       "      <td>Male</td>\n",
       "      <td>Specialist</td>\n",
       "      <td>1</td>\n",
       "    </tr>\n",
       "    <tr>\n",
       "      <th>2</th>\n",
       "      <td>P003</td>\n",
       "      <td>Yes</td>\n",
       "      <td>31</td>\n",
       "      <td>11.5</td>\n",
       "      <td>135</td>\n",
       "      <td>3.2</td>\n",
       "      <td>Crohn's</td>\n",
       "      <td>Yes</td>\n",
       "      <td>Former</td>\n",
       "      <td>No</td>\n",
       "      <td>Minimally Invasive</td>\n",
       "      <td>Yes</td>\n",
       "      <td>No</td>\n",
       "      <td>Female</td>\n",
       "      <td>Senior</td>\n",
       "      <td>1</td>\n",
       "    </tr>\n",
       "    <tr>\n",
       "      <th>3</th>\n",
       "      <td>P004</td>\n",
       "      <td>Yes</td>\n",
       "      <td>50</td>\n",
       "      <td>20.6</td>\n",
       "      <td>110</td>\n",
       "      <td>3.2</td>\n",
       "      <td>Crohn's</td>\n",
       "      <td>No</td>\n",
       "      <td>Former</td>\n",
       "      <td>Yes</td>\n",
       "      <td>Open</td>\n",
       "      <td>No</td>\n",
       "      <td>Yes</td>\n",
       "      <td>Male</td>\n",
       "      <td>Specialist</td>\n",
       "      <td>1</td>\n",
       "    </tr>\n",
       "    <tr>\n",
       "      <th>4</th>\n",
       "      <td>P005</td>\n",
       "      <td>Yes</td>\n",
       "      <td>35</td>\n",
       "      <td>14.9</td>\n",
       "      <td>151</td>\n",
       "      <td>2.6</td>\n",
       "      <td>Crohn's</td>\n",
       "      <td>Yes</td>\n",
       "      <td>Never</td>\n",
       "      <td>Yes</td>\n",
       "      <td>Open</td>\n",
       "      <td>Yes</td>\n",
       "      <td>No</td>\n",
       "      <td>Male</td>\n",
       "      <td>Mid_Level</td>\n",
       "      <td>1</td>\n",
       "    </tr>\n",
       "  </tbody>\n",
       "</table>\n",
       "</div>"
      ],
      "text/plain": [
       "  PatientID SecondSurgeryNeeded  AgeAtFirstSurgery  DiseaseDuration  \\\n",
       "0      P001                 Yes                 35              6.8   \n",
       "1      P002                 Yes                 40              4.9   \n",
       "2      P003                 Yes                 31             11.5   \n",
       "3      P004                 Yes                 50             20.6   \n",
       "4      P005                 Yes                 35             14.9   \n",
       "\n",
       "   LengthAffectedIntestine  AlbuminLevel  IBDType PreviousAbdominalSurgery  \\\n",
       "0                      105           4.3  Crohn's                      Yes   \n",
       "1                      127           3.8  Crohn's                       No   \n",
       "2                      135           3.2  Crohn's                      Yes   \n",
       "3                      110           3.2  Crohn's                       No   \n",
       "4                      151           2.6  Crohn's                      Yes   \n",
       "\n",
       "  SmokingStatus Comorbidities       TypeOfSurgery UseOfBiologics  \\\n",
       "0       Current            No                Open            Yes   \n",
       "1         Never            No                Open            Yes   \n",
       "2        Former            No  Minimally Invasive            Yes   \n",
       "3        Former           Yes                Open             No   \n",
       "4         Never           Yes                Open            Yes   \n",
       "\n",
       "  FamilyHistoryOfIBD  Gender SurgeonExperienceLevel  \\\n",
       "0                 No  Female             Specialist   \n",
       "1                Yes    Male             Specialist   \n",
       "2                 No  Female                 Senior   \n",
       "3                Yes    Male             Specialist   \n",
       "4                 No    Male              Mid_Level   \n",
       "\n",
       "   SecondSurgeryNeededEncoded  \n",
       "0                           1  \n",
       "1                           1  \n",
       "2                           1  \n",
       "3                           1  \n",
       "4                           1  "
      ]
     },
     "execution_count": 53,
     "metadata": {},
     "output_type": "execute_result"
    }
   ],
   "source": [
    "data.head()"
   ]
  },
  {
   "cell_type": "code",
   "execution_count": 54,
   "metadata": {},
   "outputs": [
    {
     "name": "stdout",
     "output_type": "stream",
     "text": [
      "Optimization terminated successfully.\n",
      "         Current function value: 0.088435\n",
      "         Iterations 11\n"
     ]
    }
   ],
   "source": [
    "log_modell_1 = sm.Logit.from_formula('SecondSurgeryNeededEncoded~LengthAffectedIntestine+SurgeonExperienceLevel+AgeAtFirstSurgery+DiseaseDuration+AlbuminLevel+IBDType+TypeOfSurgery', data).fit()"
   ]
  },
  {
   "cell_type": "code",
   "execution_count": 55,
   "metadata": {},
   "outputs": [
    {
     "data": {
      "text/html": [
       "<table class=\"simpletable\">\n",
       "<caption>Logit Regression Results</caption>\n",
       "<tr>\n",
       "  <th>Dep. Variable:</th>   <td>SecondSurgeryNeededEncoded</td> <th>  No. Observations:  </th>  <td>   120</td>  \n",
       "</tr>\n",
       "<tr>\n",
       "  <th>Model:</th>                      <td>Logit</td>           <th>  Df Residuals:      </th>  <td>   111</td>  \n",
       "</tr>\n",
       "<tr>\n",
       "  <th>Method:</th>                      <td>MLE</td>            <th>  Df Model:          </th>  <td>     8</td>  \n",
       "</tr>\n",
       "<tr>\n",
       "  <th>Date:</th>                 <td>Wed, 26 Feb 2025</td>      <th>  Pseudo R-squ.:     </th>  <td>0.8724</td>  \n",
       "</tr>\n",
       "<tr>\n",
       "  <th>Time:</th>                     <td>17:04:53</td>          <th>  Log-Likelihood:    </th> <td> -10.612</td> \n",
       "</tr>\n",
       "<tr>\n",
       "  <th>converged:</th>                  <td>True</td>            <th>  LL-Null:           </th> <td> -83.178</td> \n",
       "</tr>\n",
       "<tr>\n",
       "  <th>Covariance Type:</th>          <td>nonrobust</td>         <th>  LLR p-value:       </th> <td>2.029e-27</td>\n",
       "</tr>\n",
       "</table>\n",
       "<table class=\"simpletable\">\n",
       "<tr>\n",
       "                    <td></td>                      <th>coef</th>     <th>std err</th>      <th>z</th>      <th>P>|z|</th>  <th>[0.025</th>    <th>0.975]</th>  \n",
       "</tr>\n",
       "<tr>\n",
       "  <th>Intercept</th>                            <td>   -0.9132</td> <td>    7.203</td> <td>   -0.127</td> <td> 0.899</td> <td>  -15.031</td> <td>   13.205</td>\n",
       "</tr>\n",
       "<tr>\n",
       "  <th>SurgeonExperienceLevel[T.Mid_Level]</th>  <td>    1.2830</td> <td>    1.563</td> <td>    0.821</td> <td> 0.412</td> <td>   -1.780</td> <td>    4.346</td>\n",
       "</tr>\n",
       "<tr>\n",
       "  <th>SurgeonExperienceLevel[T.Specialist]</th> <td>    1.5021</td> <td>    1.611</td> <td>    0.932</td> <td> 0.351</td> <td>   -1.656</td> <td>    4.660</td>\n",
       "</tr>\n",
       "<tr>\n",
       "  <th>IBDType[T.Crohn's]</th>                   <td>    5.9525</td> <td>    2.785</td> <td>    2.137</td> <td> 0.033</td> <td>    0.493</td> <td>   11.412</td>\n",
       "</tr>\n",
       "<tr>\n",
       "  <th>TypeOfSurgery[T.Open]</th>                <td>    4.6247</td> <td>    2.044</td> <td>    2.262</td> <td> 0.024</td> <td>    0.618</td> <td>    8.632</td>\n",
       "</tr>\n",
       "<tr>\n",
       "  <th>LengthAffectedIntestine</th>              <td>    0.1152</td> <td>    0.042</td> <td>    2.758</td> <td> 0.006</td> <td>    0.033</td> <td>    0.197</td>\n",
       "</tr>\n",
       "<tr>\n",
       "  <th>AgeAtFirstSurgery</th>                    <td>   -0.3676</td> <td>    0.147</td> <td>   -2.499</td> <td> 0.012</td> <td>   -0.656</td> <td>   -0.079</td>\n",
       "</tr>\n",
       "<tr>\n",
       "  <th>DiseaseDuration</th>                      <td>    0.2824</td> <td>    0.207</td> <td>    1.366</td> <td> 0.172</td> <td>   -0.123</td> <td>    0.687</td>\n",
       "</tr>\n",
       "<tr>\n",
       "  <th>AlbuminLevel</th>                         <td>   -1.2381</td> <td>    1.467</td> <td>   -0.844</td> <td> 0.399</td> <td>   -4.114</td> <td>    1.638</td>\n",
       "</tr>\n",
       "</table><br/><br/>Possibly complete quasi-separation: A fraction 0.41 of observations can be<br/>perfectly predicted. This might indicate that there is complete<br/>quasi-separation. In this case some parameters will not be identified."
      ],
      "text/latex": [
       "\\begin{center}\n",
       "\\begin{tabular}{lclc}\n",
       "\\toprule\n",
       "\\textbf{Dep. Variable:}                       & SecondSurgeryNeededEncoded & \\textbf{  No. Observations:  } &      120    \\\\\n",
       "\\textbf{Model:}                               &           Logit            & \\textbf{  Df Residuals:      } &      111    \\\\\n",
       "\\textbf{Method:}                              &            MLE             & \\textbf{  Df Model:          } &        8    \\\\\n",
       "\\textbf{Date:}                                &      Wed, 26 Feb 2025      & \\textbf{  Pseudo R-squ.:     } &   0.8724    \\\\\n",
       "\\textbf{Time:}                                &          17:04:53          & \\textbf{  Log-Likelihood:    } &   -10.612   \\\\\n",
       "\\textbf{converged:}                           &            True            & \\textbf{  LL-Null:           } &   -83.178   \\\\\n",
       "\\textbf{Covariance Type:}                     &         nonrobust          & \\textbf{  LLR p-value:       } & 2.029e-27   \\\\\n",
       "\\bottomrule\n",
       "\\end{tabular}\n",
       "\\begin{tabular}{lcccccc}\n",
       "                                              & \\textbf{coef} & \\textbf{std err} & \\textbf{z} & \\textbf{P$> |$z$|$} & \\textbf{[0.025} & \\textbf{0.975]}  \\\\\n",
       "\\midrule\n",
       "\\textbf{Intercept}                            &      -0.9132  &        7.203     &    -0.127  &         0.899        &      -15.031    &       13.205     \\\\\n",
       "\\textbf{SurgeonExperienceLevel[T.Mid\\_Level]} &       1.2830  &        1.563     &     0.821  &         0.412        &       -1.780    &        4.346     \\\\\n",
       "\\textbf{SurgeonExperienceLevel[T.Specialist]} &       1.5021  &        1.611     &     0.932  &         0.351        &       -1.656    &        4.660     \\\\\n",
       "\\textbf{IBDType[T.Crohn's]}                   &       5.9525  &        2.785     &     2.137  &         0.033        &        0.493    &       11.412     \\\\\n",
       "\\textbf{TypeOfSurgery[T.Open]}                &       4.6247  &        2.044     &     2.262  &         0.024        &        0.618    &        8.632     \\\\\n",
       "\\textbf{LengthAffectedIntestine}              &       0.1152  &        0.042     &     2.758  &         0.006        &        0.033    &        0.197     \\\\\n",
       "\\textbf{AgeAtFirstSurgery}                    &      -0.3676  &        0.147     &    -2.499  &         0.012        &       -0.656    &       -0.079     \\\\\n",
       "\\textbf{DiseaseDuration}                      &       0.2824  &        0.207     &     1.366  &         0.172        &       -0.123    &        0.687     \\\\\n",
       "\\textbf{AlbuminLevel}                         &      -1.2381  &        1.467     &    -0.844  &         0.399        &       -4.114    &        1.638     \\\\\n",
       "\\bottomrule\n",
       "\\end{tabular}\n",
       "%\\caption{Logit Regression Results}\n",
       "\\end{center}\n",
       "\n",
       "Possibly complete quasi-separation: A fraction 0.41 of observations can be \\newline\n",
       " perfectly predicted. This might indicate that there is complete \\newline\n",
       " quasi-separation. In this case some parameters will not be identified."
      ],
      "text/plain": [
       "<class 'statsmodels.iolib.summary.Summary'>\n",
       "\"\"\"\n",
       "                               Logit Regression Results                               \n",
       "======================================================================================\n",
       "Dep. Variable:     SecondSurgeryNeededEncoded   No. Observations:                  120\n",
       "Model:                                  Logit   Df Residuals:                      111\n",
       "Method:                                   MLE   Df Model:                            8\n",
       "Date:                        Wed, 26 Feb 2025   Pseudo R-squ.:                  0.8724\n",
       "Time:                                17:04:53   Log-Likelihood:                -10.612\n",
       "converged:                               True   LL-Null:                       -83.178\n",
       "Covariance Type:                    nonrobust   LLR p-value:                 2.029e-27\n",
       "========================================================================================================\n",
       "                                           coef    std err          z      P>|z|      [0.025      0.975]\n",
       "--------------------------------------------------------------------------------------------------------\n",
       "Intercept                               -0.9132      7.203     -0.127      0.899     -15.031      13.205\n",
       "SurgeonExperienceLevel[T.Mid_Level]      1.2830      1.563      0.821      0.412      -1.780       4.346\n",
       "SurgeonExperienceLevel[T.Specialist]     1.5021      1.611      0.932      0.351      -1.656       4.660\n",
       "IBDType[T.Crohn's]                       5.9525      2.785      2.137      0.033       0.493      11.412\n",
       "TypeOfSurgery[T.Open]                    4.6247      2.044      2.262      0.024       0.618       8.632\n",
       "LengthAffectedIntestine                  0.1152      0.042      2.758      0.006       0.033       0.197\n",
       "AgeAtFirstSurgery                       -0.3676      0.147     -2.499      0.012      -0.656      -0.079\n",
       "DiseaseDuration                          0.2824      0.207      1.366      0.172      -0.123       0.687\n",
       "AlbuminLevel                            -1.2381      1.467     -0.844      0.399      -4.114       1.638\n",
       "========================================================================================================\n",
       "\n",
       "Possibly complete quasi-separation: A fraction 0.41 of observations can be\n",
       "perfectly predicted. This might indicate that there is complete\n",
       "quasi-separation. In this case some parameters will not be identified.\n",
       "\"\"\""
      ]
     },
     "execution_count": 55,
     "metadata": {},
     "output_type": "execute_result"
    }
   ],
   "source": [
    "## printing the summary results  \n",
    "log_modell_1.summary()"
   ]
  },
  {
   "cell_type": "code",
   "execution_count": 56,
   "metadata": {},
   "outputs": [
    {
     "data": {
      "text/plain": [
       "Intercept                                 0.401247\n",
       "SurgeonExperienceLevel[T.Mid_Level]       3.607324\n",
       "SurgeonExperienceLevel[T.Specialist]      4.491305\n",
       "IBDType[T.Crohn's]                      384.703936\n",
       "TypeOfSurgery[T.Open]                   101.973093\n",
       "LengthAffectedIntestine                   1.122113\n",
       "AgeAtFirstSurgery                         0.692405\n",
       "DiseaseDuration                           1.326261\n",
       "AlbuminLevel                              0.289939\n",
       "dtype: float64"
      ]
     },
     "execution_count": 56,
     "metadata": {},
     "output_type": "execute_result"
    }
   ],
   "source": [
    "## getting the exponentiate  \n",
    "np.exp(log_modell_1.params)"
   ]
  },
  {
   "cell_type": "markdown",
   "metadata": {},
   "source": [
    "* Variance Infaltion factor  \n",
    "  "
   ]
  },
  {
   "cell_type": "code",
   "execution_count": 57,
   "metadata": {},
   "outputs": [],
   "source": [
    "from statsmodels.stats.outliers_influence import variance_inflation_factor"
   ]
  },
  {
   "cell_type": "code",
   "execution_count": 58,
   "metadata": {},
   "outputs": [],
   "source": [
    "y , X = patsy.dmatrices('SecondSurgeryNeeded~SurgeonExperienceLevel+LengthAffectedIntestine+AgeAtFirstSurgery',data)"
   ]
  },
  {
   "cell_type": "code",
   "execution_count": 59,
   "metadata": {},
   "outputs": [],
   "source": [
    "## converting to numpy array  \n",
    "X=np.array(X)"
   ]
  },
  {
   "cell_type": "code",
   "execution_count": 60,
   "metadata": {},
   "outputs": [
    {
     "data": {
      "text/plain": [
       "Intercept                            33.420503\n",
       "SurgeonExperienceLevel_Specialist     1.333157\n",
       "SurgeonExperienceLevel_Senior         1.576224\n",
       "LengthAffectedIntestine               1.065823\n",
       "AgeAtFirstSurgery                     1.167887\n",
       "dtype: float64"
      ]
     },
     "execution_count": 60,
     "metadata": {},
     "output_type": "execute_result"
    }
   ],
   "source": [
    "# Convert numpy array X to a pandas DataFrame\n",
    "X_df = pd.DataFrame(X, columns=['Intercept', 'SurgeonExperienceLevel_Specialist', 'SurgeonExperienceLevel_Senior', 'LengthAffectedIntestine', 'AgeAtFirstSurgery'])\n",
    "\n",
    "# Calculate VIF\n",
    "vif = pd.Series([variance_inflation_factor(X_df.values, i) for i in range(X_df.shape[1])], index=X_df.columns)\n",
    "vif"
   ]
  },
  {
   "cell_type": "code",
   "execution_count": 61,
   "metadata": {},
   "outputs": [
    {
     "data": {
      "text/plain": [
       "0    0.88824\n",
       "dtype: float64"
      ]
     },
     "execution_count": 61,
     "metadata": {},
     "output_type": "execute_result"
    }
   ],
   "source": [
    "new_data = pd.DataFrame({\n",
    "\t'LengthAffectedIntestine': [60],\n",
    "\t'SurgeonExperienceLevel': ['Mid_Level'],\n",
    "\t'AgeAtFirstSurgery': [35],\n",
    "\t'DiseaseDuration': [5],  \n",
    "\t'AlbuminLevel': [3.5], \n",
    "\t'IBDType': [\"Crohn's\"],\n",
    "\t'TypeOfSurgery': ['Open'] \n",
    "})\n",
    "\n",
    "# Ensure categorical variables are properly encoded\n",
    "new_data['SurgeonExperienceLevel'] = pd.Categorical(new_data['SurgeonExperienceLevel'], categories=['Senior', 'Mid_Level', 'Specialist'])\n",
    "new_data['IBDType'] = pd.Categorical(new_data['IBDType'], categories=['UC', \"Crohn's\"])\n",
    "new_data['TypeOfSurgery'] = pd.Categorical(new_data['TypeOfSurgery'], categories=['Minimally Invasive', 'Open'])\n",
    "\n",
    "predictions = log_modell_1.predict(new_data)\n",
    "predictions"
   ]
  },
  {
   "cell_type": "code",
   "execution_count": 62,
   "metadata": {},
   "outputs": [],
   "source": [
    "from statsmodels.stats.anova import anova_lm"
   ]
  },
  {
   "cell_type": "code",
   "execution_count": 63,
   "metadata": {},
   "outputs": [
    {
     "data": {
      "text/plain": [
       "Intercept                              -0.913179\n",
       "SurgeonExperienceLevel[T.Mid_Level]     1.282966\n",
       "SurgeonExperienceLevel[T.Specialist]    1.502143\n",
       "IBDType[T.Crohn's]                      5.952474\n",
       "TypeOfSurgery[T.Open]                   4.624709\n",
       "LengthAffectedIntestine                 0.115214\n",
       "AgeAtFirstSurgery                      -0.367584\n",
       "DiseaseDuration                         0.282364\n",
       "AlbuminLevel                           -1.238084\n",
       "dtype: float64"
      ]
     },
     "execution_count": 63,
     "metadata": {},
     "output_type": "execute_result"
    }
   ],
   "source": [
    "log_modell_1.params"
   ]
  },
  {
   "cell_type": "code",
   "execution_count": 64,
   "metadata": {},
   "outputs": [
    {
     "data": {
      "text/plain": [
       "Intercept                               0.899120\n",
       "SurgeonExperienceLevel[T.Mid_Level]     0.411616\n",
       "SurgeonExperienceLevel[T.Specialist]    0.351178\n",
       "IBDType[T.Crohn's]                      0.032592\n",
       "TypeOfSurgery[T.Open]                   0.023686\n",
       "LengthAffectedIntestine                 0.005812\n",
       "AgeAtFirstSurgery                       0.012472\n",
       "DiseaseDuration                         0.171919\n",
       "AlbuminLevel                            0.398839\n",
       "dtype: float64"
      ]
     },
     "execution_count": 64,
     "metadata": {},
     "output_type": "execute_result"
    }
   ],
   "source": [
    "log_modell_1.pvalues"
   ]
  },
  {
   "cell_type": "code",
   "execution_count": null,
   "metadata": {},
   "outputs": [],
   "source": []
  },
  {
   "cell_type": "code",
   "execution_count": null,
   "metadata": {},
   "outputs": [],
   "source": []
  }
 ],
 "metadata": {
  "kernelspec": {
   "display_name": "jt",
   "language": "python",
   "name": "python3"
  },
  "language_info": {
   "codemirror_mode": {
    "name": "ipython",
    "version": 3
   },
   "file_extension": ".py",
   "mimetype": "text/x-python",
   "name": "python",
   "nbconvert_exporter": "python",
   "pygments_lexer": "ipython3",
   "version": "3.12.2"
  }
 },
 "nbformat": 4,
 "nbformat_minor": 2
}
